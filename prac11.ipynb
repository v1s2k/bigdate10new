{
 "cells": [
  {
   "cell_type": "code",
   "execution_count": 4,
   "metadata": {},
   "outputs": [
    {
     "name": "stdout",
     "output_type": "stream",
     "text": [
      "\n",
      "Таблица предикторов:\n",
      "\n",
      "[[ 0.  0.  5. ...  0.  0.  0.]\n",
      " [ 0.  0.  0. ... 10.  0.  0.]\n",
      " [ 0.  0.  0. ... 16.  9.  0.]\n",
      " ...\n",
      " [ 0.  0.  1. ...  6.  0.  0.]\n",
      " [ 0.  0.  2. ... 12.  0.  0.]\n",
      " [ 0.  0. 10. ... 12.  1.  0.]]\n",
      "\n",
      "Таблица целевых переменных:\n",
      "\n",
      "[0 1 2 ... 8 9 8]\n",
      "\n",
      "Размерность таблицы предикторов:\n",
      "\n",
      "(1797, 64)\n",
      "\n",
      "Размерность таблицы целеых переменных:\n",
      "\n",
      "(1797,)\n",
      "\n",
      "Разделение на тренировочную и тестовую выборки:\n",
      "\n",
      "(1437, 64)\n",
      "(360, 64)\n",
      "\n",
      "Обучение случайного леса без критерия останова:\n",
      "\n",
      "RandomForest\n",
      "Time used:  0.26980137825012207\n",
      "F1 мера для тренировочных данных 99.930793 % \n",
      "F1 мера для тестовых данных 96.464986 % \n",
      "\n",
      "Обучение случайного используя критерия : перебор параметров и для каждойкомбинации обучить модели, затем выбрать лучшую. Это можно сделать с помощьюGridSearchCV.\n",
      "\n",
      "RandomForestClassifier(max_depth=12, min_samples_split=6)\n",
      "RandomForest\n",
      "Time used:  13.375114440917969\n",
      "F1 мера для тренировочных данных100.0 % \n",
      "F1 мера для тестовых данных 97.36529 %\n"
     ]
    },
    {
     "data": {
      "application/vnd.plotly.v1+json": {
       "data": [
        {
         "coloraxis": "coloraxis",
         "name": "0",
         "texttemplate": "%{z}",
         "z": [
          [
           30,
           0,
           0,
           0,
           1,
           0,
           0,
           0,
           0,
           0
          ],
          [
           0,
           34,
           0,
           0,
           0,
           0,
           0,
           0,
           0,
           0
          ],
          [
           0,
           0,
           37,
           0,
           0,
           0,
           0,
           0,
           0,
           0
          ],
          [
           0,
           0,
           0,
           32,
           0,
           0,
           0,
           0,
           0,
           0
          ],
          [
           0,
           0,
           0,
           0,
           36,
           0,
           0,
           0,
           0,
           0
          ],
          [
           0,
           0,
           0,
           0,
           0,
           38,
           0,
           0,
           0,
           0
          ],
          [
           1,
           0,
           0,
           0,
           0,
           0,
           51,
           0,
           0,
           0
          ],
          [
           0,
           0,
           0,
           0,
           0,
           0,
           0,
           32,
           0,
           0
          ],
          [
           0,
           2,
           1,
           0,
           0,
           0,
           0,
           0,
           30,
           0
          ],
          [
           0,
           0,
           0,
           1,
           0,
           1,
           0,
           0,
           2,
           31
          ]
         ],
         "type": "heatmap",
         "xaxis": "x",
         "yaxis": "y",
         "hovertemplate": "x: %{x}<br>y: %{y}<br>color: %{z}<extra></extra>"
        }
       ],
       "layout": {
        "template": {
         "data": {
          "histogram2dcontour": [
           {
            "type": "histogram2dcontour",
            "colorbar": {
             "outlinewidth": 0,
             "ticks": ""
            },
            "colorscale": [
             [
              0.0,
              "#0d0887"
             ],
             [
              0.1111111111111111,
              "#46039f"
             ],
             [
              0.2222222222222222,
              "#7201a8"
             ],
             [
              0.3333333333333333,
              "#9c179e"
             ],
             [
              0.4444444444444444,
              "#bd3786"
             ],
             [
              0.5555555555555556,
              "#d8576b"
             ],
             [
              0.6666666666666666,
              "#ed7953"
             ],
             [
              0.7777777777777778,
              "#fb9f3a"
             ],
             [
              0.8888888888888888,
              "#fdca26"
             ],
             [
              1.0,
              "#f0f921"
             ]
            ]
           }
          ],
          "choropleth": [
           {
            "type": "choropleth",
            "colorbar": {
             "outlinewidth": 0,
             "ticks": ""
            }
           }
          ],
          "histogram2d": [
           {
            "type": "histogram2d",
            "colorbar": {
             "outlinewidth": 0,
             "ticks": ""
            },
            "colorscale": [
             [
              0.0,
              "#0d0887"
             ],
             [
              0.1111111111111111,
              "#46039f"
             ],
             [
              0.2222222222222222,
              "#7201a8"
             ],
             [
              0.3333333333333333,
              "#9c179e"
             ],
             [
              0.4444444444444444,
              "#bd3786"
             ],
             [
              0.5555555555555556,
              "#d8576b"
             ],
             [
              0.6666666666666666,
              "#ed7953"
             ],
             [
              0.7777777777777778,
              "#fb9f3a"
             ],
             [
              0.8888888888888888,
              "#fdca26"
             ],
             [
              1.0,
              "#f0f921"
             ]
            ]
           }
          ],
          "heatmap": [
           {
            "type": "heatmap",
            "colorbar": {
             "outlinewidth": 0,
             "ticks": ""
            },
            "colorscale": [
             [
              0.0,
              "#0d0887"
             ],
             [
              0.1111111111111111,
              "#46039f"
             ],
             [
              0.2222222222222222,
              "#7201a8"
             ],
             [
              0.3333333333333333,
              "#9c179e"
             ],
             [
              0.4444444444444444,
              "#bd3786"
             ],
             [
              0.5555555555555556,
              "#d8576b"
             ],
             [
              0.6666666666666666,
              "#ed7953"
             ],
             [
              0.7777777777777778,
              "#fb9f3a"
             ],
             [
              0.8888888888888888,
              "#fdca26"
             ],
             [
              1.0,
              "#f0f921"
             ]
            ]
           }
          ],
          "heatmapgl": [
           {
            "type": "heatmapgl",
            "colorbar": {
             "outlinewidth": 0,
             "ticks": ""
            },
            "colorscale": [
             [
              0.0,
              "#0d0887"
             ],
             [
              0.1111111111111111,
              "#46039f"
             ],
             [
              0.2222222222222222,
              "#7201a8"
             ],
             [
              0.3333333333333333,
              "#9c179e"
             ],
             [
              0.4444444444444444,
              "#bd3786"
             ],
             [
              0.5555555555555556,
              "#d8576b"
             ],
             [
              0.6666666666666666,
              "#ed7953"
             ],
             [
              0.7777777777777778,
              "#fb9f3a"
             ],
             [
              0.8888888888888888,
              "#fdca26"
             ],
             [
              1.0,
              "#f0f921"
             ]
            ]
           }
          ],
          "contourcarpet": [
           {
            "type": "contourcarpet",
            "colorbar": {
             "outlinewidth": 0,
             "ticks": ""
            }
           }
          ],
          "contour": [
           {
            "type": "contour",
            "colorbar": {
             "outlinewidth": 0,
             "ticks": ""
            },
            "colorscale": [
             [
              0.0,
              "#0d0887"
             ],
             [
              0.1111111111111111,
              "#46039f"
             ],
             [
              0.2222222222222222,
              "#7201a8"
             ],
             [
              0.3333333333333333,
              "#9c179e"
             ],
             [
              0.4444444444444444,
              "#bd3786"
             ],
             [
              0.5555555555555556,
              "#d8576b"
             ],
             [
              0.6666666666666666,
              "#ed7953"
             ],
             [
              0.7777777777777778,
              "#fb9f3a"
             ],
             [
              0.8888888888888888,
              "#fdca26"
             ],
             [
              1.0,
              "#f0f921"
             ]
            ]
           }
          ],
          "surface": [
           {
            "type": "surface",
            "colorbar": {
             "outlinewidth": 0,
             "ticks": ""
            },
            "colorscale": [
             [
              0.0,
              "#0d0887"
             ],
             [
              0.1111111111111111,
              "#46039f"
             ],
             [
              0.2222222222222222,
              "#7201a8"
             ],
             [
              0.3333333333333333,
              "#9c179e"
             ],
             [
              0.4444444444444444,
              "#bd3786"
             ],
             [
              0.5555555555555556,
              "#d8576b"
             ],
             [
              0.6666666666666666,
              "#ed7953"
             ],
             [
              0.7777777777777778,
              "#fb9f3a"
             ],
             [
              0.8888888888888888,
              "#fdca26"
             ],
             [
              1.0,
              "#f0f921"
             ]
            ]
           }
          ],
          "mesh3d": [
           {
            "type": "mesh3d",
            "colorbar": {
             "outlinewidth": 0,
             "ticks": ""
            }
           }
          ],
          "scatter": [
           {
            "fillpattern": {
             "fillmode": "overlay",
             "size": 10,
             "solidity": 0.2
            },
            "type": "scatter"
           }
          ],
          "parcoords": [
           {
            "type": "parcoords",
            "line": {
             "colorbar": {
              "outlinewidth": 0,
              "ticks": ""
             }
            }
           }
          ],
          "scatterpolargl": [
           {
            "type": "scatterpolargl",
            "marker": {
             "colorbar": {
              "outlinewidth": 0,
              "ticks": ""
             }
            }
           }
          ],
          "bar": [
           {
            "error_x": {
             "color": "#2a3f5f"
            },
            "error_y": {
             "color": "#2a3f5f"
            },
            "marker": {
             "line": {
              "color": "#E5ECF6",
              "width": 0.5
             },
             "pattern": {
              "fillmode": "overlay",
              "size": 10,
              "solidity": 0.2
             }
            },
            "type": "bar"
           }
          ],
          "scattergeo": [
           {
            "type": "scattergeo",
            "marker": {
             "colorbar": {
              "outlinewidth": 0,
              "ticks": ""
             }
            }
           }
          ],
          "scatterpolar": [
           {
            "type": "scatterpolar",
            "marker": {
             "colorbar": {
              "outlinewidth": 0,
              "ticks": ""
             }
            }
           }
          ],
          "histogram": [
           {
            "marker": {
             "pattern": {
              "fillmode": "overlay",
              "size": 10,
              "solidity": 0.2
             }
            },
            "type": "histogram"
           }
          ],
          "scattergl": [
           {
            "type": "scattergl",
            "marker": {
             "colorbar": {
              "outlinewidth": 0,
              "ticks": ""
             }
            }
           }
          ],
          "scatter3d": [
           {
            "type": "scatter3d",
            "line": {
             "colorbar": {
              "outlinewidth": 0,
              "ticks": ""
             }
            },
            "marker": {
             "colorbar": {
              "outlinewidth": 0,
              "ticks": ""
             }
            }
           }
          ],
          "scattermapbox": [
           {
            "type": "scattermapbox",
            "marker": {
             "colorbar": {
              "outlinewidth": 0,
              "ticks": ""
             }
            }
           }
          ],
          "scatterternary": [
           {
            "type": "scatterternary",
            "marker": {
             "colorbar": {
              "outlinewidth": 0,
              "ticks": ""
             }
            }
           }
          ],
          "scattercarpet": [
           {
            "type": "scattercarpet",
            "marker": {
             "colorbar": {
              "outlinewidth": 0,
              "ticks": ""
             }
            }
           }
          ],
          "carpet": [
           {
            "aaxis": {
             "endlinecolor": "#2a3f5f",
             "gridcolor": "white",
             "linecolor": "white",
             "minorgridcolor": "white",
             "startlinecolor": "#2a3f5f"
            },
            "baxis": {
             "endlinecolor": "#2a3f5f",
             "gridcolor": "white",
             "linecolor": "white",
             "minorgridcolor": "white",
             "startlinecolor": "#2a3f5f"
            },
            "type": "carpet"
           }
          ],
          "table": [
           {
            "cells": {
             "fill": {
              "color": "#EBF0F8"
             },
             "line": {
              "color": "white"
             }
            },
            "header": {
             "fill": {
              "color": "#C8D4E3"
             },
             "line": {
              "color": "white"
             }
            },
            "type": "table"
           }
          ],
          "barpolar": [
           {
            "marker": {
             "line": {
              "color": "#E5ECF6",
              "width": 0.5
             },
             "pattern": {
              "fillmode": "overlay",
              "size": 10,
              "solidity": 0.2
             }
            },
            "type": "barpolar"
           }
          ],
          "pie": [
           {
            "automargin": true,
            "type": "pie"
           }
          ]
         },
         "layout": {
          "autotypenumbers": "strict",
          "colorway": [
           "#636efa",
           "#EF553B",
           "#00cc96",
           "#ab63fa",
           "#FFA15A",
           "#19d3f3",
           "#FF6692",
           "#B6E880",
           "#FF97FF",
           "#FECB52"
          ],
          "font": {
           "color": "#2a3f5f"
          },
          "hovermode": "closest",
          "hoverlabel": {
           "align": "left"
          },
          "paper_bgcolor": "white",
          "plot_bgcolor": "#E5ECF6",
          "polar": {
           "bgcolor": "#E5ECF6",
           "angularaxis": {
            "gridcolor": "white",
            "linecolor": "white",
            "ticks": ""
           },
           "radialaxis": {
            "gridcolor": "white",
            "linecolor": "white",
            "ticks": ""
           }
          },
          "ternary": {
           "bgcolor": "#E5ECF6",
           "aaxis": {
            "gridcolor": "white",
            "linecolor": "white",
            "ticks": ""
           },
           "baxis": {
            "gridcolor": "white",
            "linecolor": "white",
            "ticks": ""
           },
           "caxis": {
            "gridcolor": "white",
            "linecolor": "white",
            "ticks": ""
           }
          },
          "coloraxis": {
           "colorbar": {
            "outlinewidth": 0,
            "ticks": ""
           }
          },
          "colorscale": {
           "sequential": [
            [
             0.0,
             "#0d0887"
            ],
            [
             0.1111111111111111,
             "#46039f"
            ],
            [
             0.2222222222222222,
             "#7201a8"
            ],
            [
             0.3333333333333333,
             "#9c179e"
            ],
            [
             0.4444444444444444,
             "#bd3786"
            ],
            [
             0.5555555555555556,
             "#d8576b"
            ],
            [
             0.6666666666666666,
             "#ed7953"
            ],
            [
             0.7777777777777778,
             "#fb9f3a"
            ],
            [
             0.8888888888888888,
             "#fdca26"
            ],
            [
             1.0,
             "#f0f921"
            ]
           ],
           "sequentialminus": [
            [
             0.0,
             "#0d0887"
            ],
            [
             0.1111111111111111,
             "#46039f"
            ],
            [
             0.2222222222222222,
             "#7201a8"
            ],
            [
             0.3333333333333333,
             "#9c179e"
            ],
            [
             0.4444444444444444,
             "#bd3786"
            ],
            [
             0.5555555555555556,
             "#d8576b"
            ],
            [
             0.6666666666666666,
             "#ed7953"
            ],
            [
             0.7777777777777778,
             "#fb9f3a"
            ],
            [
             0.8888888888888888,
             "#fdca26"
            ],
            [
             1.0,
             "#f0f921"
            ]
           ],
           "diverging": [
            [
             0,
             "#8e0152"
            ],
            [
             0.1,
             "#c51b7d"
            ],
            [
             0.2,
             "#de77ae"
            ],
            [
             0.3,
             "#f1b6da"
            ],
            [
             0.4,
             "#fde0ef"
            ],
            [
             0.5,
             "#f7f7f7"
            ],
            [
             0.6,
             "#e6f5d0"
            ],
            [
             0.7,
             "#b8e186"
            ],
            [
             0.8,
             "#7fbc41"
            ],
            [
             0.9,
             "#4d9221"
            ],
            [
             1,
             "#276419"
            ]
           ]
          },
          "xaxis": {
           "gridcolor": "white",
           "linecolor": "white",
           "ticks": "",
           "title": {
            "standoff": 15
           },
           "zerolinecolor": "white",
           "automargin": true,
           "zerolinewidth": 2
          },
          "yaxis": {
           "gridcolor": "white",
           "linecolor": "white",
           "ticks": "",
           "title": {
            "standoff": 15
           },
           "zerolinecolor": "white",
           "automargin": true,
           "zerolinewidth": 2
          },
          "scene": {
           "xaxis": {
            "backgroundcolor": "#E5ECF6",
            "gridcolor": "white",
            "linecolor": "white",
            "showbackground": true,
            "ticks": "",
            "zerolinecolor": "white",
            "gridwidth": 2
           },
           "yaxis": {
            "backgroundcolor": "#E5ECF6",
            "gridcolor": "white",
            "linecolor": "white",
            "showbackground": true,
            "ticks": "",
            "zerolinecolor": "white",
            "gridwidth": 2
           },
           "zaxis": {
            "backgroundcolor": "#E5ECF6",
            "gridcolor": "white",
            "linecolor": "white",
            "showbackground": true,
            "ticks": "",
            "zerolinecolor": "white",
            "gridwidth": 2
           }
          },
          "shapedefaults": {
           "line": {
            "color": "#2a3f5f"
           }
          },
          "annotationdefaults": {
           "arrowcolor": "#2a3f5f",
           "arrowhead": 0,
           "arrowwidth": 1
          },
          "geo": {
           "bgcolor": "white",
           "landcolor": "#E5ECF6",
           "subunitcolor": "white",
           "showland": true,
           "showlakes": true,
           "lakecolor": "white"
          },
          "title": {
           "x": 0.05
          },
          "mapbox": {
           "style": "light"
          }
         }
        },
        "xaxis": {
         "anchor": "y",
         "domain": [
          0.0,
          1.0
         ],
         "scaleanchor": "y",
         "constrain": "domain",
         "title": {
          "text": "Target"
         }
        },
        "yaxis": {
         "anchor": "x",
         "domain": [
          0.0,
          1.0
         ],
         "autorange": "reversed",
         "constrain": "domain",
         "title": {
          "text": "Prediction"
         }
        },
        "coloraxis": {
         "colorscale": [
          [
           0.0,
           "#0d0887"
          ],
          [
           0.1111111111111111,
           "#46039f"
          ],
          [
           0.2222222222222222,
           "#7201a8"
          ],
          [
           0.3333333333333333,
           "#9c179e"
          ],
          [
           0.4444444444444444,
           "#bd3786"
          ],
          [
           0.5555555555555556,
           "#d8576b"
          ],
          [
           0.6666666666666666,
           "#ed7953"
          ],
          [
           0.7777777777777778,
           "#fb9f3a"
          ],
          [
           0.8888888888888888,
           "#fdca26"
          ],
          [
           1.0,
           "#f0f921"
          ]
         ]
        },
        "margin": {
         "t": 60
        }
       },
       "config": {
        "plotlyServerURL": "https://plot.ly"
       }
      },
      "text/html": "<div>                            <div id=\"35cd6ede-569f-4c0d-b9b5-2b042a94b081\" class=\"plotly-graph-div\" style=\"height:525px; width:100%;\"></div>            <script type=\"text/javascript\">                require([\"plotly\"], function(Plotly) {                    window.PLOTLYENV=window.PLOTLYENV || {};                                    if (document.getElementById(\"35cd6ede-569f-4c0d-b9b5-2b042a94b081\")) {                    Plotly.newPlot(                        \"35cd6ede-569f-4c0d-b9b5-2b042a94b081\",                        [{\"coloraxis\":\"coloraxis\",\"name\":\"0\",\"texttemplate\":\"%{z}\",\"z\":[[30,0,0,0,1,0,0,0,0,0],[0,34,0,0,0,0,0,0,0,0],[0,0,37,0,0,0,0,0,0,0],[0,0,0,32,0,0,0,0,0,0],[0,0,0,0,36,0,0,0,0,0],[0,0,0,0,0,38,0,0,0,0],[1,0,0,0,0,0,51,0,0,0],[0,0,0,0,0,0,0,32,0,0],[0,2,1,0,0,0,0,0,30,0],[0,0,0,1,0,1,0,0,2,31]],\"type\":\"heatmap\",\"xaxis\":\"x\",\"yaxis\":\"y\",\"hovertemplate\":\"x: %{x}<br>y: %{y}<br>color: %{z}<extra></extra>\"}],                        {\"template\":{\"data\":{\"histogram2dcontour\":[{\"type\":\"histogram2dcontour\",\"colorbar\":{\"outlinewidth\":0,\"ticks\":\"\"},\"colorscale\":[[0.0,\"#0d0887\"],[0.1111111111111111,\"#46039f\"],[0.2222222222222222,\"#7201a8\"],[0.3333333333333333,\"#9c179e\"],[0.4444444444444444,\"#bd3786\"],[0.5555555555555556,\"#d8576b\"],[0.6666666666666666,\"#ed7953\"],[0.7777777777777778,\"#fb9f3a\"],[0.8888888888888888,\"#fdca26\"],[1.0,\"#f0f921\"]]}],\"choropleth\":[{\"type\":\"choropleth\",\"colorbar\":{\"outlinewidth\":0,\"ticks\":\"\"}}],\"histogram2d\":[{\"type\":\"histogram2d\",\"colorbar\":{\"outlinewidth\":0,\"ticks\":\"\"},\"colorscale\":[[0.0,\"#0d0887\"],[0.1111111111111111,\"#46039f\"],[0.2222222222222222,\"#7201a8\"],[0.3333333333333333,\"#9c179e\"],[0.4444444444444444,\"#bd3786\"],[0.5555555555555556,\"#d8576b\"],[0.6666666666666666,\"#ed7953\"],[0.7777777777777778,\"#fb9f3a\"],[0.8888888888888888,\"#fdca26\"],[1.0,\"#f0f921\"]]}],\"heatmap\":[{\"type\":\"heatmap\",\"colorbar\":{\"outlinewidth\":0,\"ticks\":\"\"},\"colorscale\":[[0.0,\"#0d0887\"],[0.1111111111111111,\"#46039f\"],[0.2222222222222222,\"#7201a8\"],[0.3333333333333333,\"#9c179e\"],[0.4444444444444444,\"#bd3786\"],[0.5555555555555556,\"#d8576b\"],[0.6666666666666666,\"#ed7953\"],[0.7777777777777778,\"#fb9f3a\"],[0.8888888888888888,\"#fdca26\"],[1.0,\"#f0f921\"]]}],\"heatmapgl\":[{\"type\":\"heatmapgl\",\"colorbar\":{\"outlinewidth\":0,\"ticks\":\"\"},\"colorscale\":[[0.0,\"#0d0887\"],[0.1111111111111111,\"#46039f\"],[0.2222222222222222,\"#7201a8\"],[0.3333333333333333,\"#9c179e\"],[0.4444444444444444,\"#bd3786\"],[0.5555555555555556,\"#d8576b\"],[0.6666666666666666,\"#ed7953\"],[0.7777777777777778,\"#fb9f3a\"],[0.8888888888888888,\"#fdca26\"],[1.0,\"#f0f921\"]]}],\"contourcarpet\":[{\"type\":\"contourcarpet\",\"colorbar\":{\"outlinewidth\":0,\"ticks\":\"\"}}],\"contour\":[{\"type\":\"contour\",\"colorbar\":{\"outlinewidth\":0,\"ticks\":\"\"},\"colorscale\":[[0.0,\"#0d0887\"],[0.1111111111111111,\"#46039f\"],[0.2222222222222222,\"#7201a8\"],[0.3333333333333333,\"#9c179e\"],[0.4444444444444444,\"#bd3786\"],[0.5555555555555556,\"#d8576b\"],[0.6666666666666666,\"#ed7953\"],[0.7777777777777778,\"#fb9f3a\"],[0.8888888888888888,\"#fdca26\"],[1.0,\"#f0f921\"]]}],\"surface\":[{\"type\":\"surface\",\"colorbar\":{\"outlinewidth\":0,\"ticks\":\"\"},\"colorscale\":[[0.0,\"#0d0887\"],[0.1111111111111111,\"#46039f\"],[0.2222222222222222,\"#7201a8\"],[0.3333333333333333,\"#9c179e\"],[0.4444444444444444,\"#bd3786\"],[0.5555555555555556,\"#d8576b\"],[0.6666666666666666,\"#ed7953\"],[0.7777777777777778,\"#fb9f3a\"],[0.8888888888888888,\"#fdca26\"],[1.0,\"#f0f921\"]]}],\"mesh3d\":[{\"type\":\"mesh3d\",\"colorbar\":{\"outlinewidth\":0,\"ticks\":\"\"}}],\"scatter\":[{\"fillpattern\":{\"fillmode\":\"overlay\",\"size\":10,\"solidity\":0.2},\"type\":\"scatter\"}],\"parcoords\":[{\"type\":\"parcoords\",\"line\":{\"colorbar\":{\"outlinewidth\":0,\"ticks\":\"\"}}}],\"scatterpolargl\":[{\"type\":\"scatterpolargl\",\"marker\":{\"colorbar\":{\"outlinewidth\":0,\"ticks\":\"\"}}}],\"bar\":[{\"error_x\":{\"color\":\"#2a3f5f\"},\"error_y\":{\"color\":\"#2a3f5f\"},\"marker\":{\"line\":{\"color\":\"#E5ECF6\",\"width\":0.5},\"pattern\":{\"fillmode\":\"overlay\",\"size\":10,\"solidity\":0.2}},\"type\":\"bar\"}],\"scattergeo\":[{\"type\":\"scattergeo\",\"marker\":{\"colorbar\":{\"outlinewidth\":0,\"ticks\":\"\"}}}],\"scatterpolar\":[{\"type\":\"scatterpolar\",\"marker\":{\"colorbar\":{\"outlinewidth\":0,\"ticks\":\"\"}}}],\"histogram\":[{\"marker\":{\"pattern\":{\"fillmode\":\"overlay\",\"size\":10,\"solidity\":0.2}},\"type\":\"histogram\"}],\"scattergl\":[{\"type\":\"scattergl\",\"marker\":{\"colorbar\":{\"outlinewidth\":0,\"ticks\":\"\"}}}],\"scatter3d\":[{\"type\":\"scatter3d\",\"line\":{\"colorbar\":{\"outlinewidth\":0,\"ticks\":\"\"}},\"marker\":{\"colorbar\":{\"outlinewidth\":0,\"ticks\":\"\"}}}],\"scattermapbox\":[{\"type\":\"scattermapbox\",\"marker\":{\"colorbar\":{\"outlinewidth\":0,\"ticks\":\"\"}}}],\"scatterternary\":[{\"type\":\"scatterternary\",\"marker\":{\"colorbar\":{\"outlinewidth\":0,\"ticks\":\"\"}}}],\"scattercarpet\":[{\"type\":\"scattercarpet\",\"marker\":{\"colorbar\":{\"outlinewidth\":0,\"ticks\":\"\"}}}],\"carpet\":[{\"aaxis\":{\"endlinecolor\":\"#2a3f5f\",\"gridcolor\":\"white\",\"linecolor\":\"white\",\"minorgridcolor\":\"white\",\"startlinecolor\":\"#2a3f5f\"},\"baxis\":{\"endlinecolor\":\"#2a3f5f\",\"gridcolor\":\"white\",\"linecolor\":\"white\",\"minorgridcolor\":\"white\",\"startlinecolor\":\"#2a3f5f\"},\"type\":\"carpet\"}],\"table\":[{\"cells\":{\"fill\":{\"color\":\"#EBF0F8\"},\"line\":{\"color\":\"white\"}},\"header\":{\"fill\":{\"color\":\"#C8D4E3\"},\"line\":{\"color\":\"white\"}},\"type\":\"table\"}],\"barpolar\":[{\"marker\":{\"line\":{\"color\":\"#E5ECF6\",\"width\":0.5},\"pattern\":{\"fillmode\":\"overlay\",\"size\":10,\"solidity\":0.2}},\"type\":\"barpolar\"}],\"pie\":[{\"automargin\":true,\"type\":\"pie\"}]},\"layout\":{\"autotypenumbers\":\"strict\",\"colorway\":[\"#636efa\",\"#EF553B\",\"#00cc96\",\"#ab63fa\",\"#FFA15A\",\"#19d3f3\",\"#FF6692\",\"#B6E880\",\"#FF97FF\",\"#FECB52\"],\"font\":{\"color\":\"#2a3f5f\"},\"hovermode\":\"closest\",\"hoverlabel\":{\"align\":\"left\"},\"paper_bgcolor\":\"white\",\"plot_bgcolor\":\"#E5ECF6\",\"polar\":{\"bgcolor\":\"#E5ECF6\",\"angularaxis\":{\"gridcolor\":\"white\",\"linecolor\":\"white\",\"ticks\":\"\"},\"radialaxis\":{\"gridcolor\":\"white\",\"linecolor\":\"white\",\"ticks\":\"\"}},\"ternary\":{\"bgcolor\":\"#E5ECF6\",\"aaxis\":{\"gridcolor\":\"white\",\"linecolor\":\"white\",\"ticks\":\"\"},\"baxis\":{\"gridcolor\":\"white\",\"linecolor\":\"white\",\"ticks\":\"\"},\"caxis\":{\"gridcolor\":\"white\",\"linecolor\":\"white\",\"ticks\":\"\"}},\"coloraxis\":{\"colorbar\":{\"outlinewidth\":0,\"ticks\":\"\"}},\"colorscale\":{\"sequential\":[[0.0,\"#0d0887\"],[0.1111111111111111,\"#46039f\"],[0.2222222222222222,\"#7201a8\"],[0.3333333333333333,\"#9c179e\"],[0.4444444444444444,\"#bd3786\"],[0.5555555555555556,\"#d8576b\"],[0.6666666666666666,\"#ed7953\"],[0.7777777777777778,\"#fb9f3a\"],[0.8888888888888888,\"#fdca26\"],[1.0,\"#f0f921\"]],\"sequentialminus\":[[0.0,\"#0d0887\"],[0.1111111111111111,\"#46039f\"],[0.2222222222222222,\"#7201a8\"],[0.3333333333333333,\"#9c179e\"],[0.4444444444444444,\"#bd3786\"],[0.5555555555555556,\"#d8576b\"],[0.6666666666666666,\"#ed7953\"],[0.7777777777777778,\"#fb9f3a\"],[0.8888888888888888,\"#fdca26\"],[1.0,\"#f0f921\"]],\"diverging\":[[0,\"#8e0152\"],[0.1,\"#c51b7d\"],[0.2,\"#de77ae\"],[0.3,\"#f1b6da\"],[0.4,\"#fde0ef\"],[0.5,\"#f7f7f7\"],[0.6,\"#e6f5d0\"],[0.7,\"#b8e186\"],[0.8,\"#7fbc41\"],[0.9,\"#4d9221\"],[1,\"#276419\"]]},\"xaxis\":{\"gridcolor\":\"white\",\"linecolor\":\"white\",\"ticks\":\"\",\"title\":{\"standoff\":15},\"zerolinecolor\":\"white\",\"automargin\":true,\"zerolinewidth\":2},\"yaxis\":{\"gridcolor\":\"white\",\"linecolor\":\"white\",\"ticks\":\"\",\"title\":{\"standoff\":15},\"zerolinecolor\":\"white\",\"automargin\":true,\"zerolinewidth\":2},\"scene\":{\"xaxis\":{\"backgroundcolor\":\"#E5ECF6\",\"gridcolor\":\"white\",\"linecolor\":\"white\",\"showbackground\":true,\"ticks\":\"\",\"zerolinecolor\":\"white\",\"gridwidth\":2},\"yaxis\":{\"backgroundcolor\":\"#E5ECF6\",\"gridcolor\":\"white\",\"linecolor\":\"white\",\"showbackground\":true,\"ticks\":\"\",\"zerolinecolor\":\"white\",\"gridwidth\":2},\"zaxis\":{\"backgroundcolor\":\"#E5ECF6\",\"gridcolor\":\"white\",\"linecolor\":\"white\",\"showbackground\":true,\"ticks\":\"\",\"zerolinecolor\":\"white\",\"gridwidth\":2}},\"shapedefaults\":{\"line\":{\"color\":\"#2a3f5f\"}},\"annotationdefaults\":{\"arrowcolor\":\"#2a3f5f\",\"arrowhead\":0,\"arrowwidth\":1},\"geo\":{\"bgcolor\":\"white\",\"landcolor\":\"#E5ECF6\",\"subunitcolor\":\"white\",\"showland\":true,\"showlakes\":true,\"lakecolor\":\"white\"},\"title\":{\"x\":0.05},\"mapbox\":{\"style\":\"light\"}}},\"xaxis\":{\"anchor\":\"y\",\"domain\":[0.0,1.0],\"scaleanchor\":\"y\",\"constrain\":\"domain\",\"title\":{\"text\":\"Target\"}},\"yaxis\":{\"anchor\":\"x\",\"domain\":[0.0,1.0],\"autorange\":\"reversed\",\"constrain\":\"domain\",\"title\":{\"text\":\"Prediction\"}},\"coloraxis\":{\"colorscale\":[[0.0,\"#0d0887\"],[0.1111111111111111,\"#46039f\"],[0.2222222222222222,\"#7201a8\"],[0.3333333333333333,\"#9c179e\"],[0.4444444444444444,\"#bd3786\"],[0.5555555555555556,\"#d8576b\"],[0.6666666666666666,\"#ed7953\"],[0.7777777777777778,\"#fb9f3a\"],[0.8888888888888888,\"#fdca26\"],[1.0,\"#f0f921\"]]},\"margin\":{\"t\":60}},                        {\"responsive\": true}                    ).then(function(){\n                            \nvar gd = document.getElementById('35cd6ede-569f-4c0d-b9b5-2b042a94b081');\nvar x = new MutationObserver(function (mutations, observer) {{\n        var display = window.getComputedStyle(gd).display;\n        if (!display || display === 'none') {{\n            console.log([gd, 'removed!']);\n            Plotly.purge(gd);\n            observer.disconnect();\n        }}\n}});\n\n// Listen for the removal of the full notebook cells\nvar notebookContainer = gd.closest('#notebook-container');\nif (notebookContainer) {{\n    x.observe(notebookContainer, {childList: true});\n}}\n\n// Listen for the clearing of the current output cell\nvar outputEl = gd.closest('.output');\nif (outputEl) {{\n    x.observe(outputEl, {childList: true});\n}}\n\n                        })                };                });            </script>        </div>"
     },
     "metadata": {},
     "output_type": "display_data"
    },
    {
     "name": "stdout",
     "output_type": "stream",
     "text": [
      "[[30  0  0  0  1  0  0  0  0  0]\n",
      " [ 0 34  0  0  0  0  0  0  0  0]\n",
      " [ 0  0 37  0  0  0  0  0  0  0]\n",
      " [ 0  0  0 32  0  0  0  0  0  0]\n",
      " [ 0  0  0  0 36  0  0  0  0  0]\n",
      " [ 0  0  0  0  0 38  0  0  0  0]\n",
      " [ 1  0  0  0  0  0 51  0  0  0]\n",
      " [ 0  0  0  0  0  0  0 32  0  0]\n",
      " [ 0  2  1  0  0  0  0  0 30  0]\n",
      " [ 0  0  0  1  0  1  0  0  2 31]]\n",
      "              precision    recall  f1-score   support\n",
      "\n",
      "           0       0.97      0.97      0.97        31\n",
      "           1       0.94      1.00      0.97        34\n",
      "           2       0.97      1.00      0.99        37\n",
      "           3       0.97      1.00      0.98        32\n",
      "           4       0.97      1.00      0.99        36\n",
      "           5       0.97      1.00      0.99        38\n",
      "           6       1.00      0.98      0.99        52\n",
      "           7       1.00      1.00      1.00        32\n",
      "           8       0.94      0.91      0.92        33\n",
      "           9       1.00      0.89      0.94        35\n",
      "\n",
      "    accuracy                           0.97       360\n",
      "   macro avg       0.97      0.97      0.97       360\n",
      "weighted avg       0.98      0.97      0.97       360\n",
      "\n",
      "Learning rate set to 0.069888\n",
      "0:\tlearn: 2.0913723\ttotal: 14.8ms\tremaining: 14.8s\n",
      "1:\tlearn: 1.9314038\ttotal: 29.3ms\tremaining: 14.6s\n",
      "2:\tlearn: 1.7839457\ttotal: 44.6ms\tremaining: 14.8s\n",
      "3:\tlearn: 1.6656454\ttotal: 60.6ms\tremaining: 15.1s\n",
      "4:\tlearn: 1.5610724\ttotal: 76.1ms\tremaining: 15.1s\n",
      "5:\tlearn: 1.4717254\ttotal: 91.9ms\tremaining: 15.2s\n",
      "6:\tlearn: 1.3909873\ttotal: 106ms\tremaining: 15s\n",
      "7:\tlearn: 1.3107346\ttotal: 122ms\tremaining: 15.1s\n",
      "8:\tlearn: 1.2420093\ttotal: 136ms\tremaining: 15s\n",
      "9:\tlearn: 1.1756669\ttotal: 152ms\tremaining: 15s\n",
      "10:\tlearn: 1.1166665\ttotal: 168ms\tremaining: 15.1s\n",
      "11:\tlearn: 1.0658520\ttotal: 182ms\tremaining: 15s\n",
      "12:\tlearn: 1.0180027\ttotal: 198ms\tremaining: 15s\n",
      "13:\tlearn: 0.9714812\ttotal: 214ms\tremaining: 15.1s\n",
      "14:\tlearn: 0.9310640\ttotal: 231ms\tremaining: 15.2s\n",
      "15:\tlearn: 0.8930131\ttotal: 246ms\tremaining: 15.1s\n",
      "16:\tlearn: 0.8573041\ttotal: 261ms\tremaining: 15.1s\n",
      "17:\tlearn: 0.8220484\ttotal: 276ms\tremaining: 15.1s\n",
      "18:\tlearn: 0.7905533\ttotal: 291ms\tremaining: 15s\n",
      "19:\tlearn: 0.7613796\ttotal: 306ms\tremaining: 15s\n",
      "20:\tlearn: 0.7343098\ttotal: 321ms\tremaining: 15s\n",
      "21:\tlearn: 0.7083606\ttotal: 337ms\tremaining: 15s\n",
      "22:\tlearn: 0.6837724\ttotal: 353ms\tremaining: 15s\n",
      "23:\tlearn: 0.6604177\ttotal: 369ms\tremaining: 15s\n",
      "24:\tlearn: 0.6393386\ttotal: 384ms\tremaining: 15s\n",
      "25:\tlearn: 0.6185991\ttotal: 400ms\tremaining: 15s\n",
      "26:\tlearn: 0.5985982\ttotal: 416ms\tremaining: 15s\n",
      "27:\tlearn: 0.5802310\ttotal: 430ms\tremaining: 14.9s\n",
      "28:\tlearn: 0.5626116\ttotal: 445ms\tremaining: 14.9s\n",
      "29:\tlearn: 0.5452623\ttotal: 461ms\tremaining: 14.9s\n",
      "30:\tlearn: 0.5283731\ttotal: 475ms\tremaining: 14.9s\n",
      "31:\tlearn: 0.5132169\ttotal: 490ms\tremaining: 14.8s\n",
      "32:\tlearn: 0.4974643\ttotal: 504ms\tremaining: 14.8s\n",
      "33:\tlearn: 0.4833628\ttotal: 517ms\tremaining: 14.7s\n",
      "34:\tlearn: 0.4704850\ttotal: 531ms\tremaining: 14.6s\n",
      "35:\tlearn: 0.4574672\ttotal: 545ms\tremaining: 14.6s\n",
      "36:\tlearn: 0.4460631\ttotal: 559ms\tremaining: 14.6s\n",
      "37:\tlearn: 0.4348018\ttotal: 574ms\tremaining: 14.5s\n",
      "38:\tlearn: 0.4227964\ttotal: 588ms\tremaining: 14.5s\n",
      "39:\tlearn: 0.4123138\ttotal: 602ms\tremaining: 14.4s\n",
      "40:\tlearn: 0.4017785\ttotal: 616ms\tremaining: 14.4s\n",
      "41:\tlearn: 0.3908064\ttotal: 632ms\tremaining: 14.4s\n",
      "42:\tlearn: 0.3813803\ttotal: 647ms\tremaining: 14.4s\n",
      "43:\tlearn: 0.3719992\ttotal: 662ms\tremaining: 14.4s\n",
      "44:\tlearn: 0.3632893\ttotal: 675ms\tremaining: 14.3s\n",
      "45:\tlearn: 0.3546942\ttotal: 690ms\tremaining: 14.3s\n",
      "46:\tlearn: 0.3467950\ttotal: 705ms\tremaining: 14.3s\n",
      "47:\tlearn: 0.3396617\ttotal: 718ms\tremaining: 14.2s\n",
      "48:\tlearn: 0.3322081\ttotal: 733ms\tremaining: 14.2s\n",
      "49:\tlearn: 0.3250362\ttotal: 748ms\tremaining: 14.2s\n",
      "50:\tlearn: 0.3176144\ttotal: 765ms\tremaining: 14.2s\n",
      "51:\tlearn: 0.3113207\ttotal: 778ms\tremaining: 14.2s\n",
      "52:\tlearn: 0.3047285\ttotal: 791ms\tremaining: 14.1s\n",
      "53:\tlearn: 0.2986802\ttotal: 805ms\tremaining: 14.1s\n",
      "54:\tlearn: 0.2922637\ttotal: 818ms\tremaining: 14s\n",
      "55:\tlearn: 0.2872718\ttotal: 831ms\tremaining: 14s\n",
      "56:\tlearn: 0.2816735\ttotal: 847ms\tremaining: 14s\n",
      "57:\tlearn: 0.2757558\ttotal: 861ms\tremaining: 14s\n",
      "58:\tlearn: 0.2701422\ttotal: 876ms\tremaining: 14s\n",
      "59:\tlearn: 0.2651878\ttotal: 889ms\tremaining: 13.9s\n",
      "60:\tlearn: 0.2601398\ttotal: 902ms\tremaining: 13.9s\n",
      "61:\tlearn: 0.2555477\ttotal: 916ms\tremaining: 13.9s\n",
      "62:\tlearn: 0.2505924\ttotal: 930ms\tremaining: 13.8s\n",
      "63:\tlearn: 0.2460837\ttotal: 942ms\tremaining: 13.8s\n",
      "64:\tlearn: 0.2411712\ttotal: 956ms\tremaining: 13.8s\n",
      "65:\tlearn: 0.2365321\ttotal: 970ms\tremaining: 13.7s\n",
      "66:\tlearn: 0.2318974\ttotal: 984ms\tremaining: 13.7s\n",
      "67:\tlearn: 0.2280420\ttotal: 997ms\tremaining: 13.7s\n",
      "68:\tlearn: 0.2242841\ttotal: 1.02s\tremaining: 13.7s\n",
      "69:\tlearn: 0.2205565\ttotal: 1.03s\tremaining: 13.7s\n",
      "70:\tlearn: 0.2169688\ttotal: 1.04s\tremaining: 13.7s\n",
      "71:\tlearn: 0.2133188\ttotal: 1.06s\tremaining: 13.7s\n",
      "72:\tlearn: 0.2097807\ttotal: 1.07s\tremaining: 13.7s\n",
      "73:\tlearn: 0.2066033\ttotal: 1.09s\tremaining: 13.6s\n",
      "74:\tlearn: 0.2028703\ttotal: 1.1s\tremaining: 13.6s\n",
      "75:\tlearn: 0.1994919\ttotal: 1.11s\tremaining: 13.6s\n",
      "76:\tlearn: 0.1968428\ttotal: 1.13s\tremaining: 13.5s\n",
      "77:\tlearn: 0.1940811\ttotal: 1.14s\tremaining: 13.5s\n",
      "78:\tlearn: 0.1909336\ttotal: 1.15s\tremaining: 13.5s\n",
      "79:\tlearn: 0.1876548\ttotal: 1.17s\tremaining: 13.4s\n",
      "80:\tlearn: 0.1853948\ttotal: 1.18s\tremaining: 13.4s\n",
      "81:\tlearn: 0.1824595\ttotal: 1.2s\tremaining: 13.4s\n",
      "82:\tlearn: 0.1802802\ttotal: 1.21s\tremaining: 13.3s\n",
      "83:\tlearn: 0.1776418\ttotal: 1.22s\tremaining: 13.3s\n",
      "84:\tlearn: 0.1754102\ttotal: 1.23s\tremaining: 13.3s\n",
      "85:\tlearn: 0.1733934\ttotal: 1.25s\tremaining: 13.3s\n",
      "86:\tlearn: 0.1711073\ttotal: 1.26s\tremaining: 13.2s\n",
      "87:\tlearn: 0.1686273\ttotal: 1.27s\tremaining: 13.2s\n",
      "88:\tlearn: 0.1667619\ttotal: 1.28s\tremaining: 13.1s\n",
      "89:\tlearn: 0.1644879\ttotal: 1.3s\tremaining: 13.1s\n",
      "90:\tlearn: 0.1623440\ttotal: 1.31s\tremaining: 13.1s\n",
      "91:\tlearn: 0.1601557\ttotal: 1.32s\tremaining: 13.1s\n",
      "92:\tlearn: 0.1583377\ttotal: 1.34s\tremaining: 13s\n",
      "93:\tlearn: 0.1561952\ttotal: 1.35s\tremaining: 13s\n",
      "94:\tlearn: 0.1539619\ttotal: 1.36s\tremaining: 13s\n",
      "95:\tlearn: 0.1524442\ttotal: 1.38s\tremaining: 13s\n",
      "96:\tlearn: 0.1503564\ttotal: 1.39s\tremaining: 13s\n",
      "97:\tlearn: 0.1484997\ttotal: 1.4s\tremaining: 12.9s\n",
      "98:\tlearn: 0.1472055\ttotal: 1.42s\tremaining: 12.9s\n",
      "99:\tlearn: 0.1455736\ttotal: 1.43s\tremaining: 12.9s\n",
      "100:\tlearn: 0.1440270\ttotal: 1.44s\tremaining: 12.8s\n",
      "101:\tlearn: 0.1418854\ttotal: 1.46s\tremaining: 12.8s\n",
      "102:\tlearn: 0.1404945\ttotal: 1.47s\tremaining: 12.8s\n",
      "103:\tlearn: 0.1390445\ttotal: 1.48s\tremaining: 12.8s\n",
      "104:\tlearn: 0.1375347\ttotal: 1.5s\tremaining: 12.8s\n",
      "105:\tlearn: 0.1370477\ttotal: 1.51s\tremaining: 12.7s\n",
      "106:\tlearn: 0.1353209\ttotal: 1.52s\tremaining: 12.7s\n",
      "107:\tlearn: 0.1337638\ttotal: 1.53s\tremaining: 12.7s\n",
      "108:\tlearn: 0.1329839\ttotal: 1.55s\tremaining: 12.6s\n",
      "109:\tlearn: 0.1314242\ttotal: 1.56s\tremaining: 12.6s\n",
      "110:\tlearn: 0.1303160\ttotal: 1.57s\tremaining: 12.6s\n",
      "111:\tlearn: 0.1287689\ttotal: 1.58s\tremaining: 12.5s\n",
      "112:\tlearn: 0.1273353\ttotal: 1.59s\tremaining: 12.5s\n",
      "113:\tlearn: 0.1261450\ttotal: 1.61s\tremaining: 12.5s\n",
      "114:\tlearn: 0.1256548\ttotal: 1.62s\tremaining: 12.4s\n",
      "115:\tlearn: 0.1241015\ttotal: 1.63s\tremaining: 12.4s\n",
      "116:\tlearn: 0.1231903\ttotal: 1.64s\tremaining: 12.4s\n",
      "117:\tlearn: 0.1228307\ttotal: 1.65s\tremaining: 12.3s\n",
      "118:\tlearn: 0.1213943\ttotal: 1.67s\tremaining: 12.3s\n",
      "119:\tlearn: 0.1204303\ttotal: 1.68s\tremaining: 12.3s\n",
      "120:\tlearn: 0.1194104\ttotal: 1.69s\tremaining: 12.3s\n",
      "121:\tlearn: 0.1180928\ttotal: 1.7s\tremaining: 12.3s\n",
      "122:\tlearn: 0.1168751\ttotal: 1.71s\tremaining: 12.2s\n",
      "123:\tlearn: 0.1157319\ttotal: 1.73s\tremaining: 12.2s\n",
      "124:\tlearn: 0.1150193\ttotal: 1.74s\tremaining: 12.2s\n",
      "125:\tlearn: 0.1141447\ttotal: 1.75s\tremaining: 12.1s\n",
      "126:\tlearn: 0.1128782\ttotal: 1.76s\tremaining: 12.1s\n",
      "127:\tlearn: 0.1116553\ttotal: 1.77s\tremaining: 12.1s\n",
      "128:\tlearn: 0.1107560\ttotal: 1.78s\tremaining: 12s\n",
      "129:\tlearn: 0.1096707\ttotal: 1.79s\tremaining: 12s\n",
      "130:\tlearn: 0.1089628\ttotal: 1.81s\tremaining: 12s\n",
      "131:\tlearn: 0.1084569\ttotal: 1.82s\tremaining: 12s\n",
      "132:\tlearn: 0.1072496\ttotal: 1.83s\tremaining: 11.9s\n",
      "133:\tlearn: 0.1067422\ttotal: 1.84s\tremaining: 11.9s\n",
      "134:\tlearn: 0.1060129\ttotal: 1.85s\tremaining: 11.9s\n",
      "135:\tlearn: 0.1047054\ttotal: 1.87s\tremaining: 11.9s\n",
      "136:\tlearn: 0.1041029\ttotal: 1.88s\tremaining: 11.8s\n",
      "137:\tlearn: 0.1032012\ttotal: 1.89s\tremaining: 11.8s\n",
      "138:\tlearn: 0.1023519\ttotal: 1.91s\tremaining: 11.8s\n",
      "139:\tlearn: 0.1017831\ttotal: 1.92s\tremaining: 11.8s\n",
      "140:\tlearn: 0.1014012\ttotal: 1.93s\tremaining: 11.8s\n",
      "141:\tlearn: 0.1006474\ttotal: 1.94s\tremaining: 11.7s\n",
      "142:\tlearn: 0.0998822\ttotal: 1.95s\tremaining: 11.7s\n",
      "143:\tlearn: 0.0994540\ttotal: 1.96s\tremaining: 11.7s\n",
      "144:\tlearn: 0.0989024\ttotal: 1.98s\tremaining: 11.7s\n",
      "145:\tlearn: 0.0979647\ttotal: 1.99s\tremaining: 11.6s\n",
      "146:\tlearn: 0.0976926\ttotal: 2s\tremaining: 11.6s\n",
      "147:\tlearn: 0.0967333\ttotal: 2.01s\tremaining: 11.6s\n",
      "148:\tlearn: 0.0962244\ttotal: 2.02s\tremaining: 11.6s\n",
      "149:\tlearn: 0.0955288\ttotal: 2.03s\tremaining: 11.5s\n",
      "150:\tlearn: 0.0947338\ttotal: 2.05s\tremaining: 11.5s\n",
      "151:\tlearn: 0.0941046\ttotal: 2.06s\tremaining: 11.5s\n",
      "152:\tlearn: 0.0935688\ttotal: 2.07s\tremaining: 11.4s\n",
      "153:\tlearn: 0.0931298\ttotal: 2.08s\tremaining: 11.4s\n",
      "154:\tlearn: 0.0924768\ttotal: 2.09s\tremaining: 11.4s\n",
      "155:\tlearn: 0.0921574\ttotal: 2.1s\tremaining: 11.4s\n",
      "156:\tlearn: 0.0916486\ttotal: 2.11s\tremaining: 11.4s\n",
      "157:\tlearn: 0.0916269\ttotal: 2.12s\tremaining: 11.3s\n",
      "158:\tlearn: 0.0912062\ttotal: 2.13s\tremaining: 11.3s\n",
      "159:\tlearn: 0.0906980\ttotal: 2.15s\tremaining: 11.3s\n",
      "160:\tlearn: 0.0900723\ttotal: 2.16s\tremaining: 11.3s\n",
      "161:\tlearn: 0.0892339\ttotal: 2.17s\tremaining: 11.2s\n",
      "162:\tlearn: 0.0887134\ttotal: 2.19s\tremaining: 11.2s\n",
      "163:\tlearn: 0.0878839\ttotal: 2.2s\tremaining: 11.2s\n",
      "164:\tlearn: 0.0876588\ttotal: 2.21s\tremaining: 11.2s\n",
      "165:\tlearn: 0.0870617\ttotal: 2.22s\tremaining: 11.2s\n",
      "166:\tlearn: 0.0868562\ttotal: 2.23s\tremaining: 11.1s\n",
      "167:\tlearn: 0.0861701\ttotal: 2.24s\tremaining: 11.1s\n",
      "168:\tlearn: 0.0855553\ttotal: 2.26s\tremaining: 11.1s\n",
      "169:\tlearn: 0.0853048\ttotal: 2.27s\tremaining: 11.1s\n",
      "170:\tlearn: 0.0852512\ttotal: 2.28s\tremaining: 11s\n",
      "171:\tlearn: 0.0849947\ttotal: 2.29s\tremaining: 11s\n",
      "172:\tlearn: 0.0845332\ttotal: 2.3s\tremaining: 11s\n",
      "173:\tlearn: 0.0839733\ttotal: 2.31s\tremaining: 11s\n",
      "174:\tlearn: 0.0836481\ttotal: 2.32s\tremaining: 11s\n",
      "175:\tlearn: 0.0833573\ttotal: 2.33s\tremaining: 10.9s\n",
      "176:\tlearn: 0.0831225\ttotal: 2.35s\tremaining: 10.9s\n",
      "177:\tlearn: 0.0828107\ttotal: 2.36s\tremaining: 10.9s\n",
      "178:\tlearn: 0.0821756\ttotal: 2.37s\tremaining: 10.9s\n",
      "179:\tlearn: 0.0818886\ttotal: 2.38s\tremaining: 10.8s\n",
      "180:\tlearn: 0.0817308\ttotal: 2.39s\tremaining: 10.8s\n",
      "181:\tlearn: 0.0814450\ttotal: 2.4s\tremaining: 10.8s\n",
      "182:\tlearn: 0.0807875\ttotal: 2.42s\tremaining: 10.8s\n",
      "183:\tlearn: 0.0799907\ttotal: 2.43s\tremaining: 10.8s\n",
      "184:\tlearn: 0.0792635\ttotal: 2.44s\tremaining: 10.7s\n",
      "185:\tlearn: 0.0788465\ttotal: 2.45s\tremaining: 10.7s\n",
      "186:\tlearn: 0.0785021\ttotal: 2.46s\tremaining: 10.7s\n",
      "187:\tlearn: 0.0780937\ttotal: 2.48s\tremaining: 10.7s\n",
      "188:\tlearn: 0.0776580\ttotal: 2.49s\tremaining: 10.7s\n",
      "189:\tlearn: 0.0773513\ttotal: 2.5s\tremaining: 10.6s\n",
      "190:\tlearn: 0.0767309\ttotal: 2.51s\tremaining: 10.6s\n",
      "191:\tlearn: 0.0763131\ttotal: 2.52s\tremaining: 10.6s\n",
      "192:\tlearn: 0.0758265\ttotal: 2.54s\tremaining: 10.6s\n",
      "193:\tlearn: 0.0754435\ttotal: 2.54s\tremaining: 10.6s\n",
      "194:\tlearn: 0.0752029\ttotal: 2.56s\tremaining: 10.6s\n",
      "195:\tlearn: 0.0746772\ttotal: 2.57s\tremaining: 10.6s\n",
      "196:\tlearn: 0.0741506\ttotal: 2.59s\tremaining: 10.5s\n",
      "197:\tlearn: 0.0734760\ttotal: 2.6s\tremaining: 10.5s\n",
      "198:\tlearn: 0.0730982\ttotal: 2.61s\tremaining: 10.5s\n",
      "199:\tlearn: 0.0726204\ttotal: 2.62s\tremaining: 10.5s\n",
      "200:\tlearn: 0.0722513\ttotal: 2.63s\tremaining: 10.5s\n",
      "201:\tlearn: 0.0719915\ttotal: 2.64s\tremaining: 10.4s\n",
      "202:\tlearn: 0.0717175\ttotal: 2.65s\tremaining: 10.4s\n",
      "203:\tlearn: 0.0715314\ttotal: 2.67s\tremaining: 10.4s\n",
      "204:\tlearn: 0.0712130\ttotal: 2.68s\tremaining: 10.4s\n",
      "205:\tlearn: 0.0708333\ttotal: 2.69s\tremaining: 10.4s\n",
      "206:\tlearn: 0.0704457\ttotal: 2.7s\tremaining: 10.3s\n",
      "207:\tlearn: 0.0697662\ttotal: 2.71s\tremaining: 10.3s\n",
      "208:\tlearn: 0.0696682\ttotal: 2.72s\tremaining: 10.3s\n",
      "209:\tlearn: 0.0695579\ttotal: 2.73s\tremaining: 10.3s\n",
      "210:\tlearn: 0.0692062\ttotal: 2.75s\tremaining: 10.3s\n",
      "211:\tlearn: 0.0687656\ttotal: 2.76s\tremaining: 10.2s\n",
      "212:\tlearn: 0.0683756\ttotal: 2.77s\tremaining: 10.2s\n",
      "213:\tlearn: 0.0682797\ttotal: 2.78s\tremaining: 10.2s\n",
      "214:\tlearn: 0.0680466\ttotal: 2.79s\tremaining: 10.2s\n",
      "215:\tlearn: 0.0678863\ttotal: 2.8s\tremaining: 10.2s\n",
      "216:\tlearn: 0.0676902\ttotal: 2.81s\tremaining: 10.2s\n",
      "217:\tlearn: 0.0674367\ttotal: 2.82s\tremaining: 10.1s\n",
      "218:\tlearn: 0.0672867\ttotal: 2.83s\tremaining: 10.1s\n",
      "219:\tlearn: 0.0669435\ttotal: 2.84s\tremaining: 10.1s\n",
      "220:\tlearn: 0.0664819\ttotal: 2.86s\tremaining: 10.1s\n",
      "221:\tlearn: 0.0659219\ttotal: 2.87s\tremaining: 10.1s\n",
      "222:\tlearn: 0.0653844\ttotal: 2.88s\tremaining: 10s\n",
      "223:\tlearn: 0.0651707\ttotal: 2.9s\tremaining: 10s\n",
      "224:\tlearn: 0.0647407\ttotal: 2.91s\tremaining: 10s\n",
      "225:\tlearn: 0.0644858\ttotal: 2.92s\tremaining: 9.99s\n",
      "226:\tlearn: 0.0642858\ttotal: 2.93s\tremaining: 9.97s\n",
      "227:\tlearn: 0.0639121\ttotal: 2.94s\tremaining: 9.95s\n",
      "228:\tlearn: 0.0636873\ttotal: 2.95s\tremaining: 9.93s\n",
      "229:\tlearn: 0.0635526\ttotal: 2.96s\tremaining: 9.92s\n",
      "230:\tlearn: 0.0631526\ttotal: 2.98s\tremaining: 9.9s\n",
      "231:\tlearn: 0.0628275\ttotal: 2.99s\tremaining: 9.89s\n",
      "232:\tlearn: 0.0626571\ttotal: 3s\tremaining: 9.87s\n",
      "233:\tlearn: 0.0624074\ttotal: 3.01s\tremaining: 9.86s\n",
      "234:\tlearn: 0.0620155\ttotal: 3.02s\tremaining: 9.85s\n",
      "235:\tlearn: 0.0617381\ttotal: 3.04s\tremaining: 9.83s\n",
      "236:\tlearn: 0.0617175\ttotal: 3.05s\tremaining: 9.81s\n",
      "237:\tlearn: 0.0616151\ttotal: 3.06s\tremaining: 9.79s\n",
      "238:\tlearn: 0.0614462\ttotal: 3.07s\tremaining: 9.77s\n",
      "239:\tlearn: 0.0610197\ttotal: 3.08s\tremaining: 9.76s\n",
      "240:\tlearn: 0.0608261\ttotal: 3.09s\tremaining: 9.74s\n",
      "241:\tlearn: 0.0603495\ttotal: 3.11s\tremaining: 9.73s\n",
      "242:\tlearn: 0.0601367\ttotal: 3.12s\tremaining: 9.71s\n",
      "243:\tlearn: 0.0598540\ttotal: 3.13s\tremaining: 9.69s\n",
      "244:\tlearn: 0.0597252\ttotal: 3.14s\tremaining: 9.67s\n",
      "245:\tlearn: 0.0594612\ttotal: 3.15s\tremaining: 9.65s\n",
      "246:\tlearn: 0.0590713\ttotal: 3.16s\tremaining: 9.64s\n",
      "247:\tlearn: 0.0587430\ttotal: 3.17s\tremaining: 9.62s\n",
      "248:\tlearn: 0.0585886\ttotal: 3.18s\tremaining: 9.6s\n",
      "249:\tlearn: 0.0583973\ttotal: 3.19s\tremaining: 9.58s\n",
      "250:\tlearn: 0.0580434\ttotal: 3.21s\tremaining: 9.57s\n",
      "251:\tlearn: 0.0577083\ttotal: 3.22s\tremaining: 9.55s\n",
      "252:\tlearn: 0.0574487\ttotal: 3.23s\tremaining: 9.54s\n",
      "253:\tlearn: 0.0572173\ttotal: 3.24s\tremaining: 9.52s\n",
      "254:\tlearn: 0.0569980\ttotal: 3.25s\tremaining: 9.5s\n",
      "255:\tlearn: 0.0567990\ttotal: 3.26s\tremaining: 9.48s\n",
      "256:\tlearn: 0.0566779\ttotal: 3.27s\tremaining: 9.46s\n",
      "257:\tlearn: 0.0564888\ttotal: 3.28s\tremaining: 9.45s\n",
      "258:\tlearn: 0.0561164\ttotal: 3.3s\tremaining: 9.43s\n",
      "259:\tlearn: 0.0559525\ttotal: 3.31s\tremaining: 9.41s\n",
      "260:\tlearn: 0.0556393\ttotal: 3.32s\tremaining: 9.4s\n",
      "261:\tlearn: 0.0553515\ttotal: 3.33s\tremaining: 9.38s\n",
      "262:\tlearn: 0.0550613\ttotal: 3.34s\tremaining: 9.36s\n",
      "263:\tlearn: 0.0547095\ttotal: 3.35s\tremaining: 9.35s\n",
      "264:\tlearn: 0.0542071\ttotal: 3.37s\tremaining: 9.35s\n",
      "265:\tlearn: 0.0540099\ttotal: 3.38s\tremaining: 9.33s\n",
      "266:\tlearn: 0.0536357\ttotal: 3.4s\tremaining: 9.32s\n",
      "267:\tlearn: 0.0532730\ttotal: 3.41s\tremaining: 9.31s\n",
      "268:\tlearn: 0.0530539\ttotal: 3.42s\tremaining: 9.3s\n",
      "269:\tlearn: 0.0527435\ttotal: 3.43s\tremaining: 9.28s\n",
      "270:\tlearn: 0.0525896\ttotal: 3.44s\tremaining: 9.27s\n",
      "271:\tlearn: 0.0524000\ttotal: 3.46s\tremaining: 9.25s\n",
      "272:\tlearn: 0.0522301\ttotal: 3.47s\tremaining: 9.23s\n",
      "273:\tlearn: 0.0519602\ttotal: 3.48s\tremaining: 9.22s\n",
      "274:\tlearn: 0.0517939\ttotal: 3.49s\tremaining: 9.2s\n",
      "275:\tlearn: 0.0516782\ttotal: 3.5s\tremaining: 9.19s\n",
      "276:\tlearn: 0.0514494\ttotal: 3.51s\tremaining: 9.17s\n",
      "277:\tlearn: 0.0512697\ttotal: 3.53s\tremaining: 9.16s\n",
      "278:\tlearn: 0.0509254\ttotal: 3.54s\tremaining: 9.15s\n",
      "279:\tlearn: 0.0506311\ttotal: 3.55s\tremaining: 9.14s\n",
      "280:\tlearn: 0.0502961\ttotal: 3.57s\tremaining: 9.13s\n",
      "281:\tlearn: 0.0500918\ttotal: 3.58s\tremaining: 9.11s\n",
      "282:\tlearn: 0.0497799\ttotal: 3.59s\tremaining: 9.1s\n",
      "283:\tlearn: 0.0495952\ttotal: 3.6s\tremaining: 9.09s\n",
      "284:\tlearn: 0.0494882\ttotal: 3.62s\tremaining: 9.08s\n",
      "285:\tlearn: 0.0492734\ttotal: 3.63s\tremaining: 9.07s\n",
      "286:\tlearn: 0.0490361\ttotal: 3.65s\tremaining: 9.06s\n",
      "287:\tlearn: 0.0488697\ttotal: 3.66s\tremaining: 9.04s\n",
      "288:\tlearn: 0.0485605\ttotal: 3.67s\tremaining: 9.03s\n",
      "289:\tlearn: 0.0483680\ttotal: 3.68s\tremaining: 9.02s\n",
      "290:\tlearn: 0.0481401\ttotal: 3.7s\tremaining: 9.01s\n",
      "291:\tlearn: 0.0478757\ttotal: 3.71s\tremaining: 9s\n",
      "292:\tlearn: 0.0475390\ttotal: 3.72s\tremaining: 8.99s\n",
      "293:\tlearn: 0.0473267\ttotal: 3.74s\tremaining: 8.97s\n",
      "294:\tlearn: 0.0471429\ttotal: 3.75s\tremaining: 8.96s\n",
      "295:\tlearn: 0.0468470\ttotal: 3.76s\tremaining: 8.95s\n",
      "296:\tlearn: 0.0464990\ttotal: 3.77s\tremaining: 8.93s\n",
      "297:\tlearn: 0.0461116\ttotal: 3.79s\tremaining: 8.92s\n",
      "298:\tlearn: 0.0459444\ttotal: 3.8s\tremaining: 8.91s\n",
      "299:\tlearn: 0.0458232\ttotal: 3.81s\tremaining: 8.89s\n",
      "300:\tlearn: 0.0455945\ttotal: 3.83s\tremaining: 8.88s\n",
      "301:\tlearn: 0.0454458\ttotal: 3.84s\tremaining: 8.87s\n",
      "302:\tlearn: 0.0452212\ttotal: 3.85s\tremaining: 8.86s\n",
      "303:\tlearn: 0.0450498\ttotal: 3.86s\tremaining: 8.85s\n",
      "304:\tlearn: 0.0448601\ttotal: 3.88s\tremaining: 8.83s\n",
      "305:\tlearn: 0.0447452\ttotal: 3.89s\tremaining: 8.82s\n",
      "306:\tlearn: 0.0445783\ttotal: 3.9s\tremaining: 8.8s\n",
      "307:\tlearn: 0.0442749\ttotal: 3.91s\tremaining: 8.79s\n",
      "308:\tlearn: 0.0441097\ttotal: 3.92s\tremaining: 8.77s\n",
      "309:\tlearn: 0.0439622\ttotal: 3.94s\tremaining: 8.76s\n",
      "310:\tlearn: 0.0438814\ttotal: 3.95s\tremaining: 8.74s\n",
      "311:\tlearn: 0.0437290\ttotal: 3.96s\tremaining: 8.73s\n",
      "312:\tlearn: 0.0434320\ttotal: 3.97s\tremaining: 8.72s\n",
      "313:\tlearn: 0.0433523\ttotal: 3.98s\tremaining: 8.7s\n",
      "314:\tlearn: 0.0431349\ttotal: 4s\tremaining: 8.69s\n",
      "315:\tlearn: 0.0428285\ttotal: 4.01s\tremaining: 8.68s\n",
      "316:\tlearn: 0.0425769\ttotal: 4.02s\tremaining: 8.66s\n",
      "317:\tlearn: 0.0423862\ttotal: 4.03s\tremaining: 8.65s\n",
      "318:\tlearn: 0.0422419\ttotal: 4.04s\tremaining: 8.63s\n",
      "319:\tlearn: 0.0421022\ttotal: 4.06s\tremaining: 8.62s\n",
      "320:\tlearn: 0.0420206\ttotal: 4.07s\tremaining: 8.6s\n",
      "321:\tlearn: 0.0418882\ttotal: 4.08s\tremaining: 8.59s\n",
      "322:\tlearn: 0.0417446\ttotal: 4.09s\tremaining: 8.58s\n",
      "323:\tlearn: 0.0415377\ttotal: 4.11s\tremaining: 8.57s\n",
      "324:\tlearn: 0.0413035\ttotal: 4.12s\tremaining: 8.56s\n",
      "325:\tlearn: 0.0412344\ttotal: 4.13s\tremaining: 8.54s\n",
      "326:\tlearn: 0.0410859\ttotal: 4.14s\tremaining: 8.52s\n",
      "327:\tlearn: 0.0409819\ttotal: 4.15s\tremaining: 8.51s\n",
      "328:\tlearn: 0.0407707\ttotal: 4.16s\tremaining: 8.49s\n",
      "329:\tlearn: 0.0405220\ttotal: 4.18s\tremaining: 8.48s\n",
      "330:\tlearn: 0.0403011\ttotal: 4.19s\tremaining: 8.46s\n",
      "331:\tlearn: 0.0401382\ttotal: 4.2s\tremaining: 8.45s\n",
      "332:\tlearn: 0.0400492\ttotal: 4.21s\tremaining: 8.44s\n",
      "333:\tlearn: 0.0399700\ttotal: 4.22s\tremaining: 8.42s\n",
      "334:\tlearn: 0.0397967\ttotal: 4.24s\tremaining: 8.41s\n",
      "335:\tlearn: 0.0396098\ttotal: 4.25s\tremaining: 8.4s\n",
      "336:\tlearn: 0.0394446\ttotal: 4.26s\tremaining: 8.39s\n",
      "337:\tlearn: 0.0392614\ttotal: 4.28s\tremaining: 8.38s\n",
      "338:\tlearn: 0.0390699\ttotal: 4.29s\tremaining: 8.37s\n",
      "339:\tlearn: 0.0388735\ttotal: 4.31s\tremaining: 8.36s\n",
      "340:\tlearn: 0.0387363\ttotal: 4.32s\tremaining: 8.35s\n",
      "341:\tlearn: 0.0385499\ttotal: 4.33s\tremaining: 8.34s\n",
      "342:\tlearn: 0.0383453\ttotal: 4.35s\tremaining: 8.32s\n",
      "343:\tlearn: 0.0382384\ttotal: 4.36s\tremaining: 8.31s\n",
      "344:\tlearn: 0.0381603\ttotal: 4.37s\tremaining: 8.29s\n",
      "345:\tlearn: 0.0379857\ttotal: 4.38s\tremaining: 8.28s\n",
      "346:\tlearn: 0.0379064\ttotal: 4.39s\tremaining: 8.27s\n",
      "347:\tlearn: 0.0378124\ttotal: 4.4s\tremaining: 8.25s\n",
      "348:\tlearn: 0.0376050\ttotal: 4.42s\tremaining: 8.24s\n",
      "349:\tlearn: 0.0373675\ttotal: 4.43s\tremaining: 8.22s\n",
      "350:\tlearn: 0.0371984\ttotal: 4.44s\tremaining: 8.21s\n",
      "351:\tlearn: 0.0370980\ttotal: 4.45s\tremaining: 8.2s\n",
      "352:\tlearn: 0.0370010\ttotal: 4.46s\tremaining: 8.18s\n",
      "353:\tlearn: 0.0368777\ttotal: 4.47s\tremaining: 8.17s\n",
      "354:\tlearn: 0.0368346\ttotal: 4.49s\tremaining: 8.15s\n",
      "355:\tlearn: 0.0366675\ttotal: 4.5s\tremaining: 8.14s\n",
      "356:\tlearn: 0.0365645\ttotal: 4.51s\tremaining: 8.13s\n",
      "357:\tlearn: 0.0363853\ttotal: 4.52s\tremaining: 8.11s\n",
      "358:\tlearn: 0.0362182\ttotal: 4.54s\tremaining: 8.1s\n",
      "359:\tlearn: 0.0360892\ttotal: 4.55s\tremaining: 8.08s\n",
      "360:\tlearn: 0.0358987\ttotal: 4.56s\tremaining: 8.07s\n",
      "361:\tlearn: 0.0357645\ttotal: 4.57s\tremaining: 8.06s\n",
      "362:\tlearn: 0.0356154\ttotal: 4.58s\tremaining: 8.04s\n",
      "363:\tlearn: 0.0355079\ttotal: 4.59s\tremaining: 8.03s\n",
      "364:\tlearn: 0.0353629\ttotal: 4.61s\tremaining: 8.02s\n",
      "365:\tlearn: 0.0352346\ttotal: 4.62s\tremaining: 8s\n",
      "366:\tlearn: 0.0350217\ttotal: 4.63s\tremaining: 7.99s\n",
      "367:\tlearn: 0.0348717\ttotal: 4.64s\tremaining: 7.97s\n",
      "368:\tlearn: 0.0346768\ttotal: 4.66s\tremaining: 7.96s\n",
      "369:\tlearn: 0.0345223\ttotal: 4.67s\tremaining: 7.95s\n",
      "370:\tlearn: 0.0344523\ttotal: 4.68s\tremaining: 7.93s\n",
      "371:\tlearn: 0.0343435\ttotal: 4.69s\tremaining: 7.92s\n",
      "372:\tlearn: 0.0341571\ttotal: 4.7s\tremaining: 7.9s\n",
      "373:\tlearn: 0.0340725\ttotal: 4.71s\tremaining: 7.89s\n",
      "374:\tlearn: 0.0339213\ttotal: 4.72s\tremaining: 7.87s\n",
      "375:\tlearn: 0.0337502\ttotal: 4.73s\tremaining: 7.86s\n",
      "376:\tlearn: 0.0335847\ttotal: 4.75s\tremaining: 7.85s\n",
      "377:\tlearn: 0.0334284\ttotal: 4.76s\tremaining: 7.83s\n",
      "378:\tlearn: 0.0333119\ttotal: 4.77s\tremaining: 7.82s\n",
      "379:\tlearn: 0.0332112\ttotal: 4.79s\tremaining: 7.81s\n",
      "380:\tlearn: 0.0330456\ttotal: 4.8s\tremaining: 7.79s\n",
      "381:\tlearn: 0.0329811\ttotal: 4.81s\tremaining: 7.78s\n",
      "382:\tlearn: 0.0328896\ttotal: 4.82s\tremaining: 7.77s\n",
      "383:\tlearn: 0.0327730\ttotal: 4.83s\tremaining: 7.76s\n",
      "384:\tlearn: 0.0326499\ttotal: 4.85s\tremaining: 7.75s\n",
      "385:\tlearn: 0.0325686\ttotal: 4.86s\tremaining: 7.74s\n",
      "386:\tlearn: 0.0324553\ttotal: 4.88s\tremaining: 7.72s\n",
      "387:\tlearn: 0.0323110\ttotal: 4.89s\tremaining: 7.71s\n",
      "388:\tlearn: 0.0321971\ttotal: 4.9s\tremaining: 7.69s\n",
      "389:\tlearn: 0.0320862\ttotal: 4.91s\tremaining: 7.68s\n",
      "390:\tlearn: 0.0319911\ttotal: 4.92s\tremaining: 7.67s\n",
      "391:\tlearn: 0.0318781\ttotal: 4.94s\tremaining: 7.66s\n",
      "392:\tlearn: 0.0317188\ttotal: 4.95s\tremaining: 7.65s\n",
      "393:\tlearn: 0.0315504\ttotal: 4.96s\tremaining: 7.63s\n",
      "394:\tlearn: 0.0314665\ttotal: 4.98s\tremaining: 7.62s\n",
      "395:\tlearn: 0.0313471\ttotal: 4.99s\tremaining: 7.61s\n",
      "396:\tlearn: 0.0313038\ttotal: 5s\tremaining: 7.6s\n",
      "397:\tlearn: 0.0312093\ttotal: 5.01s\tremaining: 7.58s\n",
      "398:\tlearn: 0.0311198\ttotal: 5.03s\tremaining: 7.57s\n",
      "399:\tlearn: 0.0309734\ttotal: 5.04s\tremaining: 7.56s\n",
      "400:\tlearn: 0.0308975\ttotal: 5.05s\tremaining: 7.55s\n",
      "401:\tlearn: 0.0307736\ttotal: 5.07s\tremaining: 7.54s\n",
      "402:\tlearn: 0.0306494\ttotal: 5.08s\tremaining: 7.53s\n",
      "403:\tlearn: 0.0305809\ttotal: 5.09s\tremaining: 7.51s\n",
      "404:\tlearn: 0.0303994\ttotal: 5.11s\tremaining: 7.5s\n",
      "405:\tlearn: 0.0303218\ttotal: 5.12s\tremaining: 7.49s\n",
      "406:\tlearn: 0.0302215\ttotal: 5.13s\tremaining: 7.48s\n",
      "407:\tlearn: 0.0301683\ttotal: 5.15s\tremaining: 7.47s\n",
      "408:\tlearn: 0.0300676\ttotal: 5.16s\tremaining: 7.46s\n",
      "409:\tlearn: 0.0299441\ttotal: 5.17s\tremaining: 7.44s\n",
      "410:\tlearn: 0.0298460\ttotal: 5.18s\tremaining: 7.43s\n",
      "411:\tlearn: 0.0297153\ttotal: 5.2s\tremaining: 7.42s\n",
      "412:\tlearn: 0.0295813\ttotal: 5.21s\tremaining: 7.4s\n",
      "413:\tlearn: 0.0294787\ttotal: 5.22s\tremaining: 7.39s\n",
      "414:\tlearn: 0.0293824\ttotal: 5.23s\tremaining: 7.38s\n",
      "415:\tlearn: 0.0292697\ttotal: 5.24s\tremaining: 7.36s\n",
      "416:\tlearn: 0.0291710\ttotal: 5.25s\tremaining: 7.35s\n",
      "417:\tlearn: 0.0290849\ttotal: 5.27s\tremaining: 7.33s\n",
      "418:\tlearn: 0.0290254\ttotal: 5.28s\tremaining: 7.32s\n",
      "419:\tlearn: 0.0289000\ttotal: 5.29s\tremaining: 7.31s\n",
      "420:\tlearn: 0.0288005\ttotal: 5.3s\tremaining: 7.29s\n",
      "421:\tlearn: 0.0287267\ttotal: 5.32s\tremaining: 7.28s\n",
      "422:\tlearn: 0.0286410\ttotal: 5.33s\tremaining: 7.27s\n",
      "423:\tlearn: 0.0285292\ttotal: 5.34s\tremaining: 7.26s\n",
      "424:\tlearn: 0.0284019\ttotal: 5.36s\tremaining: 7.25s\n",
      "425:\tlearn: 0.0282799\ttotal: 5.37s\tremaining: 7.23s\n",
      "426:\tlearn: 0.0281415\ttotal: 5.38s\tremaining: 7.22s\n",
      "427:\tlearn: 0.0280714\ttotal: 5.39s\tremaining: 7.21s\n",
      "428:\tlearn: 0.0279964\ttotal: 5.41s\tremaining: 7.2s\n",
      "429:\tlearn: 0.0279029\ttotal: 5.42s\tremaining: 7.18s\n",
      "430:\tlearn: 0.0278684\ttotal: 5.43s\tremaining: 7.17s\n",
      "431:\tlearn: 0.0277577\ttotal: 5.44s\tremaining: 7.15s\n",
      "432:\tlearn: 0.0276567\ttotal: 5.45s\tremaining: 7.14s\n",
      "433:\tlearn: 0.0275852\ttotal: 5.46s\tremaining: 7.13s\n",
      "434:\tlearn: 0.0274615\ttotal: 5.48s\tremaining: 7.12s\n",
      "435:\tlearn: 0.0273209\ttotal: 5.49s\tremaining: 7.1s\n",
      "436:\tlearn: 0.0272226\ttotal: 5.5s\tremaining: 7.09s\n",
      "437:\tlearn: 0.0270713\ttotal: 5.52s\tremaining: 7.08s\n",
      "438:\tlearn: 0.0269175\ttotal: 5.53s\tremaining: 7.07s\n",
      "439:\tlearn: 0.0268331\ttotal: 5.54s\tremaining: 7.06s\n",
      "440:\tlearn: 0.0267119\ttotal: 5.56s\tremaining: 7.04s\n",
      "441:\tlearn: 0.0266539\ttotal: 5.57s\tremaining: 7.03s\n",
      "442:\tlearn: 0.0265327\ttotal: 5.58s\tremaining: 7.02s\n",
      "443:\tlearn: 0.0264095\ttotal: 5.6s\tremaining: 7.01s\n",
      "444:\tlearn: 0.0263379\ttotal: 5.61s\tremaining: 7s\n",
      "445:\tlearn: 0.0262197\ttotal: 5.62s\tremaining: 6.98s\n",
      "446:\tlearn: 0.0261807\ttotal: 5.63s\tremaining: 6.97s\n",
      "447:\tlearn: 0.0261134\ttotal: 5.64s\tremaining: 6.96s\n",
      "448:\tlearn: 0.0260414\ttotal: 5.66s\tremaining: 6.94s\n",
      "449:\tlearn: 0.0259519\ttotal: 5.67s\tremaining: 6.93s\n",
      "450:\tlearn: 0.0258277\ttotal: 5.68s\tremaining: 6.92s\n",
      "451:\tlearn: 0.0257445\ttotal: 5.69s\tremaining: 6.9s\n",
      "452:\tlearn: 0.0256594\ttotal: 5.71s\tremaining: 6.89s\n",
      "453:\tlearn: 0.0255992\ttotal: 5.72s\tremaining: 6.88s\n",
      "454:\tlearn: 0.0255024\ttotal: 5.73s\tremaining: 6.87s\n",
      "455:\tlearn: 0.0253579\ttotal: 5.74s\tremaining: 6.85s\n",
      "456:\tlearn: 0.0252627\ttotal: 5.76s\tremaining: 6.84s\n",
      "457:\tlearn: 0.0252158\ttotal: 5.77s\tremaining: 6.83s\n",
      "458:\tlearn: 0.0251371\ttotal: 5.79s\tremaining: 6.82s\n",
      "459:\tlearn: 0.0250590\ttotal: 5.8s\tremaining: 6.8s\n",
      "460:\tlearn: 0.0250102\ttotal: 5.81s\tremaining: 6.79s\n",
      "461:\tlearn: 0.0249013\ttotal: 5.82s\tremaining: 6.78s\n",
      "462:\tlearn: 0.0248076\ttotal: 5.83s\tremaining: 6.77s\n",
      "463:\tlearn: 0.0247109\ttotal: 5.85s\tremaining: 6.76s\n",
      "464:\tlearn: 0.0246134\ttotal: 5.86s\tremaining: 6.75s\n",
      "465:\tlearn: 0.0245614\ttotal: 5.87s\tremaining: 6.73s\n",
      "466:\tlearn: 0.0245228\ttotal: 5.88s\tremaining: 6.72s\n",
      "467:\tlearn: 0.0244414\ttotal: 5.9s\tremaining: 6.71s\n",
      "468:\tlearn: 0.0243550\ttotal: 5.91s\tremaining: 6.69s\n",
      "469:\tlearn: 0.0242702\ttotal: 5.92s\tremaining: 6.68s\n",
      "470:\tlearn: 0.0241792\ttotal: 5.93s\tremaining: 6.67s\n",
      "471:\tlearn: 0.0241183\ttotal: 5.95s\tremaining: 6.65s\n",
      "472:\tlearn: 0.0240631\ttotal: 5.96s\tremaining: 6.64s\n",
      "473:\tlearn: 0.0239679\ttotal: 5.97s\tremaining: 6.63s\n",
      "474:\tlearn: 0.0239316\ttotal: 5.98s\tremaining: 6.61s\n",
      "475:\tlearn: 0.0238534\ttotal: 6s\tremaining: 6.6s\n",
      "476:\tlearn: 0.0238115\ttotal: 6.01s\tremaining: 6.59s\n",
      "477:\tlearn: 0.0237295\ttotal: 6.02s\tremaining: 6.58s\n",
      "478:\tlearn: 0.0236631\ttotal: 6.03s\tremaining: 6.56s\n",
      "479:\tlearn: 0.0235871\ttotal: 6.05s\tremaining: 6.55s\n",
      "480:\tlearn: 0.0235308\ttotal: 6.06s\tremaining: 6.54s\n",
      "481:\tlearn: 0.0234587\ttotal: 6.07s\tremaining: 6.52s\n",
      "482:\tlearn: 0.0233418\ttotal: 6.08s\tremaining: 6.51s\n",
      "483:\tlearn: 0.0232603\ttotal: 6.09s\tremaining: 6.5s\n",
      "484:\tlearn: 0.0232095\ttotal: 6.11s\tremaining: 6.48s\n",
      "485:\tlearn: 0.0231065\ttotal: 6.12s\tremaining: 6.47s\n",
      "486:\tlearn: 0.0230230\ttotal: 6.13s\tremaining: 6.46s\n",
      "487:\tlearn: 0.0229405\ttotal: 6.14s\tremaining: 6.45s\n",
      "488:\tlearn: 0.0228861\ttotal: 6.16s\tremaining: 6.43s\n",
      "489:\tlearn: 0.0228050\ttotal: 6.17s\tremaining: 6.42s\n",
      "490:\tlearn: 0.0227505\ttotal: 6.18s\tremaining: 6.41s\n",
      "491:\tlearn: 0.0226603\ttotal: 6.19s\tremaining: 6.39s\n",
      "492:\tlearn: 0.0226210\ttotal: 6.21s\tremaining: 6.38s\n",
      "493:\tlearn: 0.0225716\ttotal: 6.22s\tremaining: 6.37s\n",
      "494:\tlearn: 0.0225126\ttotal: 6.23s\tremaining: 6.36s\n",
      "495:\tlearn: 0.0224588\ttotal: 6.24s\tremaining: 6.34s\n",
      "496:\tlearn: 0.0223841\ttotal: 6.25s\tremaining: 6.33s\n",
      "497:\tlearn: 0.0223002\ttotal: 6.27s\tremaining: 6.32s\n",
      "498:\tlearn: 0.0222456\ttotal: 6.28s\tremaining: 6.3s\n",
      "499:\tlearn: 0.0222209\ttotal: 6.29s\tremaining: 6.29s\n",
      "500:\tlearn: 0.0221657\ttotal: 6.3s\tremaining: 6.28s\n",
      "501:\tlearn: 0.0221088\ttotal: 6.31s\tremaining: 6.26s\n",
      "502:\tlearn: 0.0220681\ttotal: 6.33s\tremaining: 6.25s\n",
      "503:\tlearn: 0.0220099\ttotal: 6.34s\tremaining: 6.24s\n",
      "504:\tlearn: 0.0219738\ttotal: 6.35s\tremaining: 6.22s\n",
      "505:\tlearn: 0.0219398\ttotal: 6.36s\tremaining: 6.21s\n",
      "506:\tlearn: 0.0218843\ttotal: 6.37s\tremaining: 6.2s\n",
      "507:\tlearn: 0.0218518\ttotal: 6.38s\tremaining: 6.18s\n",
      "508:\tlearn: 0.0217724\ttotal: 6.4s\tremaining: 6.17s\n",
      "509:\tlearn: 0.0217017\ttotal: 6.41s\tremaining: 6.16s\n",
      "510:\tlearn: 0.0216033\ttotal: 6.43s\tremaining: 6.15s\n",
      "511:\tlearn: 0.0215540\ttotal: 6.44s\tremaining: 6.14s\n",
      "512:\tlearn: 0.0214842\ttotal: 6.45s\tremaining: 6.13s\n",
      "513:\tlearn: 0.0214286\ttotal: 6.46s\tremaining: 6.11s\n",
      "514:\tlearn: 0.0213397\ttotal: 6.47s\tremaining: 6.1s\n",
      "515:\tlearn: 0.0212782\ttotal: 6.49s\tremaining: 6.08s\n",
      "516:\tlearn: 0.0212213\ttotal: 6.5s\tremaining: 6.07s\n",
      "517:\tlearn: 0.0211509\ttotal: 6.51s\tremaining: 6.06s\n",
      "518:\tlearn: 0.0211140\ttotal: 6.52s\tremaining: 6.04s\n",
      "519:\tlearn: 0.0210577\ttotal: 6.54s\tremaining: 6.03s\n",
      "520:\tlearn: 0.0209756\ttotal: 6.55s\tremaining: 6.02s\n",
      "521:\tlearn: 0.0209227\ttotal: 6.56s\tremaining: 6.01s\n",
      "522:\tlearn: 0.0208625\ttotal: 6.57s\tremaining: 6s\n",
      "523:\tlearn: 0.0208039\ttotal: 6.59s\tremaining: 5.98s\n",
      "524:\tlearn: 0.0207621\ttotal: 6.6s\tremaining: 5.97s\n",
      "525:\tlearn: 0.0207154\ttotal: 6.61s\tremaining: 5.96s\n",
      "526:\tlearn: 0.0206383\ttotal: 6.63s\tremaining: 5.95s\n",
      "527:\tlearn: 0.0206011\ttotal: 6.64s\tremaining: 5.94s\n",
      "528:\tlearn: 0.0205229\ttotal: 6.65s\tremaining: 5.92s\n",
      "529:\tlearn: 0.0204497\ttotal: 6.67s\tremaining: 5.91s\n",
      "530:\tlearn: 0.0203797\ttotal: 6.68s\tremaining: 5.9s\n",
      "531:\tlearn: 0.0203245\ttotal: 6.69s\tremaining: 5.89s\n",
      "532:\tlearn: 0.0202514\ttotal: 6.7s\tremaining: 5.87s\n",
      "533:\tlearn: 0.0201642\ttotal: 6.72s\tremaining: 5.86s\n",
      "534:\tlearn: 0.0201118\ttotal: 6.73s\tremaining: 5.85s\n",
      "535:\tlearn: 0.0200868\ttotal: 6.74s\tremaining: 5.83s\n",
      "536:\tlearn: 0.0200473\ttotal: 6.75s\tremaining: 5.82s\n",
      "537:\tlearn: 0.0200018\ttotal: 6.76s\tremaining: 5.81s\n",
      "538:\tlearn: 0.0199393\ttotal: 6.78s\tremaining: 5.79s\n",
      "539:\tlearn: 0.0198614\ttotal: 6.79s\tremaining: 5.78s\n",
      "540:\tlearn: 0.0197977\ttotal: 6.8s\tremaining: 5.77s\n",
      "541:\tlearn: 0.0197534\ttotal: 6.81s\tremaining: 5.76s\n",
      "542:\tlearn: 0.0197026\ttotal: 6.83s\tremaining: 5.74s\n",
      "543:\tlearn: 0.0196562\ttotal: 6.84s\tremaining: 5.73s\n",
      "544:\tlearn: 0.0195873\ttotal: 6.85s\tremaining: 5.72s\n",
      "545:\tlearn: 0.0195102\ttotal: 6.86s\tremaining: 5.71s\n",
      "546:\tlearn: 0.0194807\ttotal: 6.88s\tremaining: 5.69s\n",
      "547:\tlearn: 0.0194184\ttotal: 6.89s\tremaining: 5.68s\n",
      "548:\tlearn: 0.0193541\ttotal: 6.9s\tremaining: 5.67s\n",
      "549:\tlearn: 0.0193334\ttotal: 6.91s\tremaining: 5.66s\n",
      "550:\tlearn: 0.0193118\ttotal: 6.93s\tremaining: 5.64s\n",
      "551:\tlearn: 0.0192372\ttotal: 6.94s\tremaining: 5.63s\n",
      "552:\tlearn: 0.0191954\ttotal: 6.95s\tremaining: 5.62s\n",
      "553:\tlearn: 0.0191294\ttotal: 6.96s\tremaining: 5.61s\n",
      "554:\tlearn: 0.0190601\ttotal: 6.98s\tremaining: 5.59s\n",
      "555:\tlearn: 0.0190038\ttotal: 6.99s\tremaining: 5.58s\n",
      "556:\tlearn: 0.0189770\ttotal: 7s\tremaining: 5.57s\n",
      "557:\tlearn: 0.0189496\ttotal: 7.02s\tremaining: 5.56s\n",
      "558:\tlearn: 0.0188979\ttotal: 7.03s\tremaining: 5.55s\n",
      "559:\tlearn: 0.0188494\ttotal: 7.04s\tremaining: 5.54s\n",
      "560:\tlearn: 0.0187976\ttotal: 7.06s\tremaining: 5.53s\n",
      "561:\tlearn: 0.0187718\ttotal: 7.07s\tremaining: 5.51s\n",
      "562:\tlearn: 0.0187299\ttotal: 7.09s\tremaining: 5.5s\n",
      "563:\tlearn: 0.0186688\ttotal: 7.1s\tremaining: 5.49s\n",
      "564:\tlearn: 0.0186092\ttotal: 7.12s\tremaining: 5.48s\n",
      "565:\tlearn: 0.0185481\ttotal: 7.13s\tremaining: 5.46s\n",
      "566:\tlearn: 0.0184978\ttotal: 7.14s\tremaining: 5.46s\n",
      "567:\tlearn: 0.0184402\ttotal: 7.16s\tremaining: 5.44s\n",
      "568:\tlearn: 0.0183946\ttotal: 7.17s\tremaining: 5.43s\n",
      "569:\tlearn: 0.0183309\ttotal: 7.18s\tremaining: 5.42s\n",
      "570:\tlearn: 0.0183176\ttotal: 7.2s\tremaining: 5.41s\n",
      "571:\tlearn: 0.0182797\ttotal: 7.21s\tremaining: 5.39s\n",
      "572:\tlearn: 0.0182446\ttotal: 7.22s\tremaining: 5.38s\n",
      "573:\tlearn: 0.0182133\ttotal: 7.23s\tremaining: 5.37s\n",
      "574:\tlearn: 0.0181759\ttotal: 7.24s\tremaining: 5.35s\n",
      "575:\tlearn: 0.0181390\ttotal: 7.26s\tremaining: 5.34s\n",
      "576:\tlearn: 0.0180968\ttotal: 7.27s\tremaining: 5.33s\n",
      "577:\tlearn: 0.0180765\ttotal: 7.28s\tremaining: 5.32s\n",
      "578:\tlearn: 0.0180239\ttotal: 7.3s\tremaining: 5.3s\n",
      "579:\tlearn: 0.0179761\ttotal: 7.31s\tremaining: 5.29s\n",
      "580:\tlearn: 0.0179393\ttotal: 7.32s\tremaining: 5.28s\n",
      "581:\tlearn: 0.0179016\ttotal: 7.33s\tremaining: 5.27s\n",
      "582:\tlearn: 0.0178436\ttotal: 7.34s\tremaining: 5.25s\n",
      "583:\tlearn: 0.0177984\ttotal: 7.36s\tremaining: 5.24s\n",
      "584:\tlearn: 0.0177380\ttotal: 7.37s\tremaining: 5.23s\n",
      "585:\tlearn: 0.0176824\ttotal: 7.38s\tremaining: 5.22s\n",
      "586:\tlearn: 0.0176296\ttotal: 7.39s\tremaining: 5.2s\n",
      "587:\tlearn: 0.0175759\ttotal: 7.41s\tremaining: 5.19s\n",
      "588:\tlearn: 0.0175358\ttotal: 7.42s\tremaining: 5.18s\n",
      "589:\tlearn: 0.0175012\ttotal: 7.43s\tremaining: 5.16s\n",
      "590:\tlearn: 0.0174495\ttotal: 7.45s\tremaining: 5.15s\n",
      "591:\tlearn: 0.0174341\ttotal: 7.46s\tremaining: 5.14s\n",
      "592:\tlearn: 0.0173936\ttotal: 7.47s\tremaining: 5.13s\n",
      "593:\tlearn: 0.0173274\ttotal: 7.49s\tremaining: 5.12s\n",
      "594:\tlearn: 0.0172908\ttotal: 7.5s\tremaining: 5.1s\n",
      "595:\tlearn: 0.0172373\ttotal: 7.51s\tremaining: 5.09s\n",
      "596:\tlearn: 0.0172082\ttotal: 7.52s\tremaining: 5.08s\n",
      "597:\tlearn: 0.0171682\ttotal: 7.54s\tremaining: 5.07s\n",
      "598:\tlearn: 0.0171282\ttotal: 7.55s\tremaining: 5.05s\n",
      "599:\tlearn: 0.0171108\ttotal: 7.56s\tremaining: 5.04s\n",
      "600:\tlearn: 0.0170873\ttotal: 7.58s\tremaining: 5.03s\n",
      "601:\tlearn: 0.0170417\ttotal: 7.59s\tremaining: 5.02s\n",
      "602:\tlearn: 0.0170039\ttotal: 7.6s\tremaining: 5s\n",
      "603:\tlearn: 0.0169767\ttotal: 7.61s\tremaining: 4.99s\n",
      "604:\tlearn: 0.0169421\ttotal: 7.63s\tremaining: 4.98s\n",
      "605:\tlearn: 0.0169186\ttotal: 7.64s\tremaining: 4.96s\n",
      "606:\tlearn: 0.0168776\ttotal: 7.65s\tremaining: 4.95s\n",
      "607:\tlearn: 0.0168352\ttotal: 7.67s\tremaining: 4.94s\n",
      "608:\tlearn: 0.0168134\ttotal: 7.68s\tremaining: 4.93s\n",
      "609:\tlearn: 0.0167944\ttotal: 7.69s\tremaining: 4.92s\n",
      "610:\tlearn: 0.0167665\ttotal: 7.7s\tremaining: 4.9s\n",
      "611:\tlearn: 0.0167271\ttotal: 7.72s\tremaining: 4.89s\n",
      "612:\tlearn: 0.0166863\ttotal: 7.73s\tremaining: 4.88s\n",
      "613:\tlearn: 0.0166361\ttotal: 7.74s\tremaining: 4.87s\n",
      "614:\tlearn: 0.0165811\ttotal: 7.75s\tremaining: 4.85s\n",
      "615:\tlearn: 0.0165546\ttotal: 7.77s\tremaining: 4.84s\n",
      "616:\tlearn: 0.0165053\ttotal: 7.78s\tremaining: 4.83s\n",
      "617:\tlearn: 0.0164823\ttotal: 7.79s\tremaining: 4.82s\n",
      "618:\tlearn: 0.0164410\ttotal: 7.81s\tremaining: 4.8s\n",
      "619:\tlearn: 0.0164014\ttotal: 7.82s\tremaining: 4.79s\n",
      "620:\tlearn: 0.0163779\ttotal: 7.83s\tremaining: 4.78s\n",
      "621:\tlearn: 0.0163356\ttotal: 7.84s\tremaining: 4.76s\n",
      "622:\tlearn: 0.0162953\ttotal: 7.86s\tremaining: 4.75s\n",
      "623:\tlearn: 0.0162677\ttotal: 7.87s\tremaining: 4.74s\n",
      "624:\tlearn: 0.0162259\ttotal: 7.88s\tremaining: 4.73s\n",
      "625:\tlearn: 0.0162049\ttotal: 7.89s\tremaining: 4.72s\n",
      "626:\tlearn: 0.0161669\ttotal: 7.91s\tremaining: 4.71s\n",
      "627:\tlearn: 0.0161384\ttotal: 7.92s\tremaining: 4.69s\n",
      "628:\tlearn: 0.0161071\ttotal: 7.93s\tremaining: 4.68s\n",
      "629:\tlearn: 0.0160709\ttotal: 7.95s\tremaining: 4.67s\n",
      "630:\tlearn: 0.0160259\ttotal: 7.96s\tremaining: 4.66s\n",
      "631:\tlearn: 0.0159877\ttotal: 7.97s\tremaining: 4.64s\n",
      "632:\tlearn: 0.0159668\ttotal: 7.99s\tremaining: 4.63s\n",
      "633:\tlearn: 0.0159322\ttotal: 8s\tremaining: 4.62s\n",
      "634:\tlearn: 0.0159035\ttotal: 8.01s\tremaining: 4.6s\n",
      "635:\tlearn: 0.0158819\ttotal: 8.02s\tremaining: 4.59s\n",
      "636:\tlearn: 0.0158604\ttotal: 8.03s\tremaining: 4.58s\n",
      "637:\tlearn: 0.0158173\ttotal: 8.05s\tremaining: 4.57s\n",
      "638:\tlearn: 0.0157927\ttotal: 8.06s\tremaining: 4.55s\n",
      "639:\tlearn: 0.0157545\ttotal: 8.07s\tremaining: 4.54s\n",
      "640:\tlearn: 0.0157121\ttotal: 8.09s\tremaining: 4.53s\n",
      "641:\tlearn: 0.0156866\ttotal: 8.1s\tremaining: 4.52s\n",
      "642:\tlearn: 0.0156239\ttotal: 8.11s\tremaining: 4.5s\n",
      "643:\tlearn: 0.0155887\ttotal: 8.13s\tremaining: 4.49s\n",
      "644:\tlearn: 0.0155387\ttotal: 8.14s\tremaining: 4.48s\n",
      "645:\tlearn: 0.0155070\ttotal: 8.15s\tremaining: 4.47s\n",
      "646:\tlearn: 0.0154524\ttotal: 8.17s\tremaining: 4.46s\n",
      "647:\tlearn: 0.0154255\ttotal: 8.18s\tremaining: 4.44s\n",
      "648:\tlearn: 0.0153888\ttotal: 8.19s\tremaining: 4.43s\n",
      "649:\tlearn: 0.0153571\ttotal: 8.2s\tremaining: 4.42s\n",
      "650:\tlearn: 0.0153415\ttotal: 8.22s\tremaining: 4.4s\n",
      "651:\tlearn: 0.0153168\ttotal: 8.23s\tremaining: 4.39s\n",
      "652:\tlearn: 0.0152792\ttotal: 8.24s\tremaining: 4.38s\n",
      "653:\tlearn: 0.0152365\ttotal: 8.25s\tremaining: 4.37s\n",
      "654:\tlearn: 0.0152007\ttotal: 8.27s\tremaining: 4.35s\n",
      "655:\tlearn: 0.0151613\ttotal: 8.28s\tremaining: 4.34s\n",
      "656:\tlearn: 0.0151261\ttotal: 8.29s\tremaining: 4.33s\n",
      "657:\tlearn: 0.0150925\ttotal: 8.31s\tremaining: 4.32s\n",
      "658:\tlearn: 0.0150565\ttotal: 8.32s\tremaining: 4.3s\n",
      "659:\tlearn: 0.0150205\ttotal: 8.33s\tremaining: 4.29s\n",
      "660:\tlearn: 0.0149897\ttotal: 8.35s\tremaining: 4.28s\n",
      "661:\tlearn: 0.0149649\ttotal: 8.36s\tremaining: 4.27s\n",
      "662:\tlearn: 0.0149334\ttotal: 8.37s\tremaining: 4.25s\n",
      "663:\tlearn: 0.0148804\ttotal: 8.38s\tremaining: 4.24s\n",
      "664:\tlearn: 0.0148465\ttotal: 8.4s\tremaining: 4.23s\n",
      "665:\tlearn: 0.0148137\ttotal: 8.41s\tremaining: 4.22s\n",
      "666:\tlearn: 0.0147790\ttotal: 8.43s\tremaining: 4.21s\n",
      "667:\tlearn: 0.0147355\ttotal: 8.44s\tremaining: 4.19s\n",
      "668:\tlearn: 0.0147072\ttotal: 8.45s\tremaining: 4.18s\n",
      "669:\tlearn: 0.0146673\ttotal: 8.46s\tremaining: 4.17s\n",
      "670:\tlearn: 0.0146500\ttotal: 8.47s\tremaining: 4.15s\n",
      "671:\tlearn: 0.0146148\ttotal: 8.49s\tremaining: 4.14s\n",
      "672:\tlearn: 0.0145937\ttotal: 8.5s\tremaining: 4.13s\n",
      "673:\tlearn: 0.0145590\ttotal: 8.51s\tremaining: 4.12s\n",
      "674:\tlearn: 0.0145468\ttotal: 8.53s\tremaining: 4.11s\n",
      "675:\tlearn: 0.0145153\ttotal: 8.54s\tremaining: 4.09s\n",
      "676:\tlearn: 0.0144965\ttotal: 8.56s\tremaining: 4.08s\n",
      "677:\tlearn: 0.0144579\ttotal: 8.57s\tremaining: 4.07s\n",
      "678:\tlearn: 0.0144325\ttotal: 8.59s\tremaining: 4.06s\n",
      "679:\tlearn: 0.0144092\ttotal: 8.6s\tremaining: 4.05s\n",
      "680:\tlearn: 0.0143958\ttotal: 8.61s\tremaining: 4.03s\n",
      "681:\tlearn: 0.0143647\ttotal: 8.63s\tremaining: 4.02s\n",
      "682:\tlearn: 0.0143383\ttotal: 8.64s\tremaining: 4.01s\n",
      "683:\tlearn: 0.0143064\ttotal: 8.65s\tremaining: 4s\n",
      "684:\tlearn: 0.0142799\ttotal: 8.67s\tremaining: 3.99s\n",
      "685:\tlearn: 0.0142590\ttotal: 8.68s\tremaining: 3.97s\n",
      "686:\tlearn: 0.0142457\ttotal: 8.7s\tremaining: 3.96s\n",
      "687:\tlearn: 0.0142211\ttotal: 8.71s\tremaining: 3.95s\n",
      "688:\tlearn: 0.0141812\ttotal: 8.73s\tremaining: 3.94s\n",
      "689:\tlearn: 0.0141432\ttotal: 8.74s\tremaining: 3.93s\n",
      "690:\tlearn: 0.0141186\ttotal: 8.76s\tremaining: 3.92s\n",
      "691:\tlearn: 0.0140979\ttotal: 8.77s\tremaining: 3.9s\n",
      "692:\tlearn: 0.0140606\ttotal: 8.78s\tremaining: 3.89s\n",
      "693:\tlearn: 0.0140286\ttotal: 8.8s\tremaining: 3.88s\n",
      "694:\tlearn: 0.0139959\ttotal: 8.81s\tremaining: 3.87s\n",
      "695:\tlearn: 0.0139724\ttotal: 8.83s\tremaining: 3.86s\n",
      "696:\tlearn: 0.0139452\ttotal: 8.84s\tremaining: 3.84s\n",
      "697:\tlearn: 0.0139096\ttotal: 8.86s\tremaining: 3.83s\n",
      "698:\tlearn: 0.0138906\ttotal: 8.88s\tremaining: 3.83s\n",
      "699:\tlearn: 0.0138779\ttotal: 8.9s\tremaining: 3.81s\n",
      "700:\tlearn: 0.0138465\ttotal: 8.92s\tremaining: 3.8s\n",
      "701:\tlearn: 0.0138132\ttotal: 8.93s\tremaining: 3.79s\n",
      "702:\tlearn: 0.0137688\ttotal: 8.95s\tremaining: 3.78s\n",
      "703:\tlearn: 0.0137327\ttotal: 8.96s\tremaining: 3.77s\n",
      "704:\tlearn: 0.0137054\ttotal: 8.98s\tremaining: 3.76s\n",
      "705:\tlearn: 0.0136941\ttotal: 8.99s\tremaining: 3.75s\n",
      "706:\tlearn: 0.0136610\ttotal: 9.01s\tremaining: 3.73s\n",
      "707:\tlearn: 0.0136255\ttotal: 9.03s\tremaining: 3.72s\n",
      "708:\tlearn: 0.0136006\ttotal: 9.04s\tremaining: 3.71s\n",
      "709:\tlearn: 0.0135675\ttotal: 9.06s\tremaining: 3.7s\n",
      "710:\tlearn: 0.0135497\ttotal: 9.07s\tremaining: 3.69s\n",
      "711:\tlearn: 0.0135000\ttotal: 9.09s\tremaining: 3.67s\n",
      "712:\tlearn: 0.0134846\ttotal: 9.1s\tremaining: 3.66s\n",
      "713:\tlearn: 0.0134666\ttotal: 9.11s\tremaining: 3.65s\n",
      "714:\tlearn: 0.0134388\ttotal: 9.13s\tremaining: 3.64s\n",
      "715:\tlearn: 0.0134058\ttotal: 9.14s\tremaining: 3.63s\n",
      "716:\tlearn: 0.0133788\ttotal: 9.15s\tremaining: 3.61s\n",
      "717:\tlearn: 0.0133517\ttotal: 9.17s\tremaining: 3.6s\n",
      "718:\tlearn: 0.0133273\ttotal: 9.18s\tremaining: 3.59s\n",
      "719:\tlearn: 0.0133091\ttotal: 9.19s\tremaining: 3.58s\n",
      "720:\tlearn: 0.0132940\ttotal: 9.21s\tremaining: 3.56s\n",
      "721:\tlearn: 0.0132665\ttotal: 9.22s\tremaining: 3.55s\n",
      "722:\tlearn: 0.0132253\ttotal: 9.24s\tremaining: 3.54s\n",
      "723:\tlearn: 0.0131955\ttotal: 9.25s\tremaining: 3.53s\n",
      "724:\tlearn: 0.0131701\ttotal: 9.26s\tremaining: 3.51s\n",
      "725:\tlearn: 0.0131474\ttotal: 9.28s\tremaining: 3.5s\n",
      "726:\tlearn: 0.0131221\ttotal: 9.29s\tremaining: 3.49s\n",
      "727:\tlearn: 0.0130950\ttotal: 9.3s\tremaining: 3.47s\n",
      "728:\tlearn: 0.0130682\ttotal: 9.31s\tremaining: 3.46s\n",
      "729:\tlearn: 0.0130468\ttotal: 9.32s\tremaining: 3.45s\n",
      "730:\tlearn: 0.0130222\ttotal: 9.34s\tremaining: 3.44s\n",
      "731:\tlearn: 0.0129894\ttotal: 9.35s\tremaining: 3.42s\n",
      "732:\tlearn: 0.0129716\ttotal: 9.36s\tremaining: 3.41s\n",
      "733:\tlearn: 0.0129483\ttotal: 9.38s\tremaining: 3.4s\n",
      "734:\tlearn: 0.0129214\ttotal: 9.39s\tremaining: 3.39s\n",
      "735:\tlearn: 0.0129093\ttotal: 9.4s\tremaining: 3.37s\n",
      "736:\tlearn: 0.0128778\ttotal: 9.42s\tremaining: 3.36s\n",
      "737:\tlearn: 0.0128525\ttotal: 9.43s\tremaining: 3.35s\n",
      "738:\tlearn: 0.0128265\ttotal: 9.45s\tremaining: 3.33s\n",
      "739:\tlearn: 0.0128078\ttotal: 9.46s\tremaining: 3.32s\n",
      "740:\tlearn: 0.0127823\ttotal: 9.47s\tremaining: 3.31s\n",
      "741:\tlearn: 0.0127562\ttotal: 9.49s\tremaining: 3.3s\n",
      "742:\tlearn: 0.0127151\ttotal: 9.5s\tremaining: 3.29s\n",
      "743:\tlearn: 0.0126877\ttotal: 9.51s\tremaining: 3.27s\n",
      "744:\tlearn: 0.0126609\ttotal: 9.53s\tremaining: 3.26s\n",
      "745:\tlearn: 0.0126381\ttotal: 9.54s\tremaining: 3.25s\n",
      "746:\tlearn: 0.0126136\ttotal: 9.55s\tremaining: 3.23s\n",
      "747:\tlearn: 0.0126009\ttotal: 9.56s\tremaining: 3.22s\n",
      "748:\tlearn: 0.0125831\ttotal: 9.58s\tremaining: 3.21s\n",
      "749:\tlearn: 0.0125564\ttotal: 9.59s\tremaining: 3.2s\n",
      "750:\tlearn: 0.0125338\ttotal: 9.61s\tremaining: 3.19s\n",
      "751:\tlearn: 0.0125105\ttotal: 9.62s\tremaining: 3.17s\n",
      "752:\tlearn: 0.0124948\ttotal: 9.63s\tremaining: 3.16s\n",
      "753:\tlearn: 0.0124738\ttotal: 9.65s\tremaining: 3.15s\n",
      "754:\tlearn: 0.0124555\ttotal: 9.66s\tremaining: 3.13s\n",
      "755:\tlearn: 0.0124280\ttotal: 9.68s\tremaining: 3.12s\n",
      "756:\tlearn: 0.0124102\ttotal: 9.69s\tremaining: 3.11s\n",
      "757:\tlearn: 0.0123965\ttotal: 9.7s\tremaining: 3.1s\n",
      "758:\tlearn: 0.0123785\ttotal: 9.71s\tremaining: 3.08s\n",
      "759:\tlearn: 0.0123664\ttotal: 9.72s\tremaining: 3.07s\n",
      "760:\tlearn: 0.0123399\ttotal: 9.74s\tremaining: 3.06s\n",
      "761:\tlearn: 0.0123145\ttotal: 9.75s\tremaining: 3.04s\n",
      "762:\tlearn: 0.0123029\ttotal: 9.76s\tremaining: 3.03s\n",
      "763:\tlearn: 0.0122870\ttotal: 9.78s\tremaining: 3.02s\n",
      "764:\tlearn: 0.0122739\ttotal: 9.79s\tremaining: 3.01s\n",
      "765:\tlearn: 0.0122563\ttotal: 9.8s\tremaining: 2.99s\n",
      "766:\tlearn: 0.0122281\ttotal: 9.81s\tremaining: 2.98s\n",
      "767:\tlearn: 0.0121974\ttotal: 9.83s\tremaining: 2.97s\n",
      "768:\tlearn: 0.0121747\ttotal: 9.84s\tremaining: 2.96s\n",
      "769:\tlearn: 0.0121560\ttotal: 9.86s\tremaining: 2.94s\n",
      "770:\tlearn: 0.0121197\ttotal: 9.87s\tremaining: 2.93s\n",
      "771:\tlearn: 0.0120977\ttotal: 9.88s\tremaining: 2.92s\n",
      "772:\tlearn: 0.0120786\ttotal: 9.9s\tremaining: 2.91s\n",
      "773:\tlearn: 0.0120481\ttotal: 9.91s\tremaining: 2.89s\n",
      "774:\tlearn: 0.0120342\ttotal: 9.92s\tremaining: 2.88s\n",
      "775:\tlearn: 0.0120148\ttotal: 9.93s\tremaining: 2.87s\n",
      "776:\tlearn: 0.0119841\ttotal: 9.95s\tremaining: 2.85s\n",
      "777:\tlearn: 0.0119573\ttotal: 9.96s\tremaining: 2.84s\n",
      "778:\tlearn: 0.0119467\ttotal: 9.97s\tremaining: 2.83s\n",
      "779:\tlearn: 0.0119218\ttotal: 9.99s\tremaining: 2.82s\n",
      "780:\tlearn: 0.0118912\ttotal: 10s\tremaining: 2.8s\n",
      "781:\tlearn: 0.0118575\ttotal: 10s\tremaining: 2.79s\n",
      "782:\tlearn: 0.0118321\ttotal: 10s\tremaining: 2.78s\n",
      "783:\tlearn: 0.0118163\ttotal: 10s\tremaining: 2.77s\n",
      "784:\tlearn: 0.0117951\ttotal: 10.1s\tremaining: 2.75s\n",
      "785:\tlearn: 0.0117728\ttotal: 10.1s\tremaining: 2.74s\n",
      "786:\tlearn: 0.0117545\ttotal: 10.1s\tremaining: 2.73s\n",
      "787:\tlearn: 0.0117367\ttotal: 10.1s\tremaining: 2.71s\n",
      "788:\tlearn: 0.0117167\ttotal: 10.1s\tremaining: 2.7s\n",
      "789:\tlearn: 0.0116963\ttotal: 10.1s\tremaining: 2.69s\n",
      "790:\tlearn: 0.0116746\ttotal: 10.1s\tremaining: 2.68s\n",
      "791:\tlearn: 0.0116576\ttotal: 10.1s\tremaining: 2.67s\n",
      "792:\tlearn: 0.0116399\ttotal: 10.2s\tremaining: 2.65s\n",
      "793:\tlearn: 0.0116210\ttotal: 10.2s\tremaining: 2.64s\n",
      "794:\tlearn: 0.0116092\ttotal: 10.2s\tremaining: 2.63s\n",
      "795:\tlearn: 0.0115884\ttotal: 10.2s\tremaining: 2.61s\n",
      "796:\tlearn: 0.0115633\ttotal: 10.2s\tremaining: 2.6s\n",
      "797:\tlearn: 0.0115420\ttotal: 10.2s\tremaining: 2.59s\n",
      "798:\tlearn: 0.0115260\ttotal: 10.2s\tremaining: 2.58s\n",
      "799:\tlearn: 0.0115056\ttotal: 10.3s\tremaining: 2.56s\n",
      "800:\tlearn: 0.0114948\ttotal: 10.3s\tremaining: 2.55s\n",
      "801:\tlearn: 0.0114782\ttotal: 10.3s\tremaining: 2.54s\n",
      "802:\tlearn: 0.0114661\ttotal: 10.3s\tremaining: 2.52s\n",
      "803:\tlearn: 0.0114438\ttotal: 10.3s\tremaining: 2.51s\n",
      "804:\tlearn: 0.0114329\ttotal: 10.3s\tremaining: 2.5s\n",
      "805:\tlearn: 0.0114120\ttotal: 10.3s\tremaining: 2.49s\n",
      "806:\tlearn: 0.0113894\ttotal: 10.3s\tremaining: 2.47s\n",
      "807:\tlearn: 0.0113779\ttotal: 10.4s\tremaining: 2.46s\n",
      "808:\tlearn: 0.0113552\ttotal: 10.4s\tremaining: 2.45s\n",
      "809:\tlearn: 0.0113311\ttotal: 10.4s\tremaining: 2.44s\n",
      "810:\tlearn: 0.0113087\ttotal: 10.4s\tremaining: 2.42s\n",
      "811:\tlearn: 0.0112845\ttotal: 10.4s\tremaining: 2.41s\n",
      "812:\tlearn: 0.0112683\ttotal: 10.4s\tremaining: 2.4s\n",
      "813:\tlearn: 0.0112534\ttotal: 10.4s\tremaining: 2.38s\n",
      "814:\tlearn: 0.0112307\ttotal: 10.5s\tremaining: 2.37s\n",
      "815:\tlearn: 0.0112151\ttotal: 10.5s\tremaining: 2.36s\n",
      "816:\tlearn: 0.0111906\ttotal: 10.5s\tremaining: 2.35s\n",
      "817:\tlearn: 0.0111643\ttotal: 10.5s\tremaining: 2.33s\n",
      "818:\tlearn: 0.0111485\ttotal: 10.5s\tremaining: 2.32s\n",
      "819:\tlearn: 0.0111404\ttotal: 10.5s\tremaining: 2.31s\n",
      "820:\tlearn: 0.0111316\ttotal: 10.5s\tremaining: 2.29s\n",
      "821:\tlearn: 0.0111170\ttotal: 10.5s\tremaining: 2.28s\n",
      "822:\tlearn: 0.0111014\ttotal: 10.6s\tremaining: 2.27s\n",
      "823:\tlearn: 0.0110883\ttotal: 10.6s\tremaining: 2.26s\n",
      "824:\tlearn: 0.0110720\ttotal: 10.6s\tremaining: 2.24s\n",
      "825:\tlearn: 0.0110532\ttotal: 10.6s\tremaining: 2.23s\n",
      "826:\tlearn: 0.0110357\ttotal: 10.6s\tremaining: 2.22s\n",
      "827:\tlearn: 0.0110191\ttotal: 10.6s\tremaining: 2.2s\n",
      "828:\tlearn: 0.0110058\ttotal: 10.6s\tremaining: 2.19s\n",
      "829:\tlearn: 0.0109937\ttotal: 10.6s\tremaining: 2.18s\n",
      "830:\tlearn: 0.0109817\ttotal: 10.6s\tremaining: 2.17s\n",
      "831:\tlearn: 0.0109608\ttotal: 10.7s\tremaining: 2.15s\n",
      "832:\tlearn: 0.0109521\ttotal: 10.7s\tremaining: 2.14s\n",
      "833:\tlearn: 0.0109434\ttotal: 10.7s\tremaining: 2.13s\n",
      "834:\tlearn: 0.0109211\ttotal: 10.7s\tremaining: 2.11s\n",
      "835:\tlearn: 0.0108918\ttotal: 10.7s\tremaining: 2.1s\n",
      "836:\tlearn: 0.0108679\ttotal: 10.7s\tremaining: 2.09s\n",
      "837:\tlearn: 0.0108532\ttotal: 10.7s\tremaining: 2.08s\n",
      "838:\tlearn: 0.0108495\ttotal: 10.8s\tremaining: 2.06s\n",
      "839:\tlearn: 0.0108349\ttotal: 10.8s\tremaining: 2.05s\n",
      "840:\tlearn: 0.0108211\ttotal: 10.8s\tremaining: 2.04s\n",
      "841:\tlearn: 0.0108011\ttotal: 10.8s\tremaining: 2.02s\n",
      "842:\tlearn: 0.0107828\ttotal: 10.8s\tremaining: 2.01s\n",
      "843:\tlearn: 0.0107679\ttotal: 10.8s\tremaining: 2s\n",
      "844:\tlearn: 0.0107523\ttotal: 10.8s\tremaining: 1.99s\n",
      "845:\tlearn: 0.0107391\ttotal: 10.8s\tremaining: 1.97s\n",
      "846:\tlearn: 0.0107123\ttotal: 10.9s\tremaining: 1.96s\n",
      "847:\tlearn: 0.0107018\ttotal: 10.9s\tremaining: 1.95s\n",
      "848:\tlearn: 0.0106862\ttotal: 10.9s\tremaining: 1.93s\n",
      "849:\tlearn: 0.0106760\ttotal: 10.9s\tremaining: 1.92s\n",
      "850:\tlearn: 0.0106690\ttotal: 10.9s\tremaining: 1.91s\n",
      "851:\tlearn: 0.0106580\ttotal: 10.9s\tremaining: 1.89s\n",
      "852:\tlearn: 0.0106379\ttotal: 10.9s\tremaining: 1.88s\n",
      "853:\tlearn: 0.0106156\ttotal: 10.9s\tremaining: 1.87s\n",
      "854:\tlearn: 0.0105935\ttotal: 10.9s\tremaining: 1.86s\n",
      "855:\tlearn: 0.0105747\ttotal: 11s\tremaining: 1.84s\n",
      "856:\tlearn: 0.0105492\ttotal: 11s\tremaining: 1.83s\n",
      "857:\tlearn: 0.0105277\ttotal: 11s\tremaining: 1.82s\n",
      "858:\tlearn: 0.0105113\ttotal: 11s\tremaining: 1.8s\n",
      "859:\tlearn: 0.0104962\ttotal: 11s\tremaining: 1.79s\n",
      "860:\tlearn: 0.0104813\ttotal: 11s\tremaining: 1.78s\n",
      "861:\tlearn: 0.0104644\ttotal: 11s\tremaining: 1.77s\n",
      "862:\tlearn: 0.0104440\ttotal: 11.1s\tremaining: 1.75s\n",
      "863:\tlearn: 0.0104203\ttotal: 11.1s\tremaining: 1.74s\n",
      "864:\tlearn: 0.0104074\ttotal: 11.1s\tremaining: 1.73s\n",
      "865:\tlearn: 0.0103923\ttotal: 11.1s\tremaining: 1.72s\n",
      "866:\tlearn: 0.0103693\ttotal: 11.1s\tremaining: 1.7s\n",
      "867:\tlearn: 0.0103473\ttotal: 11.1s\tremaining: 1.69s\n",
      "868:\tlearn: 0.0103290\ttotal: 11.1s\tremaining: 1.68s\n",
      "869:\tlearn: 0.0103063\ttotal: 11.1s\tremaining: 1.67s\n",
      "870:\tlearn: 0.0102973\ttotal: 11.2s\tremaining: 1.65s\n",
      "871:\tlearn: 0.0102867\ttotal: 11.2s\tremaining: 1.64s\n",
      "872:\tlearn: 0.0102767\ttotal: 11.2s\tremaining: 1.63s\n",
      "873:\tlearn: 0.0102673\ttotal: 11.2s\tremaining: 1.61s\n",
      "874:\tlearn: 0.0102566\ttotal: 11.2s\tremaining: 1.6s\n",
      "875:\tlearn: 0.0102375\ttotal: 11.2s\tremaining: 1.59s\n",
      "876:\tlearn: 0.0102266\ttotal: 11.2s\tremaining: 1.57s\n",
      "877:\tlearn: 0.0102052\ttotal: 11.2s\tremaining: 1.56s\n",
      "878:\tlearn: 0.0101899\ttotal: 11.3s\tremaining: 1.55s\n",
      "879:\tlearn: 0.0101709\ttotal: 11.3s\tremaining: 1.54s\n",
      "880:\tlearn: 0.0101537\ttotal: 11.3s\tremaining: 1.52s\n",
      "881:\tlearn: 0.0101426\ttotal: 11.3s\tremaining: 1.51s\n",
      "882:\tlearn: 0.0101263\ttotal: 11.3s\tremaining: 1.5s\n",
      "883:\tlearn: 0.0101049\ttotal: 11.3s\tremaining: 1.49s\n",
      "884:\tlearn: 0.0100923\ttotal: 11.3s\tremaining: 1.47s\n",
      "885:\tlearn: 0.0100827\ttotal: 11.3s\tremaining: 1.46s\n",
      "886:\tlearn: 0.0100680\ttotal: 11.4s\tremaining: 1.45s\n",
      "887:\tlearn: 0.0100559\ttotal: 11.4s\tremaining: 1.43s\n",
      "888:\tlearn: 0.0100448\ttotal: 11.4s\tremaining: 1.42s\n",
      "889:\tlearn: 0.0100248\ttotal: 11.4s\tremaining: 1.41s\n",
      "890:\tlearn: 0.0099983\ttotal: 11.4s\tremaining: 1.4s\n",
      "891:\tlearn: 0.0099862\ttotal: 11.4s\tremaining: 1.38s\n",
      "892:\tlearn: 0.0099766\ttotal: 11.4s\tremaining: 1.37s\n",
      "893:\tlearn: 0.0099617\ttotal: 11.4s\tremaining: 1.36s\n",
      "894:\tlearn: 0.0099422\ttotal: 11.5s\tremaining: 1.34s\n",
      "895:\tlearn: 0.0099178\ttotal: 11.5s\tremaining: 1.33s\n",
      "896:\tlearn: 0.0099052\ttotal: 11.5s\tremaining: 1.32s\n",
      "897:\tlearn: 0.0098976\ttotal: 11.5s\tremaining: 1.31s\n",
      "898:\tlearn: 0.0098857\ttotal: 11.5s\tremaining: 1.29s\n",
      "899:\tlearn: 0.0098686\ttotal: 11.5s\tremaining: 1.28s\n",
      "900:\tlearn: 0.0098581\ttotal: 11.5s\tremaining: 1.27s\n",
      "901:\tlearn: 0.0098474\ttotal: 11.5s\tremaining: 1.25s\n",
      "902:\tlearn: 0.0098351\ttotal: 11.6s\tremaining: 1.24s\n",
      "903:\tlearn: 0.0098193\ttotal: 11.6s\tremaining: 1.23s\n",
      "904:\tlearn: 0.0097995\ttotal: 11.6s\tremaining: 1.22s\n",
      "905:\tlearn: 0.0097881\ttotal: 11.6s\tremaining: 1.2s\n",
      "906:\tlearn: 0.0097616\ttotal: 11.6s\tremaining: 1.19s\n",
      "907:\tlearn: 0.0097555\ttotal: 11.6s\tremaining: 1.18s\n",
      "908:\tlearn: 0.0097483\ttotal: 11.6s\tremaining: 1.16s\n",
      "909:\tlearn: 0.0097407\ttotal: 11.6s\tremaining: 1.15s\n",
      "910:\tlearn: 0.0097196\ttotal: 11.7s\tremaining: 1.14s\n",
      "911:\tlearn: 0.0097063\ttotal: 11.7s\tremaining: 1.13s\n",
      "912:\tlearn: 0.0096924\ttotal: 11.7s\tremaining: 1.11s\n",
      "913:\tlearn: 0.0096754\ttotal: 11.7s\tremaining: 1.1s\n",
      "914:\tlearn: 0.0096608\ttotal: 11.7s\tremaining: 1.09s\n",
      "915:\tlearn: 0.0096483\ttotal: 11.7s\tremaining: 1.07s\n",
      "916:\tlearn: 0.0096386\ttotal: 11.7s\tremaining: 1.06s\n",
      "917:\tlearn: 0.0096250\ttotal: 11.7s\tremaining: 1.05s\n",
      "918:\tlearn: 0.0096130\ttotal: 11.8s\tremaining: 1.04s\n",
      "919:\tlearn: 0.0095927\ttotal: 11.8s\tremaining: 1.02s\n",
      "920:\tlearn: 0.0095694\ttotal: 11.8s\tremaining: 1.01s\n",
      "921:\tlearn: 0.0095541\ttotal: 11.8s\tremaining: 998ms\n",
      "922:\tlearn: 0.0095324\ttotal: 11.8s\tremaining: 986ms\n",
      "923:\tlearn: 0.0095219\ttotal: 11.8s\tremaining: 973ms\n",
      "924:\tlearn: 0.0095110\ttotal: 11.8s\tremaining: 960ms\n",
      "925:\tlearn: 0.0095014\ttotal: 11.8s\tremaining: 947ms\n",
      "926:\tlearn: 0.0094894\ttotal: 11.9s\tremaining: 934ms\n",
      "927:\tlearn: 0.0094761\ttotal: 11.9s\tremaining: 921ms\n",
      "928:\tlearn: 0.0094688\ttotal: 11.9s\tremaining: 908ms\n",
      "929:\tlearn: 0.0094534\ttotal: 11.9s\tremaining: 896ms\n",
      "930:\tlearn: 0.0094372\ttotal: 11.9s\tremaining: 883ms\n",
      "931:\tlearn: 0.0094211\ttotal: 11.9s\tremaining: 870ms\n",
      "932:\tlearn: 0.0094072\ttotal: 11.9s\tremaining: 857ms\n",
      "933:\tlearn: 0.0093955\ttotal: 11.9s\tremaining: 844ms\n",
      "934:\tlearn: 0.0093842\ttotal: 12s\tremaining: 831ms\n",
      "935:\tlearn: 0.0093690\ttotal: 12s\tremaining: 818ms\n",
      "936:\tlearn: 0.0093501\ttotal: 12s\tremaining: 806ms\n",
      "937:\tlearn: 0.0093412\ttotal: 12s\tremaining: 793ms\n",
      "938:\tlearn: 0.0093284\ttotal: 12s\tremaining: 780ms\n",
      "939:\tlearn: 0.0093153\ttotal: 12s\tremaining: 767ms\n",
      "940:\tlearn: 0.0093035\ttotal: 12s\tremaining: 754ms\n",
      "941:\tlearn: 0.0092848\ttotal: 12s\tremaining: 742ms\n",
      "942:\tlearn: 0.0092789\ttotal: 12.1s\tremaining: 729ms\n",
      "943:\tlearn: 0.0092729\ttotal: 12.1s\tremaining: 716ms\n",
      "944:\tlearn: 0.0092570\ttotal: 12.1s\tremaining: 703ms\n",
      "945:\tlearn: 0.0092469\ttotal: 12.1s\tremaining: 690ms\n",
      "946:\tlearn: 0.0092299\ttotal: 12.1s\tremaining: 678ms\n",
      "947:\tlearn: 0.0092170\ttotal: 12.1s\tremaining: 665ms\n",
      "948:\tlearn: 0.0091970\ttotal: 12.1s\tremaining: 652ms\n",
      "949:\tlearn: 0.0091880\ttotal: 12.1s\tremaining: 639ms\n",
      "950:\tlearn: 0.0091816\ttotal: 12.2s\tremaining: 626ms\n",
      "951:\tlearn: 0.0091647\ttotal: 12.2s\tremaining: 613ms\n",
      "952:\tlearn: 0.0091561\ttotal: 12.2s\tremaining: 601ms\n",
      "953:\tlearn: 0.0091407\ttotal: 12.2s\tremaining: 588ms\n",
      "954:\tlearn: 0.0091233\ttotal: 12.2s\tremaining: 575ms\n",
      "955:\tlearn: 0.0091059\ttotal: 12.2s\tremaining: 562ms\n",
      "956:\tlearn: 0.0090935\ttotal: 12.2s\tremaining: 550ms\n",
      "957:\tlearn: 0.0090814\ttotal: 12.2s\tremaining: 537ms\n",
      "958:\tlearn: 0.0090676\ttotal: 12.3s\tremaining: 524ms\n",
      "959:\tlearn: 0.0090532\ttotal: 12.3s\tremaining: 511ms\n",
      "960:\tlearn: 0.0090368\ttotal: 12.3s\tremaining: 498ms\n",
      "961:\tlearn: 0.0090308\ttotal: 12.3s\tremaining: 486ms\n",
      "962:\tlearn: 0.0090082\ttotal: 12.3s\tremaining: 473ms\n",
      "963:\tlearn: 0.0089912\ttotal: 12.3s\tremaining: 460ms\n",
      "964:\tlearn: 0.0089792\ttotal: 12.3s\tremaining: 447ms\n",
      "965:\tlearn: 0.0089666\ttotal: 12.3s\tremaining: 434ms\n",
      "966:\tlearn: 0.0089490\ttotal: 12.4s\tremaining: 422ms\n",
      "967:\tlearn: 0.0089344\ttotal: 12.4s\tremaining: 409ms\n",
      "968:\tlearn: 0.0089225\ttotal: 12.4s\tremaining: 396ms\n",
      "969:\tlearn: 0.0089116\ttotal: 12.4s\tremaining: 383ms\n",
      "970:\tlearn: 0.0088999\ttotal: 12.4s\tremaining: 371ms\n",
      "971:\tlearn: 0.0088852\ttotal: 12.4s\tremaining: 358ms\n",
      "972:\tlearn: 0.0088685\ttotal: 12.4s\tremaining: 345ms\n",
      "973:\tlearn: 0.0088508\ttotal: 12.4s\tremaining: 332ms\n",
      "974:\tlearn: 0.0088373\ttotal: 12.5s\tremaining: 320ms\n",
      "975:\tlearn: 0.0088260\ttotal: 12.5s\tremaining: 307ms\n",
      "976:\tlearn: 0.0088151\ttotal: 12.5s\tremaining: 294ms\n",
      "977:\tlearn: 0.0088050\ttotal: 12.5s\tremaining: 281ms\n",
      "978:\tlearn: 0.0087931\ttotal: 12.5s\tremaining: 268ms\n",
      "979:\tlearn: 0.0087801\ttotal: 12.5s\tremaining: 256ms\n",
      "980:\tlearn: 0.0087677\ttotal: 12.5s\tremaining: 243ms\n",
      "981:\tlearn: 0.0087579\ttotal: 12.6s\tremaining: 230ms\n",
      "982:\tlearn: 0.0087452\ttotal: 12.6s\tremaining: 217ms\n",
      "983:\tlearn: 0.0087361\ttotal: 12.6s\tremaining: 205ms\n",
      "984:\tlearn: 0.0087269\ttotal: 12.6s\tremaining: 192ms\n",
      "985:\tlearn: 0.0087154\ttotal: 12.6s\tremaining: 179ms\n",
      "986:\tlearn: 0.0087071\ttotal: 12.6s\tremaining: 166ms\n",
      "987:\tlearn: 0.0086979\ttotal: 12.6s\tremaining: 153ms\n",
      "988:\tlearn: 0.0086830\ttotal: 12.6s\tremaining: 141ms\n",
      "989:\tlearn: 0.0086756\ttotal: 12.7s\tremaining: 128ms\n",
      "990:\tlearn: 0.0086672\ttotal: 12.7s\tremaining: 115ms\n",
      "991:\tlearn: 0.0086551\ttotal: 12.7s\tremaining: 102ms\n",
      "992:\tlearn: 0.0086378\ttotal: 12.7s\tremaining: 89.5ms\n",
      "993:\tlearn: 0.0086226\ttotal: 12.7s\tremaining: 76.7ms\n",
      "994:\tlearn: 0.0086119\ttotal: 12.7s\tremaining: 63.9ms\n",
      "995:\tlearn: 0.0086009\ttotal: 12.7s\tremaining: 51.1ms\n",
      "996:\tlearn: 0.0085865\ttotal: 12.7s\tremaining: 38.3ms\n",
      "997:\tlearn: 0.0085787\ttotal: 12.8s\tremaining: 25.6ms\n",
      "998:\tlearn: 0.0085638\ttotal: 12.8s\tremaining: 12.8ms\n",
      "999:\tlearn: 0.0085511\ttotal: 12.8s\tremaining: 0us\n",
      "CatBoost(YANDEX)\n",
      "Time used:  13.819578886032104\n",
      "F1 мера для тренировочных данных  1.0\n",
      "F1 мера для тестовых данных  0.9773978751765855\n"
     ]
    },
    {
     "data": {
      "application/vnd.plotly.v1+json": {
       "data": [
        {
         "coloraxis": "coloraxis",
         "name": "0",
         "texttemplate": "%{z}",
         "z": [
          [
           31,
           0,
           0,
           0,
           0,
           0,
           0,
           0,
           0,
           0
          ],
          [
           0,
           34,
           0,
           0,
           0,
           0,
           0,
           0,
           0,
           0
          ],
          [
           0,
           0,
           37,
           0,
           0,
           0,
           0,
           0,
           0,
           0
          ],
          [
           0,
           0,
           0,
           32,
           0,
           0,
           0,
           0,
           0,
           0
          ],
          [
           0,
           0,
           0,
           0,
           36,
           0,
           0,
           0,
           0,
           0
          ],
          [
           0,
           0,
           0,
           0,
           0,
           38,
           0,
           0,
           0,
           0
          ],
          [
           1,
           1,
           0,
           0,
           0,
           0,
           50,
           0,
           0,
           0
          ],
          [
           0,
           0,
           0,
           0,
           0,
           0,
           0,
           32,
           0,
           0
          ],
          [
           0,
           2,
           1,
           0,
           0,
           1,
           0,
           0,
           29,
           0
          ],
          [
           0,
           0,
           0,
           1,
           0,
           1,
           0,
           0,
           0,
           33
          ]
         ],
         "type": "heatmap",
         "xaxis": "x",
         "yaxis": "y",
         "hovertemplate": "x: %{x}<br>y: %{y}<br>color: %{z}<extra></extra>"
        }
       ],
       "layout": {
        "template": {
         "data": {
          "histogram2dcontour": [
           {
            "type": "histogram2dcontour",
            "colorbar": {
             "outlinewidth": 0,
             "ticks": ""
            },
            "colorscale": [
             [
              0.0,
              "#0d0887"
             ],
             [
              0.1111111111111111,
              "#46039f"
             ],
             [
              0.2222222222222222,
              "#7201a8"
             ],
             [
              0.3333333333333333,
              "#9c179e"
             ],
             [
              0.4444444444444444,
              "#bd3786"
             ],
             [
              0.5555555555555556,
              "#d8576b"
             ],
             [
              0.6666666666666666,
              "#ed7953"
             ],
             [
              0.7777777777777778,
              "#fb9f3a"
             ],
             [
              0.8888888888888888,
              "#fdca26"
             ],
             [
              1.0,
              "#f0f921"
             ]
            ]
           }
          ],
          "choropleth": [
           {
            "type": "choropleth",
            "colorbar": {
             "outlinewidth": 0,
             "ticks": ""
            }
           }
          ],
          "histogram2d": [
           {
            "type": "histogram2d",
            "colorbar": {
             "outlinewidth": 0,
             "ticks": ""
            },
            "colorscale": [
             [
              0.0,
              "#0d0887"
             ],
             [
              0.1111111111111111,
              "#46039f"
             ],
             [
              0.2222222222222222,
              "#7201a8"
             ],
             [
              0.3333333333333333,
              "#9c179e"
             ],
             [
              0.4444444444444444,
              "#bd3786"
             ],
             [
              0.5555555555555556,
              "#d8576b"
             ],
             [
              0.6666666666666666,
              "#ed7953"
             ],
             [
              0.7777777777777778,
              "#fb9f3a"
             ],
             [
              0.8888888888888888,
              "#fdca26"
             ],
             [
              1.0,
              "#f0f921"
             ]
            ]
           }
          ],
          "heatmap": [
           {
            "type": "heatmap",
            "colorbar": {
             "outlinewidth": 0,
             "ticks": ""
            },
            "colorscale": [
             [
              0.0,
              "#0d0887"
             ],
             [
              0.1111111111111111,
              "#46039f"
             ],
             [
              0.2222222222222222,
              "#7201a8"
             ],
             [
              0.3333333333333333,
              "#9c179e"
             ],
             [
              0.4444444444444444,
              "#bd3786"
             ],
             [
              0.5555555555555556,
              "#d8576b"
             ],
             [
              0.6666666666666666,
              "#ed7953"
             ],
             [
              0.7777777777777778,
              "#fb9f3a"
             ],
             [
              0.8888888888888888,
              "#fdca26"
             ],
             [
              1.0,
              "#f0f921"
             ]
            ]
           }
          ],
          "heatmapgl": [
           {
            "type": "heatmapgl",
            "colorbar": {
             "outlinewidth": 0,
             "ticks": ""
            },
            "colorscale": [
             [
              0.0,
              "#0d0887"
             ],
             [
              0.1111111111111111,
              "#46039f"
             ],
             [
              0.2222222222222222,
              "#7201a8"
             ],
             [
              0.3333333333333333,
              "#9c179e"
             ],
             [
              0.4444444444444444,
              "#bd3786"
             ],
             [
              0.5555555555555556,
              "#d8576b"
             ],
             [
              0.6666666666666666,
              "#ed7953"
             ],
             [
              0.7777777777777778,
              "#fb9f3a"
             ],
             [
              0.8888888888888888,
              "#fdca26"
             ],
             [
              1.0,
              "#f0f921"
             ]
            ]
           }
          ],
          "contourcarpet": [
           {
            "type": "contourcarpet",
            "colorbar": {
             "outlinewidth": 0,
             "ticks": ""
            }
           }
          ],
          "contour": [
           {
            "type": "contour",
            "colorbar": {
             "outlinewidth": 0,
             "ticks": ""
            },
            "colorscale": [
             [
              0.0,
              "#0d0887"
             ],
             [
              0.1111111111111111,
              "#46039f"
             ],
             [
              0.2222222222222222,
              "#7201a8"
             ],
             [
              0.3333333333333333,
              "#9c179e"
             ],
             [
              0.4444444444444444,
              "#bd3786"
             ],
             [
              0.5555555555555556,
              "#d8576b"
             ],
             [
              0.6666666666666666,
              "#ed7953"
             ],
             [
              0.7777777777777778,
              "#fb9f3a"
             ],
             [
              0.8888888888888888,
              "#fdca26"
             ],
             [
              1.0,
              "#f0f921"
             ]
            ]
           }
          ],
          "surface": [
           {
            "type": "surface",
            "colorbar": {
             "outlinewidth": 0,
             "ticks": ""
            },
            "colorscale": [
             [
              0.0,
              "#0d0887"
             ],
             [
              0.1111111111111111,
              "#46039f"
             ],
             [
              0.2222222222222222,
              "#7201a8"
             ],
             [
              0.3333333333333333,
              "#9c179e"
             ],
             [
              0.4444444444444444,
              "#bd3786"
             ],
             [
              0.5555555555555556,
              "#d8576b"
             ],
             [
              0.6666666666666666,
              "#ed7953"
             ],
             [
              0.7777777777777778,
              "#fb9f3a"
             ],
             [
              0.8888888888888888,
              "#fdca26"
             ],
             [
              1.0,
              "#f0f921"
             ]
            ]
           }
          ],
          "mesh3d": [
           {
            "type": "mesh3d",
            "colorbar": {
             "outlinewidth": 0,
             "ticks": ""
            }
           }
          ],
          "scatter": [
           {
            "fillpattern": {
             "fillmode": "overlay",
             "size": 10,
             "solidity": 0.2
            },
            "type": "scatter"
           }
          ],
          "parcoords": [
           {
            "type": "parcoords",
            "line": {
             "colorbar": {
              "outlinewidth": 0,
              "ticks": ""
             }
            }
           }
          ],
          "scatterpolargl": [
           {
            "type": "scatterpolargl",
            "marker": {
             "colorbar": {
              "outlinewidth": 0,
              "ticks": ""
             }
            }
           }
          ],
          "bar": [
           {
            "error_x": {
             "color": "#2a3f5f"
            },
            "error_y": {
             "color": "#2a3f5f"
            },
            "marker": {
             "line": {
              "color": "#E5ECF6",
              "width": 0.5
             },
             "pattern": {
              "fillmode": "overlay",
              "size": 10,
              "solidity": 0.2
             }
            },
            "type": "bar"
           }
          ],
          "scattergeo": [
           {
            "type": "scattergeo",
            "marker": {
             "colorbar": {
              "outlinewidth": 0,
              "ticks": ""
             }
            }
           }
          ],
          "scatterpolar": [
           {
            "type": "scatterpolar",
            "marker": {
             "colorbar": {
              "outlinewidth": 0,
              "ticks": ""
             }
            }
           }
          ],
          "histogram": [
           {
            "marker": {
             "pattern": {
              "fillmode": "overlay",
              "size": 10,
              "solidity": 0.2
             }
            },
            "type": "histogram"
           }
          ],
          "scattergl": [
           {
            "type": "scattergl",
            "marker": {
             "colorbar": {
              "outlinewidth": 0,
              "ticks": ""
             }
            }
           }
          ],
          "scatter3d": [
           {
            "type": "scatter3d",
            "line": {
             "colorbar": {
              "outlinewidth": 0,
              "ticks": ""
             }
            },
            "marker": {
             "colorbar": {
              "outlinewidth": 0,
              "ticks": ""
             }
            }
           }
          ],
          "scattermapbox": [
           {
            "type": "scattermapbox",
            "marker": {
             "colorbar": {
              "outlinewidth": 0,
              "ticks": ""
             }
            }
           }
          ],
          "scatterternary": [
           {
            "type": "scatterternary",
            "marker": {
             "colorbar": {
              "outlinewidth": 0,
              "ticks": ""
             }
            }
           }
          ],
          "scattercarpet": [
           {
            "type": "scattercarpet",
            "marker": {
             "colorbar": {
              "outlinewidth": 0,
              "ticks": ""
             }
            }
           }
          ],
          "carpet": [
           {
            "aaxis": {
             "endlinecolor": "#2a3f5f",
             "gridcolor": "white",
             "linecolor": "white",
             "minorgridcolor": "white",
             "startlinecolor": "#2a3f5f"
            },
            "baxis": {
             "endlinecolor": "#2a3f5f",
             "gridcolor": "white",
             "linecolor": "white",
             "minorgridcolor": "white",
             "startlinecolor": "#2a3f5f"
            },
            "type": "carpet"
           }
          ],
          "table": [
           {
            "cells": {
             "fill": {
              "color": "#EBF0F8"
             },
             "line": {
              "color": "white"
             }
            },
            "header": {
             "fill": {
              "color": "#C8D4E3"
             },
             "line": {
              "color": "white"
             }
            },
            "type": "table"
           }
          ],
          "barpolar": [
           {
            "marker": {
             "line": {
              "color": "#E5ECF6",
              "width": 0.5
             },
             "pattern": {
              "fillmode": "overlay",
              "size": 10,
              "solidity": 0.2
             }
            },
            "type": "barpolar"
           }
          ],
          "pie": [
           {
            "automargin": true,
            "type": "pie"
           }
          ]
         },
         "layout": {
          "autotypenumbers": "strict",
          "colorway": [
           "#636efa",
           "#EF553B",
           "#00cc96",
           "#ab63fa",
           "#FFA15A",
           "#19d3f3",
           "#FF6692",
           "#B6E880",
           "#FF97FF",
           "#FECB52"
          ],
          "font": {
           "color": "#2a3f5f"
          },
          "hovermode": "closest",
          "hoverlabel": {
           "align": "left"
          },
          "paper_bgcolor": "white",
          "plot_bgcolor": "#E5ECF6",
          "polar": {
           "bgcolor": "#E5ECF6",
           "angularaxis": {
            "gridcolor": "white",
            "linecolor": "white",
            "ticks": ""
           },
           "radialaxis": {
            "gridcolor": "white",
            "linecolor": "white",
            "ticks": ""
           }
          },
          "ternary": {
           "bgcolor": "#E5ECF6",
           "aaxis": {
            "gridcolor": "white",
            "linecolor": "white",
            "ticks": ""
           },
           "baxis": {
            "gridcolor": "white",
            "linecolor": "white",
            "ticks": ""
           },
           "caxis": {
            "gridcolor": "white",
            "linecolor": "white",
            "ticks": ""
           }
          },
          "coloraxis": {
           "colorbar": {
            "outlinewidth": 0,
            "ticks": ""
           }
          },
          "colorscale": {
           "sequential": [
            [
             0.0,
             "#0d0887"
            ],
            [
             0.1111111111111111,
             "#46039f"
            ],
            [
             0.2222222222222222,
             "#7201a8"
            ],
            [
             0.3333333333333333,
             "#9c179e"
            ],
            [
             0.4444444444444444,
             "#bd3786"
            ],
            [
             0.5555555555555556,
             "#d8576b"
            ],
            [
             0.6666666666666666,
             "#ed7953"
            ],
            [
             0.7777777777777778,
             "#fb9f3a"
            ],
            [
             0.8888888888888888,
             "#fdca26"
            ],
            [
             1.0,
             "#f0f921"
            ]
           ],
           "sequentialminus": [
            [
             0.0,
             "#0d0887"
            ],
            [
             0.1111111111111111,
             "#46039f"
            ],
            [
             0.2222222222222222,
             "#7201a8"
            ],
            [
             0.3333333333333333,
             "#9c179e"
            ],
            [
             0.4444444444444444,
             "#bd3786"
            ],
            [
             0.5555555555555556,
             "#d8576b"
            ],
            [
             0.6666666666666666,
             "#ed7953"
            ],
            [
             0.7777777777777778,
             "#fb9f3a"
            ],
            [
             0.8888888888888888,
             "#fdca26"
            ],
            [
             1.0,
             "#f0f921"
            ]
           ],
           "diverging": [
            [
             0,
             "#8e0152"
            ],
            [
             0.1,
             "#c51b7d"
            ],
            [
             0.2,
             "#de77ae"
            ],
            [
             0.3,
             "#f1b6da"
            ],
            [
             0.4,
             "#fde0ef"
            ],
            [
             0.5,
             "#f7f7f7"
            ],
            [
             0.6,
             "#e6f5d0"
            ],
            [
             0.7,
             "#b8e186"
            ],
            [
             0.8,
             "#7fbc41"
            ],
            [
             0.9,
             "#4d9221"
            ],
            [
             1,
             "#276419"
            ]
           ]
          },
          "xaxis": {
           "gridcolor": "white",
           "linecolor": "white",
           "ticks": "",
           "title": {
            "standoff": 15
           },
           "zerolinecolor": "white",
           "automargin": true,
           "zerolinewidth": 2
          },
          "yaxis": {
           "gridcolor": "white",
           "linecolor": "white",
           "ticks": "",
           "title": {
            "standoff": 15
           },
           "zerolinecolor": "white",
           "automargin": true,
           "zerolinewidth": 2
          },
          "scene": {
           "xaxis": {
            "backgroundcolor": "#E5ECF6",
            "gridcolor": "white",
            "linecolor": "white",
            "showbackground": true,
            "ticks": "",
            "zerolinecolor": "white",
            "gridwidth": 2
           },
           "yaxis": {
            "backgroundcolor": "#E5ECF6",
            "gridcolor": "white",
            "linecolor": "white",
            "showbackground": true,
            "ticks": "",
            "zerolinecolor": "white",
            "gridwidth": 2
           },
           "zaxis": {
            "backgroundcolor": "#E5ECF6",
            "gridcolor": "white",
            "linecolor": "white",
            "showbackground": true,
            "ticks": "",
            "zerolinecolor": "white",
            "gridwidth": 2
           }
          },
          "shapedefaults": {
           "line": {
            "color": "#2a3f5f"
           }
          },
          "annotationdefaults": {
           "arrowcolor": "#2a3f5f",
           "arrowhead": 0,
           "arrowwidth": 1
          },
          "geo": {
           "bgcolor": "white",
           "landcolor": "#E5ECF6",
           "subunitcolor": "white",
           "showland": true,
           "showlakes": true,
           "lakecolor": "white"
          },
          "title": {
           "x": 0.05
          },
          "mapbox": {
           "style": "light"
          }
         }
        },
        "xaxis": {
         "anchor": "y",
         "domain": [
          0.0,
          1.0
         ],
         "scaleanchor": "y",
         "constrain": "domain",
         "title": {
          "text": "Target"
         }
        },
        "yaxis": {
         "anchor": "x",
         "domain": [
          0.0,
          1.0
         ],
         "autorange": "reversed",
         "constrain": "domain",
         "title": {
          "text": "Prediction"
         }
        },
        "coloraxis": {
         "colorscale": [
          [
           0.0,
           "#0d0887"
          ],
          [
           0.1111111111111111,
           "#46039f"
          ],
          [
           0.2222222222222222,
           "#7201a8"
          ],
          [
           0.3333333333333333,
           "#9c179e"
          ],
          [
           0.4444444444444444,
           "#bd3786"
          ],
          [
           0.5555555555555556,
           "#d8576b"
          ],
          [
           0.6666666666666666,
           "#ed7953"
          ],
          [
           0.7777777777777778,
           "#fb9f3a"
          ],
          [
           0.8888888888888888,
           "#fdca26"
          ],
          [
           1.0,
           "#f0f921"
          ]
         ]
        },
        "margin": {
         "t": 60
        }
       },
       "config": {
        "plotlyServerURL": "https://plot.ly"
       }
      },
      "text/html": "<div>                            <div id=\"f57fa52a-f931-4753-8462-81af41c01fb2\" class=\"plotly-graph-div\" style=\"height:525px; width:100%;\"></div>            <script type=\"text/javascript\">                require([\"plotly\"], function(Plotly) {                    window.PLOTLYENV=window.PLOTLYENV || {};                                    if (document.getElementById(\"f57fa52a-f931-4753-8462-81af41c01fb2\")) {                    Plotly.newPlot(                        \"f57fa52a-f931-4753-8462-81af41c01fb2\",                        [{\"coloraxis\":\"coloraxis\",\"name\":\"0\",\"texttemplate\":\"%{z}\",\"z\":[[31,0,0,0,0,0,0,0,0,0],[0,34,0,0,0,0,0,0,0,0],[0,0,37,0,0,0,0,0,0,0],[0,0,0,32,0,0,0,0,0,0],[0,0,0,0,36,0,0,0,0,0],[0,0,0,0,0,38,0,0,0,0],[1,1,0,0,0,0,50,0,0,0],[0,0,0,0,0,0,0,32,0,0],[0,2,1,0,0,1,0,0,29,0],[0,0,0,1,0,1,0,0,0,33]],\"type\":\"heatmap\",\"xaxis\":\"x\",\"yaxis\":\"y\",\"hovertemplate\":\"x: %{x}<br>y: %{y}<br>color: %{z}<extra></extra>\"}],                        {\"template\":{\"data\":{\"histogram2dcontour\":[{\"type\":\"histogram2dcontour\",\"colorbar\":{\"outlinewidth\":0,\"ticks\":\"\"},\"colorscale\":[[0.0,\"#0d0887\"],[0.1111111111111111,\"#46039f\"],[0.2222222222222222,\"#7201a8\"],[0.3333333333333333,\"#9c179e\"],[0.4444444444444444,\"#bd3786\"],[0.5555555555555556,\"#d8576b\"],[0.6666666666666666,\"#ed7953\"],[0.7777777777777778,\"#fb9f3a\"],[0.8888888888888888,\"#fdca26\"],[1.0,\"#f0f921\"]]}],\"choropleth\":[{\"type\":\"choropleth\",\"colorbar\":{\"outlinewidth\":0,\"ticks\":\"\"}}],\"histogram2d\":[{\"type\":\"histogram2d\",\"colorbar\":{\"outlinewidth\":0,\"ticks\":\"\"},\"colorscale\":[[0.0,\"#0d0887\"],[0.1111111111111111,\"#46039f\"],[0.2222222222222222,\"#7201a8\"],[0.3333333333333333,\"#9c179e\"],[0.4444444444444444,\"#bd3786\"],[0.5555555555555556,\"#d8576b\"],[0.6666666666666666,\"#ed7953\"],[0.7777777777777778,\"#fb9f3a\"],[0.8888888888888888,\"#fdca26\"],[1.0,\"#f0f921\"]]}],\"heatmap\":[{\"type\":\"heatmap\",\"colorbar\":{\"outlinewidth\":0,\"ticks\":\"\"},\"colorscale\":[[0.0,\"#0d0887\"],[0.1111111111111111,\"#46039f\"],[0.2222222222222222,\"#7201a8\"],[0.3333333333333333,\"#9c179e\"],[0.4444444444444444,\"#bd3786\"],[0.5555555555555556,\"#d8576b\"],[0.6666666666666666,\"#ed7953\"],[0.7777777777777778,\"#fb9f3a\"],[0.8888888888888888,\"#fdca26\"],[1.0,\"#f0f921\"]]}],\"heatmapgl\":[{\"type\":\"heatmapgl\",\"colorbar\":{\"outlinewidth\":0,\"ticks\":\"\"},\"colorscale\":[[0.0,\"#0d0887\"],[0.1111111111111111,\"#46039f\"],[0.2222222222222222,\"#7201a8\"],[0.3333333333333333,\"#9c179e\"],[0.4444444444444444,\"#bd3786\"],[0.5555555555555556,\"#d8576b\"],[0.6666666666666666,\"#ed7953\"],[0.7777777777777778,\"#fb9f3a\"],[0.8888888888888888,\"#fdca26\"],[1.0,\"#f0f921\"]]}],\"contourcarpet\":[{\"type\":\"contourcarpet\",\"colorbar\":{\"outlinewidth\":0,\"ticks\":\"\"}}],\"contour\":[{\"type\":\"contour\",\"colorbar\":{\"outlinewidth\":0,\"ticks\":\"\"},\"colorscale\":[[0.0,\"#0d0887\"],[0.1111111111111111,\"#46039f\"],[0.2222222222222222,\"#7201a8\"],[0.3333333333333333,\"#9c179e\"],[0.4444444444444444,\"#bd3786\"],[0.5555555555555556,\"#d8576b\"],[0.6666666666666666,\"#ed7953\"],[0.7777777777777778,\"#fb9f3a\"],[0.8888888888888888,\"#fdca26\"],[1.0,\"#f0f921\"]]}],\"surface\":[{\"type\":\"surface\",\"colorbar\":{\"outlinewidth\":0,\"ticks\":\"\"},\"colorscale\":[[0.0,\"#0d0887\"],[0.1111111111111111,\"#46039f\"],[0.2222222222222222,\"#7201a8\"],[0.3333333333333333,\"#9c179e\"],[0.4444444444444444,\"#bd3786\"],[0.5555555555555556,\"#d8576b\"],[0.6666666666666666,\"#ed7953\"],[0.7777777777777778,\"#fb9f3a\"],[0.8888888888888888,\"#fdca26\"],[1.0,\"#f0f921\"]]}],\"mesh3d\":[{\"type\":\"mesh3d\",\"colorbar\":{\"outlinewidth\":0,\"ticks\":\"\"}}],\"scatter\":[{\"fillpattern\":{\"fillmode\":\"overlay\",\"size\":10,\"solidity\":0.2},\"type\":\"scatter\"}],\"parcoords\":[{\"type\":\"parcoords\",\"line\":{\"colorbar\":{\"outlinewidth\":0,\"ticks\":\"\"}}}],\"scatterpolargl\":[{\"type\":\"scatterpolargl\",\"marker\":{\"colorbar\":{\"outlinewidth\":0,\"ticks\":\"\"}}}],\"bar\":[{\"error_x\":{\"color\":\"#2a3f5f\"},\"error_y\":{\"color\":\"#2a3f5f\"},\"marker\":{\"line\":{\"color\":\"#E5ECF6\",\"width\":0.5},\"pattern\":{\"fillmode\":\"overlay\",\"size\":10,\"solidity\":0.2}},\"type\":\"bar\"}],\"scattergeo\":[{\"type\":\"scattergeo\",\"marker\":{\"colorbar\":{\"outlinewidth\":0,\"ticks\":\"\"}}}],\"scatterpolar\":[{\"type\":\"scatterpolar\",\"marker\":{\"colorbar\":{\"outlinewidth\":0,\"ticks\":\"\"}}}],\"histogram\":[{\"marker\":{\"pattern\":{\"fillmode\":\"overlay\",\"size\":10,\"solidity\":0.2}},\"type\":\"histogram\"}],\"scattergl\":[{\"type\":\"scattergl\",\"marker\":{\"colorbar\":{\"outlinewidth\":0,\"ticks\":\"\"}}}],\"scatter3d\":[{\"type\":\"scatter3d\",\"line\":{\"colorbar\":{\"outlinewidth\":0,\"ticks\":\"\"}},\"marker\":{\"colorbar\":{\"outlinewidth\":0,\"ticks\":\"\"}}}],\"scattermapbox\":[{\"type\":\"scattermapbox\",\"marker\":{\"colorbar\":{\"outlinewidth\":0,\"ticks\":\"\"}}}],\"scatterternary\":[{\"type\":\"scatterternary\",\"marker\":{\"colorbar\":{\"outlinewidth\":0,\"ticks\":\"\"}}}],\"scattercarpet\":[{\"type\":\"scattercarpet\",\"marker\":{\"colorbar\":{\"outlinewidth\":0,\"ticks\":\"\"}}}],\"carpet\":[{\"aaxis\":{\"endlinecolor\":\"#2a3f5f\",\"gridcolor\":\"white\",\"linecolor\":\"white\",\"minorgridcolor\":\"white\",\"startlinecolor\":\"#2a3f5f\"},\"baxis\":{\"endlinecolor\":\"#2a3f5f\",\"gridcolor\":\"white\",\"linecolor\":\"white\",\"minorgridcolor\":\"white\",\"startlinecolor\":\"#2a3f5f\"},\"type\":\"carpet\"}],\"table\":[{\"cells\":{\"fill\":{\"color\":\"#EBF0F8\"},\"line\":{\"color\":\"white\"}},\"header\":{\"fill\":{\"color\":\"#C8D4E3\"},\"line\":{\"color\":\"white\"}},\"type\":\"table\"}],\"barpolar\":[{\"marker\":{\"line\":{\"color\":\"#E5ECF6\",\"width\":0.5},\"pattern\":{\"fillmode\":\"overlay\",\"size\":10,\"solidity\":0.2}},\"type\":\"barpolar\"}],\"pie\":[{\"automargin\":true,\"type\":\"pie\"}]},\"layout\":{\"autotypenumbers\":\"strict\",\"colorway\":[\"#636efa\",\"#EF553B\",\"#00cc96\",\"#ab63fa\",\"#FFA15A\",\"#19d3f3\",\"#FF6692\",\"#B6E880\",\"#FF97FF\",\"#FECB52\"],\"font\":{\"color\":\"#2a3f5f\"},\"hovermode\":\"closest\",\"hoverlabel\":{\"align\":\"left\"},\"paper_bgcolor\":\"white\",\"plot_bgcolor\":\"#E5ECF6\",\"polar\":{\"bgcolor\":\"#E5ECF6\",\"angularaxis\":{\"gridcolor\":\"white\",\"linecolor\":\"white\",\"ticks\":\"\"},\"radialaxis\":{\"gridcolor\":\"white\",\"linecolor\":\"white\",\"ticks\":\"\"}},\"ternary\":{\"bgcolor\":\"#E5ECF6\",\"aaxis\":{\"gridcolor\":\"white\",\"linecolor\":\"white\",\"ticks\":\"\"},\"baxis\":{\"gridcolor\":\"white\",\"linecolor\":\"white\",\"ticks\":\"\"},\"caxis\":{\"gridcolor\":\"white\",\"linecolor\":\"white\",\"ticks\":\"\"}},\"coloraxis\":{\"colorbar\":{\"outlinewidth\":0,\"ticks\":\"\"}},\"colorscale\":{\"sequential\":[[0.0,\"#0d0887\"],[0.1111111111111111,\"#46039f\"],[0.2222222222222222,\"#7201a8\"],[0.3333333333333333,\"#9c179e\"],[0.4444444444444444,\"#bd3786\"],[0.5555555555555556,\"#d8576b\"],[0.6666666666666666,\"#ed7953\"],[0.7777777777777778,\"#fb9f3a\"],[0.8888888888888888,\"#fdca26\"],[1.0,\"#f0f921\"]],\"sequentialminus\":[[0.0,\"#0d0887\"],[0.1111111111111111,\"#46039f\"],[0.2222222222222222,\"#7201a8\"],[0.3333333333333333,\"#9c179e\"],[0.4444444444444444,\"#bd3786\"],[0.5555555555555556,\"#d8576b\"],[0.6666666666666666,\"#ed7953\"],[0.7777777777777778,\"#fb9f3a\"],[0.8888888888888888,\"#fdca26\"],[1.0,\"#f0f921\"]],\"diverging\":[[0,\"#8e0152\"],[0.1,\"#c51b7d\"],[0.2,\"#de77ae\"],[0.3,\"#f1b6da\"],[0.4,\"#fde0ef\"],[0.5,\"#f7f7f7\"],[0.6,\"#e6f5d0\"],[0.7,\"#b8e186\"],[0.8,\"#7fbc41\"],[0.9,\"#4d9221\"],[1,\"#276419\"]]},\"xaxis\":{\"gridcolor\":\"white\",\"linecolor\":\"white\",\"ticks\":\"\",\"title\":{\"standoff\":15},\"zerolinecolor\":\"white\",\"automargin\":true,\"zerolinewidth\":2},\"yaxis\":{\"gridcolor\":\"white\",\"linecolor\":\"white\",\"ticks\":\"\",\"title\":{\"standoff\":15},\"zerolinecolor\":\"white\",\"automargin\":true,\"zerolinewidth\":2},\"scene\":{\"xaxis\":{\"backgroundcolor\":\"#E5ECF6\",\"gridcolor\":\"white\",\"linecolor\":\"white\",\"showbackground\":true,\"ticks\":\"\",\"zerolinecolor\":\"white\",\"gridwidth\":2},\"yaxis\":{\"backgroundcolor\":\"#E5ECF6\",\"gridcolor\":\"white\",\"linecolor\":\"white\",\"showbackground\":true,\"ticks\":\"\",\"zerolinecolor\":\"white\",\"gridwidth\":2},\"zaxis\":{\"backgroundcolor\":\"#E5ECF6\",\"gridcolor\":\"white\",\"linecolor\":\"white\",\"showbackground\":true,\"ticks\":\"\",\"zerolinecolor\":\"white\",\"gridwidth\":2}},\"shapedefaults\":{\"line\":{\"color\":\"#2a3f5f\"}},\"annotationdefaults\":{\"arrowcolor\":\"#2a3f5f\",\"arrowhead\":0,\"arrowwidth\":1},\"geo\":{\"bgcolor\":\"white\",\"landcolor\":\"#E5ECF6\",\"subunitcolor\":\"white\",\"showland\":true,\"showlakes\":true,\"lakecolor\":\"white\"},\"title\":{\"x\":0.05},\"mapbox\":{\"style\":\"light\"}}},\"xaxis\":{\"anchor\":\"y\",\"domain\":[0.0,1.0],\"scaleanchor\":\"y\",\"constrain\":\"domain\",\"title\":{\"text\":\"Target\"}},\"yaxis\":{\"anchor\":\"x\",\"domain\":[0.0,1.0],\"autorange\":\"reversed\",\"constrain\":\"domain\",\"title\":{\"text\":\"Prediction\"}},\"coloraxis\":{\"colorscale\":[[0.0,\"#0d0887\"],[0.1111111111111111,\"#46039f\"],[0.2222222222222222,\"#7201a8\"],[0.3333333333333333,\"#9c179e\"],[0.4444444444444444,\"#bd3786\"],[0.5555555555555556,\"#d8576b\"],[0.6666666666666666,\"#ed7953\"],[0.7777777777777778,\"#fb9f3a\"],[0.8888888888888888,\"#fdca26\"],[1.0,\"#f0f921\"]]},\"margin\":{\"t\":60}},                        {\"responsive\": true}                    ).then(function(){\n                            \nvar gd = document.getElementById('f57fa52a-f931-4753-8462-81af41c01fb2');\nvar x = new MutationObserver(function (mutations, observer) {{\n        var display = window.getComputedStyle(gd).display;\n        if (!display || display === 'none') {{\n            console.log([gd, 'removed!']);\n            Plotly.purge(gd);\n            observer.disconnect();\n        }}\n}});\n\n// Listen for the removal of the full notebook cells\nvar notebookContainer = gd.closest('#notebook-container');\nif (notebookContainer) {{\n    x.observe(notebookContainer, {childList: true});\n}}\n\n// Listen for the clearing of the current output cell\nvar outputEl = gd.closest('.output');\nif (outputEl) {{\n    x.observe(outputEl, {childList: true});\n}}\n\n                        })                };                });            </script>        </div>"
     },
     "metadata": {},
     "output_type": "display_data"
    },
    {
     "name": "stdout",
     "output_type": "stream",
     "text": [
      "[[31  0  0  0  0  0  0  0  0  0]\n",
      " [ 0 34  0  0  0  0  0  0  0  0]\n",
      " [ 0  0 37  0  0  0  0  0  0  0]\n",
      " [ 0  0  0 32  0  0  0  0  0  0]\n",
      " [ 0  0  0  0 36  0  0  0  0  0]\n",
      " [ 0  0  0  0  0 38  0  0  0  0]\n",
      " [ 1  1  0  0  0  0 50  0  0  0]\n",
      " [ 0  0  0  0  0  0  0 32  0  0]\n",
      " [ 0  2  1  0  0  1  0  0 29  0]\n",
      " [ 0  0  0  1  0  1  0  0  0 33]]\n",
      "              precision    recall  f1-score   support\n",
      "\n",
      "           0       0.97      1.00      0.98        31\n",
      "           1       0.92      1.00      0.96        34\n",
      "           2       0.97      1.00      0.99        37\n",
      "           3       0.97      1.00      0.98        32\n",
      "           4       1.00      1.00      1.00        36\n",
      "           5       0.95      1.00      0.97        38\n",
      "           6       1.00      0.96      0.98        52\n",
      "           7       1.00      1.00      1.00        32\n",
      "           8       1.00      0.88      0.94        33\n",
      "           9       1.00      0.94      0.97        35\n",
      "\n",
      "    accuracy                           0.98       360\n",
      "   macro avg       0.98      0.98      0.98       360\n",
      "weighted avg       0.98      0.98      0.98       360\n",
      "\n",
      "\n",
      "\n",
      "Выполнение третьего задания:\n",
      "\n",
      "Точность XGBoostClassifier модели равна: 96.944444 %\n",
      "\n",
      "Матрица ошибок XGBoostClassifier модели :\n"
     ]
    },
    {
     "data": {
      "application/vnd.plotly.v1+json": {
       "data": [
        {
         "coloraxis": "coloraxis",
         "name": "0",
         "texttemplate": "%{z}",
         "z": [
          [
           31,
           0,
           0,
           0,
           0,
           0,
           0,
           0,
           0,
           0
          ],
          [
           0,
           34,
           0,
           0,
           0,
           0,
           0,
           0,
           0,
           0
          ],
          [
           0,
           0,
           37,
           0,
           0,
           0,
           0,
           0,
           0,
           0
          ],
          [
           0,
           0,
           0,
           30,
           0,
           1,
           0,
           0,
           1,
           0
          ],
          [
           0,
           0,
           0,
           0,
           36,
           0,
           0,
           0,
           0,
           0
          ],
          [
           0,
           1,
           0,
           0,
           0,
           37,
           0,
           0,
           0,
           0
          ],
          [
           1,
           1,
           0,
           0,
           0,
           0,
           49,
           0,
           1,
           0
          ],
          [
           0,
           0,
           0,
           0,
           0,
           0,
           0,
           32,
           0,
           0
          ],
          [
           0,
           2,
           0,
           0,
           0,
           1,
           0,
           0,
           30,
           0
          ],
          [
           0,
           0,
           0,
           0,
           0,
           1,
           0,
           0,
           1,
           33
          ]
         ],
         "type": "heatmap",
         "xaxis": "x",
         "yaxis": "y",
         "hovertemplate": "x: %{x}<br>y: %{y}<br>color: %{z}<extra></extra>"
        }
       ],
       "layout": {
        "template": {
         "data": {
          "histogram2dcontour": [
           {
            "type": "histogram2dcontour",
            "colorbar": {
             "outlinewidth": 0,
             "ticks": ""
            },
            "colorscale": [
             [
              0.0,
              "#0d0887"
             ],
             [
              0.1111111111111111,
              "#46039f"
             ],
             [
              0.2222222222222222,
              "#7201a8"
             ],
             [
              0.3333333333333333,
              "#9c179e"
             ],
             [
              0.4444444444444444,
              "#bd3786"
             ],
             [
              0.5555555555555556,
              "#d8576b"
             ],
             [
              0.6666666666666666,
              "#ed7953"
             ],
             [
              0.7777777777777778,
              "#fb9f3a"
             ],
             [
              0.8888888888888888,
              "#fdca26"
             ],
             [
              1.0,
              "#f0f921"
             ]
            ]
           }
          ],
          "choropleth": [
           {
            "type": "choropleth",
            "colorbar": {
             "outlinewidth": 0,
             "ticks": ""
            }
           }
          ],
          "histogram2d": [
           {
            "type": "histogram2d",
            "colorbar": {
             "outlinewidth": 0,
             "ticks": ""
            },
            "colorscale": [
             [
              0.0,
              "#0d0887"
             ],
             [
              0.1111111111111111,
              "#46039f"
             ],
             [
              0.2222222222222222,
              "#7201a8"
             ],
             [
              0.3333333333333333,
              "#9c179e"
             ],
             [
              0.4444444444444444,
              "#bd3786"
             ],
             [
              0.5555555555555556,
              "#d8576b"
             ],
             [
              0.6666666666666666,
              "#ed7953"
             ],
             [
              0.7777777777777778,
              "#fb9f3a"
             ],
             [
              0.8888888888888888,
              "#fdca26"
             ],
             [
              1.0,
              "#f0f921"
             ]
            ]
           }
          ],
          "heatmap": [
           {
            "type": "heatmap",
            "colorbar": {
             "outlinewidth": 0,
             "ticks": ""
            },
            "colorscale": [
             [
              0.0,
              "#0d0887"
             ],
             [
              0.1111111111111111,
              "#46039f"
             ],
             [
              0.2222222222222222,
              "#7201a8"
             ],
             [
              0.3333333333333333,
              "#9c179e"
             ],
             [
              0.4444444444444444,
              "#bd3786"
             ],
             [
              0.5555555555555556,
              "#d8576b"
             ],
             [
              0.6666666666666666,
              "#ed7953"
             ],
             [
              0.7777777777777778,
              "#fb9f3a"
             ],
             [
              0.8888888888888888,
              "#fdca26"
             ],
             [
              1.0,
              "#f0f921"
             ]
            ]
           }
          ],
          "heatmapgl": [
           {
            "type": "heatmapgl",
            "colorbar": {
             "outlinewidth": 0,
             "ticks": ""
            },
            "colorscale": [
             [
              0.0,
              "#0d0887"
             ],
             [
              0.1111111111111111,
              "#46039f"
             ],
             [
              0.2222222222222222,
              "#7201a8"
             ],
             [
              0.3333333333333333,
              "#9c179e"
             ],
             [
              0.4444444444444444,
              "#bd3786"
             ],
             [
              0.5555555555555556,
              "#d8576b"
             ],
             [
              0.6666666666666666,
              "#ed7953"
             ],
             [
              0.7777777777777778,
              "#fb9f3a"
             ],
             [
              0.8888888888888888,
              "#fdca26"
             ],
             [
              1.0,
              "#f0f921"
             ]
            ]
           }
          ],
          "contourcarpet": [
           {
            "type": "contourcarpet",
            "colorbar": {
             "outlinewidth": 0,
             "ticks": ""
            }
           }
          ],
          "contour": [
           {
            "type": "contour",
            "colorbar": {
             "outlinewidth": 0,
             "ticks": ""
            },
            "colorscale": [
             [
              0.0,
              "#0d0887"
             ],
             [
              0.1111111111111111,
              "#46039f"
             ],
             [
              0.2222222222222222,
              "#7201a8"
             ],
             [
              0.3333333333333333,
              "#9c179e"
             ],
             [
              0.4444444444444444,
              "#bd3786"
             ],
             [
              0.5555555555555556,
              "#d8576b"
             ],
             [
              0.6666666666666666,
              "#ed7953"
             ],
             [
              0.7777777777777778,
              "#fb9f3a"
             ],
             [
              0.8888888888888888,
              "#fdca26"
             ],
             [
              1.0,
              "#f0f921"
             ]
            ]
           }
          ],
          "surface": [
           {
            "type": "surface",
            "colorbar": {
             "outlinewidth": 0,
             "ticks": ""
            },
            "colorscale": [
             [
              0.0,
              "#0d0887"
             ],
             [
              0.1111111111111111,
              "#46039f"
             ],
             [
              0.2222222222222222,
              "#7201a8"
             ],
             [
              0.3333333333333333,
              "#9c179e"
             ],
             [
              0.4444444444444444,
              "#bd3786"
             ],
             [
              0.5555555555555556,
              "#d8576b"
             ],
             [
              0.6666666666666666,
              "#ed7953"
             ],
             [
              0.7777777777777778,
              "#fb9f3a"
             ],
             [
              0.8888888888888888,
              "#fdca26"
             ],
             [
              1.0,
              "#f0f921"
             ]
            ]
           }
          ],
          "mesh3d": [
           {
            "type": "mesh3d",
            "colorbar": {
             "outlinewidth": 0,
             "ticks": ""
            }
           }
          ],
          "scatter": [
           {
            "fillpattern": {
             "fillmode": "overlay",
             "size": 10,
             "solidity": 0.2
            },
            "type": "scatter"
           }
          ],
          "parcoords": [
           {
            "type": "parcoords",
            "line": {
             "colorbar": {
              "outlinewidth": 0,
              "ticks": ""
             }
            }
           }
          ],
          "scatterpolargl": [
           {
            "type": "scatterpolargl",
            "marker": {
             "colorbar": {
              "outlinewidth": 0,
              "ticks": ""
             }
            }
           }
          ],
          "bar": [
           {
            "error_x": {
             "color": "#2a3f5f"
            },
            "error_y": {
             "color": "#2a3f5f"
            },
            "marker": {
             "line": {
              "color": "#E5ECF6",
              "width": 0.5
             },
             "pattern": {
              "fillmode": "overlay",
              "size": 10,
              "solidity": 0.2
             }
            },
            "type": "bar"
           }
          ],
          "scattergeo": [
           {
            "type": "scattergeo",
            "marker": {
             "colorbar": {
              "outlinewidth": 0,
              "ticks": ""
             }
            }
           }
          ],
          "scatterpolar": [
           {
            "type": "scatterpolar",
            "marker": {
             "colorbar": {
              "outlinewidth": 0,
              "ticks": ""
             }
            }
           }
          ],
          "histogram": [
           {
            "marker": {
             "pattern": {
              "fillmode": "overlay",
              "size": 10,
              "solidity": 0.2
             }
            },
            "type": "histogram"
           }
          ],
          "scattergl": [
           {
            "type": "scattergl",
            "marker": {
             "colorbar": {
              "outlinewidth": 0,
              "ticks": ""
             }
            }
           }
          ],
          "scatter3d": [
           {
            "type": "scatter3d",
            "line": {
             "colorbar": {
              "outlinewidth": 0,
              "ticks": ""
             }
            },
            "marker": {
             "colorbar": {
              "outlinewidth": 0,
              "ticks": ""
             }
            }
           }
          ],
          "scattermapbox": [
           {
            "type": "scattermapbox",
            "marker": {
             "colorbar": {
              "outlinewidth": 0,
              "ticks": ""
             }
            }
           }
          ],
          "scatterternary": [
           {
            "type": "scatterternary",
            "marker": {
             "colorbar": {
              "outlinewidth": 0,
              "ticks": ""
             }
            }
           }
          ],
          "scattercarpet": [
           {
            "type": "scattercarpet",
            "marker": {
             "colorbar": {
              "outlinewidth": 0,
              "ticks": ""
             }
            }
           }
          ],
          "carpet": [
           {
            "aaxis": {
             "endlinecolor": "#2a3f5f",
             "gridcolor": "white",
             "linecolor": "white",
             "minorgridcolor": "white",
             "startlinecolor": "#2a3f5f"
            },
            "baxis": {
             "endlinecolor": "#2a3f5f",
             "gridcolor": "white",
             "linecolor": "white",
             "minorgridcolor": "white",
             "startlinecolor": "#2a3f5f"
            },
            "type": "carpet"
           }
          ],
          "table": [
           {
            "cells": {
             "fill": {
              "color": "#EBF0F8"
             },
             "line": {
              "color": "white"
             }
            },
            "header": {
             "fill": {
              "color": "#C8D4E3"
             },
             "line": {
              "color": "white"
             }
            },
            "type": "table"
           }
          ],
          "barpolar": [
           {
            "marker": {
             "line": {
              "color": "#E5ECF6",
              "width": 0.5
             },
             "pattern": {
              "fillmode": "overlay",
              "size": 10,
              "solidity": 0.2
             }
            },
            "type": "barpolar"
           }
          ],
          "pie": [
           {
            "automargin": true,
            "type": "pie"
           }
          ]
         },
         "layout": {
          "autotypenumbers": "strict",
          "colorway": [
           "#636efa",
           "#EF553B",
           "#00cc96",
           "#ab63fa",
           "#FFA15A",
           "#19d3f3",
           "#FF6692",
           "#B6E880",
           "#FF97FF",
           "#FECB52"
          ],
          "font": {
           "color": "#2a3f5f"
          },
          "hovermode": "closest",
          "hoverlabel": {
           "align": "left"
          },
          "paper_bgcolor": "white",
          "plot_bgcolor": "#E5ECF6",
          "polar": {
           "bgcolor": "#E5ECF6",
           "angularaxis": {
            "gridcolor": "white",
            "linecolor": "white",
            "ticks": ""
           },
           "radialaxis": {
            "gridcolor": "white",
            "linecolor": "white",
            "ticks": ""
           }
          },
          "ternary": {
           "bgcolor": "#E5ECF6",
           "aaxis": {
            "gridcolor": "white",
            "linecolor": "white",
            "ticks": ""
           },
           "baxis": {
            "gridcolor": "white",
            "linecolor": "white",
            "ticks": ""
           },
           "caxis": {
            "gridcolor": "white",
            "linecolor": "white",
            "ticks": ""
           }
          },
          "coloraxis": {
           "colorbar": {
            "outlinewidth": 0,
            "ticks": ""
           }
          },
          "colorscale": {
           "sequential": [
            [
             0.0,
             "#0d0887"
            ],
            [
             0.1111111111111111,
             "#46039f"
            ],
            [
             0.2222222222222222,
             "#7201a8"
            ],
            [
             0.3333333333333333,
             "#9c179e"
            ],
            [
             0.4444444444444444,
             "#bd3786"
            ],
            [
             0.5555555555555556,
             "#d8576b"
            ],
            [
             0.6666666666666666,
             "#ed7953"
            ],
            [
             0.7777777777777778,
             "#fb9f3a"
            ],
            [
             0.8888888888888888,
             "#fdca26"
            ],
            [
             1.0,
             "#f0f921"
            ]
           ],
           "sequentialminus": [
            [
             0.0,
             "#0d0887"
            ],
            [
             0.1111111111111111,
             "#46039f"
            ],
            [
             0.2222222222222222,
             "#7201a8"
            ],
            [
             0.3333333333333333,
             "#9c179e"
            ],
            [
             0.4444444444444444,
             "#bd3786"
            ],
            [
             0.5555555555555556,
             "#d8576b"
            ],
            [
             0.6666666666666666,
             "#ed7953"
            ],
            [
             0.7777777777777778,
             "#fb9f3a"
            ],
            [
             0.8888888888888888,
             "#fdca26"
            ],
            [
             1.0,
             "#f0f921"
            ]
           ],
           "diverging": [
            [
             0,
             "#8e0152"
            ],
            [
             0.1,
             "#c51b7d"
            ],
            [
             0.2,
             "#de77ae"
            ],
            [
             0.3,
             "#f1b6da"
            ],
            [
             0.4,
             "#fde0ef"
            ],
            [
             0.5,
             "#f7f7f7"
            ],
            [
             0.6,
             "#e6f5d0"
            ],
            [
             0.7,
             "#b8e186"
            ],
            [
             0.8,
             "#7fbc41"
            ],
            [
             0.9,
             "#4d9221"
            ],
            [
             1,
             "#276419"
            ]
           ]
          },
          "xaxis": {
           "gridcolor": "white",
           "linecolor": "white",
           "ticks": "",
           "title": {
            "standoff": 15
           },
           "zerolinecolor": "white",
           "automargin": true,
           "zerolinewidth": 2
          },
          "yaxis": {
           "gridcolor": "white",
           "linecolor": "white",
           "ticks": "",
           "title": {
            "standoff": 15
           },
           "zerolinecolor": "white",
           "automargin": true,
           "zerolinewidth": 2
          },
          "scene": {
           "xaxis": {
            "backgroundcolor": "#E5ECF6",
            "gridcolor": "white",
            "linecolor": "white",
            "showbackground": true,
            "ticks": "",
            "zerolinecolor": "white",
            "gridwidth": 2
           },
           "yaxis": {
            "backgroundcolor": "#E5ECF6",
            "gridcolor": "white",
            "linecolor": "white",
            "showbackground": true,
            "ticks": "",
            "zerolinecolor": "white",
            "gridwidth": 2
           },
           "zaxis": {
            "backgroundcolor": "#E5ECF6",
            "gridcolor": "white",
            "linecolor": "white",
            "showbackground": true,
            "ticks": "",
            "zerolinecolor": "white",
            "gridwidth": 2
           }
          },
          "shapedefaults": {
           "line": {
            "color": "#2a3f5f"
           }
          },
          "annotationdefaults": {
           "arrowcolor": "#2a3f5f",
           "arrowhead": 0,
           "arrowwidth": 1
          },
          "geo": {
           "bgcolor": "white",
           "landcolor": "#E5ECF6",
           "subunitcolor": "white",
           "showland": true,
           "showlakes": true,
           "lakecolor": "white"
          },
          "title": {
           "x": 0.05
          },
          "mapbox": {
           "style": "light"
          }
         }
        },
        "xaxis": {
         "anchor": "y",
         "domain": [
          0.0,
          1.0
         ],
         "scaleanchor": "y",
         "constrain": "domain",
         "title": {
          "text": "Target"
         }
        },
        "yaxis": {
         "anchor": "x",
         "domain": [
          0.0,
          1.0
         ],
         "autorange": "reversed",
         "constrain": "domain",
         "title": {
          "text": "Prediction"
         }
        },
        "coloraxis": {
         "colorscale": [
          [
           0.0,
           "#0d0887"
          ],
          [
           0.1111111111111111,
           "#46039f"
          ],
          [
           0.2222222222222222,
           "#7201a8"
          ],
          [
           0.3333333333333333,
           "#9c179e"
          ],
          [
           0.4444444444444444,
           "#bd3786"
          ],
          [
           0.5555555555555556,
           "#d8576b"
          ],
          [
           0.6666666666666666,
           "#ed7953"
          ],
          [
           0.7777777777777778,
           "#fb9f3a"
          ],
          [
           0.8888888888888888,
           "#fdca26"
          ],
          [
           1.0,
           "#f0f921"
          ]
         ]
        },
        "margin": {
         "t": 60
        }
       },
       "config": {
        "plotlyServerURL": "https://plot.ly"
       }
      },
      "text/html": "<div>                            <div id=\"c01b3a61-05d4-4a9c-8bdd-60122c426a1a\" class=\"plotly-graph-div\" style=\"height:525px; width:100%;\"></div>            <script type=\"text/javascript\">                require([\"plotly\"], function(Plotly) {                    window.PLOTLYENV=window.PLOTLYENV || {};                                    if (document.getElementById(\"c01b3a61-05d4-4a9c-8bdd-60122c426a1a\")) {                    Plotly.newPlot(                        \"c01b3a61-05d4-4a9c-8bdd-60122c426a1a\",                        [{\"coloraxis\":\"coloraxis\",\"name\":\"0\",\"texttemplate\":\"%{z}\",\"z\":[[31,0,0,0,0,0,0,0,0,0],[0,34,0,0,0,0,0,0,0,0],[0,0,37,0,0,0,0,0,0,0],[0,0,0,30,0,1,0,0,1,0],[0,0,0,0,36,0,0,0,0,0],[0,1,0,0,0,37,0,0,0,0],[1,1,0,0,0,0,49,0,1,0],[0,0,0,0,0,0,0,32,0,0],[0,2,0,0,0,1,0,0,30,0],[0,0,0,0,0,1,0,0,1,33]],\"type\":\"heatmap\",\"xaxis\":\"x\",\"yaxis\":\"y\",\"hovertemplate\":\"x: %{x}<br>y: %{y}<br>color: %{z}<extra></extra>\"}],                        {\"template\":{\"data\":{\"histogram2dcontour\":[{\"type\":\"histogram2dcontour\",\"colorbar\":{\"outlinewidth\":0,\"ticks\":\"\"},\"colorscale\":[[0.0,\"#0d0887\"],[0.1111111111111111,\"#46039f\"],[0.2222222222222222,\"#7201a8\"],[0.3333333333333333,\"#9c179e\"],[0.4444444444444444,\"#bd3786\"],[0.5555555555555556,\"#d8576b\"],[0.6666666666666666,\"#ed7953\"],[0.7777777777777778,\"#fb9f3a\"],[0.8888888888888888,\"#fdca26\"],[1.0,\"#f0f921\"]]}],\"choropleth\":[{\"type\":\"choropleth\",\"colorbar\":{\"outlinewidth\":0,\"ticks\":\"\"}}],\"histogram2d\":[{\"type\":\"histogram2d\",\"colorbar\":{\"outlinewidth\":0,\"ticks\":\"\"},\"colorscale\":[[0.0,\"#0d0887\"],[0.1111111111111111,\"#46039f\"],[0.2222222222222222,\"#7201a8\"],[0.3333333333333333,\"#9c179e\"],[0.4444444444444444,\"#bd3786\"],[0.5555555555555556,\"#d8576b\"],[0.6666666666666666,\"#ed7953\"],[0.7777777777777778,\"#fb9f3a\"],[0.8888888888888888,\"#fdca26\"],[1.0,\"#f0f921\"]]}],\"heatmap\":[{\"type\":\"heatmap\",\"colorbar\":{\"outlinewidth\":0,\"ticks\":\"\"},\"colorscale\":[[0.0,\"#0d0887\"],[0.1111111111111111,\"#46039f\"],[0.2222222222222222,\"#7201a8\"],[0.3333333333333333,\"#9c179e\"],[0.4444444444444444,\"#bd3786\"],[0.5555555555555556,\"#d8576b\"],[0.6666666666666666,\"#ed7953\"],[0.7777777777777778,\"#fb9f3a\"],[0.8888888888888888,\"#fdca26\"],[1.0,\"#f0f921\"]]}],\"heatmapgl\":[{\"type\":\"heatmapgl\",\"colorbar\":{\"outlinewidth\":0,\"ticks\":\"\"},\"colorscale\":[[0.0,\"#0d0887\"],[0.1111111111111111,\"#46039f\"],[0.2222222222222222,\"#7201a8\"],[0.3333333333333333,\"#9c179e\"],[0.4444444444444444,\"#bd3786\"],[0.5555555555555556,\"#d8576b\"],[0.6666666666666666,\"#ed7953\"],[0.7777777777777778,\"#fb9f3a\"],[0.8888888888888888,\"#fdca26\"],[1.0,\"#f0f921\"]]}],\"contourcarpet\":[{\"type\":\"contourcarpet\",\"colorbar\":{\"outlinewidth\":0,\"ticks\":\"\"}}],\"contour\":[{\"type\":\"contour\",\"colorbar\":{\"outlinewidth\":0,\"ticks\":\"\"},\"colorscale\":[[0.0,\"#0d0887\"],[0.1111111111111111,\"#46039f\"],[0.2222222222222222,\"#7201a8\"],[0.3333333333333333,\"#9c179e\"],[0.4444444444444444,\"#bd3786\"],[0.5555555555555556,\"#d8576b\"],[0.6666666666666666,\"#ed7953\"],[0.7777777777777778,\"#fb9f3a\"],[0.8888888888888888,\"#fdca26\"],[1.0,\"#f0f921\"]]}],\"surface\":[{\"type\":\"surface\",\"colorbar\":{\"outlinewidth\":0,\"ticks\":\"\"},\"colorscale\":[[0.0,\"#0d0887\"],[0.1111111111111111,\"#46039f\"],[0.2222222222222222,\"#7201a8\"],[0.3333333333333333,\"#9c179e\"],[0.4444444444444444,\"#bd3786\"],[0.5555555555555556,\"#d8576b\"],[0.6666666666666666,\"#ed7953\"],[0.7777777777777778,\"#fb9f3a\"],[0.8888888888888888,\"#fdca26\"],[1.0,\"#f0f921\"]]}],\"mesh3d\":[{\"type\":\"mesh3d\",\"colorbar\":{\"outlinewidth\":0,\"ticks\":\"\"}}],\"scatter\":[{\"fillpattern\":{\"fillmode\":\"overlay\",\"size\":10,\"solidity\":0.2},\"type\":\"scatter\"}],\"parcoords\":[{\"type\":\"parcoords\",\"line\":{\"colorbar\":{\"outlinewidth\":0,\"ticks\":\"\"}}}],\"scatterpolargl\":[{\"type\":\"scatterpolargl\",\"marker\":{\"colorbar\":{\"outlinewidth\":0,\"ticks\":\"\"}}}],\"bar\":[{\"error_x\":{\"color\":\"#2a3f5f\"},\"error_y\":{\"color\":\"#2a3f5f\"},\"marker\":{\"line\":{\"color\":\"#E5ECF6\",\"width\":0.5},\"pattern\":{\"fillmode\":\"overlay\",\"size\":10,\"solidity\":0.2}},\"type\":\"bar\"}],\"scattergeo\":[{\"type\":\"scattergeo\",\"marker\":{\"colorbar\":{\"outlinewidth\":0,\"ticks\":\"\"}}}],\"scatterpolar\":[{\"type\":\"scatterpolar\",\"marker\":{\"colorbar\":{\"outlinewidth\":0,\"ticks\":\"\"}}}],\"histogram\":[{\"marker\":{\"pattern\":{\"fillmode\":\"overlay\",\"size\":10,\"solidity\":0.2}},\"type\":\"histogram\"}],\"scattergl\":[{\"type\":\"scattergl\",\"marker\":{\"colorbar\":{\"outlinewidth\":0,\"ticks\":\"\"}}}],\"scatter3d\":[{\"type\":\"scatter3d\",\"line\":{\"colorbar\":{\"outlinewidth\":0,\"ticks\":\"\"}},\"marker\":{\"colorbar\":{\"outlinewidth\":0,\"ticks\":\"\"}}}],\"scattermapbox\":[{\"type\":\"scattermapbox\",\"marker\":{\"colorbar\":{\"outlinewidth\":0,\"ticks\":\"\"}}}],\"scatterternary\":[{\"type\":\"scatterternary\",\"marker\":{\"colorbar\":{\"outlinewidth\":0,\"ticks\":\"\"}}}],\"scattercarpet\":[{\"type\":\"scattercarpet\",\"marker\":{\"colorbar\":{\"outlinewidth\":0,\"ticks\":\"\"}}}],\"carpet\":[{\"aaxis\":{\"endlinecolor\":\"#2a3f5f\",\"gridcolor\":\"white\",\"linecolor\":\"white\",\"minorgridcolor\":\"white\",\"startlinecolor\":\"#2a3f5f\"},\"baxis\":{\"endlinecolor\":\"#2a3f5f\",\"gridcolor\":\"white\",\"linecolor\":\"white\",\"minorgridcolor\":\"white\",\"startlinecolor\":\"#2a3f5f\"},\"type\":\"carpet\"}],\"table\":[{\"cells\":{\"fill\":{\"color\":\"#EBF0F8\"},\"line\":{\"color\":\"white\"}},\"header\":{\"fill\":{\"color\":\"#C8D4E3\"},\"line\":{\"color\":\"white\"}},\"type\":\"table\"}],\"barpolar\":[{\"marker\":{\"line\":{\"color\":\"#E5ECF6\",\"width\":0.5},\"pattern\":{\"fillmode\":\"overlay\",\"size\":10,\"solidity\":0.2}},\"type\":\"barpolar\"}],\"pie\":[{\"automargin\":true,\"type\":\"pie\"}]},\"layout\":{\"autotypenumbers\":\"strict\",\"colorway\":[\"#636efa\",\"#EF553B\",\"#00cc96\",\"#ab63fa\",\"#FFA15A\",\"#19d3f3\",\"#FF6692\",\"#B6E880\",\"#FF97FF\",\"#FECB52\"],\"font\":{\"color\":\"#2a3f5f\"},\"hovermode\":\"closest\",\"hoverlabel\":{\"align\":\"left\"},\"paper_bgcolor\":\"white\",\"plot_bgcolor\":\"#E5ECF6\",\"polar\":{\"bgcolor\":\"#E5ECF6\",\"angularaxis\":{\"gridcolor\":\"white\",\"linecolor\":\"white\",\"ticks\":\"\"},\"radialaxis\":{\"gridcolor\":\"white\",\"linecolor\":\"white\",\"ticks\":\"\"}},\"ternary\":{\"bgcolor\":\"#E5ECF6\",\"aaxis\":{\"gridcolor\":\"white\",\"linecolor\":\"white\",\"ticks\":\"\"},\"baxis\":{\"gridcolor\":\"white\",\"linecolor\":\"white\",\"ticks\":\"\"},\"caxis\":{\"gridcolor\":\"white\",\"linecolor\":\"white\",\"ticks\":\"\"}},\"coloraxis\":{\"colorbar\":{\"outlinewidth\":0,\"ticks\":\"\"}},\"colorscale\":{\"sequential\":[[0.0,\"#0d0887\"],[0.1111111111111111,\"#46039f\"],[0.2222222222222222,\"#7201a8\"],[0.3333333333333333,\"#9c179e\"],[0.4444444444444444,\"#bd3786\"],[0.5555555555555556,\"#d8576b\"],[0.6666666666666666,\"#ed7953\"],[0.7777777777777778,\"#fb9f3a\"],[0.8888888888888888,\"#fdca26\"],[1.0,\"#f0f921\"]],\"sequentialminus\":[[0.0,\"#0d0887\"],[0.1111111111111111,\"#46039f\"],[0.2222222222222222,\"#7201a8\"],[0.3333333333333333,\"#9c179e\"],[0.4444444444444444,\"#bd3786\"],[0.5555555555555556,\"#d8576b\"],[0.6666666666666666,\"#ed7953\"],[0.7777777777777778,\"#fb9f3a\"],[0.8888888888888888,\"#fdca26\"],[1.0,\"#f0f921\"]],\"diverging\":[[0,\"#8e0152\"],[0.1,\"#c51b7d\"],[0.2,\"#de77ae\"],[0.3,\"#f1b6da\"],[0.4,\"#fde0ef\"],[0.5,\"#f7f7f7\"],[0.6,\"#e6f5d0\"],[0.7,\"#b8e186\"],[0.8,\"#7fbc41\"],[0.9,\"#4d9221\"],[1,\"#276419\"]]},\"xaxis\":{\"gridcolor\":\"white\",\"linecolor\":\"white\",\"ticks\":\"\",\"title\":{\"standoff\":15},\"zerolinecolor\":\"white\",\"automargin\":true,\"zerolinewidth\":2},\"yaxis\":{\"gridcolor\":\"white\",\"linecolor\":\"white\",\"ticks\":\"\",\"title\":{\"standoff\":15},\"zerolinecolor\":\"white\",\"automargin\":true,\"zerolinewidth\":2},\"scene\":{\"xaxis\":{\"backgroundcolor\":\"#E5ECF6\",\"gridcolor\":\"white\",\"linecolor\":\"white\",\"showbackground\":true,\"ticks\":\"\",\"zerolinecolor\":\"white\",\"gridwidth\":2},\"yaxis\":{\"backgroundcolor\":\"#E5ECF6\",\"gridcolor\":\"white\",\"linecolor\":\"white\",\"showbackground\":true,\"ticks\":\"\",\"zerolinecolor\":\"white\",\"gridwidth\":2},\"zaxis\":{\"backgroundcolor\":\"#E5ECF6\",\"gridcolor\":\"white\",\"linecolor\":\"white\",\"showbackground\":true,\"ticks\":\"\",\"zerolinecolor\":\"white\",\"gridwidth\":2}},\"shapedefaults\":{\"line\":{\"color\":\"#2a3f5f\"}},\"annotationdefaults\":{\"arrowcolor\":\"#2a3f5f\",\"arrowhead\":0,\"arrowwidth\":1},\"geo\":{\"bgcolor\":\"white\",\"landcolor\":\"#E5ECF6\",\"subunitcolor\":\"white\",\"showland\":true,\"showlakes\":true,\"lakecolor\":\"white\"},\"title\":{\"x\":0.05},\"mapbox\":{\"style\":\"light\"}}},\"xaxis\":{\"anchor\":\"y\",\"domain\":[0.0,1.0],\"scaleanchor\":\"y\",\"constrain\":\"domain\",\"title\":{\"text\":\"Target\"}},\"yaxis\":{\"anchor\":\"x\",\"domain\":[0.0,1.0],\"autorange\":\"reversed\",\"constrain\":\"domain\",\"title\":{\"text\":\"Prediction\"}},\"coloraxis\":{\"colorscale\":[[0.0,\"#0d0887\"],[0.1111111111111111,\"#46039f\"],[0.2222222222222222,\"#7201a8\"],[0.3333333333333333,\"#9c179e\"],[0.4444444444444444,\"#bd3786\"],[0.5555555555555556,\"#d8576b\"],[0.6666666666666666,\"#ed7953\"],[0.7777777777777778,\"#fb9f3a\"],[0.8888888888888888,\"#fdca26\"],[1.0,\"#f0f921\"]]},\"margin\":{\"t\":60}},                        {\"responsive\": true}                    ).then(function(){\n                            \nvar gd = document.getElementById('c01b3a61-05d4-4a9c-8bdd-60122c426a1a');\nvar x = new MutationObserver(function (mutations, observer) {{\n        var display = window.getComputedStyle(gd).display;\n        if (!display || display === 'none') {{\n            console.log([gd, 'removed!']);\n            Plotly.purge(gd);\n            observer.disconnect();\n        }}\n}});\n\n// Listen for the removal of the full notebook cells\nvar notebookContainer = gd.closest('#notebook-container');\nif (notebookContainer) {{\n    x.observe(notebookContainer, {childList: true});\n}}\n\n// Listen for the clearing of the current output cell\nvar outputEl = gd.closest('.output');\nif (outputEl) {{\n    x.observe(outputEl, {childList: true});\n}}\n\n                        })                };                });            </script>        </div>"
     },
     "metadata": {},
     "output_type": "display_data"
    },
    {
     "name": "stdout",
     "output_type": "stream",
     "text": [
      "[[31  0  0  0  0  0  0  0  0  0]\n",
      " [ 0 34  0  0  0  0  0  0  0  0]\n",
      " [ 0  0 37  0  0  0  0  0  0  0]\n",
      " [ 0  0  0 30  0  1  0  0  1  0]\n",
      " [ 0  0  0  0 36  0  0  0  0  0]\n",
      " [ 0  1  0  0  0 37  0  0  0  0]\n",
      " [ 1  1  0  0  0  0 49  0  1  0]\n",
      " [ 0  0  0  0  0  0  0 32  0  0]\n",
      " [ 0  2  0  0  0  1  0  0 30  0]\n",
      " [ 0  0  0  0  0  1  0  0  1 33]]\n",
      "XgBoost\n",
      "Time used:  0.0780019760131836\n"
     ]
    }
   ],
   "source": [
    "import time\n",
    "from sklearn.datasets import load_digits\n",
    "from sklearn.metrics import f1_score, confusion_matrix, classification_report\n",
    "from sklearn.model_selection import GridSearchCV, train_test_split\n",
    "from sklearn.ensemble import RandomForestClassifier\n",
    "import catboost as cb\n",
    "import plotly.express as px\n",
    "from xgboost import XGBClassifier\n",
    "from sklearn import metrics\n",
    "\n",
    "\n",
    "if __name__ == '__main__':\n",
    "    data = load_digits(as_frame=False)\n",
    "    predicts = data.data\n",
    "    target = data.target\n",
    "    print('\\nТаблица предикторов:\\n')\n",
    "    print(predicts)\n",
    "    print('\\nТаблица целевых переменных:\\n')\n",
    "    print(target)\n",
    "    print('\\nРазмерность таблицы предикторов:\\n')\n",
    "    print(predicts.shape)\n",
    "    print('\\nРазмерность таблицы целеых переменных:\\n')\n",
    "    print(target.shape)\n",
    "    A_train, A_test, y_train, y_test = train_test_split(predicts, target, train_size=0.8)\n",
    "    print('\\nРазделение на тренировочную и тестовую выборки:\\n')\n",
    "    print(A_train.shape)\n",
    "    print(A_test.shape)\n",
    "    time_start = time.time()\n",
    "    print('\\nОбучение случайного леса без критерия останова:\\n')\n",
    "    random_forest = RandomForestClassifier(max_depth=15,min_samples_split=10).fit(A_train,y_train)\n",
    "\n",
    "    y_preds_d = random_forest.predict(A_train)\n",
    "    y_pred = random_forest.predict(A_test)\n",
    "    foresttrain=f1_score(y_preds_d,y_train, average='macro')\n",
    "    foresttest=f1_score(y_pred,y_test, average='macro')\n",
    "    print(\"RandomForest\\nTime used: \", time.time() - time_start)\n",
    "    print('F1 мера для тренировочных данных {} % '.format(round((foresttrain * 100), 6)))\n",
    "    print('F1 мера для тестовых данных {} % '.format(round((foresttest * 100), 6)))\n",
    "\n",
    "    print('\\nОбучение случайного используя критерия : перебор параметров и для каждой'\n",
    "          'комбинации обучить модели, затем выбрать лучшую. Это можно сделать с помощью'\n",
    "'GridSearchCV.\\n')\n",
    "    time_start = time.time()\n",
    "    random_forest = RandomForestClassifier()\n",
    "    params_grid = {\"max_depth\":[12,18], \"min_samples_leaf\":[1,10], \"min_samples_split\":[6,12]}\n",
    "    grid_search_random_forest = GridSearchCV(estimator=random_forest, param_grid=params_grid, scoring=\"f1_macro\",cv=4)\n",
    "\n",
    "    grid_search_random_forest.fit(A_train,y_train)\n",
    "    best_model = grid_search_random_forest.best_estimator_\n",
    "    y_preds_d = best_model.predict(A_train)\n",
    "    y_pred = best_model.predict(A_test)\n",
    "    trainpercent=f1_score(y_preds_d,y_train, average='macro')\n",
    "    testpercent=f1_score(y_pred,y_test, average='macro')\n",
    "    print(best_model)\n",
    "    print(\"RandomForest\\nTime used: \", time.time() - time_start)\n",
    "    print('F1 мера для тренировочных данных{} % '.format(round((trainpercent * 100), 6)))\n",
    "    print('F1 мера для тестовых данных {} %'.format(round((testpercent * 100), 6)))\n",
    "    fig = px.imshow(confusion_matrix(y_test, y_pred), text_auto=True)\n",
    "    fig.update_layout(xaxis_title='Target', yaxis_title='Prediction')\n",
    "    fig.show()\n",
    "    print(metrics.confusion_matrix(y_test, y_pred))\n",
    "    print(classification_report(y_test, y_pred))\n",
    "\n",
    "    time_start = time.time()\n",
    "    model_catboost_clf = cb.CatBoostClassifier(iterations=1000, task_type=\"GPU\", devices='0')\n",
    "    model_catboost_clf.fit(A_train, y_train)\n",
    "    y_preds_t = model_catboost_clf.predict(A_train, task_type=\"CPU\")\n",
    "    y_preds = model_catboost_clf.predict(A_test, task_type=\"CPU\")\n",
    "    print(\"CatBoost(YANDEX)\\nTime used: \", time.time() - time_start)\n",
    "    #f1score=f1_score(y_preds_t,y_train, average='macro')\n",
    "    #f1scoretest=f1_score(y_preds_t,y_test, average='macro')\n",
    "    print('F1 мера для тренировочных данных ', f1_score(y_preds_t,y_train, average='macro'))\n",
    "    print('F1 мера для тестовых данных ', f1_score(y_preds,y_test, average='macro'))\n",
    "    fig = px.imshow(confusion_matrix(y_test, y_preds), text_auto=True)\n",
    "    fig.update_layout(xaxis_title='Target', yaxis_title='Prediction')\n",
    "    fig.show()\n",
    "    print(metrics.confusion_matrix(y_test, y_preds))\n",
    "    print(classification_report(y_test, y_preds))\n",
    "\n",
    "    print('\\n\\nВыполнение третьего задания:\\n')\n",
    "\n",
    "    start = time.perf_counter()\n",
    "\n",
    "    xgbCl = XGBClassifier()\n",
    "    xgbCl.fit(A_train, y_train)\n",
    "    test_predict = xgbCl.predict(A_test)\n",
    "    xgbCl_score = xgbCl.score(A_test, y_test)\n",
    "    time_start = time.time()\n",
    "    print(\"Точность XGBoostClassifier модели равна: {} %\".format(round((xgbCl_score * 100), 6)))\n",
    "    print(\"\\nМатрица ошибок XGBoostClassifier модели :\")\n",
    "    fig = px.imshow(confusion_matrix(y_test, test_predict), text_auto=True)\n",
    "    fig.update_layout(xaxis_title='Target', yaxis_title='Prediction')\n",
    "    fig.show()\n",
    "    print(metrics.confusion_matrix(y_test, test_predict))\n",
    "\n",
    "    y_predict = xgbCl.predict_proba(A_test)\n",
    "    # print('Предсказанные данные:\\n', y_predict)\n",
    "    print(\"XgBoost\\nTime used: \", time.time() - time_start)\n",
    "\n",
    "\n"
   ]
  },
  {
   "cell_type": "code",
   "execution_count": null,
   "metadata": {
    "pycharm": {
     "is_executing": true
    }
   },
   "outputs": [],
   "source": []
  },
  {
   "cell_type": "code",
   "execution_count": 31,
   "outputs": [],
   "source": [],
   "metadata": {
    "collapsed": false
   }
  }
 ],
 "metadata": {
  "kernelspec": {
   "display_name": "Python 3 (ipykernel)",
   "language": "python",
   "name": "python3"
  },
  "language_info": {
   "codemirror_mode": {
    "name": "ipython",
    "version": 2
   },
   "file_extension": ".py",
   "mimetype": "text/x-python",
   "name": "python",
   "nbconvert_exporter": "python",
   "pygments_lexer": "ipython2",
   "version": "2.7.6"
  }
 },
 "nbformat": 4,
 "nbformat_minor": 1
}
