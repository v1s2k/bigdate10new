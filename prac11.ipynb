{
 "cells": [
  {
   "cell_type": "code",
   "execution_count": 34,
   "metadata": {},
   "outputs": [
    {
     "name": "stdout",
     "output_type": "stream",
     "text": [
      "\n",
      "Таблица предикторов:\n",
      "\n",
      "[[ 0.  0.  5. ...  0.  0.  0.]\n",
      " [ 0.  0.  0. ... 10.  0.  0.]\n",
      " [ 0.  0.  0. ... 16.  9.  0.]\n",
      " ...\n",
      " [ 0.  0.  1. ...  6.  0.  0.]\n",
      " [ 0.  0.  2. ... 12.  0.  0.]\n",
      " [ 0.  0. 10. ... 12.  1.  0.]]\n",
      "\n",
      "Таблица целевых переменных:\n",
      "\n",
      "[0 1 2 ... 8 9 8]\n",
      "\n",
      "Размерность таблицы предикторов:\n",
      "\n",
      "(1797, 64)\n",
      "\n",
      "Размерность таблицы целеых переменных:\n",
      "\n",
      "(1797,)\n",
      "\n",
      "Разделение на тренировочную и тестовую выборки:\n",
      "\n",
      "(1437, 64)\n",
      "(360, 64)\n",
      "\n",
      "Обучение случайного леса без критерия останова:\n",
      "\n",
      "RandomForest\n",
      "Time used:  0.3370356559753418\n",
      "F1 мера для тренировочных данных 100.0 % \n",
      "F1 мера для тестовых данных 96.447517 % \n",
      "\n",
      "Обучение случайного используя критерия : перебор параметров и для каждойкомбинации обучить модели, затем выбрать лучшую. Это можно сделать с помощьюGridSearchCV.\n",
      "\n",
      "RandomForestClassifier(max_depth=18, min_samples_split=6)\n",
      "RandomForest\n",
      "Time used:  30.737576246261597\n",
      "F1 мера для тренировочных данных100.0 % \n",
      "F1 мера для тестовых данных 97.085146 %\n"
     ]
    },
    {
     "data": {
      "application/vnd.plotly.v1+json": {
       "data": [
        {
         "coloraxis": "coloraxis",
         "name": "0",
         "texttemplate": "%{z}",
         "z": [
          [
           40,
           0,
           0,
           0,
           0,
           0,
           0,
           0,
           0,
           0
          ],
          [
           0,
           43,
           0,
           0,
           0,
           0,
           0,
           0,
           0,
           0
          ],
          [
           0,
           0,
           38,
           0,
           0,
           0,
           0,
           0,
           0,
           0
          ],
          [
           0,
           0,
           0,
           34,
           0,
           1,
           0,
           0,
           1,
           0
          ],
          [
           0,
           0,
           0,
           0,
           36,
           0,
           0,
           1,
           1,
           0
          ],
          [
           0,
           0,
           0,
           0,
           0,
           39,
           0,
           0,
           0,
           0
          ],
          [
           0,
           0,
           0,
           0,
           0,
           1,
           31,
           0,
           0,
           0
          ],
          [
           0,
           0,
           0,
           0,
           0,
           0,
           0,
           32,
           0,
           0
          ],
          [
           0,
           1,
           1,
           0,
           1,
           0,
           0,
           0,
           29,
           0
          ],
          [
           0,
           0,
           0,
           0,
           0,
           0,
           0,
           0,
           2,
           28
          ]
         ],
         "type": "heatmap",
         "xaxis": "x",
         "yaxis": "y",
         "hovertemplate": "x: %{x}<br>y: %{y}<br>color: %{z}<extra></extra>"
        }
       ],
       "layout": {
        "template": {
         "data": {
          "histogram2dcontour": [
           {
            "type": "histogram2dcontour",
            "colorbar": {
             "outlinewidth": 0,
             "ticks": ""
            },
            "colorscale": [
             [
              0.0,
              "#0d0887"
             ],
             [
              0.1111111111111111,
              "#46039f"
             ],
             [
              0.2222222222222222,
              "#7201a8"
             ],
             [
              0.3333333333333333,
              "#9c179e"
             ],
             [
              0.4444444444444444,
              "#bd3786"
             ],
             [
              0.5555555555555556,
              "#d8576b"
             ],
             [
              0.6666666666666666,
              "#ed7953"
             ],
             [
              0.7777777777777778,
              "#fb9f3a"
             ],
             [
              0.8888888888888888,
              "#fdca26"
             ],
             [
              1.0,
              "#f0f921"
             ]
            ]
           }
          ],
          "choropleth": [
           {
            "type": "choropleth",
            "colorbar": {
             "outlinewidth": 0,
             "ticks": ""
            }
           }
          ],
          "histogram2d": [
           {
            "type": "histogram2d",
            "colorbar": {
             "outlinewidth": 0,
             "ticks": ""
            },
            "colorscale": [
             [
              0.0,
              "#0d0887"
             ],
             [
              0.1111111111111111,
              "#46039f"
             ],
             [
              0.2222222222222222,
              "#7201a8"
             ],
             [
              0.3333333333333333,
              "#9c179e"
             ],
             [
              0.4444444444444444,
              "#bd3786"
             ],
             [
              0.5555555555555556,
              "#d8576b"
             ],
             [
              0.6666666666666666,
              "#ed7953"
             ],
             [
              0.7777777777777778,
              "#fb9f3a"
             ],
             [
              0.8888888888888888,
              "#fdca26"
             ],
             [
              1.0,
              "#f0f921"
             ]
            ]
           }
          ],
          "heatmap": [
           {
            "type": "heatmap",
            "colorbar": {
             "outlinewidth": 0,
             "ticks": ""
            },
            "colorscale": [
             [
              0.0,
              "#0d0887"
             ],
             [
              0.1111111111111111,
              "#46039f"
             ],
             [
              0.2222222222222222,
              "#7201a8"
             ],
             [
              0.3333333333333333,
              "#9c179e"
             ],
             [
              0.4444444444444444,
              "#bd3786"
             ],
             [
              0.5555555555555556,
              "#d8576b"
             ],
             [
              0.6666666666666666,
              "#ed7953"
             ],
             [
              0.7777777777777778,
              "#fb9f3a"
             ],
             [
              0.8888888888888888,
              "#fdca26"
             ],
             [
              1.0,
              "#f0f921"
             ]
            ]
           }
          ],
          "heatmapgl": [
           {
            "type": "heatmapgl",
            "colorbar": {
             "outlinewidth": 0,
             "ticks": ""
            },
            "colorscale": [
             [
              0.0,
              "#0d0887"
             ],
             [
              0.1111111111111111,
              "#46039f"
             ],
             [
              0.2222222222222222,
              "#7201a8"
             ],
             [
              0.3333333333333333,
              "#9c179e"
             ],
             [
              0.4444444444444444,
              "#bd3786"
             ],
             [
              0.5555555555555556,
              "#d8576b"
             ],
             [
              0.6666666666666666,
              "#ed7953"
             ],
             [
              0.7777777777777778,
              "#fb9f3a"
             ],
             [
              0.8888888888888888,
              "#fdca26"
             ],
             [
              1.0,
              "#f0f921"
             ]
            ]
           }
          ],
          "contourcarpet": [
           {
            "type": "contourcarpet",
            "colorbar": {
             "outlinewidth": 0,
             "ticks": ""
            }
           }
          ],
          "contour": [
           {
            "type": "contour",
            "colorbar": {
             "outlinewidth": 0,
             "ticks": ""
            },
            "colorscale": [
             [
              0.0,
              "#0d0887"
             ],
             [
              0.1111111111111111,
              "#46039f"
             ],
             [
              0.2222222222222222,
              "#7201a8"
             ],
             [
              0.3333333333333333,
              "#9c179e"
             ],
             [
              0.4444444444444444,
              "#bd3786"
             ],
             [
              0.5555555555555556,
              "#d8576b"
             ],
             [
              0.6666666666666666,
              "#ed7953"
             ],
             [
              0.7777777777777778,
              "#fb9f3a"
             ],
             [
              0.8888888888888888,
              "#fdca26"
             ],
             [
              1.0,
              "#f0f921"
             ]
            ]
           }
          ],
          "surface": [
           {
            "type": "surface",
            "colorbar": {
             "outlinewidth": 0,
             "ticks": ""
            },
            "colorscale": [
             [
              0.0,
              "#0d0887"
             ],
             [
              0.1111111111111111,
              "#46039f"
             ],
             [
              0.2222222222222222,
              "#7201a8"
             ],
             [
              0.3333333333333333,
              "#9c179e"
             ],
             [
              0.4444444444444444,
              "#bd3786"
             ],
             [
              0.5555555555555556,
              "#d8576b"
             ],
             [
              0.6666666666666666,
              "#ed7953"
             ],
             [
              0.7777777777777778,
              "#fb9f3a"
             ],
             [
              0.8888888888888888,
              "#fdca26"
             ],
             [
              1.0,
              "#f0f921"
             ]
            ]
           }
          ],
          "mesh3d": [
           {
            "type": "mesh3d",
            "colorbar": {
             "outlinewidth": 0,
             "ticks": ""
            }
           }
          ],
          "scatter": [
           {
            "fillpattern": {
             "fillmode": "overlay",
             "size": 10,
             "solidity": 0.2
            },
            "type": "scatter"
           }
          ],
          "parcoords": [
           {
            "type": "parcoords",
            "line": {
             "colorbar": {
              "outlinewidth": 0,
              "ticks": ""
             }
            }
           }
          ],
          "scatterpolargl": [
           {
            "type": "scatterpolargl",
            "marker": {
             "colorbar": {
              "outlinewidth": 0,
              "ticks": ""
             }
            }
           }
          ],
          "bar": [
           {
            "error_x": {
             "color": "#2a3f5f"
            },
            "error_y": {
             "color": "#2a3f5f"
            },
            "marker": {
             "line": {
              "color": "#E5ECF6",
              "width": 0.5
             },
             "pattern": {
              "fillmode": "overlay",
              "size": 10,
              "solidity": 0.2
             }
            },
            "type": "bar"
           }
          ],
          "scattergeo": [
           {
            "type": "scattergeo",
            "marker": {
             "colorbar": {
              "outlinewidth": 0,
              "ticks": ""
             }
            }
           }
          ],
          "scatterpolar": [
           {
            "type": "scatterpolar",
            "marker": {
             "colorbar": {
              "outlinewidth": 0,
              "ticks": ""
             }
            }
           }
          ],
          "histogram": [
           {
            "marker": {
             "pattern": {
              "fillmode": "overlay",
              "size": 10,
              "solidity": 0.2
             }
            },
            "type": "histogram"
           }
          ],
          "scattergl": [
           {
            "type": "scattergl",
            "marker": {
             "colorbar": {
              "outlinewidth": 0,
              "ticks": ""
             }
            }
           }
          ],
          "scatter3d": [
           {
            "type": "scatter3d",
            "line": {
             "colorbar": {
              "outlinewidth": 0,
              "ticks": ""
             }
            },
            "marker": {
             "colorbar": {
              "outlinewidth": 0,
              "ticks": ""
             }
            }
           }
          ],
          "scattermapbox": [
           {
            "type": "scattermapbox",
            "marker": {
             "colorbar": {
              "outlinewidth": 0,
              "ticks": ""
             }
            }
           }
          ],
          "scatterternary": [
           {
            "type": "scatterternary",
            "marker": {
             "colorbar": {
              "outlinewidth": 0,
              "ticks": ""
             }
            }
           }
          ],
          "scattercarpet": [
           {
            "type": "scattercarpet",
            "marker": {
             "colorbar": {
              "outlinewidth": 0,
              "ticks": ""
             }
            }
           }
          ],
          "carpet": [
           {
            "aaxis": {
             "endlinecolor": "#2a3f5f",
             "gridcolor": "white",
             "linecolor": "white",
             "minorgridcolor": "white",
             "startlinecolor": "#2a3f5f"
            },
            "baxis": {
             "endlinecolor": "#2a3f5f",
             "gridcolor": "white",
             "linecolor": "white",
             "minorgridcolor": "white",
             "startlinecolor": "#2a3f5f"
            },
            "type": "carpet"
           }
          ],
          "table": [
           {
            "cells": {
             "fill": {
              "color": "#EBF0F8"
             },
             "line": {
              "color": "white"
             }
            },
            "header": {
             "fill": {
              "color": "#C8D4E3"
             },
             "line": {
              "color": "white"
             }
            },
            "type": "table"
           }
          ],
          "barpolar": [
           {
            "marker": {
             "line": {
              "color": "#E5ECF6",
              "width": 0.5
             },
             "pattern": {
              "fillmode": "overlay",
              "size": 10,
              "solidity": 0.2
             }
            },
            "type": "barpolar"
           }
          ],
          "pie": [
           {
            "automargin": true,
            "type": "pie"
           }
          ]
         },
         "layout": {
          "autotypenumbers": "strict",
          "colorway": [
           "#636efa",
           "#EF553B",
           "#00cc96",
           "#ab63fa",
           "#FFA15A",
           "#19d3f3",
           "#FF6692",
           "#B6E880",
           "#FF97FF",
           "#FECB52"
          ],
          "font": {
           "color": "#2a3f5f"
          },
          "hovermode": "closest",
          "hoverlabel": {
           "align": "left"
          },
          "paper_bgcolor": "white",
          "plot_bgcolor": "#E5ECF6",
          "polar": {
           "bgcolor": "#E5ECF6",
           "angularaxis": {
            "gridcolor": "white",
            "linecolor": "white",
            "ticks": ""
           },
           "radialaxis": {
            "gridcolor": "white",
            "linecolor": "white",
            "ticks": ""
           }
          },
          "ternary": {
           "bgcolor": "#E5ECF6",
           "aaxis": {
            "gridcolor": "white",
            "linecolor": "white",
            "ticks": ""
           },
           "baxis": {
            "gridcolor": "white",
            "linecolor": "white",
            "ticks": ""
           },
           "caxis": {
            "gridcolor": "white",
            "linecolor": "white",
            "ticks": ""
           }
          },
          "coloraxis": {
           "colorbar": {
            "outlinewidth": 0,
            "ticks": ""
           }
          },
          "colorscale": {
           "sequential": [
            [
             0.0,
             "#0d0887"
            ],
            [
             0.1111111111111111,
             "#46039f"
            ],
            [
             0.2222222222222222,
             "#7201a8"
            ],
            [
             0.3333333333333333,
             "#9c179e"
            ],
            [
             0.4444444444444444,
             "#bd3786"
            ],
            [
             0.5555555555555556,
             "#d8576b"
            ],
            [
             0.6666666666666666,
             "#ed7953"
            ],
            [
             0.7777777777777778,
             "#fb9f3a"
            ],
            [
             0.8888888888888888,
             "#fdca26"
            ],
            [
             1.0,
             "#f0f921"
            ]
           ],
           "sequentialminus": [
            [
             0.0,
             "#0d0887"
            ],
            [
             0.1111111111111111,
             "#46039f"
            ],
            [
             0.2222222222222222,
             "#7201a8"
            ],
            [
             0.3333333333333333,
             "#9c179e"
            ],
            [
             0.4444444444444444,
             "#bd3786"
            ],
            [
             0.5555555555555556,
             "#d8576b"
            ],
            [
             0.6666666666666666,
             "#ed7953"
            ],
            [
             0.7777777777777778,
             "#fb9f3a"
            ],
            [
             0.8888888888888888,
             "#fdca26"
            ],
            [
             1.0,
             "#f0f921"
            ]
           ],
           "diverging": [
            [
             0,
             "#8e0152"
            ],
            [
             0.1,
             "#c51b7d"
            ],
            [
             0.2,
             "#de77ae"
            ],
            [
             0.3,
             "#f1b6da"
            ],
            [
             0.4,
             "#fde0ef"
            ],
            [
             0.5,
             "#f7f7f7"
            ],
            [
             0.6,
             "#e6f5d0"
            ],
            [
             0.7,
             "#b8e186"
            ],
            [
             0.8,
             "#7fbc41"
            ],
            [
             0.9,
             "#4d9221"
            ],
            [
             1,
             "#276419"
            ]
           ]
          },
          "xaxis": {
           "gridcolor": "white",
           "linecolor": "white",
           "ticks": "",
           "title": {
            "standoff": 15
           },
           "zerolinecolor": "white",
           "automargin": true,
           "zerolinewidth": 2
          },
          "yaxis": {
           "gridcolor": "white",
           "linecolor": "white",
           "ticks": "",
           "title": {
            "standoff": 15
           },
           "zerolinecolor": "white",
           "automargin": true,
           "zerolinewidth": 2
          },
          "scene": {
           "xaxis": {
            "backgroundcolor": "#E5ECF6",
            "gridcolor": "white",
            "linecolor": "white",
            "showbackground": true,
            "ticks": "",
            "zerolinecolor": "white",
            "gridwidth": 2
           },
           "yaxis": {
            "backgroundcolor": "#E5ECF6",
            "gridcolor": "white",
            "linecolor": "white",
            "showbackground": true,
            "ticks": "",
            "zerolinecolor": "white",
            "gridwidth": 2
           },
           "zaxis": {
            "backgroundcolor": "#E5ECF6",
            "gridcolor": "white",
            "linecolor": "white",
            "showbackground": true,
            "ticks": "",
            "zerolinecolor": "white",
            "gridwidth": 2
           }
          },
          "shapedefaults": {
           "line": {
            "color": "#2a3f5f"
           }
          },
          "annotationdefaults": {
           "arrowcolor": "#2a3f5f",
           "arrowhead": 0,
           "arrowwidth": 1
          },
          "geo": {
           "bgcolor": "white",
           "landcolor": "#E5ECF6",
           "subunitcolor": "white",
           "showland": true,
           "showlakes": true,
           "lakecolor": "white"
          },
          "title": {
           "x": 0.05
          },
          "mapbox": {
           "style": "light"
          }
         }
        },
        "xaxis": {
         "anchor": "y",
         "domain": [
          0.0,
          1.0
         ],
         "scaleanchor": "y",
         "constrain": "domain",
         "title": {
          "text": "Target"
         }
        },
        "yaxis": {
         "anchor": "x",
         "domain": [
          0.0,
          1.0
         ],
         "autorange": "reversed",
         "constrain": "domain",
         "title": {
          "text": "Prediction"
         }
        },
        "coloraxis": {
         "colorscale": [
          [
           0.0,
           "#0d0887"
          ],
          [
           0.1111111111111111,
           "#46039f"
          ],
          [
           0.2222222222222222,
           "#7201a8"
          ],
          [
           0.3333333333333333,
           "#9c179e"
          ],
          [
           0.4444444444444444,
           "#bd3786"
          ],
          [
           0.5555555555555556,
           "#d8576b"
          ],
          [
           0.6666666666666666,
           "#ed7953"
          ],
          [
           0.7777777777777778,
           "#fb9f3a"
          ],
          [
           0.8888888888888888,
           "#fdca26"
          ],
          [
           1.0,
           "#f0f921"
          ]
         ]
        },
        "margin": {
         "t": 60
        }
       },
       "config": {
        "plotlyServerURL": "https://plot.ly"
       }
      },
      "text/html": "<div>                            <div id=\"154e5d63-77fe-43ae-91af-4206f7a5f2f4\" class=\"plotly-graph-div\" style=\"height:525px; width:100%;\"></div>            <script type=\"text/javascript\">                require([\"plotly\"], function(Plotly) {                    window.PLOTLYENV=window.PLOTLYENV || {};                                    if (document.getElementById(\"154e5d63-77fe-43ae-91af-4206f7a5f2f4\")) {                    Plotly.newPlot(                        \"154e5d63-77fe-43ae-91af-4206f7a5f2f4\",                        [{\"coloraxis\":\"coloraxis\",\"name\":\"0\",\"texttemplate\":\"%{z}\",\"z\":[[40,0,0,0,0,0,0,0,0,0],[0,43,0,0,0,0,0,0,0,0],[0,0,38,0,0,0,0,0,0,0],[0,0,0,34,0,1,0,0,1,0],[0,0,0,0,36,0,0,1,1,0],[0,0,0,0,0,39,0,0,0,0],[0,0,0,0,0,1,31,0,0,0],[0,0,0,0,0,0,0,32,0,0],[0,1,1,0,1,0,0,0,29,0],[0,0,0,0,0,0,0,0,2,28]],\"type\":\"heatmap\",\"xaxis\":\"x\",\"yaxis\":\"y\",\"hovertemplate\":\"x: %{x}<br>y: %{y}<br>color: %{z}<extra></extra>\"}],                        {\"template\":{\"data\":{\"histogram2dcontour\":[{\"type\":\"histogram2dcontour\",\"colorbar\":{\"outlinewidth\":0,\"ticks\":\"\"},\"colorscale\":[[0.0,\"#0d0887\"],[0.1111111111111111,\"#46039f\"],[0.2222222222222222,\"#7201a8\"],[0.3333333333333333,\"#9c179e\"],[0.4444444444444444,\"#bd3786\"],[0.5555555555555556,\"#d8576b\"],[0.6666666666666666,\"#ed7953\"],[0.7777777777777778,\"#fb9f3a\"],[0.8888888888888888,\"#fdca26\"],[1.0,\"#f0f921\"]]}],\"choropleth\":[{\"type\":\"choropleth\",\"colorbar\":{\"outlinewidth\":0,\"ticks\":\"\"}}],\"histogram2d\":[{\"type\":\"histogram2d\",\"colorbar\":{\"outlinewidth\":0,\"ticks\":\"\"},\"colorscale\":[[0.0,\"#0d0887\"],[0.1111111111111111,\"#46039f\"],[0.2222222222222222,\"#7201a8\"],[0.3333333333333333,\"#9c179e\"],[0.4444444444444444,\"#bd3786\"],[0.5555555555555556,\"#d8576b\"],[0.6666666666666666,\"#ed7953\"],[0.7777777777777778,\"#fb9f3a\"],[0.8888888888888888,\"#fdca26\"],[1.0,\"#f0f921\"]]}],\"heatmap\":[{\"type\":\"heatmap\",\"colorbar\":{\"outlinewidth\":0,\"ticks\":\"\"},\"colorscale\":[[0.0,\"#0d0887\"],[0.1111111111111111,\"#46039f\"],[0.2222222222222222,\"#7201a8\"],[0.3333333333333333,\"#9c179e\"],[0.4444444444444444,\"#bd3786\"],[0.5555555555555556,\"#d8576b\"],[0.6666666666666666,\"#ed7953\"],[0.7777777777777778,\"#fb9f3a\"],[0.8888888888888888,\"#fdca26\"],[1.0,\"#f0f921\"]]}],\"heatmapgl\":[{\"type\":\"heatmapgl\",\"colorbar\":{\"outlinewidth\":0,\"ticks\":\"\"},\"colorscale\":[[0.0,\"#0d0887\"],[0.1111111111111111,\"#46039f\"],[0.2222222222222222,\"#7201a8\"],[0.3333333333333333,\"#9c179e\"],[0.4444444444444444,\"#bd3786\"],[0.5555555555555556,\"#d8576b\"],[0.6666666666666666,\"#ed7953\"],[0.7777777777777778,\"#fb9f3a\"],[0.8888888888888888,\"#fdca26\"],[1.0,\"#f0f921\"]]}],\"contourcarpet\":[{\"type\":\"contourcarpet\",\"colorbar\":{\"outlinewidth\":0,\"ticks\":\"\"}}],\"contour\":[{\"type\":\"contour\",\"colorbar\":{\"outlinewidth\":0,\"ticks\":\"\"},\"colorscale\":[[0.0,\"#0d0887\"],[0.1111111111111111,\"#46039f\"],[0.2222222222222222,\"#7201a8\"],[0.3333333333333333,\"#9c179e\"],[0.4444444444444444,\"#bd3786\"],[0.5555555555555556,\"#d8576b\"],[0.6666666666666666,\"#ed7953\"],[0.7777777777777778,\"#fb9f3a\"],[0.8888888888888888,\"#fdca26\"],[1.0,\"#f0f921\"]]}],\"surface\":[{\"type\":\"surface\",\"colorbar\":{\"outlinewidth\":0,\"ticks\":\"\"},\"colorscale\":[[0.0,\"#0d0887\"],[0.1111111111111111,\"#46039f\"],[0.2222222222222222,\"#7201a8\"],[0.3333333333333333,\"#9c179e\"],[0.4444444444444444,\"#bd3786\"],[0.5555555555555556,\"#d8576b\"],[0.6666666666666666,\"#ed7953\"],[0.7777777777777778,\"#fb9f3a\"],[0.8888888888888888,\"#fdca26\"],[1.0,\"#f0f921\"]]}],\"mesh3d\":[{\"type\":\"mesh3d\",\"colorbar\":{\"outlinewidth\":0,\"ticks\":\"\"}}],\"scatter\":[{\"fillpattern\":{\"fillmode\":\"overlay\",\"size\":10,\"solidity\":0.2},\"type\":\"scatter\"}],\"parcoords\":[{\"type\":\"parcoords\",\"line\":{\"colorbar\":{\"outlinewidth\":0,\"ticks\":\"\"}}}],\"scatterpolargl\":[{\"type\":\"scatterpolargl\",\"marker\":{\"colorbar\":{\"outlinewidth\":0,\"ticks\":\"\"}}}],\"bar\":[{\"error_x\":{\"color\":\"#2a3f5f\"},\"error_y\":{\"color\":\"#2a3f5f\"},\"marker\":{\"line\":{\"color\":\"#E5ECF6\",\"width\":0.5},\"pattern\":{\"fillmode\":\"overlay\",\"size\":10,\"solidity\":0.2}},\"type\":\"bar\"}],\"scattergeo\":[{\"type\":\"scattergeo\",\"marker\":{\"colorbar\":{\"outlinewidth\":0,\"ticks\":\"\"}}}],\"scatterpolar\":[{\"type\":\"scatterpolar\",\"marker\":{\"colorbar\":{\"outlinewidth\":0,\"ticks\":\"\"}}}],\"histogram\":[{\"marker\":{\"pattern\":{\"fillmode\":\"overlay\",\"size\":10,\"solidity\":0.2}},\"type\":\"histogram\"}],\"scattergl\":[{\"type\":\"scattergl\",\"marker\":{\"colorbar\":{\"outlinewidth\":0,\"ticks\":\"\"}}}],\"scatter3d\":[{\"type\":\"scatter3d\",\"line\":{\"colorbar\":{\"outlinewidth\":0,\"ticks\":\"\"}},\"marker\":{\"colorbar\":{\"outlinewidth\":0,\"ticks\":\"\"}}}],\"scattermapbox\":[{\"type\":\"scattermapbox\",\"marker\":{\"colorbar\":{\"outlinewidth\":0,\"ticks\":\"\"}}}],\"scatterternary\":[{\"type\":\"scatterternary\",\"marker\":{\"colorbar\":{\"outlinewidth\":0,\"ticks\":\"\"}}}],\"scattercarpet\":[{\"type\":\"scattercarpet\",\"marker\":{\"colorbar\":{\"outlinewidth\":0,\"ticks\":\"\"}}}],\"carpet\":[{\"aaxis\":{\"endlinecolor\":\"#2a3f5f\",\"gridcolor\":\"white\",\"linecolor\":\"white\",\"minorgridcolor\":\"white\",\"startlinecolor\":\"#2a3f5f\"},\"baxis\":{\"endlinecolor\":\"#2a3f5f\",\"gridcolor\":\"white\",\"linecolor\":\"white\",\"minorgridcolor\":\"white\",\"startlinecolor\":\"#2a3f5f\"},\"type\":\"carpet\"}],\"table\":[{\"cells\":{\"fill\":{\"color\":\"#EBF0F8\"},\"line\":{\"color\":\"white\"}},\"header\":{\"fill\":{\"color\":\"#C8D4E3\"},\"line\":{\"color\":\"white\"}},\"type\":\"table\"}],\"barpolar\":[{\"marker\":{\"line\":{\"color\":\"#E5ECF6\",\"width\":0.5},\"pattern\":{\"fillmode\":\"overlay\",\"size\":10,\"solidity\":0.2}},\"type\":\"barpolar\"}],\"pie\":[{\"automargin\":true,\"type\":\"pie\"}]},\"layout\":{\"autotypenumbers\":\"strict\",\"colorway\":[\"#636efa\",\"#EF553B\",\"#00cc96\",\"#ab63fa\",\"#FFA15A\",\"#19d3f3\",\"#FF6692\",\"#B6E880\",\"#FF97FF\",\"#FECB52\"],\"font\":{\"color\":\"#2a3f5f\"},\"hovermode\":\"closest\",\"hoverlabel\":{\"align\":\"left\"},\"paper_bgcolor\":\"white\",\"plot_bgcolor\":\"#E5ECF6\",\"polar\":{\"bgcolor\":\"#E5ECF6\",\"angularaxis\":{\"gridcolor\":\"white\",\"linecolor\":\"white\",\"ticks\":\"\"},\"radialaxis\":{\"gridcolor\":\"white\",\"linecolor\":\"white\",\"ticks\":\"\"}},\"ternary\":{\"bgcolor\":\"#E5ECF6\",\"aaxis\":{\"gridcolor\":\"white\",\"linecolor\":\"white\",\"ticks\":\"\"},\"baxis\":{\"gridcolor\":\"white\",\"linecolor\":\"white\",\"ticks\":\"\"},\"caxis\":{\"gridcolor\":\"white\",\"linecolor\":\"white\",\"ticks\":\"\"}},\"coloraxis\":{\"colorbar\":{\"outlinewidth\":0,\"ticks\":\"\"}},\"colorscale\":{\"sequential\":[[0.0,\"#0d0887\"],[0.1111111111111111,\"#46039f\"],[0.2222222222222222,\"#7201a8\"],[0.3333333333333333,\"#9c179e\"],[0.4444444444444444,\"#bd3786\"],[0.5555555555555556,\"#d8576b\"],[0.6666666666666666,\"#ed7953\"],[0.7777777777777778,\"#fb9f3a\"],[0.8888888888888888,\"#fdca26\"],[1.0,\"#f0f921\"]],\"sequentialminus\":[[0.0,\"#0d0887\"],[0.1111111111111111,\"#46039f\"],[0.2222222222222222,\"#7201a8\"],[0.3333333333333333,\"#9c179e\"],[0.4444444444444444,\"#bd3786\"],[0.5555555555555556,\"#d8576b\"],[0.6666666666666666,\"#ed7953\"],[0.7777777777777778,\"#fb9f3a\"],[0.8888888888888888,\"#fdca26\"],[1.0,\"#f0f921\"]],\"diverging\":[[0,\"#8e0152\"],[0.1,\"#c51b7d\"],[0.2,\"#de77ae\"],[0.3,\"#f1b6da\"],[0.4,\"#fde0ef\"],[0.5,\"#f7f7f7\"],[0.6,\"#e6f5d0\"],[0.7,\"#b8e186\"],[0.8,\"#7fbc41\"],[0.9,\"#4d9221\"],[1,\"#276419\"]]},\"xaxis\":{\"gridcolor\":\"white\",\"linecolor\":\"white\",\"ticks\":\"\",\"title\":{\"standoff\":15},\"zerolinecolor\":\"white\",\"automargin\":true,\"zerolinewidth\":2},\"yaxis\":{\"gridcolor\":\"white\",\"linecolor\":\"white\",\"ticks\":\"\",\"title\":{\"standoff\":15},\"zerolinecolor\":\"white\",\"automargin\":true,\"zerolinewidth\":2},\"scene\":{\"xaxis\":{\"backgroundcolor\":\"#E5ECF6\",\"gridcolor\":\"white\",\"linecolor\":\"white\",\"showbackground\":true,\"ticks\":\"\",\"zerolinecolor\":\"white\",\"gridwidth\":2},\"yaxis\":{\"backgroundcolor\":\"#E5ECF6\",\"gridcolor\":\"white\",\"linecolor\":\"white\",\"showbackground\":true,\"ticks\":\"\",\"zerolinecolor\":\"white\",\"gridwidth\":2},\"zaxis\":{\"backgroundcolor\":\"#E5ECF6\",\"gridcolor\":\"white\",\"linecolor\":\"white\",\"showbackground\":true,\"ticks\":\"\",\"zerolinecolor\":\"white\",\"gridwidth\":2}},\"shapedefaults\":{\"line\":{\"color\":\"#2a3f5f\"}},\"annotationdefaults\":{\"arrowcolor\":\"#2a3f5f\",\"arrowhead\":0,\"arrowwidth\":1},\"geo\":{\"bgcolor\":\"white\",\"landcolor\":\"#E5ECF6\",\"subunitcolor\":\"white\",\"showland\":true,\"showlakes\":true,\"lakecolor\":\"white\"},\"title\":{\"x\":0.05},\"mapbox\":{\"style\":\"light\"}}},\"xaxis\":{\"anchor\":\"y\",\"domain\":[0.0,1.0],\"scaleanchor\":\"y\",\"constrain\":\"domain\",\"title\":{\"text\":\"Target\"}},\"yaxis\":{\"anchor\":\"x\",\"domain\":[0.0,1.0],\"autorange\":\"reversed\",\"constrain\":\"domain\",\"title\":{\"text\":\"Prediction\"}},\"coloraxis\":{\"colorscale\":[[0.0,\"#0d0887\"],[0.1111111111111111,\"#46039f\"],[0.2222222222222222,\"#7201a8\"],[0.3333333333333333,\"#9c179e\"],[0.4444444444444444,\"#bd3786\"],[0.5555555555555556,\"#d8576b\"],[0.6666666666666666,\"#ed7953\"],[0.7777777777777778,\"#fb9f3a\"],[0.8888888888888888,\"#fdca26\"],[1.0,\"#f0f921\"]]},\"margin\":{\"t\":60}},                        {\"responsive\": true}                    ).then(function(){\n                            \nvar gd = document.getElementById('154e5d63-77fe-43ae-91af-4206f7a5f2f4');\nvar x = new MutationObserver(function (mutations, observer) {{\n        var display = window.getComputedStyle(gd).display;\n        if (!display || display === 'none') {{\n            console.log([gd, 'removed!']);\n            Plotly.purge(gd);\n            observer.disconnect();\n        }}\n}});\n\n// Listen for the removal of the full notebook cells\nvar notebookContainer = gd.closest('#notebook-container');\nif (notebookContainer) {{\n    x.observe(notebookContainer, {childList: true});\n}}\n\n// Listen for the clearing of the current output cell\nvar outputEl = gd.closest('.output');\nif (outputEl) {{\n    x.observe(outputEl, {childList: true});\n}}\n\n                        })                };                });            </script>        </div>"
     },
     "metadata": {},
     "output_type": "display_data"
    },
    {
     "name": "stdout",
     "output_type": "stream",
     "text": [
      "              precision    recall  f1-score   support\n",
      "\n",
      "           0       1.00      1.00      1.00        40\n",
      "           1       0.98      1.00      0.99        43\n",
      "           2       0.97      1.00      0.99        38\n",
      "           3       1.00      0.94      0.97        36\n",
      "           4       0.97      0.95      0.96        38\n",
      "           5       0.95      1.00      0.97        39\n",
      "           6       1.00      0.97      0.98        32\n",
      "           7       0.97      1.00      0.98        32\n",
      "           8       0.88      0.91      0.89        32\n",
      "           9       1.00      0.93      0.97        30\n",
      "\n",
      "    accuracy                           0.97       360\n",
      "   macro avg       0.97      0.97      0.97       360\n",
      "weighted avg       0.97      0.97      0.97       360\n",
      "\n",
      "Learning rate set to 0.069888\n",
      "0:\tlearn: 2.0710959\ttotal: 17.4ms\tremaining: 17.3s\n",
      "1:\tlearn: 1.8986920\ttotal: 33.2ms\tremaining: 16.6s\n",
      "2:\tlearn: 1.7567134\ttotal: 48.2ms\tremaining: 16s\n",
      "3:\tlearn: 1.6383114\ttotal: 62.8ms\tremaining: 15.6s\n",
      "4:\tlearn: 1.5310881\ttotal: 77.3ms\tremaining: 15.4s\n",
      "5:\tlearn: 1.4383016\ttotal: 92.2ms\tremaining: 15.3s\n",
      "6:\tlearn: 1.3569992\ttotal: 108ms\tremaining: 15.3s\n",
      "7:\tlearn: 1.2844983\ttotal: 122ms\tremaining: 15.2s\n",
      "8:\tlearn: 1.2189297\ttotal: 137ms\tremaining: 15.1s\n",
      "9:\tlearn: 1.1586014\ttotal: 151ms\tremaining: 15s\n",
      "10:\tlearn: 1.1039770\ttotal: 165ms\tremaining: 14.9s\n",
      "11:\tlearn: 1.0518729\ttotal: 179ms\tremaining: 14.8s\n",
      "12:\tlearn: 1.0000397\ttotal: 193ms\tremaining: 14.7s\n",
      "13:\tlearn: 0.9541291\ttotal: 207ms\tremaining: 14.6s\n",
      "14:\tlearn: 0.9112348\ttotal: 222ms\tremaining: 14.6s\n",
      "15:\tlearn: 0.8714354\ttotal: 236ms\tremaining: 14.5s\n",
      "16:\tlearn: 0.8361636\ttotal: 249ms\tremaining: 14.4s\n",
      "17:\tlearn: 0.8026465\ttotal: 264ms\tremaining: 14.4s\n",
      "18:\tlearn: 0.7705104\ttotal: 280ms\tremaining: 14.4s\n",
      "19:\tlearn: 0.7414988\ttotal: 295ms\tremaining: 14.4s\n",
      "20:\tlearn: 0.7144047\ttotal: 309ms\tremaining: 14.4s\n",
      "21:\tlearn: 0.6888534\ttotal: 324ms\tremaining: 14.4s\n",
      "22:\tlearn: 0.6649483\ttotal: 339ms\tremaining: 14.4s\n",
      "23:\tlearn: 0.6429990\ttotal: 354ms\tremaining: 14.4s\n",
      "24:\tlearn: 0.6210337\ttotal: 369ms\tremaining: 14.4s\n",
      "25:\tlearn: 0.6004066\ttotal: 383ms\tremaining: 14.4s\n",
      "26:\tlearn: 0.5822440\ttotal: 397ms\tremaining: 14.3s\n",
      "27:\tlearn: 0.5633082\ttotal: 412ms\tremaining: 14.3s\n",
      "28:\tlearn: 0.5459153\ttotal: 427ms\tremaining: 14.3s\n",
      "29:\tlearn: 0.5302162\ttotal: 443ms\tremaining: 14.3s\n",
      "30:\tlearn: 0.5150322\ttotal: 458ms\tremaining: 14.3s\n",
      "31:\tlearn: 0.4992438\ttotal: 473ms\tremaining: 14.3s\n",
      "32:\tlearn: 0.4846235\ttotal: 487ms\tremaining: 14.3s\n",
      "33:\tlearn: 0.4708075\ttotal: 500ms\tremaining: 14.2s\n",
      "34:\tlearn: 0.4577665\ttotal: 515ms\tremaining: 14.2s\n",
      "35:\tlearn: 0.4448726\ttotal: 529ms\tremaining: 14.2s\n",
      "36:\tlearn: 0.4330829\ttotal: 544ms\tremaining: 14.1s\n",
      "37:\tlearn: 0.4214449\ttotal: 559ms\tremaining: 14.2s\n",
      "38:\tlearn: 0.4099117\ttotal: 574ms\tremaining: 14.1s\n",
      "39:\tlearn: 0.3990738\ttotal: 589ms\tremaining: 14.1s\n",
      "40:\tlearn: 0.3884234\ttotal: 604ms\tremaining: 14.1s\n",
      "41:\tlearn: 0.3783382\ttotal: 620ms\tremaining: 14.1s\n",
      "42:\tlearn: 0.3693723\ttotal: 636ms\tremaining: 14.1s\n",
      "43:\tlearn: 0.3606100\ttotal: 650ms\tremaining: 14.1s\n",
      "44:\tlearn: 0.3520677\ttotal: 667ms\tremaining: 14.2s\n",
      "45:\tlearn: 0.3431760\ttotal: 683ms\tremaining: 14.2s\n",
      "46:\tlearn: 0.3352109\ttotal: 698ms\tremaining: 14.1s\n",
      "47:\tlearn: 0.3269699\ttotal: 712ms\tremaining: 14.1s\n",
      "48:\tlearn: 0.3193406\ttotal: 728ms\tremaining: 14.1s\n",
      "49:\tlearn: 0.3120345\ttotal: 742ms\tremaining: 14.1s\n",
      "50:\tlearn: 0.3052185\ttotal: 756ms\tremaining: 14.1s\n",
      "51:\tlearn: 0.2980564\ttotal: 772ms\tremaining: 14.1s\n",
      "52:\tlearn: 0.2921044\ttotal: 787ms\tremaining: 14.1s\n",
      "53:\tlearn: 0.2862605\ttotal: 801ms\tremaining: 14s\n",
      "54:\tlearn: 0.2803197\ttotal: 816ms\tremaining: 14s\n",
      "55:\tlearn: 0.2749071\ttotal: 832ms\tremaining: 14s\n",
      "56:\tlearn: 0.2695421\ttotal: 846ms\tremaining: 14s\n",
      "57:\tlearn: 0.2635640\ttotal: 862ms\tremaining: 14s\n",
      "58:\tlearn: 0.2590295\ttotal: 876ms\tremaining: 14s\n",
      "59:\tlearn: 0.2548304\ttotal: 891ms\tremaining: 14s\n",
      "60:\tlearn: 0.2497913\ttotal: 906ms\tremaining: 13.9s\n",
      "61:\tlearn: 0.2449686\ttotal: 921ms\tremaining: 13.9s\n",
      "62:\tlearn: 0.2404017\ttotal: 936ms\tremaining: 13.9s\n",
      "63:\tlearn: 0.2356421\ttotal: 951ms\tremaining: 13.9s\n",
      "64:\tlearn: 0.2313986\ttotal: 964ms\tremaining: 13.9s\n",
      "65:\tlearn: 0.2273277\ttotal: 979ms\tremaining: 13.8s\n",
      "66:\tlearn: 0.2228320\ttotal: 993ms\tremaining: 13.8s\n",
      "67:\tlearn: 0.2188750\ttotal: 1.01s\tremaining: 13.8s\n",
      "68:\tlearn: 0.2149730\ttotal: 1.02s\tremaining: 13.8s\n",
      "69:\tlearn: 0.2114063\ttotal: 1.03s\tremaining: 13.7s\n",
      "70:\tlearn: 0.2078955\ttotal: 1.05s\tremaining: 13.7s\n",
      "71:\tlearn: 0.2042753\ttotal: 1.06s\tremaining: 13.7s\n",
      "72:\tlearn: 0.2008925\ttotal: 1.08s\tremaining: 13.7s\n",
      "73:\tlearn: 0.1973073\ttotal: 1.09s\tremaining: 13.7s\n",
      "74:\tlearn: 0.1941351\ttotal: 1.11s\tremaining: 13.7s\n",
      "75:\tlearn: 0.1907960\ttotal: 1.12s\tremaining: 13.6s\n",
      "76:\tlearn: 0.1877349\ttotal: 1.14s\tremaining: 13.6s\n",
      "77:\tlearn: 0.1847796\ttotal: 1.15s\tremaining: 13.6s\n",
      "78:\tlearn: 0.1818935\ttotal: 1.16s\tremaining: 13.5s\n",
      "79:\tlearn: 0.1790894\ttotal: 1.17s\tremaining: 13.5s\n",
      "80:\tlearn: 0.1762526\ttotal: 1.19s\tremaining: 13.5s\n",
      "81:\tlearn: 0.1736206\ttotal: 1.2s\tremaining: 13.5s\n",
      "82:\tlearn: 0.1710401\ttotal: 1.21s\tremaining: 13.4s\n",
      "83:\tlearn: 0.1684855\ttotal: 1.23s\tremaining: 13.4s\n",
      "84:\tlearn: 0.1660068\ttotal: 1.24s\tremaining: 13.4s\n",
      "85:\tlearn: 0.1638291\ttotal: 1.26s\tremaining: 13.4s\n",
      "86:\tlearn: 0.1616141\ttotal: 1.28s\tremaining: 13.4s\n",
      "87:\tlearn: 0.1592369\ttotal: 1.29s\tremaining: 13.4s\n",
      "88:\tlearn: 0.1570492\ttotal: 1.3s\tremaining: 13.4s\n",
      "89:\tlearn: 0.1549716\ttotal: 1.32s\tremaining: 13.3s\n",
      "90:\tlearn: 0.1528005\ttotal: 1.33s\tremaining: 13.3s\n",
      "91:\tlearn: 0.1507484\ttotal: 1.34s\tremaining: 13.2s\n",
      "92:\tlearn: 0.1491666\ttotal: 1.35s\tremaining: 13.2s\n",
      "93:\tlearn: 0.1473114\ttotal: 1.37s\tremaining: 13.2s\n",
      "94:\tlearn: 0.1455858\ttotal: 1.38s\tremaining: 13.1s\n",
      "95:\tlearn: 0.1438791\ttotal: 1.39s\tremaining: 13.1s\n",
      "96:\tlearn: 0.1417999\ttotal: 1.41s\tremaining: 13.1s\n",
      "97:\tlearn: 0.1404469\ttotal: 1.42s\tremaining: 13.1s\n",
      "98:\tlearn: 0.1386789\ttotal: 1.43s\tremaining: 13.1s\n",
      "99:\tlearn: 0.1369603\ttotal: 1.45s\tremaining: 13s\n",
      "100:\tlearn: 0.1358437\ttotal: 1.46s\tremaining: 13s\n",
      "101:\tlearn: 0.1347385\ttotal: 1.47s\tremaining: 13s\n",
      "102:\tlearn: 0.1329841\ttotal: 1.49s\tremaining: 12.9s\n",
      "103:\tlearn: 0.1312824\ttotal: 1.5s\tremaining: 12.9s\n",
      "104:\tlearn: 0.1300514\ttotal: 1.51s\tremaining: 12.9s\n",
      "105:\tlearn: 0.1283129\ttotal: 1.53s\tremaining: 12.9s\n",
      "106:\tlearn: 0.1269624\ttotal: 1.54s\tremaining: 12.9s\n",
      "107:\tlearn: 0.1259583\ttotal: 1.55s\tremaining: 12.8s\n",
      "108:\tlearn: 0.1249805\ttotal: 1.56s\tremaining: 12.8s\n",
      "109:\tlearn: 0.1238434\ttotal: 1.58s\tremaining: 12.8s\n",
      "110:\tlearn: 0.1223863\ttotal: 1.59s\tremaining: 12.7s\n",
      "111:\tlearn: 0.1208711\ttotal: 1.61s\tremaining: 12.7s\n",
      "112:\tlearn: 0.1198588\ttotal: 1.62s\tremaining: 12.7s\n",
      "113:\tlearn: 0.1188632\ttotal: 1.63s\tremaining: 12.7s\n",
      "114:\tlearn: 0.1175265\ttotal: 1.64s\tremaining: 12.6s\n",
      "115:\tlearn: 0.1165635\ttotal: 1.65s\tremaining: 12.6s\n",
      "116:\tlearn: 0.1155199\ttotal: 1.67s\tremaining: 12.6s\n",
      "117:\tlearn: 0.1143859\ttotal: 1.68s\tremaining: 12.6s\n",
      "118:\tlearn: 0.1136647\ttotal: 1.69s\tremaining: 12.5s\n",
      "119:\tlearn: 0.1126107\ttotal: 1.71s\tremaining: 12.5s\n",
      "120:\tlearn: 0.1116125\ttotal: 1.72s\tremaining: 12.5s\n",
      "121:\tlearn: 0.1107617\ttotal: 1.73s\tremaining: 12.4s\n",
      "122:\tlearn: 0.1099157\ttotal: 1.74s\tremaining: 12.4s\n",
      "123:\tlearn: 0.1087330\ttotal: 1.75s\tremaining: 12.4s\n",
      "124:\tlearn: 0.1083000\ttotal: 1.77s\tremaining: 12.4s\n",
      "125:\tlearn: 0.1075721\ttotal: 1.78s\tremaining: 12.3s\n",
      "126:\tlearn: 0.1070369\ttotal: 1.79s\tremaining: 12.3s\n",
      "127:\tlearn: 0.1060442\ttotal: 1.8s\tremaining: 12.3s\n",
      "128:\tlearn: 0.1050040\ttotal: 1.81s\tremaining: 12.3s\n",
      "129:\tlearn: 0.1038898\ttotal: 1.83s\tremaining: 12.2s\n",
      "130:\tlearn: 0.1028739\ttotal: 1.84s\tremaining: 12.2s\n",
      "131:\tlearn: 0.1017975\ttotal: 1.85s\tremaining: 12.2s\n",
      "132:\tlearn: 0.1007740\ttotal: 1.87s\tremaining: 12.2s\n",
      "133:\tlearn: 0.1000295\ttotal: 1.88s\tremaining: 12.1s\n",
      "134:\tlearn: 0.0988655\ttotal: 1.89s\tremaining: 12.1s\n",
      "135:\tlearn: 0.0977679\ttotal: 1.91s\tremaining: 12.1s\n",
      "136:\tlearn: 0.0968549\ttotal: 1.92s\tremaining: 12.1s\n",
      "137:\tlearn: 0.0961550\ttotal: 1.93s\tremaining: 12.1s\n",
      "138:\tlearn: 0.0960324\ttotal: 1.94s\tremaining: 12s\n",
      "139:\tlearn: 0.0957207\ttotal: 1.95s\tremaining: 12s\n",
      "140:\tlearn: 0.0948625\ttotal: 1.97s\tremaining: 12s\n",
      "141:\tlearn: 0.0944614\ttotal: 1.98s\tremaining: 11.9s\n",
      "142:\tlearn: 0.0935070\ttotal: 1.99s\tremaining: 11.9s\n",
      "143:\tlearn: 0.0931596\ttotal: 2s\tremaining: 11.9s\n",
      "144:\tlearn: 0.0927872\ttotal: 2.01s\tremaining: 11.9s\n",
      "145:\tlearn: 0.0925373\ttotal: 2.02s\tremaining: 11.8s\n",
      "146:\tlearn: 0.0921227\ttotal: 2.04s\tremaining: 11.8s\n",
      "147:\tlearn: 0.0917372\ttotal: 2.05s\tremaining: 11.8s\n",
      "148:\tlearn: 0.0910429\ttotal: 2.06s\tremaining: 11.8s\n",
      "149:\tlearn: 0.0902127\ttotal: 2.07s\tremaining: 11.8s\n",
      "150:\tlearn: 0.0898971\ttotal: 2.08s\tremaining: 11.7s\n",
      "151:\tlearn: 0.0895571\ttotal: 2.1s\tremaining: 11.7s\n",
      "152:\tlearn: 0.0887678\ttotal: 2.11s\tremaining: 11.7s\n",
      "153:\tlearn: 0.0879408\ttotal: 2.13s\tremaining: 11.7s\n",
      "154:\tlearn: 0.0876774\ttotal: 2.14s\tremaining: 11.6s\n",
      "155:\tlearn: 0.0870304\ttotal: 2.15s\tremaining: 11.6s\n",
      "156:\tlearn: 0.0867659\ttotal: 2.16s\tremaining: 11.6s\n",
      "157:\tlearn: 0.0865252\ttotal: 2.17s\tremaining: 11.6s\n",
      "158:\tlearn: 0.0865015\ttotal: 2.18s\tremaining: 11.5s\n",
      "159:\tlearn: 0.0859323\ttotal: 2.19s\tremaining: 11.5s\n",
      "160:\tlearn: 0.0854058\ttotal: 2.2s\tremaining: 11.5s\n",
      "161:\tlearn: 0.0852206\ttotal: 2.21s\tremaining: 11.5s\n",
      "162:\tlearn: 0.0846794\ttotal: 2.23s\tremaining: 11.4s\n",
      "163:\tlearn: 0.0838295\ttotal: 2.24s\tremaining: 11.4s\n",
      "164:\tlearn: 0.0830593\ttotal: 2.25s\tremaining: 11.4s\n",
      "165:\tlearn: 0.0824271\ttotal: 2.26s\tremaining: 11.4s\n",
      "166:\tlearn: 0.0817976\ttotal: 2.27s\tremaining: 11.3s\n",
      "167:\tlearn: 0.0812883\ttotal: 2.29s\tremaining: 11.3s\n",
      "168:\tlearn: 0.0806785\ttotal: 2.3s\tremaining: 11.3s\n",
      "169:\tlearn: 0.0805163\ttotal: 2.31s\tremaining: 11.3s\n",
      "170:\tlearn: 0.0798716\ttotal: 2.33s\tremaining: 11.3s\n",
      "171:\tlearn: 0.0793049\ttotal: 2.34s\tremaining: 11.3s\n",
      "172:\tlearn: 0.0788340\ttotal: 2.35s\tremaining: 11.2s\n",
      "173:\tlearn: 0.0782208\ttotal: 2.36s\tremaining: 11.2s\n",
      "174:\tlearn: 0.0780824\ttotal: 2.37s\tremaining: 11.2s\n",
      "175:\tlearn: 0.0779458\ttotal: 2.38s\tremaining: 11.2s\n",
      "176:\tlearn: 0.0776613\ttotal: 2.39s\tremaining: 11.1s\n",
      "177:\tlearn: 0.0776446\ttotal: 2.4s\tremaining: 11.1s\n",
      "178:\tlearn: 0.0770373\ttotal: 2.42s\tremaining: 11.1s\n",
      "179:\tlearn: 0.0764479\ttotal: 2.43s\tremaining: 11.1s\n",
      "180:\tlearn: 0.0762772\ttotal: 2.44s\tremaining: 11s\n",
      "181:\tlearn: 0.0757010\ttotal: 2.45s\tremaining: 11s\n",
      "182:\tlearn: 0.0751693\ttotal: 2.47s\tremaining: 11s\n",
      "183:\tlearn: 0.0745727\ttotal: 2.48s\tremaining: 11s\n",
      "184:\tlearn: 0.0742422\ttotal: 2.49s\tremaining: 11s\n",
      "185:\tlearn: 0.0737682\ttotal: 2.51s\tremaining: 11s\n",
      "186:\tlearn: 0.0736302\ttotal: 2.52s\tremaining: 10.9s\n",
      "187:\tlearn: 0.0729904\ttotal: 2.53s\tremaining: 10.9s\n",
      "188:\tlearn: 0.0726159\ttotal: 2.54s\tremaining: 10.9s\n",
      "189:\tlearn: 0.0726005\ttotal: 2.55s\tremaining: 10.9s\n",
      "190:\tlearn: 0.0724030\ttotal: 2.56s\tremaining: 10.9s\n",
      "191:\tlearn: 0.0723154\ttotal: 2.58s\tremaining: 10.8s\n",
      "192:\tlearn: 0.0718259\ttotal: 2.59s\tremaining: 10.8s\n",
      "193:\tlearn: 0.0712812\ttotal: 2.6s\tremaining: 10.8s\n",
      "194:\tlearn: 0.0707829\ttotal: 2.61s\tremaining: 10.8s\n",
      "195:\tlearn: 0.0706676\ttotal: 2.62s\tremaining: 10.8s\n",
      "196:\tlearn: 0.0704053\ttotal: 2.64s\tremaining: 10.7s\n",
      "197:\tlearn: 0.0701612\ttotal: 2.65s\tremaining: 10.7s\n",
      "198:\tlearn: 0.0696552\ttotal: 2.66s\tremaining: 10.7s\n",
      "199:\tlearn: 0.0690929\ttotal: 2.67s\tremaining: 10.7s\n",
      "200:\tlearn: 0.0687630\ttotal: 2.69s\tremaining: 10.7s\n",
      "201:\tlearn: 0.0683629\ttotal: 2.7s\tremaining: 10.7s\n",
      "202:\tlearn: 0.0680893\ttotal: 2.71s\tremaining: 10.6s\n",
      "203:\tlearn: 0.0674794\ttotal: 2.73s\tremaining: 10.6s\n",
      "204:\tlearn: 0.0670492\ttotal: 2.74s\tremaining: 10.6s\n",
      "205:\tlearn: 0.0665578\ttotal: 2.75s\tremaining: 10.6s\n",
      "206:\tlearn: 0.0662215\ttotal: 2.76s\tremaining: 10.6s\n",
      "207:\tlearn: 0.0658778\ttotal: 2.77s\tremaining: 10.6s\n",
      "208:\tlearn: 0.0655131\ttotal: 2.79s\tremaining: 10.6s\n",
      "209:\tlearn: 0.0650996\ttotal: 2.8s\tremaining: 10.5s\n",
      "210:\tlearn: 0.0646160\ttotal: 2.81s\tremaining: 10.5s\n",
      "211:\tlearn: 0.0643883\ttotal: 2.82s\tremaining: 10.5s\n",
      "212:\tlearn: 0.0641151\ttotal: 2.84s\tremaining: 10.5s\n",
      "213:\tlearn: 0.0636030\ttotal: 2.85s\tremaining: 10.5s\n",
      "214:\tlearn: 0.0632414\ttotal: 2.86s\tremaining: 10.5s\n",
      "215:\tlearn: 0.0628155\ttotal: 2.88s\tremaining: 10.4s\n",
      "216:\tlearn: 0.0626102\ttotal: 2.89s\tremaining: 10.4s\n",
      "217:\tlearn: 0.0624019\ttotal: 2.9s\tremaining: 10.4s\n",
      "218:\tlearn: 0.0620672\ttotal: 2.91s\tremaining: 10.4s\n",
      "219:\tlearn: 0.0619692\ttotal: 2.92s\tremaining: 10.4s\n",
      "220:\tlearn: 0.0616172\ttotal: 2.94s\tremaining: 10.4s\n",
      "221:\tlearn: 0.0614325\ttotal: 2.95s\tremaining: 10.3s\n",
      "222:\tlearn: 0.0610383\ttotal: 2.96s\tremaining: 10.3s\n",
      "223:\tlearn: 0.0607368\ttotal: 2.98s\tremaining: 10.3s\n",
      "224:\tlearn: 0.0604541\ttotal: 2.99s\tremaining: 10.3s\n",
      "225:\tlearn: 0.0600467\ttotal: 3s\tremaining: 10.3s\n",
      "226:\tlearn: 0.0596930\ttotal: 3.02s\tremaining: 10.3s\n",
      "227:\tlearn: 0.0593896\ttotal: 3.03s\tremaining: 10.3s\n",
      "228:\tlearn: 0.0591536\ttotal: 3.04s\tremaining: 10.2s\n",
      "229:\tlearn: 0.0589907\ttotal: 3.05s\tremaining: 10.2s\n",
      "230:\tlearn: 0.0588671\ttotal: 3.07s\tremaining: 10.2s\n",
      "231:\tlearn: 0.0587062\ttotal: 3.08s\tremaining: 10.2s\n",
      "232:\tlearn: 0.0585529\ttotal: 3.09s\tremaining: 10.2s\n",
      "233:\tlearn: 0.0581817\ttotal: 3.1s\tremaining: 10.2s\n",
      "234:\tlearn: 0.0580789\ttotal: 3.11s\tremaining: 10.1s\n",
      "235:\tlearn: 0.0577591\ttotal: 3.13s\tremaining: 10.1s\n",
      "236:\tlearn: 0.0572868\ttotal: 3.14s\tremaining: 10.1s\n",
      "237:\tlearn: 0.0571284\ttotal: 3.15s\tremaining: 10.1s\n",
      "238:\tlearn: 0.0568082\ttotal: 3.17s\tremaining: 10.1s\n",
      "239:\tlearn: 0.0567965\ttotal: 3.18s\tremaining: 10.1s\n",
      "240:\tlearn: 0.0564503\ttotal: 3.19s\tremaining: 10s\n",
      "241:\tlearn: 0.0564409\ttotal: 3.2s\tremaining: 10s\n",
      "242:\tlearn: 0.0561427\ttotal: 3.21s\tremaining: 10s\n",
      "243:\tlearn: 0.0558732\ttotal: 3.23s\tremaining: 10s\n",
      "244:\tlearn: 0.0554818\ttotal: 3.24s\tremaining: 9.99s\n",
      "245:\tlearn: 0.0551651\ttotal: 3.25s\tremaining: 9.97s\n",
      "246:\tlearn: 0.0549992\ttotal: 3.27s\tremaining: 9.96s\n",
      "247:\tlearn: 0.0548498\ttotal: 3.28s\tremaining: 9.94s\n",
      "248:\tlearn: 0.0545495\ttotal: 3.29s\tremaining: 9.93s\n",
      "249:\tlearn: 0.0543337\ttotal: 3.3s\tremaining: 9.91s\n",
      "250:\tlearn: 0.0540358\ttotal: 3.31s\tremaining: 9.89s\n",
      "251:\tlearn: 0.0538614\ttotal: 3.33s\tremaining: 9.87s\n",
      "252:\tlearn: 0.0538378\ttotal: 3.34s\tremaining: 9.85s\n",
      "253:\tlearn: 0.0537017\ttotal: 3.35s\tremaining: 9.84s\n",
      "254:\tlearn: 0.0535830\ttotal: 3.36s\tremaining: 9.82s\n",
      "255:\tlearn: 0.0534738\ttotal: 3.37s\tremaining: 9.8s\n",
      "256:\tlearn: 0.0533139\ttotal: 3.38s\tremaining: 9.78s\n",
      "257:\tlearn: 0.0532642\ttotal: 3.4s\tremaining: 9.77s\n",
      "258:\tlearn: 0.0529537\ttotal: 3.41s\tremaining: 9.75s\n",
      "259:\tlearn: 0.0527708\ttotal: 3.42s\tremaining: 9.74s\n",
      "260:\tlearn: 0.0525670\ttotal: 3.43s\tremaining: 9.72s\n",
      "261:\tlearn: 0.0521764\ttotal: 3.45s\tremaining: 9.71s\n",
      "262:\tlearn: 0.0521689\ttotal: 3.46s\tremaining: 9.69s\n",
      "263:\tlearn: 0.0519433\ttotal: 3.47s\tremaining: 9.67s\n",
      "264:\tlearn: 0.0519361\ttotal: 3.48s\tremaining: 9.65s\n",
      "265:\tlearn: 0.0518263\ttotal: 3.49s\tremaining: 9.63s\n",
      "266:\tlearn: 0.0514423\ttotal: 3.5s\tremaining: 9.62s\n",
      "267:\tlearn: 0.0511928\ttotal: 3.52s\tremaining: 9.6s\n",
      "268:\tlearn: 0.0511834\ttotal: 3.53s\tremaining: 9.59s\n",
      "269:\tlearn: 0.0508120\ttotal: 3.54s\tremaining: 9.57s\n",
      "270:\tlearn: 0.0506928\ttotal: 3.55s\tremaining: 9.55s\n",
      "271:\tlearn: 0.0506232\ttotal: 3.56s\tremaining: 9.54s\n",
      "272:\tlearn: 0.0505309\ttotal: 3.57s\tremaining: 9.51s\n",
      "273:\tlearn: 0.0502734\ttotal: 3.58s\tremaining: 9.5s\n",
      "274:\tlearn: 0.0499384\ttotal: 3.6s\tremaining: 9.49s\n",
      "275:\tlearn: 0.0497712\ttotal: 3.61s\tremaining: 9.48s\n",
      "276:\tlearn: 0.0495151\ttotal: 3.63s\tremaining: 9.46s\n",
      "277:\tlearn: 0.0492976\ttotal: 3.64s\tremaining: 9.45s\n",
      "278:\tlearn: 0.0491422\ttotal: 3.65s\tremaining: 9.43s\n",
      "279:\tlearn: 0.0489094\ttotal: 3.66s\tremaining: 9.42s\n",
      "280:\tlearn: 0.0487788\ttotal: 3.67s\tremaining: 9.4s\n",
      "281:\tlearn: 0.0486130\ttotal: 3.69s\tremaining: 9.38s\n",
      "282:\tlearn: 0.0482880\ttotal: 3.7s\tremaining: 9.37s\n",
      "283:\tlearn: 0.0480585\ttotal: 3.71s\tremaining: 9.36s\n",
      "284:\tlearn: 0.0477953\ttotal: 3.73s\tremaining: 9.35s\n",
      "285:\tlearn: 0.0476552\ttotal: 3.74s\tremaining: 9.33s\n",
      "286:\tlearn: 0.0473771\ttotal: 3.75s\tremaining: 9.31s\n",
      "287:\tlearn: 0.0471953\ttotal: 3.76s\tremaining: 9.3s\n",
      "288:\tlearn: 0.0470869\ttotal: 3.77s\tremaining: 9.28s\n",
      "289:\tlearn: 0.0469230\ttotal: 3.78s\tremaining: 9.26s\n",
      "290:\tlearn: 0.0467810\ttotal: 3.79s\tremaining: 9.24s\n",
      "291:\tlearn: 0.0465534\ttotal: 3.81s\tremaining: 9.23s\n",
      "292:\tlearn: 0.0464036\ttotal: 3.82s\tremaining: 9.22s\n",
      "293:\tlearn: 0.0461677\ttotal: 3.83s\tremaining: 9.2s\n",
      "294:\tlearn: 0.0459556\ttotal: 3.85s\tremaining: 9.19s\n",
      "295:\tlearn: 0.0457553\ttotal: 3.86s\tremaining: 9.18s\n",
      "296:\tlearn: 0.0455661\ttotal: 3.87s\tremaining: 9.16s\n",
      "297:\tlearn: 0.0453565\ttotal: 3.88s\tremaining: 9.15s\n",
      "298:\tlearn: 0.0451985\ttotal: 3.9s\tremaining: 9.13s\n",
      "299:\tlearn: 0.0450316\ttotal: 3.91s\tremaining: 9.12s\n",
      "300:\tlearn: 0.0448980\ttotal: 3.92s\tremaining: 9.1s\n",
      "301:\tlearn: 0.0447635\ttotal: 3.93s\tremaining: 9.08s\n",
      "302:\tlearn: 0.0446728\ttotal: 3.94s\tremaining: 9.07s\n",
      "303:\tlearn: 0.0445864\ttotal: 3.95s\tremaining: 9.05s\n",
      "304:\tlearn: 0.0444252\ttotal: 3.96s\tremaining: 9.03s\n",
      "305:\tlearn: 0.0442499\ttotal: 3.98s\tremaining: 9.02s\n",
      "306:\tlearn: 0.0442440\ttotal: 3.99s\tremaining: 9s\n",
      "307:\tlearn: 0.0440539\ttotal: 4s\tremaining: 8.99s\n",
      "308:\tlearn: 0.0438747\ttotal: 4.01s\tremaining: 8.98s\n",
      "309:\tlearn: 0.0437056\ttotal: 4.03s\tremaining: 8.96s\n",
      "310:\tlearn: 0.0436368\ttotal: 4.04s\tremaining: 8.95s\n",
      "311:\tlearn: 0.0433616\ttotal: 4.05s\tremaining: 8.93s\n",
      "312:\tlearn: 0.0433559\ttotal: 4.06s\tremaining: 8.91s\n",
      "313:\tlearn: 0.0432118\ttotal: 4.07s\tremaining: 8.9s\n",
      "314:\tlearn: 0.0430026\ttotal: 4.09s\tremaining: 8.88s\n",
      "315:\tlearn: 0.0427822\ttotal: 4.1s\tremaining: 8.87s\n",
      "316:\tlearn: 0.0426200\ttotal: 4.11s\tremaining: 8.85s\n",
      "317:\tlearn: 0.0423641\ttotal: 4.12s\tremaining: 8.84s\n",
      "318:\tlearn: 0.0421361\ttotal: 4.14s\tremaining: 8.83s\n",
      "319:\tlearn: 0.0419749\ttotal: 4.15s\tremaining: 8.81s\n",
      "320:\tlearn: 0.0418920\ttotal: 4.16s\tremaining: 8.8s\n",
      "321:\tlearn: 0.0416137\ttotal: 4.17s\tremaining: 8.78s\n",
      "322:\tlearn: 0.0413680\ttotal: 4.18s\tremaining: 8.77s\n",
      "323:\tlearn: 0.0411376\ttotal: 4.2s\tremaining: 8.76s\n",
      "324:\tlearn: 0.0409089\ttotal: 4.21s\tremaining: 8.75s\n",
      "325:\tlearn: 0.0408078\ttotal: 4.22s\tremaining: 8.73s\n",
      "326:\tlearn: 0.0406966\ttotal: 4.24s\tremaining: 8.72s\n",
      "327:\tlearn: 0.0405064\ttotal: 4.25s\tremaining: 8.7s\n",
      "328:\tlearn: 0.0402670\ttotal: 4.26s\tremaining: 8.69s\n",
      "329:\tlearn: 0.0400844\ttotal: 4.28s\tremaining: 8.68s\n",
      "330:\tlearn: 0.0398892\ttotal: 4.29s\tremaining: 8.67s\n",
      "331:\tlearn: 0.0397439\ttotal: 4.3s\tremaining: 8.66s\n",
      "332:\tlearn: 0.0395721\ttotal: 4.32s\tremaining: 8.64s\n",
      "333:\tlearn: 0.0394183\ttotal: 4.33s\tremaining: 8.63s\n",
      "334:\tlearn: 0.0392439\ttotal: 4.34s\tremaining: 8.62s\n",
      "335:\tlearn: 0.0391812\ttotal: 4.35s\tremaining: 8.6s\n",
      "336:\tlearn: 0.0389818\ttotal: 4.37s\tremaining: 8.59s\n",
      "337:\tlearn: 0.0389198\ttotal: 4.38s\tremaining: 8.57s\n",
      "338:\tlearn: 0.0388240\ttotal: 4.39s\tremaining: 8.55s\n",
      "339:\tlearn: 0.0387159\ttotal: 4.4s\tremaining: 8.54s\n",
      "340:\tlearn: 0.0385215\ttotal: 4.41s\tremaining: 8.53s\n",
      "341:\tlearn: 0.0383650\ttotal: 4.42s\tremaining: 8.51s\n",
      "342:\tlearn: 0.0382410\ttotal: 4.44s\tremaining: 8.5s\n",
      "343:\tlearn: 0.0380220\ttotal: 4.45s\tremaining: 8.49s\n",
      "344:\tlearn: 0.0379779\ttotal: 4.46s\tremaining: 8.47s\n",
      "345:\tlearn: 0.0378030\ttotal: 4.47s\tremaining: 8.46s\n",
      "346:\tlearn: 0.0377296\ttotal: 4.48s\tremaining: 8.44s\n",
      "347:\tlearn: 0.0375809\ttotal: 4.5s\tremaining: 8.42s\n",
      "348:\tlearn: 0.0373940\ttotal: 4.51s\tremaining: 8.41s\n",
      "349:\tlearn: 0.0373096\ttotal: 4.52s\tremaining: 8.39s\n",
      "350:\tlearn: 0.0372152\ttotal: 4.53s\tremaining: 8.38s\n",
      "351:\tlearn: 0.0370552\ttotal: 4.54s\tremaining: 8.37s\n",
      "352:\tlearn: 0.0368899\ttotal: 4.56s\tremaining: 8.35s\n",
      "353:\tlearn: 0.0367262\ttotal: 4.57s\tremaining: 8.34s\n",
      "354:\tlearn: 0.0365411\ttotal: 4.58s\tremaining: 8.32s\n",
      "355:\tlearn: 0.0364192\ttotal: 4.59s\tremaining: 8.31s\n",
      "356:\tlearn: 0.0363354\ttotal: 4.61s\tremaining: 8.3s\n",
      "357:\tlearn: 0.0361781\ttotal: 4.62s\tremaining: 8.29s\n",
      "358:\tlearn: 0.0359908\ttotal: 4.63s\tremaining: 8.27s\n",
      "359:\tlearn: 0.0358289\ttotal: 4.64s\tremaining: 8.26s\n",
      "360:\tlearn: 0.0356866\ttotal: 4.66s\tremaining: 8.24s\n",
      "361:\tlearn: 0.0356446\ttotal: 4.67s\tremaining: 8.23s\n",
      "362:\tlearn: 0.0356002\ttotal: 4.68s\tremaining: 8.22s\n",
      "363:\tlearn: 0.0354572\ttotal: 4.7s\tremaining: 8.2s\n",
      "364:\tlearn: 0.0352508\ttotal: 4.71s\tremaining: 8.19s\n",
      "365:\tlearn: 0.0351157\ttotal: 4.72s\tremaining: 8.18s\n",
      "366:\tlearn: 0.0349594\ttotal: 4.74s\tremaining: 8.17s\n",
      "367:\tlearn: 0.0349104\ttotal: 4.75s\tremaining: 8.15s\n",
      "368:\tlearn: 0.0348373\ttotal: 4.76s\tremaining: 8.14s\n",
      "369:\tlearn: 0.0346665\ttotal: 4.77s\tremaining: 8.13s\n",
      "370:\tlearn: 0.0345853\ttotal: 4.79s\tremaining: 8.11s\n",
      "371:\tlearn: 0.0344490\ttotal: 4.8s\tremaining: 8.1s\n",
      "372:\tlearn: 0.0344451\ttotal: 4.81s\tremaining: 8.09s\n",
      "373:\tlearn: 0.0342784\ttotal: 4.82s\tremaining: 8.07s\n",
      "374:\tlearn: 0.0342027\ttotal: 4.83s\tremaining: 8.06s\n",
      "375:\tlearn: 0.0340555\ttotal: 4.85s\tremaining: 8.05s\n",
      "376:\tlearn: 0.0339611\ttotal: 4.86s\tremaining: 8.03s\n",
      "377:\tlearn: 0.0337834\ttotal: 4.88s\tremaining: 8.02s\n",
      "378:\tlearn: 0.0336742\ttotal: 4.89s\tremaining: 8.01s\n",
      "379:\tlearn: 0.0336370\ttotal: 4.9s\tremaining: 7.99s\n",
      "380:\tlearn: 0.0334671\ttotal: 4.91s\tremaining: 7.98s\n",
      "381:\tlearn: 0.0332837\ttotal: 4.93s\tremaining: 7.97s\n",
      "382:\tlearn: 0.0331329\ttotal: 4.94s\tremaining: 7.96s\n",
      "383:\tlearn: 0.0330114\ttotal: 4.95s\tremaining: 7.95s\n",
      "384:\tlearn: 0.0330018\ttotal: 4.96s\tremaining: 7.93s\n",
      "385:\tlearn: 0.0328923\ttotal: 4.97s\tremaining: 7.91s\n",
      "386:\tlearn: 0.0327558\ttotal: 4.99s\tremaining: 7.9s\n",
      "387:\tlearn: 0.0326670\ttotal: 5s\tremaining: 7.89s\n",
      "388:\tlearn: 0.0325209\ttotal: 5.01s\tremaining: 7.87s\n",
      "389:\tlearn: 0.0323819\ttotal: 5.03s\tremaining: 7.86s\n",
      "390:\tlearn: 0.0322541\ttotal: 5.04s\tremaining: 7.85s\n",
      "391:\tlearn: 0.0321213\ttotal: 5.05s\tremaining: 7.84s\n",
      "392:\tlearn: 0.0320578\ttotal: 5.07s\tremaining: 7.83s\n",
      "393:\tlearn: 0.0319504\ttotal: 5.08s\tremaining: 7.81s\n",
      "394:\tlearn: 0.0317390\ttotal: 5.09s\tremaining: 7.8s\n",
      "395:\tlearn: 0.0315761\ttotal: 5.1s\tremaining: 7.79s\n",
      "396:\tlearn: 0.0314586\ttotal: 5.12s\tremaining: 7.77s\n",
      "397:\tlearn: 0.0314223\ttotal: 5.13s\tremaining: 7.76s\n",
      "398:\tlearn: 0.0313099\ttotal: 5.14s\tremaining: 7.75s\n",
      "399:\tlearn: 0.0311909\ttotal: 5.16s\tremaining: 7.74s\n",
      "400:\tlearn: 0.0310924\ttotal: 5.17s\tremaining: 7.72s\n",
      "401:\tlearn: 0.0309353\ttotal: 5.18s\tremaining: 7.71s\n",
      "402:\tlearn: 0.0308570\ttotal: 5.19s\tremaining: 7.69s\n",
      "403:\tlearn: 0.0307537\ttotal: 5.21s\tremaining: 7.68s\n",
      "404:\tlearn: 0.0306291\ttotal: 5.22s\tremaining: 7.67s\n",
      "405:\tlearn: 0.0305087\ttotal: 5.23s\tremaining: 7.66s\n",
      "406:\tlearn: 0.0303849\ttotal: 5.25s\tremaining: 7.64s\n",
      "407:\tlearn: 0.0303529\ttotal: 5.26s\tremaining: 7.63s\n",
      "408:\tlearn: 0.0302642\ttotal: 5.27s\tremaining: 7.62s\n",
      "409:\tlearn: 0.0302042\ttotal: 5.28s\tremaining: 7.6s\n",
      "410:\tlearn: 0.0301372\ttotal: 5.29s\tremaining: 7.58s\n",
      "411:\tlearn: 0.0300303\ttotal: 5.31s\tremaining: 7.57s\n",
      "412:\tlearn: 0.0299575\ttotal: 5.32s\tremaining: 7.56s\n",
      "413:\tlearn: 0.0298375\ttotal: 5.33s\tremaining: 7.55s\n",
      "414:\tlearn: 0.0297607\ttotal: 5.34s\tremaining: 7.53s\n",
      "415:\tlearn: 0.0296399\ttotal: 5.36s\tremaining: 7.52s\n",
      "416:\tlearn: 0.0295601\ttotal: 5.37s\tremaining: 7.51s\n",
      "417:\tlearn: 0.0294453\ttotal: 5.38s\tremaining: 7.5s\n",
      "418:\tlearn: 0.0293349\ttotal: 5.4s\tremaining: 7.49s\n",
      "419:\tlearn: 0.0292043\ttotal: 5.41s\tremaining: 7.47s\n",
      "420:\tlearn: 0.0290719\ttotal: 5.43s\tremaining: 7.46s\n",
      "421:\tlearn: 0.0289822\ttotal: 5.44s\tremaining: 7.45s\n",
      "422:\tlearn: 0.0289191\ttotal: 5.45s\tremaining: 7.43s\n",
      "423:\tlearn: 0.0287763\ttotal: 5.46s\tremaining: 7.42s\n",
      "424:\tlearn: 0.0286968\ttotal: 5.47s\tremaining: 7.41s\n",
      "425:\tlearn: 0.0286313\ttotal: 5.49s\tremaining: 7.39s\n",
      "426:\tlearn: 0.0285482\ttotal: 5.5s\tremaining: 7.38s\n",
      "427:\tlearn: 0.0284633\ttotal: 5.51s\tremaining: 7.37s\n",
      "428:\tlearn: 0.0283526\ttotal: 5.53s\tremaining: 7.36s\n",
      "429:\tlearn: 0.0282549\ttotal: 5.54s\tremaining: 7.34s\n",
      "430:\tlearn: 0.0281969\ttotal: 5.55s\tremaining: 7.33s\n",
      "431:\tlearn: 0.0280780\ttotal: 5.57s\tremaining: 7.32s\n",
      "432:\tlearn: 0.0279544\ttotal: 5.58s\tremaining: 7.31s\n",
      "433:\tlearn: 0.0279054\ttotal: 5.59s\tremaining: 7.29s\n",
      "434:\tlearn: 0.0278045\ttotal: 5.61s\tremaining: 7.28s\n",
      "435:\tlearn: 0.0277013\ttotal: 5.62s\tremaining: 7.27s\n",
      "436:\tlearn: 0.0276399\ttotal: 5.63s\tremaining: 7.26s\n",
      "437:\tlearn: 0.0275149\ttotal: 5.65s\tremaining: 7.25s\n",
      "438:\tlearn: 0.0274137\ttotal: 5.66s\tremaining: 7.23s\n",
      "439:\tlearn: 0.0273300\ttotal: 5.67s\tremaining: 7.22s\n",
      "440:\tlearn: 0.0272183\ttotal: 5.68s\tremaining: 7.21s\n",
      "441:\tlearn: 0.0271157\ttotal: 5.7s\tremaining: 7.19s\n",
      "442:\tlearn: 0.0270029\ttotal: 5.71s\tremaining: 7.18s\n",
      "443:\tlearn: 0.0269162\ttotal: 5.72s\tremaining: 7.17s\n",
      "444:\tlearn: 0.0268424\ttotal: 5.74s\tremaining: 7.15s\n",
      "445:\tlearn: 0.0268086\ttotal: 5.75s\tremaining: 7.14s\n",
      "446:\tlearn: 0.0267425\ttotal: 5.76s\tremaining: 7.12s\n",
      "447:\tlearn: 0.0266886\ttotal: 5.77s\tremaining: 7.11s\n",
      "448:\tlearn: 0.0266028\ttotal: 5.78s\tremaining: 7.09s\n",
      "449:\tlearn: 0.0265487\ttotal: 5.79s\tremaining: 7.08s\n",
      "450:\tlearn: 0.0264224\ttotal: 5.8s\tremaining: 7.07s\n",
      "451:\tlearn: 0.0263652\ttotal: 5.82s\tremaining: 7.05s\n",
      "452:\tlearn: 0.0263299\ttotal: 5.83s\tremaining: 7.04s\n",
      "453:\tlearn: 0.0262426\ttotal: 5.84s\tremaining: 7.03s\n",
      "454:\tlearn: 0.0261501\ttotal: 5.85s\tremaining: 7.01s\n",
      "455:\tlearn: 0.0260452\ttotal: 5.87s\tremaining: 7s\n",
      "456:\tlearn: 0.0259513\ttotal: 5.88s\tremaining: 6.99s\n",
      "457:\tlearn: 0.0258773\ttotal: 5.89s\tremaining: 6.97s\n",
      "458:\tlearn: 0.0257974\ttotal: 5.91s\tremaining: 6.96s\n",
      "459:\tlearn: 0.0257888\ttotal: 5.92s\tremaining: 6.95s\n",
      "460:\tlearn: 0.0257059\ttotal: 5.93s\tremaining: 6.94s\n",
      "461:\tlearn: 0.0256611\ttotal: 5.95s\tremaining: 6.92s\n",
      "462:\tlearn: 0.0255962\ttotal: 5.96s\tremaining: 6.91s\n",
      "463:\tlearn: 0.0255291\ttotal: 5.97s\tremaining: 6.9s\n",
      "464:\tlearn: 0.0254521\ttotal: 5.98s\tremaining: 6.88s\n",
      "465:\tlearn: 0.0253520\ttotal: 6s\tremaining: 6.87s\n",
      "466:\tlearn: 0.0253277\ttotal: 6.01s\tremaining: 6.86s\n",
      "467:\tlearn: 0.0252315\ttotal: 6.02s\tremaining: 6.84s\n",
      "468:\tlearn: 0.0251436\ttotal: 6.03s\tremaining: 6.83s\n",
      "469:\tlearn: 0.0250766\ttotal: 6.04s\tremaining: 6.82s\n",
      "470:\tlearn: 0.0249885\ttotal: 6.06s\tremaining: 6.81s\n",
      "471:\tlearn: 0.0249158\ttotal: 6.07s\tremaining: 6.79s\n",
      "472:\tlearn: 0.0248681\ttotal: 6.09s\tremaining: 6.78s\n",
      "473:\tlearn: 0.0248447\ttotal: 6.1s\tremaining: 6.77s\n",
      "474:\tlearn: 0.0247629\ttotal: 6.11s\tremaining: 6.75s\n",
      "475:\tlearn: 0.0246775\ttotal: 6.13s\tremaining: 6.75s\n",
      "476:\tlearn: 0.0246456\ttotal: 6.14s\tremaining: 6.73s\n",
      "477:\tlearn: 0.0245611\ttotal: 6.15s\tremaining: 6.72s\n",
      "478:\tlearn: 0.0245183\ttotal: 6.16s\tremaining: 6.71s\n",
      "479:\tlearn: 0.0244976\ttotal: 6.18s\tremaining: 6.69s\n",
      "480:\tlearn: 0.0244575\ttotal: 6.19s\tremaining: 6.68s\n",
      "481:\tlearn: 0.0243511\ttotal: 6.2s\tremaining: 6.66s\n",
      "482:\tlearn: 0.0243047\ttotal: 6.21s\tremaining: 6.65s\n",
      "483:\tlearn: 0.0242641\ttotal: 6.22s\tremaining: 6.63s\n",
      "484:\tlearn: 0.0242144\ttotal: 6.23s\tremaining: 6.62s\n",
      "485:\tlearn: 0.0241497\ttotal: 6.25s\tremaining: 6.61s\n",
      "486:\tlearn: 0.0240919\ttotal: 6.26s\tremaining: 6.59s\n",
      "487:\tlearn: 0.0240494\ttotal: 6.27s\tremaining: 6.58s\n",
      "488:\tlearn: 0.0239487\ttotal: 6.29s\tremaining: 6.57s\n",
      "489:\tlearn: 0.0238937\ttotal: 6.3s\tremaining: 6.56s\n",
      "490:\tlearn: 0.0238215\ttotal: 6.31s\tremaining: 6.54s\n",
      "491:\tlearn: 0.0237486\ttotal: 6.33s\tremaining: 6.53s\n",
      "492:\tlearn: 0.0236911\ttotal: 6.34s\tremaining: 6.52s\n",
      "493:\tlearn: 0.0236286\ttotal: 6.35s\tremaining: 6.5s\n",
      "494:\tlearn: 0.0235281\ttotal: 6.36s\tremaining: 6.49s\n",
      "495:\tlearn: 0.0234160\ttotal: 6.38s\tremaining: 6.48s\n",
      "496:\tlearn: 0.0233500\ttotal: 6.39s\tremaining: 6.46s\n",
      "497:\tlearn: 0.0232604\ttotal: 6.4s\tremaining: 6.45s\n",
      "498:\tlearn: 0.0231351\ttotal: 6.41s\tremaining: 6.44s\n",
      "499:\tlearn: 0.0230916\ttotal: 6.42s\tremaining: 6.42s\n",
      "500:\tlearn: 0.0230412\ttotal: 6.43s\tremaining: 6.41s\n",
      "501:\tlearn: 0.0229524\ttotal: 6.45s\tremaining: 6.39s\n",
      "502:\tlearn: 0.0229033\ttotal: 6.46s\tremaining: 6.38s\n",
      "503:\tlearn: 0.0228386\ttotal: 6.47s\tremaining: 6.37s\n",
      "504:\tlearn: 0.0227669\ttotal: 6.48s\tremaining: 6.35s\n",
      "505:\tlearn: 0.0227173\ttotal: 6.5s\tremaining: 6.34s\n",
      "506:\tlearn: 0.0226535\ttotal: 6.51s\tremaining: 6.33s\n",
      "507:\tlearn: 0.0225763\ttotal: 6.52s\tremaining: 6.32s\n",
      "508:\tlearn: 0.0225359\ttotal: 6.54s\tremaining: 6.3s\n",
      "509:\tlearn: 0.0224888\ttotal: 6.55s\tremaining: 6.29s\n",
      "510:\tlearn: 0.0224010\ttotal: 6.56s\tremaining: 6.28s\n",
      "511:\tlearn: 0.0223379\ttotal: 6.58s\tremaining: 6.27s\n",
      "512:\tlearn: 0.0222910\ttotal: 6.59s\tremaining: 6.25s\n",
      "513:\tlearn: 0.0222116\ttotal: 6.6s\tremaining: 6.24s\n",
      "514:\tlearn: 0.0221717\ttotal: 6.61s\tremaining: 6.23s\n",
      "515:\tlearn: 0.0221266\ttotal: 6.63s\tremaining: 6.21s\n",
      "516:\tlearn: 0.0220895\ttotal: 6.64s\tremaining: 6.2s\n",
      "517:\tlearn: 0.0220309\ttotal: 6.65s\tremaining: 6.19s\n",
      "518:\tlearn: 0.0219647\ttotal: 6.66s\tremaining: 6.17s\n",
      "519:\tlearn: 0.0219155\ttotal: 6.68s\tremaining: 6.16s\n",
      "520:\tlearn: 0.0218760\ttotal: 6.69s\tremaining: 6.15s\n",
      "521:\tlearn: 0.0217821\ttotal: 6.7s\tremaining: 6.14s\n",
      "522:\tlearn: 0.0217479\ttotal: 6.71s\tremaining: 6.12s\n",
      "523:\tlearn: 0.0217097\ttotal: 6.73s\tremaining: 6.11s\n",
      "524:\tlearn: 0.0216353\ttotal: 6.74s\tremaining: 6.1s\n",
      "525:\tlearn: 0.0216017\ttotal: 6.75s\tremaining: 6.08s\n",
      "526:\tlearn: 0.0215624\ttotal: 6.77s\tremaining: 6.07s\n",
      "527:\tlearn: 0.0215034\ttotal: 6.78s\tremaining: 6.06s\n",
      "528:\tlearn: 0.0214533\ttotal: 6.79s\tremaining: 6.05s\n",
      "529:\tlearn: 0.0213929\ttotal: 6.8s\tremaining: 6.03s\n",
      "530:\tlearn: 0.0213376\ttotal: 6.82s\tremaining: 6.02s\n",
      "531:\tlearn: 0.0213196\ttotal: 6.83s\tremaining: 6.01s\n",
      "532:\tlearn: 0.0212929\ttotal: 6.84s\tremaining: 5.99s\n",
      "533:\tlearn: 0.0212500\ttotal: 6.86s\tremaining: 5.98s\n",
      "534:\tlearn: 0.0212052\ttotal: 6.87s\tremaining: 5.97s\n",
      "535:\tlearn: 0.0211297\ttotal: 6.88s\tremaining: 5.96s\n",
      "536:\tlearn: 0.0210683\ttotal: 6.89s\tremaining: 5.94s\n",
      "537:\tlearn: 0.0210070\ttotal: 6.91s\tremaining: 5.93s\n",
      "538:\tlearn: 0.0209690\ttotal: 6.92s\tremaining: 5.92s\n",
      "539:\tlearn: 0.0209083\ttotal: 6.93s\tremaining: 5.9s\n",
      "540:\tlearn: 0.0208698\ttotal: 6.94s\tremaining: 5.89s\n",
      "541:\tlearn: 0.0207942\ttotal: 6.96s\tremaining: 5.88s\n",
      "542:\tlearn: 0.0207466\ttotal: 6.97s\tremaining: 5.86s\n",
      "543:\tlearn: 0.0206580\ttotal: 6.98s\tremaining: 5.85s\n",
      "544:\tlearn: 0.0205888\ttotal: 6.99s\tremaining: 5.84s\n",
      "545:\tlearn: 0.0205532\ttotal: 7.01s\tremaining: 5.83s\n",
      "546:\tlearn: 0.0205037\ttotal: 7.02s\tremaining: 5.81s\n",
      "547:\tlearn: 0.0204612\ttotal: 7.03s\tremaining: 5.8s\n",
      "548:\tlearn: 0.0203971\ttotal: 7.04s\tremaining: 5.79s\n",
      "549:\tlearn: 0.0203619\ttotal: 7.06s\tremaining: 5.77s\n",
      "550:\tlearn: 0.0203214\ttotal: 7.07s\tremaining: 5.76s\n",
      "551:\tlearn: 0.0202558\ttotal: 7.08s\tremaining: 5.75s\n",
      "552:\tlearn: 0.0202137\ttotal: 7.1s\tremaining: 5.74s\n",
      "553:\tlearn: 0.0201727\ttotal: 7.11s\tremaining: 5.72s\n",
      "554:\tlearn: 0.0201372\ttotal: 7.12s\tremaining: 5.71s\n",
      "555:\tlearn: 0.0200949\ttotal: 7.13s\tremaining: 5.7s\n",
      "556:\tlearn: 0.0200250\ttotal: 7.15s\tremaining: 5.68s\n",
      "557:\tlearn: 0.0199952\ttotal: 7.16s\tremaining: 5.67s\n",
      "558:\tlearn: 0.0199429\ttotal: 7.17s\tremaining: 5.66s\n",
      "559:\tlearn: 0.0198906\ttotal: 7.19s\tremaining: 5.65s\n",
      "560:\tlearn: 0.0198349\ttotal: 7.2s\tremaining: 5.63s\n",
      "561:\tlearn: 0.0197972\ttotal: 7.21s\tremaining: 5.62s\n",
      "562:\tlearn: 0.0197573\ttotal: 7.22s\tremaining: 5.61s\n",
      "563:\tlearn: 0.0196910\ttotal: 7.24s\tremaining: 5.59s\n",
      "564:\tlearn: 0.0196597\ttotal: 7.25s\tremaining: 5.58s\n",
      "565:\tlearn: 0.0196114\ttotal: 7.26s\tremaining: 5.57s\n",
      "566:\tlearn: 0.0195568\ttotal: 7.28s\tremaining: 5.55s\n",
      "567:\tlearn: 0.0194978\ttotal: 7.29s\tremaining: 5.54s\n",
      "568:\tlearn: 0.0194753\ttotal: 7.3s\tremaining: 5.53s\n",
      "569:\tlearn: 0.0194340\ttotal: 7.31s\tremaining: 5.52s\n",
      "570:\tlearn: 0.0193648\ttotal: 7.33s\tremaining: 5.5s\n",
      "571:\tlearn: 0.0193222\ttotal: 7.34s\tremaining: 5.49s\n",
      "572:\tlearn: 0.0192649\ttotal: 7.35s\tremaining: 5.48s\n",
      "573:\tlearn: 0.0192334\ttotal: 7.37s\tremaining: 5.47s\n",
      "574:\tlearn: 0.0192019\ttotal: 7.38s\tremaining: 5.45s\n",
      "575:\tlearn: 0.0191743\ttotal: 7.39s\tremaining: 5.44s\n",
      "576:\tlearn: 0.0191361\ttotal: 7.4s\tremaining: 5.42s\n",
      "577:\tlearn: 0.0191099\ttotal: 7.41s\tremaining: 5.41s\n",
      "578:\tlearn: 0.0190760\ttotal: 7.42s\tremaining: 5.4s\n",
      "579:\tlearn: 0.0190149\ttotal: 7.43s\tremaining: 5.38s\n",
      "580:\tlearn: 0.0189952\ttotal: 7.45s\tremaining: 5.37s\n",
      "581:\tlearn: 0.0189669\ttotal: 7.46s\tremaining: 5.36s\n",
      "582:\tlearn: 0.0189394\ttotal: 7.47s\tremaining: 5.34s\n",
      "583:\tlearn: 0.0188628\ttotal: 7.48s\tremaining: 5.33s\n",
      "584:\tlearn: 0.0188038\ttotal: 7.49s\tremaining: 5.32s\n",
      "585:\tlearn: 0.0187703\ttotal: 7.51s\tremaining: 5.3s\n",
      "586:\tlearn: 0.0187186\ttotal: 7.52s\tremaining: 5.29s\n",
      "587:\tlearn: 0.0186692\ttotal: 7.53s\tremaining: 5.28s\n",
      "588:\tlearn: 0.0186378\ttotal: 7.54s\tremaining: 5.26s\n",
      "589:\tlearn: 0.0185853\ttotal: 7.56s\tremaining: 5.25s\n",
      "590:\tlearn: 0.0185611\ttotal: 7.57s\tremaining: 5.24s\n",
      "591:\tlearn: 0.0185356\ttotal: 7.58s\tremaining: 5.22s\n",
      "592:\tlearn: 0.0184964\ttotal: 7.59s\tremaining: 5.21s\n",
      "593:\tlearn: 0.0184339\ttotal: 7.6s\tremaining: 5.2s\n",
      "594:\tlearn: 0.0184008\ttotal: 7.62s\tremaining: 5.18s\n",
      "595:\tlearn: 0.0183645\ttotal: 7.63s\tremaining: 5.17s\n",
      "596:\tlearn: 0.0183399\ttotal: 7.64s\tremaining: 5.16s\n",
      "597:\tlearn: 0.0182911\ttotal: 7.65s\tremaining: 5.14s\n",
      "598:\tlearn: 0.0182228\ttotal: 7.66s\tremaining: 5.13s\n",
      "599:\tlearn: 0.0181912\ttotal: 7.67s\tremaining: 5.12s\n",
      "600:\tlearn: 0.0181618\ttotal: 7.69s\tremaining: 5.1s\n",
      "601:\tlearn: 0.0180999\ttotal: 7.7s\tremaining: 5.09s\n",
      "602:\tlearn: 0.0180831\ttotal: 7.71s\tremaining: 5.08s\n",
      "603:\tlearn: 0.0180283\ttotal: 7.73s\tremaining: 5.07s\n",
      "604:\tlearn: 0.0180215\ttotal: 7.74s\tremaining: 5.05s\n",
      "605:\tlearn: 0.0179609\ttotal: 7.75s\tremaining: 5.04s\n",
      "606:\tlearn: 0.0179133\ttotal: 7.76s\tremaining: 5.03s\n",
      "607:\tlearn: 0.0178679\ttotal: 7.78s\tremaining: 5.02s\n",
      "608:\tlearn: 0.0178319\ttotal: 7.79s\tremaining: 5s\n",
      "609:\tlearn: 0.0177969\ttotal: 7.8s\tremaining: 4.99s\n",
      "610:\tlearn: 0.0177558\ttotal: 7.82s\tremaining: 4.98s\n",
      "611:\tlearn: 0.0177232\ttotal: 7.83s\tremaining: 4.96s\n",
      "612:\tlearn: 0.0176825\ttotal: 7.84s\tremaining: 4.95s\n",
      "613:\tlearn: 0.0176403\ttotal: 7.85s\tremaining: 4.94s\n",
      "614:\tlearn: 0.0176146\ttotal: 7.86s\tremaining: 4.92s\n",
      "615:\tlearn: 0.0175752\ttotal: 7.88s\tremaining: 4.91s\n",
      "616:\tlearn: 0.0175479\ttotal: 7.89s\tremaining: 4.9s\n",
      "617:\tlearn: 0.0175263\ttotal: 7.9s\tremaining: 4.88s\n",
      "618:\tlearn: 0.0174528\ttotal: 7.91s\tremaining: 4.87s\n",
      "619:\tlearn: 0.0174080\ttotal: 7.92s\tremaining: 4.86s\n",
      "620:\tlearn: 0.0173545\ttotal: 7.94s\tremaining: 4.84s\n",
      "621:\tlearn: 0.0173121\ttotal: 7.95s\tremaining: 4.83s\n",
      "622:\tlearn: 0.0172800\ttotal: 7.96s\tremaining: 4.82s\n",
      "623:\tlearn: 0.0172412\ttotal: 7.97s\tremaining: 4.8s\n",
      "624:\tlearn: 0.0172258\ttotal: 7.99s\tremaining: 4.79s\n",
      "625:\tlearn: 0.0171861\ttotal: 8s\tremaining: 4.78s\n",
      "626:\tlearn: 0.0171521\ttotal: 8.01s\tremaining: 4.76s\n",
      "627:\tlearn: 0.0171214\ttotal: 8.02s\tremaining: 4.75s\n",
      "628:\tlearn: 0.0170962\ttotal: 8.03s\tremaining: 4.74s\n",
      "629:\tlearn: 0.0170680\ttotal: 8.05s\tremaining: 4.73s\n",
      "630:\tlearn: 0.0170263\ttotal: 8.06s\tremaining: 4.71s\n",
      "631:\tlearn: 0.0169883\ttotal: 8.07s\tremaining: 4.7s\n",
      "632:\tlearn: 0.0169440\ttotal: 8.09s\tremaining: 4.69s\n",
      "633:\tlearn: 0.0168914\ttotal: 8.1s\tremaining: 4.67s\n",
      "634:\tlearn: 0.0168400\ttotal: 8.11s\tremaining: 4.66s\n",
      "635:\tlearn: 0.0168024\ttotal: 8.13s\tremaining: 4.65s\n",
      "636:\tlearn: 0.0167602\ttotal: 8.14s\tremaining: 4.64s\n",
      "637:\tlearn: 0.0167081\ttotal: 8.15s\tremaining: 4.63s\n",
      "638:\tlearn: 0.0166702\ttotal: 8.17s\tremaining: 4.61s\n",
      "639:\tlearn: 0.0166161\ttotal: 8.18s\tremaining: 4.6s\n",
      "640:\tlearn: 0.0165848\ttotal: 8.19s\tremaining: 4.59s\n",
      "641:\tlearn: 0.0165357\ttotal: 8.21s\tremaining: 4.58s\n",
      "642:\tlearn: 0.0165122\ttotal: 8.22s\tremaining: 4.56s\n",
      "643:\tlearn: 0.0164737\ttotal: 8.23s\tremaining: 4.55s\n",
      "644:\tlearn: 0.0164416\ttotal: 8.24s\tremaining: 4.54s\n",
      "645:\tlearn: 0.0163933\ttotal: 8.26s\tremaining: 4.52s\n",
      "646:\tlearn: 0.0163575\ttotal: 8.27s\tremaining: 4.51s\n",
      "647:\tlearn: 0.0163093\ttotal: 8.28s\tremaining: 4.5s\n",
      "648:\tlearn: 0.0162702\ttotal: 8.29s\tremaining: 4.49s\n",
      "649:\tlearn: 0.0162288\ttotal: 8.31s\tremaining: 4.47s\n",
      "650:\tlearn: 0.0162089\ttotal: 8.32s\tremaining: 4.46s\n",
      "651:\tlearn: 0.0161886\ttotal: 8.33s\tremaining: 4.45s\n",
      "652:\tlearn: 0.0161576\ttotal: 8.35s\tremaining: 4.43s\n",
      "653:\tlearn: 0.0161227\ttotal: 8.36s\tremaining: 4.42s\n",
      "654:\tlearn: 0.0160964\ttotal: 8.37s\tremaining: 4.41s\n",
      "655:\tlearn: 0.0160708\ttotal: 8.39s\tremaining: 4.4s\n",
      "656:\tlearn: 0.0160570\ttotal: 8.4s\tremaining: 4.38s\n",
      "657:\tlearn: 0.0160273\ttotal: 8.41s\tremaining: 4.37s\n",
      "658:\tlearn: 0.0159769\ttotal: 8.42s\tremaining: 4.36s\n",
      "659:\tlearn: 0.0159225\ttotal: 8.44s\tremaining: 4.35s\n",
      "660:\tlearn: 0.0158894\ttotal: 8.45s\tremaining: 4.33s\n",
      "661:\tlearn: 0.0158358\ttotal: 8.46s\tremaining: 4.32s\n",
      "662:\tlearn: 0.0158168\ttotal: 8.47s\tremaining: 4.31s\n",
      "663:\tlearn: 0.0158031\ttotal: 8.49s\tremaining: 4.29s\n",
      "664:\tlearn: 0.0157805\ttotal: 8.5s\tremaining: 4.28s\n",
      "665:\tlearn: 0.0157467\ttotal: 8.51s\tremaining: 4.27s\n",
      "666:\tlearn: 0.0157105\ttotal: 8.53s\tremaining: 4.26s\n",
      "667:\tlearn: 0.0156823\ttotal: 8.54s\tremaining: 4.25s\n",
      "668:\tlearn: 0.0156688\ttotal: 8.55s\tremaining: 4.23s\n",
      "669:\tlearn: 0.0156405\ttotal: 8.57s\tremaining: 4.22s\n",
      "670:\tlearn: 0.0156098\ttotal: 8.58s\tremaining: 4.21s\n",
      "671:\tlearn: 0.0155651\ttotal: 8.59s\tremaining: 4.19s\n",
      "672:\tlearn: 0.0155376\ttotal: 8.61s\tremaining: 4.18s\n",
      "673:\tlearn: 0.0154988\ttotal: 8.62s\tremaining: 4.17s\n",
      "674:\tlearn: 0.0154883\ttotal: 8.63s\tremaining: 4.16s\n",
      "675:\tlearn: 0.0154523\ttotal: 8.64s\tremaining: 4.14s\n",
      "676:\tlearn: 0.0154202\ttotal: 8.66s\tremaining: 4.13s\n",
      "677:\tlearn: 0.0154069\ttotal: 8.67s\tremaining: 4.12s\n",
      "678:\tlearn: 0.0153703\ttotal: 8.69s\tremaining: 4.11s\n",
      "679:\tlearn: 0.0153360\ttotal: 8.7s\tremaining: 4.09s\n",
      "680:\tlearn: 0.0152882\ttotal: 8.71s\tremaining: 4.08s\n",
      "681:\tlearn: 0.0152596\ttotal: 8.73s\tremaining: 4.07s\n",
      "682:\tlearn: 0.0152288\ttotal: 8.74s\tremaining: 4.05s\n",
      "683:\tlearn: 0.0152008\ttotal: 8.75s\tremaining: 4.04s\n",
      "684:\tlearn: 0.0151628\ttotal: 8.77s\tremaining: 4.03s\n",
      "685:\tlearn: 0.0151285\ttotal: 8.79s\tremaining: 4.02s\n",
      "686:\tlearn: 0.0151112\ttotal: 8.8s\tremaining: 4.01s\n",
      "687:\tlearn: 0.0150863\ttotal: 8.81s\tremaining: 4s\n",
      "688:\tlearn: 0.0150550\ttotal: 8.82s\tremaining: 3.98s\n",
      "689:\tlearn: 0.0150093\ttotal: 8.84s\tremaining: 3.97s\n",
      "690:\tlearn: 0.0149877\ttotal: 8.85s\tremaining: 3.96s\n",
      "691:\tlearn: 0.0149468\ttotal: 8.86s\tremaining: 3.94s\n",
      "692:\tlearn: 0.0149096\ttotal: 8.87s\tremaining: 3.93s\n",
      "693:\tlearn: 0.0148896\ttotal: 8.89s\tremaining: 3.92s\n",
      "694:\tlearn: 0.0148657\ttotal: 8.9s\tremaining: 3.91s\n",
      "695:\tlearn: 0.0148419\ttotal: 8.91s\tremaining: 3.89s\n",
      "696:\tlearn: 0.0148242\ttotal: 8.92s\tremaining: 3.88s\n",
      "697:\tlearn: 0.0148113\ttotal: 8.93s\tremaining: 3.87s\n",
      "698:\tlearn: 0.0147900\ttotal: 8.95s\tremaining: 3.85s\n",
      "699:\tlearn: 0.0147587\ttotal: 8.96s\tremaining: 3.84s\n",
      "700:\tlearn: 0.0147533\ttotal: 8.97s\tremaining: 3.83s\n",
      "701:\tlearn: 0.0147311\ttotal: 8.99s\tremaining: 3.81s\n",
      "702:\tlearn: 0.0147005\ttotal: 9s\tremaining: 3.8s\n",
      "703:\tlearn: 0.0146469\ttotal: 9.01s\tremaining: 3.79s\n",
      "704:\tlearn: 0.0146176\ttotal: 9.02s\tremaining: 3.78s\n",
      "705:\tlearn: 0.0146080\ttotal: 9.04s\tremaining: 3.76s\n",
      "706:\tlearn: 0.0145889\ttotal: 9.05s\tremaining: 3.75s\n",
      "707:\tlearn: 0.0145714\ttotal: 9.06s\tremaining: 3.74s\n",
      "708:\tlearn: 0.0145459\ttotal: 9.07s\tremaining: 3.72s\n",
      "709:\tlearn: 0.0145220\ttotal: 9.08s\tremaining: 3.71s\n",
      "710:\tlearn: 0.0144960\ttotal: 9.1s\tremaining: 3.7s\n",
      "711:\tlearn: 0.0144700\ttotal: 9.11s\tremaining: 3.68s\n",
      "712:\tlearn: 0.0144519\ttotal: 9.12s\tremaining: 3.67s\n",
      "713:\tlearn: 0.0144195\ttotal: 9.13s\tremaining: 3.66s\n",
      "714:\tlearn: 0.0143769\ttotal: 9.15s\tremaining: 3.65s\n",
      "715:\tlearn: 0.0143425\ttotal: 9.16s\tremaining: 3.63s\n",
      "716:\tlearn: 0.0143217\ttotal: 9.18s\tremaining: 3.62s\n",
      "717:\tlearn: 0.0142893\ttotal: 9.19s\tremaining: 3.61s\n",
      "718:\tlearn: 0.0142636\ttotal: 9.2s\tremaining: 3.6s\n",
      "719:\tlearn: 0.0142336\ttotal: 9.21s\tremaining: 3.58s\n",
      "720:\tlearn: 0.0141971\ttotal: 9.22s\tremaining: 3.57s\n",
      "721:\tlearn: 0.0141729\ttotal: 9.24s\tremaining: 3.56s\n",
      "722:\tlearn: 0.0141329\ttotal: 9.25s\tremaining: 3.54s\n",
      "723:\tlearn: 0.0141083\ttotal: 9.26s\tremaining: 3.53s\n",
      "724:\tlearn: 0.0140959\ttotal: 9.27s\tremaining: 3.52s\n",
      "725:\tlearn: 0.0140828\ttotal: 9.29s\tremaining: 3.5s\n",
      "726:\tlearn: 0.0140633\ttotal: 9.3s\tremaining: 3.49s\n",
      "727:\tlearn: 0.0140494\ttotal: 9.31s\tremaining: 3.48s\n",
      "728:\tlearn: 0.0140062\ttotal: 9.32s\tremaining: 3.46s\n",
      "729:\tlearn: 0.0139692\ttotal: 9.34s\tremaining: 3.45s\n",
      "730:\tlearn: 0.0139481\ttotal: 9.35s\tremaining: 3.44s\n",
      "731:\tlearn: 0.0139105\ttotal: 9.36s\tremaining: 3.43s\n",
      "732:\tlearn: 0.0138781\ttotal: 9.37s\tremaining: 3.41s\n",
      "733:\tlearn: 0.0138534\ttotal: 9.39s\tremaining: 3.4s\n",
      "734:\tlearn: 0.0138222\ttotal: 9.4s\tremaining: 3.39s\n",
      "735:\tlearn: 0.0138050\ttotal: 9.41s\tremaining: 3.38s\n",
      "736:\tlearn: 0.0137783\ttotal: 9.43s\tremaining: 3.36s\n",
      "737:\tlearn: 0.0137476\ttotal: 9.44s\tremaining: 3.35s\n",
      "738:\tlearn: 0.0137249\ttotal: 9.45s\tremaining: 3.34s\n",
      "739:\tlearn: 0.0136981\ttotal: 9.46s\tremaining: 3.33s\n",
      "740:\tlearn: 0.0136808\ttotal: 9.48s\tremaining: 3.31s\n",
      "741:\tlearn: 0.0136551\ttotal: 9.49s\tremaining: 3.3s\n",
      "742:\tlearn: 0.0136273\ttotal: 9.5s\tremaining: 3.29s\n",
      "743:\tlearn: 0.0136180\ttotal: 9.51s\tremaining: 3.27s\n",
      "744:\tlearn: 0.0136035\ttotal: 9.52s\tremaining: 3.26s\n",
      "745:\tlearn: 0.0135698\ttotal: 9.54s\tremaining: 3.25s\n",
      "746:\tlearn: 0.0135447\ttotal: 9.55s\tremaining: 3.23s\n",
      "747:\tlearn: 0.0135213\ttotal: 9.56s\tremaining: 3.22s\n",
      "748:\tlearn: 0.0135089\ttotal: 9.57s\tremaining: 3.21s\n",
      "749:\tlearn: 0.0134682\ttotal: 9.59s\tremaining: 3.2s\n",
      "750:\tlearn: 0.0134546\ttotal: 9.6s\tremaining: 3.18s\n",
      "751:\tlearn: 0.0134339\ttotal: 9.61s\tremaining: 3.17s\n",
      "752:\tlearn: 0.0134126\ttotal: 9.63s\tremaining: 3.16s\n",
      "753:\tlearn: 0.0133717\ttotal: 9.64s\tremaining: 3.15s\n",
      "754:\tlearn: 0.0133475\ttotal: 9.65s\tremaining: 3.13s\n",
      "755:\tlearn: 0.0133089\ttotal: 9.67s\tremaining: 3.12s\n",
      "756:\tlearn: 0.0132733\ttotal: 9.68s\tremaining: 3.11s\n",
      "757:\tlearn: 0.0132433\ttotal: 9.69s\tremaining: 3.09s\n",
      "758:\tlearn: 0.0132345\ttotal: 9.7s\tremaining: 3.08s\n",
      "759:\tlearn: 0.0132101\ttotal: 9.72s\tremaining: 3.07s\n",
      "760:\tlearn: 0.0131980\ttotal: 9.73s\tremaining: 3.06s\n",
      "761:\tlearn: 0.0131823\ttotal: 9.74s\tremaining: 3.04s\n",
      "762:\tlearn: 0.0131606\ttotal: 9.75s\tremaining: 3.03s\n",
      "763:\tlearn: 0.0131260\ttotal: 9.77s\tremaining: 3.02s\n",
      "764:\tlearn: 0.0130878\ttotal: 9.78s\tremaining: 3s\n",
      "765:\tlearn: 0.0130605\ttotal: 9.79s\tremaining: 2.99s\n",
      "766:\tlearn: 0.0130381\ttotal: 9.8s\tremaining: 2.98s\n",
      "767:\tlearn: 0.0130267\ttotal: 9.81s\tremaining: 2.96s\n",
      "768:\tlearn: 0.0129959\ttotal: 9.82s\tremaining: 2.95s\n",
      "769:\tlearn: 0.0129760\ttotal: 9.84s\tremaining: 2.94s\n",
      "770:\tlearn: 0.0129494\ttotal: 9.85s\tremaining: 2.92s\n",
      "771:\tlearn: 0.0129266\ttotal: 9.86s\tremaining: 2.91s\n",
      "772:\tlearn: 0.0129201\ttotal: 9.87s\tremaining: 2.9s\n",
      "773:\tlearn: 0.0128932\ttotal: 9.88s\tremaining: 2.88s\n",
      "774:\tlearn: 0.0128649\ttotal: 9.89s\tremaining: 2.87s\n",
      "775:\tlearn: 0.0128364\ttotal: 9.91s\tremaining: 2.86s\n",
      "776:\tlearn: 0.0128133\ttotal: 9.92s\tremaining: 2.85s\n",
      "777:\tlearn: 0.0127931\ttotal: 9.93s\tremaining: 2.83s\n",
      "778:\tlearn: 0.0127818\ttotal: 9.94s\tremaining: 2.82s\n",
      "779:\tlearn: 0.0127632\ttotal: 9.96s\tremaining: 2.81s\n",
      "780:\tlearn: 0.0127409\ttotal: 9.97s\tremaining: 2.79s\n",
      "781:\tlearn: 0.0127175\ttotal: 9.98s\tremaining: 2.78s\n",
      "782:\tlearn: 0.0126983\ttotal: 9.99s\tremaining: 2.77s\n",
      "783:\tlearn: 0.0126696\ttotal: 10s\tremaining: 2.76s\n",
      "784:\tlearn: 0.0126557\ttotal: 10s\tremaining: 2.74s\n",
      "785:\tlearn: 0.0126343\ttotal: 10s\tremaining: 2.73s\n",
      "786:\tlearn: 0.0126041\ttotal: 10s\tremaining: 2.72s\n",
      "787:\tlearn: 0.0125904\ttotal: 10.1s\tremaining: 2.71s\n",
      "788:\tlearn: 0.0125676\ttotal: 10.1s\tremaining: 2.69s\n",
      "789:\tlearn: 0.0125538\ttotal: 10.1s\tremaining: 2.68s\n",
      "790:\tlearn: 0.0125326\ttotal: 10.1s\tremaining: 2.67s\n",
      "791:\tlearn: 0.0125207\ttotal: 10.1s\tremaining: 2.65s\n",
      "792:\tlearn: 0.0125074\ttotal: 10.1s\tremaining: 2.64s\n",
      "793:\tlearn: 0.0124916\ttotal: 10.1s\tremaining: 2.63s\n",
      "794:\tlearn: 0.0124745\ttotal: 10.1s\tremaining: 2.61s\n",
      "795:\tlearn: 0.0124495\ttotal: 10.2s\tremaining: 2.6s\n",
      "796:\tlearn: 0.0124176\ttotal: 10.2s\tremaining: 2.59s\n",
      "797:\tlearn: 0.0123944\ttotal: 10.2s\tremaining: 2.58s\n",
      "798:\tlearn: 0.0123751\ttotal: 10.2s\tremaining: 2.56s\n",
      "799:\tlearn: 0.0123628\ttotal: 10.2s\tremaining: 2.55s\n",
      "800:\tlearn: 0.0123404\ttotal: 10.2s\tremaining: 2.54s\n",
      "801:\tlearn: 0.0123253\ttotal: 10.2s\tremaining: 2.52s\n",
      "802:\tlearn: 0.0123164\ttotal: 10.2s\tremaining: 2.51s\n",
      "803:\tlearn: 0.0122970\ttotal: 10.2s\tremaining: 2.5s\n",
      "804:\tlearn: 0.0122830\ttotal: 10.3s\tremaining: 2.48s\n",
      "805:\tlearn: 0.0122611\ttotal: 10.3s\tremaining: 2.47s\n",
      "806:\tlearn: 0.0122529\ttotal: 10.3s\tremaining: 2.46s\n",
      "807:\tlearn: 0.0122182\ttotal: 10.3s\tremaining: 2.45s\n",
      "808:\tlearn: 0.0122011\ttotal: 10.3s\tremaining: 2.43s\n",
      "809:\tlearn: 0.0121740\ttotal: 10.3s\tremaining: 2.42s\n",
      "810:\tlearn: 0.0121606\ttotal: 10.3s\tremaining: 2.41s\n",
      "811:\tlearn: 0.0121454\ttotal: 10.3s\tremaining: 2.4s\n",
      "812:\tlearn: 0.0121313\ttotal: 10.4s\tremaining: 2.38s\n",
      "813:\tlearn: 0.0121110\ttotal: 10.4s\tremaining: 2.37s\n",
      "814:\tlearn: 0.0120901\ttotal: 10.4s\tremaining: 2.36s\n",
      "815:\tlearn: 0.0120768\ttotal: 10.4s\tremaining: 2.34s\n",
      "816:\tlearn: 0.0120529\ttotal: 10.4s\tremaining: 2.33s\n",
      "817:\tlearn: 0.0120368\ttotal: 10.4s\tremaining: 2.32s\n",
      "818:\tlearn: 0.0120134\ttotal: 10.4s\tremaining: 2.31s\n",
      "819:\tlearn: 0.0119837\ttotal: 10.4s\tremaining: 2.29s\n",
      "820:\tlearn: 0.0119542\ttotal: 10.5s\tremaining: 2.28s\n",
      "821:\tlearn: 0.0119282\ttotal: 10.5s\tremaining: 2.27s\n",
      "822:\tlearn: 0.0119071\ttotal: 10.5s\tremaining: 2.25s\n",
      "823:\tlearn: 0.0118865\ttotal: 10.5s\tremaining: 2.24s\n",
      "824:\tlearn: 0.0118777\ttotal: 10.5s\tremaining: 2.23s\n",
      "825:\tlearn: 0.0118586\ttotal: 10.5s\tremaining: 2.22s\n",
      "826:\tlearn: 0.0118400\ttotal: 10.5s\tremaining: 2.2s\n",
      "827:\tlearn: 0.0118166\ttotal: 10.5s\tremaining: 2.19s\n",
      "828:\tlearn: 0.0118075\ttotal: 10.6s\tremaining: 2.18s\n",
      "829:\tlearn: 0.0117930\ttotal: 10.6s\tremaining: 2.17s\n",
      "830:\tlearn: 0.0117769\ttotal: 10.6s\tremaining: 2.15s\n",
      "831:\tlearn: 0.0117634\ttotal: 10.6s\tremaining: 2.14s\n",
      "832:\tlearn: 0.0117498\ttotal: 10.6s\tremaining: 2.13s\n",
      "833:\tlearn: 0.0117203\ttotal: 10.6s\tremaining: 2.11s\n",
      "834:\tlearn: 0.0117040\ttotal: 10.6s\tremaining: 2.1s\n",
      "835:\tlearn: 0.0116843\ttotal: 10.6s\tremaining: 2.09s\n",
      "836:\tlearn: 0.0116610\ttotal: 10.7s\tremaining: 2.08s\n",
      "837:\tlearn: 0.0116374\ttotal: 10.7s\tremaining: 2.06s\n",
      "838:\tlearn: 0.0116220\ttotal: 10.7s\tremaining: 2.05s\n",
      "839:\tlearn: 0.0115943\ttotal: 10.7s\tremaining: 2.04s\n",
      "840:\tlearn: 0.0115775\ttotal: 10.7s\tremaining: 2.02s\n",
      "841:\tlearn: 0.0115571\ttotal: 10.7s\tremaining: 2.01s\n",
      "842:\tlearn: 0.0115432\ttotal: 10.7s\tremaining: 2s\n",
      "843:\tlearn: 0.0115266\ttotal: 10.7s\tremaining: 1.99s\n",
      "844:\tlearn: 0.0115083\ttotal: 10.8s\tremaining: 1.97s\n",
      "845:\tlearn: 0.0114797\ttotal: 10.8s\tremaining: 1.96s\n",
      "846:\tlearn: 0.0114711\ttotal: 10.8s\tremaining: 1.95s\n",
      "847:\tlearn: 0.0114531\ttotal: 10.8s\tremaining: 1.94s\n",
      "848:\tlearn: 0.0114429\ttotal: 10.8s\tremaining: 1.92s\n",
      "849:\tlearn: 0.0114216\ttotal: 10.8s\tremaining: 1.91s\n",
      "850:\tlearn: 0.0114014\ttotal: 10.8s\tremaining: 1.9s\n",
      "851:\tlearn: 0.0113825\ttotal: 10.8s\tremaining: 1.88s\n",
      "852:\tlearn: 0.0113614\ttotal: 10.9s\tremaining: 1.87s\n",
      "853:\tlearn: 0.0113464\ttotal: 10.9s\tremaining: 1.86s\n",
      "854:\tlearn: 0.0113211\ttotal: 10.9s\tremaining: 1.85s\n",
      "855:\tlearn: 0.0113024\ttotal: 10.9s\tremaining: 1.83s\n",
      "856:\tlearn: 0.0112859\ttotal: 10.9s\tremaining: 1.82s\n",
      "857:\tlearn: 0.0112734\ttotal: 10.9s\tremaining: 1.81s\n",
      "858:\tlearn: 0.0112532\ttotal: 10.9s\tremaining: 1.8s\n",
      "859:\tlearn: 0.0112328\ttotal: 11s\tremaining: 1.78s\n",
      "860:\tlearn: 0.0112275\ttotal: 11s\tremaining: 1.77s\n",
      "861:\tlearn: 0.0112182\ttotal: 11s\tremaining: 1.76s\n",
      "862:\tlearn: 0.0111923\ttotal: 11s\tremaining: 1.75s\n",
      "863:\tlearn: 0.0111771\ttotal: 11s\tremaining: 1.73s\n",
      "864:\tlearn: 0.0111468\ttotal: 11s\tremaining: 1.72s\n",
      "865:\tlearn: 0.0111262\ttotal: 11s\tremaining: 1.71s\n",
      "866:\tlearn: 0.0111158\ttotal: 11s\tremaining: 1.69s\n",
      "867:\tlearn: 0.0111122\ttotal: 11.1s\tremaining: 1.68s\n",
      "868:\tlearn: 0.0111088\ttotal: 11.1s\tremaining: 1.67s\n",
      "869:\tlearn: 0.0110882\ttotal: 11.1s\tremaining: 1.66s\n",
      "870:\tlearn: 0.0110639\ttotal: 11.1s\tremaining: 1.64s\n",
      "871:\tlearn: 0.0110524\ttotal: 11.1s\tremaining: 1.63s\n",
      "872:\tlearn: 0.0110369\ttotal: 11.1s\tremaining: 1.62s\n",
      "873:\tlearn: 0.0110194\ttotal: 11.1s\tremaining: 1.6s\n",
      "874:\tlearn: 0.0110071\ttotal: 11.2s\tremaining: 1.59s\n",
      "875:\tlearn: 0.0110017\ttotal: 11.2s\tremaining: 1.58s\n",
      "876:\tlearn: 0.0109763\ttotal: 11.2s\tremaining: 1.57s\n",
      "877:\tlearn: 0.0109538\ttotal: 11.2s\tremaining: 1.55s\n",
      "878:\tlearn: 0.0109424\ttotal: 11.2s\tremaining: 1.54s\n",
      "879:\tlearn: 0.0109277\ttotal: 11.2s\tremaining: 1.53s\n",
      "880:\tlearn: 0.0109113\ttotal: 11.2s\tremaining: 1.52s\n",
      "881:\tlearn: 0.0108934\ttotal: 11.2s\tremaining: 1.5s\n",
      "882:\tlearn: 0.0108777\ttotal: 11.3s\tremaining: 1.49s\n",
      "883:\tlearn: 0.0108707\ttotal: 11.3s\tremaining: 1.48s\n",
      "884:\tlearn: 0.0108634\ttotal: 11.3s\tremaining: 1.47s\n",
      "885:\tlearn: 0.0108460\ttotal: 11.3s\tremaining: 1.45s\n",
      "886:\tlearn: 0.0108270\ttotal: 11.3s\tremaining: 1.44s\n",
      "887:\tlearn: 0.0108175\ttotal: 11.3s\tremaining: 1.43s\n",
      "888:\tlearn: 0.0108052\ttotal: 11.3s\tremaining: 1.41s\n",
      "889:\tlearn: 0.0107989\ttotal: 11.3s\tremaining: 1.4s\n",
      "890:\tlearn: 0.0107849\ttotal: 11.3s\tremaining: 1.39s\n",
      "891:\tlearn: 0.0107717\ttotal: 11.4s\tremaining: 1.38s\n",
      "892:\tlearn: 0.0107590\ttotal: 11.4s\tremaining: 1.36s\n",
      "893:\tlearn: 0.0107401\ttotal: 11.4s\tremaining: 1.35s\n",
      "894:\tlearn: 0.0107187\ttotal: 11.4s\tremaining: 1.34s\n",
      "895:\tlearn: 0.0107043\ttotal: 11.4s\tremaining: 1.32s\n",
      "896:\tlearn: 0.0106813\ttotal: 11.4s\tremaining: 1.31s\n",
      "897:\tlearn: 0.0106682\ttotal: 11.4s\tremaining: 1.3s\n",
      "898:\tlearn: 0.0106467\ttotal: 11.5s\tremaining: 1.29s\n",
      "899:\tlearn: 0.0106339\ttotal: 11.5s\tremaining: 1.27s\n",
      "900:\tlearn: 0.0106230\ttotal: 11.5s\tremaining: 1.26s\n",
      "901:\tlearn: 0.0106058\ttotal: 11.5s\tremaining: 1.25s\n",
      "902:\tlearn: 0.0105869\ttotal: 11.5s\tremaining: 1.24s\n",
      "903:\tlearn: 0.0105816\ttotal: 11.5s\tremaining: 1.22s\n",
      "904:\tlearn: 0.0105642\ttotal: 11.5s\tremaining: 1.21s\n",
      "905:\tlearn: 0.0105432\ttotal: 11.5s\tremaining: 1.2s\n",
      "906:\tlearn: 0.0105283\ttotal: 11.6s\tremaining: 1.18s\n",
      "907:\tlearn: 0.0105205\ttotal: 11.6s\tremaining: 1.17s\n",
      "908:\tlearn: 0.0104996\ttotal: 11.6s\tremaining: 1.16s\n",
      "909:\tlearn: 0.0104793\ttotal: 11.6s\tremaining: 1.15s\n",
      "910:\tlearn: 0.0104651\ttotal: 11.6s\tremaining: 1.13s\n",
      "911:\tlearn: 0.0104595\ttotal: 11.6s\tremaining: 1.12s\n",
      "912:\tlearn: 0.0104489\ttotal: 11.6s\tremaining: 1.11s\n",
      "913:\tlearn: 0.0104319\ttotal: 11.6s\tremaining: 1.09s\n",
      "914:\tlearn: 0.0104144\ttotal: 11.7s\tremaining: 1.08s\n",
      "915:\tlearn: 0.0103920\ttotal: 11.7s\tremaining: 1.07s\n",
      "916:\tlearn: 0.0103876\ttotal: 11.7s\tremaining: 1.06s\n",
      "917:\tlearn: 0.0103717\ttotal: 11.7s\tremaining: 1.04s\n",
      "918:\tlearn: 0.0103552\ttotal: 11.7s\tremaining: 1.03s\n",
      "919:\tlearn: 0.0103363\ttotal: 11.7s\tremaining: 1.02s\n",
      "920:\tlearn: 0.0103264\ttotal: 11.7s\tremaining: 1.01s\n",
      "921:\tlearn: 0.0103139\ttotal: 11.7s\tremaining: 994ms\n",
      "922:\tlearn: 0.0103020\ttotal: 11.8s\tremaining: 981ms\n",
      "923:\tlearn: 0.0102870\ttotal: 11.8s\tremaining: 968ms\n",
      "924:\tlearn: 0.0102688\ttotal: 11.8s\tremaining: 955ms\n",
      "925:\tlearn: 0.0102552\ttotal: 11.8s\tremaining: 943ms\n",
      "926:\tlearn: 0.0102345\ttotal: 11.8s\tremaining: 930ms\n",
      "927:\tlearn: 0.0102141\ttotal: 11.8s\tremaining: 917ms\n",
      "928:\tlearn: 0.0102072\ttotal: 11.8s\tremaining: 904ms\n",
      "929:\tlearn: 0.0101964\ttotal: 11.8s\tremaining: 892ms\n",
      "930:\tlearn: 0.0101793\ttotal: 11.9s\tremaining: 879ms\n",
      "931:\tlearn: 0.0101549\ttotal: 11.9s\tremaining: 866ms\n",
      "932:\tlearn: 0.0101386\ttotal: 11.9s\tremaining: 853ms\n",
      "933:\tlearn: 0.0101278\ttotal: 11.9s\tremaining: 841ms\n",
      "934:\tlearn: 0.0101196\ttotal: 11.9s\tremaining: 828ms\n",
      "935:\tlearn: 0.0101012\ttotal: 11.9s\tremaining: 815ms\n",
      "936:\tlearn: 0.0100840\ttotal: 11.9s\tremaining: 802ms\n",
      "937:\tlearn: 0.0100689\ttotal: 11.9s\tremaining: 790ms\n",
      "938:\tlearn: 0.0100615\ttotal: 12s\tremaining: 777ms\n",
      "939:\tlearn: 0.0100567\ttotal: 12s\tremaining: 764ms\n",
      "940:\tlearn: 0.0100352\ttotal: 12s\tremaining: 752ms\n",
      "941:\tlearn: 0.0100193\ttotal: 12s\tremaining: 739ms\n",
      "942:\tlearn: 0.0100042\ttotal: 12s\tremaining: 726ms\n",
      "943:\tlearn: 0.0100035\ttotal: 12s\tremaining: 714ms\n",
      "944:\tlearn: 0.0099955\ttotal: 12s\tremaining: 701ms\n",
      "945:\tlearn: 0.0099800\ttotal: 12.1s\tremaining: 688ms\n",
      "946:\tlearn: 0.0099578\ttotal: 12.1s\tremaining: 675ms\n",
      "947:\tlearn: 0.0099390\ttotal: 12.1s\tremaining: 662ms\n",
      "948:\tlearn: 0.0099287\ttotal: 12.1s\tremaining: 650ms\n",
      "949:\tlearn: 0.0099187\ttotal: 12.1s\tremaining: 637ms\n",
      "950:\tlearn: 0.0099130\ttotal: 12.1s\tremaining: 624ms\n",
      "951:\tlearn: 0.0098980\ttotal: 12.1s\tremaining: 611ms\n",
      "952:\tlearn: 0.0098836\ttotal: 12.1s\tremaining: 598ms\n",
      "953:\tlearn: 0.0098761\ttotal: 12.1s\tremaining: 586ms\n",
      "954:\tlearn: 0.0098653\ttotal: 12.2s\tremaining: 573ms\n",
      "955:\tlearn: 0.0098429\ttotal: 12.2s\tremaining: 560ms\n",
      "956:\tlearn: 0.0098349\ttotal: 12.2s\tremaining: 547ms\n",
      "957:\tlearn: 0.0098182\ttotal: 12.2s\tremaining: 535ms\n",
      "958:\tlearn: 0.0098022\ttotal: 12.2s\tremaining: 522ms\n",
      "959:\tlearn: 0.0097943\ttotal: 12.2s\tremaining: 509ms\n",
      "960:\tlearn: 0.0097772\ttotal: 12.2s\tremaining: 496ms\n",
      "961:\tlearn: 0.0097686\ttotal: 12.2s\tremaining: 484ms\n",
      "962:\tlearn: 0.0097473\ttotal: 12.3s\tremaining: 471ms\n",
      "963:\tlearn: 0.0097282\ttotal: 12.3s\tremaining: 458ms\n",
      "964:\tlearn: 0.0097141\ttotal: 12.3s\tremaining: 446ms\n",
      "965:\tlearn: 0.0096947\ttotal: 12.3s\tremaining: 433ms\n",
      "966:\tlearn: 0.0096857\ttotal: 12.3s\tremaining: 420ms\n",
      "967:\tlearn: 0.0096652\ttotal: 12.3s\tremaining: 408ms\n",
      "968:\tlearn: 0.0096523\ttotal: 12.3s\tremaining: 395ms\n",
      "969:\tlearn: 0.0096451\ttotal: 12.4s\tremaining: 382ms\n",
      "970:\tlearn: 0.0096292\ttotal: 12.4s\tremaining: 369ms\n",
      "971:\tlearn: 0.0096134\ttotal: 12.4s\tremaining: 357ms\n",
      "972:\tlearn: 0.0096040\ttotal: 12.4s\tremaining: 344ms\n",
      "973:\tlearn: 0.0095911\ttotal: 12.4s\tremaining: 331ms\n",
      "974:\tlearn: 0.0095722\ttotal: 12.4s\tremaining: 318ms\n",
      "975:\tlearn: 0.0095538\ttotal: 12.4s\tremaining: 306ms\n",
      "976:\tlearn: 0.0095431\ttotal: 12.4s\tremaining: 293ms\n",
      "977:\tlearn: 0.0095311\ttotal: 12.5s\tremaining: 280ms\n",
      "978:\tlearn: 0.0095201\ttotal: 12.5s\tremaining: 267ms\n",
      "979:\tlearn: 0.0095061\ttotal: 12.5s\tremaining: 255ms\n",
      "980:\tlearn: 0.0094963\ttotal: 12.5s\tremaining: 242ms\n",
      "981:\tlearn: 0.0094858\ttotal: 12.5s\tremaining: 229ms\n",
      "982:\tlearn: 0.0094705\ttotal: 12.5s\tremaining: 217ms\n",
      "983:\tlearn: 0.0094607\ttotal: 12.5s\tremaining: 204ms\n",
      "984:\tlearn: 0.0094432\ttotal: 12.5s\tremaining: 191ms\n",
      "985:\tlearn: 0.0094369\ttotal: 12.6s\tremaining: 178ms\n",
      "986:\tlearn: 0.0094249\ttotal: 12.6s\tremaining: 166ms\n",
      "987:\tlearn: 0.0094147\ttotal: 12.6s\tremaining: 153ms\n",
      "988:\tlearn: 0.0094019\ttotal: 12.6s\tremaining: 140ms\n",
      "989:\tlearn: 0.0093886\ttotal: 12.6s\tremaining: 127ms\n",
      "990:\tlearn: 0.0093754\ttotal: 12.6s\tremaining: 115ms\n",
      "991:\tlearn: 0.0093635\ttotal: 12.6s\tremaining: 102ms\n",
      "992:\tlearn: 0.0093529\ttotal: 12.6s\tremaining: 89.1ms\n",
      "993:\tlearn: 0.0093408\ttotal: 12.7s\tremaining: 76.4ms\n",
      "994:\tlearn: 0.0093241\ttotal: 12.7s\tremaining: 63.7ms\n",
      "995:\tlearn: 0.0093119\ttotal: 12.7s\tremaining: 50.9ms\n",
      "996:\tlearn: 0.0093052\ttotal: 12.7s\tremaining: 38.2ms\n",
      "997:\tlearn: 0.0092880\ttotal: 12.7s\tremaining: 25.5ms\n",
      "998:\tlearn: 0.0092746\ttotal: 12.7s\tremaining: 12.7ms\n",
      "999:\tlearn: 0.0092577\ttotal: 12.7s\tremaining: 0us\n",
      "XgBoost\n",
      "Time used:  13.794821739196777\n",
      "F1 мера для тренировочных данных 100.0 %  \n",
      "F1 мера для тестовых данных 100.0 %  \n"
     ]
    },
    {
     "data": {
      "application/vnd.plotly.v1+json": {
       "data": [
        {
         "coloraxis": "coloraxis",
         "name": "0",
         "texttemplate": "%{z}",
         "z": [
          [
           40,
           0,
           0,
           0,
           0,
           0,
           0,
           0,
           0,
           0
          ],
          [
           0,
           42,
           0,
           0,
           0,
           0,
           0,
           0,
           0,
           1
          ],
          [
           0,
           0,
           38,
           0,
           0,
           0,
           0,
           0,
           0,
           0
          ],
          [
           0,
           0,
           0,
           34,
           0,
           1,
           0,
           0,
           1,
           0
          ],
          [
           0,
           0,
           0,
           0,
           35,
           0,
           0,
           2,
           0,
           1
          ],
          [
           0,
           0,
           0,
           0,
           0,
           39,
           0,
           0,
           0,
           0
          ],
          [
           0,
           0,
           0,
           0,
           0,
           1,
           31,
           0,
           0,
           0
          ],
          [
           0,
           0,
           0,
           0,
           0,
           0,
           0,
           32,
           0,
           0
          ],
          [
           0,
           1,
           1,
           0,
           0,
           0,
           0,
           0,
           30,
           0
          ],
          [
           0,
           0,
           0,
           0,
           0,
           0,
           0,
           1,
           0,
           29
          ]
         ],
         "type": "heatmap",
         "xaxis": "x",
         "yaxis": "y",
         "hovertemplate": "x: %{x}<br>y: %{y}<br>color: %{z}<extra></extra>"
        }
       ],
       "layout": {
        "template": {
         "data": {
          "histogram2dcontour": [
           {
            "type": "histogram2dcontour",
            "colorbar": {
             "outlinewidth": 0,
             "ticks": ""
            },
            "colorscale": [
             [
              0.0,
              "#0d0887"
             ],
             [
              0.1111111111111111,
              "#46039f"
             ],
             [
              0.2222222222222222,
              "#7201a8"
             ],
             [
              0.3333333333333333,
              "#9c179e"
             ],
             [
              0.4444444444444444,
              "#bd3786"
             ],
             [
              0.5555555555555556,
              "#d8576b"
             ],
             [
              0.6666666666666666,
              "#ed7953"
             ],
             [
              0.7777777777777778,
              "#fb9f3a"
             ],
             [
              0.8888888888888888,
              "#fdca26"
             ],
             [
              1.0,
              "#f0f921"
             ]
            ]
           }
          ],
          "choropleth": [
           {
            "type": "choropleth",
            "colorbar": {
             "outlinewidth": 0,
             "ticks": ""
            }
           }
          ],
          "histogram2d": [
           {
            "type": "histogram2d",
            "colorbar": {
             "outlinewidth": 0,
             "ticks": ""
            },
            "colorscale": [
             [
              0.0,
              "#0d0887"
             ],
             [
              0.1111111111111111,
              "#46039f"
             ],
             [
              0.2222222222222222,
              "#7201a8"
             ],
             [
              0.3333333333333333,
              "#9c179e"
             ],
             [
              0.4444444444444444,
              "#bd3786"
             ],
             [
              0.5555555555555556,
              "#d8576b"
             ],
             [
              0.6666666666666666,
              "#ed7953"
             ],
             [
              0.7777777777777778,
              "#fb9f3a"
             ],
             [
              0.8888888888888888,
              "#fdca26"
             ],
             [
              1.0,
              "#f0f921"
             ]
            ]
           }
          ],
          "heatmap": [
           {
            "type": "heatmap",
            "colorbar": {
             "outlinewidth": 0,
             "ticks": ""
            },
            "colorscale": [
             [
              0.0,
              "#0d0887"
             ],
             [
              0.1111111111111111,
              "#46039f"
             ],
             [
              0.2222222222222222,
              "#7201a8"
             ],
             [
              0.3333333333333333,
              "#9c179e"
             ],
             [
              0.4444444444444444,
              "#bd3786"
             ],
             [
              0.5555555555555556,
              "#d8576b"
             ],
             [
              0.6666666666666666,
              "#ed7953"
             ],
             [
              0.7777777777777778,
              "#fb9f3a"
             ],
             [
              0.8888888888888888,
              "#fdca26"
             ],
             [
              1.0,
              "#f0f921"
             ]
            ]
           }
          ],
          "heatmapgl": [
           {
            "type": "heatmapgl",
            "colorbar": {
             "outlinewidth": 0,
             "ticks": ""
            },
            "colorscale": [
             [
              0.0,
              "#0d0887"
             ],
             [
              0.1111111111111111,
              "#46039f"
             ],
             [
              0.2222222222222222,
              "#7201a8"
             ],
             [
              0.3333333333333333,
              "#9c179e"
             ],
             [
              0.4444444444444444,
              "#bd3786"
             ],
             [
              0.5555555555555556,
              "#d8576b"
             ],
             [
              0.6666666666666666,
              "#ed7953"
             ],
             [
              0.7777777777777778,
              "#fb9f3a"
             ],
             [
              0.8888888888888888,
              "#fdca26"
             ],
             [
              1.0,
              "#f0f921"
             ]
            ]
           }
          ],
          "contourcarpet": [
           {
            "type": "contourcarpet",
            "colorbar": {
             "outlinewidth": 0,
             "ticks": ""
            }
           }
          ],
          "contour": [
           {
            "type": "contour",
            "colorbar": {
             "outlinewidth": 0,
             "ticks": ""
            },
            "colorscale": [
             [
              0.0,
              "#0d0887"
             ],
             [
              0.1111111111111111,
              "#46039f"
             ],
             [
              0.2222222222222222,
              "#7201a8"
             ],
             [
              0.3333333333333333,
              "#9c179e"
             ],
             [
              0.4444444444444444,
              "#bd3786"
             ],
             [
              0.5555555555555556,
              "#d8576b"
             ],
             [
              0.6666666666666666,
              "#ed7953"
             ],
             [
              0.7777777777777778,
              "#fb9f3a"
             ],
             [
              0.8888888888888888,
              "#fdca26"
             ],
             [
              1.0,
              "#f0f921"
             ]
            ]
           }
          ],
          "surface": [
           {
            "type": "surface",
            "colorbar": {
             "outlinewidth": 0,
             "ticks": ""
            },
            "colorscale": [
             [
              0.0,
              "#0d0887"
             ],
             [
              0.1111111111111111,
              "#46039f"
             ],
             [
              0.2222222222222222,
              "#7201a8"
             ],
             [
              0.3333333333333333,
              "#9c179e"
             ],
             [
              0.4444444444444444,
              "#bd3786"
             ],
             [
              0.5555555555555556,
              "#d8576b"
             ],
             [
              0.6666666666666666,
              "#ed7953"
             ],
             [
              0.7777777777777778,
              "#fb9f3a"
             ],
             [
              0.8888888888888888,
              "#fdca26"
             ],
             [
              1.0,
              "#f0f921"
             ]
            ]
           }
          ],
          "mesh3d": [
           {
            "type": "mesh3d",
            "colorbar": {
             "outlinewidth": 0,
             "ticks": ""
            }
           }
          ],
          "scatter": [
           {
            "fillpattern": {
             "fillmode": "overlay",
             "size": 10,
             "solidity": 0.2
            },
            "type": "scatter"
           }
          ],
          "parcoords": [
           {
            "type": "parcoords",
            "line": {
             "colorbar": {
              "outlinewidth": 0,
              "ticks": ""
             }
            }
           }
          ],
          "scatterpolargl": [
           {
            "type": "scatterpolargl",
            "marker": {
             "colorbar": {
              "outlinewidth": 0,
              "ticks": ""
             }
            }
           }
          ],
          "bar": [
           {
            "error_x": {
             "color": "#2a3f5f"
            },
            "error_y": {
             "color": "#2a3f5f"
            },
            "marker": {
             "line": {
              "color": "#E5ECF6",
              "width": 0.5
             },
             "pattern": {
              "fillmode": "overlay",
              "size": 10,
              "solidity": 0.2
             }
            },
            "type": "bar"
           }
          ],
          "scattergeo": [
           {
            "type": "scattergeo",
            "marker": {
             "colorbar": {
              "outlinewidth": 0,
              "ticks": ""
             }
            }
           }
          ],
          "scatterpolar": [
           {
            "type": "scatterpolar",
            "marker": {
             "colorbar": {
              "outlinewidth": 0,
              "ticks": ""
             }
            }
           }
          ],
          "histogram": [
           {
            "marker": {
             "pattern": {
              "fillmode": "overlay",
              "size": 10,
              "solidity": 0.2
             }
            },
            "type": "histogram"
           }
          ],
          "scattergl": [
           {
            "type": "scattergl",
            "marker": {
             "colorbar": {
              "outlinewidth": 0,
              "ticks": ""
             }
            }
           }
          ],
          "scatter3d": [
           {
            "type": "scatter3d",
            "line": {
             "colorbar": {
              "outlinewidth": 0,
              "ticks": ""
             }
            },
            "marker": {
             "colorbar": {
              "outlinewidth": 0,
              "ticks": ""
             }
            }
           }
          ],
          "scattermapbox": [
           {
            "type": "scattermapbox",
            "marker": {
             "colorbar": {
              "outlinewidth": 0,
              "ticks": ""
             }
            }
           }
          ],
          "scatterternary": [
           {
            "type": "scatterternary",
            "marker": {
             "colorbar": {
              "outlinewidth": 0,
              "ticks": ""
             }
            }
           }
          ],
          "scattercarpet": [
           {
            "type": "scattercarpet",
            "marker": {
             "colorbar": {
              "outlinewidth": 0,
              "ticks": ""
             }
            }
           }
          ],
          "carpet": [
           {
            "aaxis": {
             "endlinecolor": "#2a3f5f",
             "gridcolor": "white",
             "linecolor": "white",
             "minorgridcolor": "white",
             "startlinecolor": "#2a3f5f"
            },
            "baxis": {
             "endlinecolor": "#2a3f5f",
             "gridcolor": "white",
             "linecolor": "white",
             "minorgridcolor": "white",
             "startlinecolor": "#2a3f5f"
            },
            "type": "carpet"
           }
          ],
          "table": [
           {
            "cells": {
             "fill": {
              "color": "#EBF0F8"
             },
             "line": {
              "color": "white"
             }
            },
            "header": {
             "fill": {
              "color": "#C8D4E3"
             },
             "line": {
              "color": "white"
             }
            },
            "type": "table"
           }
          ],
          "barpolar": [
           {
            "marker": {
             "line": {
              "color": "#E5ECF6",
              "width": 0.5
             },
             "pattern": {
              "fillmode": "overlay",
              "size": 10,
              "solidity": 0.2
             }
            },
            "type": "barpolar"
           }
          ],
          "pie": [
           {
            "automargin": true,
            "type": "pie"
           }
          ]
         },
         "layout": {
          "autotypenumbers": "strict",
          "colorway": [
           "#636efa",
           "#EF553B",
           "#00cc96",
           "#ab63fa",
           "#FFA15A",
           "#19d3f3",
           "#FF6692",
           "#B6E880",
           "#FF97FF",
           "#FECB52"
          ],
          "font": {
           "color": "#2a3f5f"
          },
          "hovermode": "closest",
          "hoverlabel": {
           "align": "left"
          },
          "paper_bgcolor": "white",
          "plot_bgcolor": "#E5ECF6",
          "polar": {
           "bgcolor": "#E5ECF6",
           "angularaxis": {
            "gridcolor": "white",
            "linecolor": "white",
            "ticks": ""
           },
           "radialaxis": {
            "gridcolor": "white",
            "linecolor": "white",
            "ticks": ""
           }
          },
          "ternary": {
           "bgcolor": "#E5ECF6",
           "aaxis": {
            "gridcolor": "white",
            "linecolor": "white",
            "ticks": ""
           },
           "baxis": {
            "gridcolor": "white",
            "linecolor": "white",
            "ticks": ""
           },
           "caxis": {
            "gridcolor": "white",
            "linecolor": "white",
            "ticks": ""
           }
          },
          "coloraxis": {
           "colorbar": {
            "outlinewidth": 0,
            "ticks": ""
           }
          },
          "colorscale": {
           "sequential": [
            [
             0.0,
             "#0d0887"
            ],
            [
             0.1111111111111111,
             "#46039f"
            ],
            [
             0.2222222222222222,
             "#7201a8"
            ],
            [
             0.3333333333333333,
             "#9c179e"
            ],
            [
             0.4444444444444444,
             "#bd3786"
            ],
            [
             0.5555555555555556,
             "#d8576b"
            ],
            [
             0.6666666666666666,
             "#ed7953"
            ],
            [
             0.7777777777777778,
             "#fb9f3a"
            ],
            [
             0.8888888888888888,
             "#fdca26"
            ],
            [
             1.0,
             "#f0f921"
            ]
           ],
           "sequentialminus": [
            [
             0.0,
             "#0d0887"
            ],
            [
             0.1111111111111111,
             "#46039f"
            ],
            [
             0.2222222222222222,
             "#7201a8"
            ],
            [
             0.3333333333333333,
             "#9c179e"
            ],
            [
             0.4444444444444444,
             "#bd3786"
            ],
            [
             0.5555555555555556,
             "#d8576b"
            ],
            [
             0.6666666666666666,
             "#ed7953"
            ],
            [
             0.7777777777777778,
             "#fb9f3a"
            ],
            [
             0.8888888888888888,
             "#fdca26"
            ],
            [
             1.0,
             "#f0f921"
            ]
           ],
           "diverging": [
            [
             0,
             "#8e0152"
            ],
            [
             0.1,
             "#c51b7d"
            ],
            [
             0.2,
             "#de77ae"
            ],
            [
             0.3,
             "#f1b6da"
            ],
            [
             0.4,
             "#fde0ef"
            ],
            [
             0.5,
             "#f7f7f7"
            ],
            [
             0.6,
             "#e6f5d0"
            ],
            [
             0.7,
             "#b8e186"
            ],
            [
             0.8,
             "#7fbc41"
            ],
            [
             0.9,
             "#4d9221"
            ],
            [
             1,
             "#276419"
            ]
           ]
          },
          "xaxis": {
           "gridcolor": "white",
           "linecolor": "white",
           "ticks": "",
           "title": {
            "standoff": 15
           },
           "zerolinecolor": "white",
           "automargin": true,
           "zerolinewidth": 2
          },
          "yaxis": {
           "gridcolor": "white",
           "linecolor": "white",
           "ticks": "",
           "title": {
            "standoff": 15
           },
           "zerolinecolor": "white",
           "automargin": true,
           "zerolinewidth": 2
          },
          "scene": {
           "xaxis": {
            "backgroundcolor": "#E5ECF6",
            "gridcolor": "white",
            "linecolor": "white",
            "showbackground": true,
            "ticks": "",
            "zerolinecolor": "white",
            "gridwidth": 2
           },
           "yaxis": {
            "backgroundcolor": "#E5ECF6",
            "gridcolor": "white",
            "linecolor": "white",
            "showbackground": true,
            "ticks": "",
            "zerolinecolor": "white",
            "gridwidth": 2
           },
           "zaxis": {
            "backgroundcolor": "#E5ECF6",
            "gridcolor": "white",
            "linecolor": "white",
            "showbackground": true,
            "ticks": "",
            "zerolinecolor": "white",
            "gridwidth": 2
           }
          },
          "shapedefaults": {
           "line": {
            "color": "#2a3f5f"
           }
          },
          "annotationdefaults": {
           "arrowcolor": "#2a3f5f",
           "arrowhead": 0,
           "arrowwidth": 1
          },
          "geo": {
           "bgcolor": "white",
           "landcolor": "#E5ECF6",
           "subunitcolor": "white",
           "showland": true,
           "showlakes": true,
           "lakecolor": "white"
          },
          "title": {
           "x": 0.05
          },
          "mapbox": {
           "style": "light"
          }
         }
        },
        "xaxis": {
         "anchor": "y",
         "domain": [
          0.0,
          1.0
         ],
         "scaleanchor": "y",
         "constrain": "domain",
         "title": {
          "text": "Target"
         }
        },
        "yaxis": {
         "anchor": "x",
         "domain": [
          0.0,
          1.0
         ],
         "autorange": "reversed",
         "constrain": "domain",
         "title": {
          "text": "Prediction"
         }
        },
        "coloraxis": {
         "colorscale": [
          [
           0.0,
           "#0d0887"
          ],
          [
           0.1111111111111111,
           "#46039f"
          ],
          [
           0.2222222222222222,
           "#7201a8"
          ],
          [
           0.3333333333333333,
           "#9c179e"
          ],
          [
           0.4444444444444444,
           "#bd3786"
          ],
          [
           0.5555555555555556,
           "#d8576b"
          ],
          [
           0.6666666666666666,
           "#ed7953"
          ],
          [
           0.7777777777777778,
           "#fb9f3a"
          ],
          [
           0.8888888888888888,
           "#fdca26"
          ],
          [
           1.0,
           "#f0f921"
          ]
         ]
        },
        "margin": {
         "t": 60
        }
       },
       "config": {
        "plotlyServerURL": "https://plot.ly"
       }
      },
      "text/html": "<div>                            <div id=\"31d88c65-79b0-443f-a817-ff581972caeb\" class=\"plotly-graph-div\" style=\"height:525px; width:100%;\"></div>            <script type=\"text/javascript\">                require([\"plotly\"], function(Plotly) {                    window.PLOTLYENV=window.PLOTLYENV || {};                                    if (document.getElementById(\"31d88c65-79b0-443f-a817-ff581972caeb\")) {                    Plotly.newPlot(                        \"31d88c65-79b0-443f-a817-ff581972caeb\",                        [{\"coloraxis\":\"coloraxis\",\"name\":\"0\",\"texttemplate\":\"%{z}\",\"z\":[[40,0,0,0,0,0,0,0,0,0],[0,42,0,0,0,0,0,0,0,1],[0,0,38,0,0,0,0,0,0,0],[0,0,0,34,0,1,0,0,1,0],[0,0,0,0,35,0,0,2,0,1],[0,0,0,0,0,39,0,0,0,0],[0,0,0,0,0,1,31,0,0,0],[0,0,0,0,0,0,0,32,0,0],[0,1,1,0,0,0,0,0,30,0],[0,0,0,0,0,0,0,1,0,29]],\"type\":\"heatmap\",\"xaxis\":\"x\",\"yaxis\":\"y\",\"hovertemplate\":\"x: %{x}<br>y: %{y}<br>color: %{z}<extra></extra>\"}],                        {\"template\":{\"data\":{\"histogram2dcontour\":[{\"type\":\"histogram2dcontour\",\"colorbar\":{\"outlinewidth\":0,\"ticks\":\"\"},\"colorscale\":[[0.0,\"#0d0887\"],[0.1111111111111111,\"#46039f\"],[0.2222222222222222,\"#7201a8\"],[0.3333333333333333,\"#9c179e\"],[0.4444444444444444,\"#bd3786\"],[0.5555555555555556,\"#d8576b\"],[0.6666666666666666,\"#ed7953\"],[0.7777777777777778,\"#fb9f3a\"],[0.8888888888888888,\"#fdca26\"],[1.0,\"#f0f921\"]]}],\"choropleth\":[{\"type\":\"choropleth\",\"colorbar\":{\"outlinewidth\":0,\"ticks\":\"\"}}],\"histogram2d\":[{\"type\":\"histogram2d\",\"colorbar\":{\"outlinewidth\":0,\"ticks\":\"\"},\"colorscale\":[[0.0,\"#0d0887\"],[0.1111111111111111,\"#46039f\"],[0.2222222222222222,\"#7201a8\"],[0.3333333333333333,\"#9c179e\"],[0.4444444444444444,\"#bd3786\"],[0.5555555555555556,\"#d8576b\"],[0.6666666666666666,\"#ed7953\"],[0.7777777777777778,\"#fb9f3a\"],[0.8888888888888888,\"#fdca26\"],[1.0,\"#f0f921\"]]}],\"heatmap\":[{\"type\":\"heatmap\",\"colorbar\":{\"outlinewidth\":0,\"ticks\":\"\"},\"colorscale\":[[0.0,\"#0d0887\"],[0.1111111111111111,\"#46039f\"],[0.2222222222222222,\"#7201a8\"],[0.3333333333333333,\"#9c179e\"],[0.4444444444444444,\"#bd3786\"],[0.5555555555555556,\"#d8576b\"],[0.6666666666666666,\"#ed7953\"],[0.7777777777777778,\"#fb9f3a\"],[0.8888888888888888,\"#fdca26\"],[1.0,\"#f0f921\"]]}],\"heatmapgl\":[{\"type\":\"heatmapgl\",\"colorbar\":{\"outlinewidth\":0,\"ticks\":\"\"},\"colorscale\":[[0.0,\"#0d0887\"],[0.1111111111111111,\"#46039f\"],[0.2222222222222222,\"#7201a8\"],[0.3333333333333333,\"#9c179e\"],[0.4444444444444444,\"#bd3786\"],[0.5555555555555556,\"#d8576b\"],[0.6666666666666666,\"#ed7953\"],[0.7777777777777778,\"#fb9f3a\"],[0.8888888888888888,\"#fdca26\"],[1.0,\"#f0f921\"]]}],\"contourcarpet\":[{\"type\":\"contourcarpet\",\"colorbar\":{\"outlinewidth\":0,\"ticks\":\"\"}}],\"contour\":[{\"type\":\"contour\",\"colorbar\":{\"outlinewidth\":0,\"ticks\":\"\"},\"colorscale\":[[0.0,\"#0d0887\"],[0.1111111111111111,\"#46039f\"],[0.2222222222222222,\"#7201a8\"],[0.3333333333333333,\"#9c179e\"],[0.4444444444444444,\"#bd3786\"],[0.5555555555555556,\"#d8576b\"],[0.6666666666666666,\"#ed7953\"],[0.7777777777777778,\"#fb9f3a\"],[0.8888888888888888,\"#fdca26\"],[1.0,\"#f0f921\"]]}],\"surface\":[{\"type\":\"surface\",\"colorbar\":{\"outlinewidth\":0,\"ticks\":\"\"},\"colorscale\":[[0.0,\"#0d0887\"],[0.1111111111111111,\"#46039f\"],[0.2222222222222222,\"#7201a8\"],[0.3333333333333333,\"#9c179e\"],[0.4444444444444444,\"#bd3786\"],[0.5555555555555556,\"#d8576b\"],[0.6666666666666666,\"#ed7953\"],[0.7777777777777778,\"#fb9f3a\"],[0.8888888888888888,\"#fdca26\"],[1.0,\"#f0f921\"]]}],\"mesh3d\":[{\"type\":\"mesh3d\",\"colorbar\":{\"outlinewidth\":0,\"ticks\":\"\"}}],\"scatter\":[{\"fillpattern\":{\"fillmode\":\"overlay\",\"size\":10,\"solidity\":0.2},\"type\":\"scatter\"}],\"parcoords\":[{\"type\":\"parcoords\",\"line\":{\"colorbar\":{\"outlinewidth\":0,\"ticks\":\"\"}}}],\"scatterpolargl\":[{\"type\":\"scatterpolargl\",\"marker\":{\"colorbar\":{\"outlinewidth\":0,\"ticks\":\"\"}}}],\"bar\":[{\"error_x\":{\"color\":\"#2a3f5f\"},\"error_y\":{\"color\":\"#2a3f5f\"},\"marker\":{\"line\":{\"color\":\"#E5ECF6\",\"width\":0.5},\"pattern\":{\"fillmode\":\"overlay\",\"size\":10,\"solidity\":0.2}},\"type\":\"bar\"}],\"scattergeo\":[{\"type\":\"scattergeo\",\"marker\":{\"colorbar\":{\"outlinewidth\":0,\"ticks\":\"\"}}}],\"scatterpolar\":[{\"type\":\"scatterpolar\",\"marker\":{\"colorbar\":{\"outlinewidth\":0,\"ticks\":\"\"}}}],\"histogram\":[{\"marker\":{\"pattern\":{\"fillmode\":\"overlay\",\"size\":10,\"solidity\":0.2}},\"type\":\"histogram\"}],\"scattergl\":[{\"type\":\"scattergl\",\"marker\":{\"colorbar\":{\"outlinewidth\":0,\"ticks\":\"\"}}}],\"scatter3d\":[{\"type\":\"scatter3d\",\"line\":{\"colorbar\":{\"outlinewidth\":0,\"ticks\":\"\"}},\"marker\":{\"colorbar\":{\"outlinewidth\":0,\"ticks\":\"\"}}}],\"scattermapbox\":[{\"type\":\"scattermapbox\",\"marker\":{\"colorbar\":{\"outlinewidth\":0,\"ticks\":\"\"}}}],\"scatterternary\":[{\"type\":\"scatterternary\",\"marker\":{\"colorbar\":{\"outlinewidth\":0,\"ticks\":\"\"}}}],\"scattercarpet\":[{\"type\":\"scattercarpet\",\"marker\":{\"colorbar\":{\"outlinewidth\":0,\"ticks\":\"\"}}}],\"carpet\":[{\"aaxis\":{\"endlinecolor\":\"#2a3f5f\",\"gridcolor\":\"white\",\"linecolor\":\"white\",\"minorgridcolor\":\"white\",\"startlinecolor\":\"#2a3f5f\"},\"baxis\":{\"endlinecolor\":\"#2a3f5f\",\"gridcolor\":\"white\",\"linecolor\":\"white\",\"minorgridcolor\":\"white\",\"startlinecolor\":\"#2a3f5f\"},\"type\":\"carpet\"}],\"table\":[{\"cells\":{\"fill\":{\"color\":\"#EBF0F8\"},\"line\":{\"color\":\"white\"}},\"header\":{\"fill\":{\"color\":\"#C8D4E3\"},\"line\":{\"color\":\"white\"}},\"type\":\"table\"}],\"barpolar\":[{\"marker\":{\"line\":{\"color\":\"#E5ECF6\",\"width\":0.5},\"pattern\":{\"fillmode\":\"overlay\",\"size\":10,\"solidity\":0.2}},\"type\":\"barpolar\"}],\"pie\":[{\"automargin\":true,\"type\":\"pie\"}]},\"layout\":{\"autotypenumbers\":\"strict\",\"colorway\":[\"#636efa\",\"#EF553B\",\"#00cc96\",\"#ab63fa\",\"#FFA15A\",\"#19d3f3\",\"#FF6692\",\"#B6E880\",\"#FF97FF\",\"#FECB52\"],\"font\":{\"color\":\"#2a3f5f\"},\"hovermode\":\"closest\",\"hoverlabel\":{\"align\":\"left\"},\"paper_bgcolor\":\"white\",\"plot_bgcolor\":\"#E5ECF6\",\"polar\":{\"bgcolor\":\"#E5ECF6\",\"angularaxis\":{\"gridcolor\":\"white\",\"linecolor\":\"white\",\"ticks\":\"\"},\"radialaxis\":{\"gridcolor\":\"white\",\"linecolor\":\"white\",\"ticks\":\"\"}},\"ternary\":{\"bgcolor\":\"#E5ECF6\",\"aaxis\":{\"gridcolor\":\"white\",\"linecolor\":\"white\",\"ticks\":\"\"},\"baxis\":{\"gridcolor\":\"white\",\"linecolor\":\"white\",\"ticks\":\"\"},\"caxis\":{\"gridcolor\":\"white\",\"linecolor\":\"white\",\"ticks\":\"\"}},\"coloraxis\":{\"colorbar\":{\"outlinewidth\":0,\"ticks\":\"\"}},\"colorscale\":{\"sequential\":[[0.0,\"#0d0887\"],[0.1111111111111111,\"#46039f\"],[0.2222222222222222,\"#7201a8\"],[0.3333333333333333,\"#9c179e\"],[0.4444444444444444,\"#bd3786\"],[0.5555555555555556,\"#d8576b\"],[0.6666666666666666,\"#ed7953\"],[0.7777777777777778,\"#fb9f3a\"],[0.8888888888888888,\"#fdca26\"],[1.0,\"#f0f921\"]],\"sequentialminus\":[[0.0,\"#0d0887\"],[0.1111111111111111,\"#46039f\"],[0.2222222222222222,\"#7201a8\"],[0.3333333333333333,\"#9c179e\"],[0.4444444444444444,\"#bd3786\"],[0.5555555555555556,\"#d8576b\"],[0.6666666666666666,\"#ed7953\"],[0.7777777777777778,\"#fb9f3a\"],[0.8888888888888888,\"#fdca26\"],[1.0,\"#f0f921\"]],\"diverging\":[[0,\"#8e0152\"],[0.1,\"#c51b7d\"],[0.2,\"#de77ae\"],[0.3,\"#f1b6da\"],[0.4,\"#fde0ef\"],[0.5,\"#f7f7f7\"],[0.6,\"#e6f5d0\"],[0.7,\"#b8e186\"],[0.8,\"#7fbc41\"],[0.9,\"#4d9221\"],[1,\"#276419\"]]},\"xaxis\":{\"gridcolor\":\"white\",\"linecolor\":\"white\",\"ticks\":\"\",\"title\":{\"standoff\":15},\"zerolinecolor\":\"white\",\"automargin\":true,\"zerolinewidth\":2},\"yaxis\":{\"gridcolor\":\"white\",\"linecolor\":\"white\",\"ticks\":\"\",\"title\":{\"standoff\":15},\"zerolinecolor\":\"white\",\"automargin\":true,\"zerolinewidth\":2},\"scene\":{\"xaxis\":{\"backgroundcolor\":\"#E5ECF6\",\"gridcolor\":\"white\",\"linecolor\":\"white\",\"showbackground\":true,\"ticks\":\"\",\"zerolinecolor\":\"white\",\"gridwidth\":2},\"yaxis\":{\"backgroundcolor\":\"#E5ECF6\",\"gridcolor\":\"white\",\"linecolor\":\"white\",\"showbackground\":true,\"ticks\":\"\",\"zerolinecolor\":\"white\",\"gridwidth\":2},\"zaxis\":{\"backgroundcolor\":\"#E5ECF6\",\"gridcolor\":\"white\",\"linecolor\":\"white\",\"showbackground\":true,\"ticks\":\"\",\"zerolinecolor\":\"white\",\"gridwidth\":2}},\"shapedefaults\":{\"line\":{\"color\":\"#2a3f5f\"}},\"annotationdefaults\":{\"arrowcolor\":\"#2a3f5f\",\"arrowhead\":0,\"arrowwidth\":1},\"geo\":{\"bgcolor\":\"white\",\"landcolor\":\"#E5ECF6\",\"subunitcolor\":\"white\",\"showland\":true,\"showlakes\":true,\"lakecolor\":\"white\"},\"title\":{\"x\":0.05},\"mapbox\":{\"style\":\"light\"}}},\"xaxis\":{\"anchor\":\"y\",\"domain\":[0.0,1.0],\"scaleanchor\":\"y\",\"constrain\":\"domain\",\"title\":{\"text\":\"Target\"}},\"yaxis\":{\"anchor\":\"x\",\"domain\":[0.0,1.0],\"autorange\":\"reversed\",\"constrain\":\"domain\",\"title\":{\"text\":\"Prediction\"}},\"coloraxis\":{\"colorscale\":[[0.0,\"#0d0887\"],[0.1111111111111111,\"#46039f\"],[0.2222222222222222,\"#7201a8\"],[0.3333333333333333,\"#9c179e\"],[0.4444444444444444,\"#bd3786\"],[0.5555555555555556,\"#d8576b\"],[0.6666666666666666,\"#ed7953\"],[0.7777777777777778,\"#fb9f3a\"],[0.8888888888888888,\"#fdca26\"],[1.0,\"#f0f921\"]]},\"margin\":{\"t\":60}},                        {\"responsive\": true}                    ).then(function(){\n                            \nvar gd = document.getElementById('31d88c65-79b0-443f-a817-ff581972caeb');\nvar x = new MutationObserver(function (mutations, observer) {{\n        var display = window.getComputedStyle(gd).display;\n        if (!display || display === 'none') {{\n            console.log([gd, 'removed!']);\n            Plotly.purge(gd);\n            observer.disconnect();\n        }}\n}});\n\n// Listen for the removal of the full notebook cells\nvar notebookContainer = gd.closest('#notebook-container');\nif (notebookContainer) {{\n    x.observe(notebookContainer, {childList: true});\n}}\n\n// Listen for the clearing of the current output cell\nvar outputEl = gd.closest('.output');\nif (outputEl) {{\n    x.observe(outputEl, {childList: true});\n}}\n\n                        })                };                });            </script>        </div>"
     },
     "metadata": {},
     "output_type": "display_data"
    },
    {
     "name": "stdout",
     "output_type": "stream",
     "text": [
      "              precision    recall  f1-score   support\n",
      "\n",
      "           0       1.00      1.00      1.00        40\n",
      "           1       0.98      0.98      0.98        43\n",
      "           2       0.97      1.00      0.99        38\n",
      "           3       1.00      0.94      0.97        36\n",
      "           4       1.00      0.92      0.96        38\n",
      "           5       0.95      1.00      0.97        39\n",
      "           6       1.00      0.97      0.98        32\n",
      "           7       0.91      1.00      0.96        32\n",
      "           8       0.97      0.94      0.95        32\n",
      "           9       0.94      0.97      0.95        30\n",
      "\n",
      "    accuracy                           0.97       360\n",
      "   macro avg       0.97      0.97      0.97       360\n",
      "weighted avg       0.97      0.97      0.97       360\n",
      "\n",
      "\n",
      "\n",
      "Выполнение третьего задания:\n",
      "\n",
      "Точность XGBoostClassifier модели равна: 96.944444 %\n",
      "\n",
      "Матрица ошибок XGBoostClassifier модели :\n"
     ]
    },
    {
     "data": {
      "application/vnd.plotly.v1+json": {
       "data": [
        {
         "coloraxis": "coloraxis",
         "name": "0",
         "texttemplate": "%{z}",
         "z": [
          [
           40,
           0,
           0,
           0,
           0,
           0,
           0,
           0,
           0,
           0
          ],
          [
           0,
           43,
           0,
           0,
           0,
           0,
           0,
           0,
           0,
           0
          ],
          [
           0,
           1,
           35,
           0,
           0,
           0,
           0,
           0,
           2,
           0
          ],
          [
           0,
           0,
           0,
           35,
           0,
           0,
           0,
           0,
           0,
           1
          ],
          [
           0,
           0,
           0,
           0,
           36,
           0,
           0,
           1,
           0,
           1
          ],
          [
           0,
           0,
           0,
           0,
           0,
           39,
           0,
           0,
           0,
           0
          ],
          [
           0,
           0,
           0,
           0,
           0,
           1,
           31,
           0,
           0,
           0
          ],
          [
           0,
           0,
           0,
           0,
           0,
           1,
           0,
           31,
           0,
           0
          ],
          [
           0,
           2,
           0,
           0,
           0,
           0,
           0,
           0,
           30,
           0
          ],
          [
           0,
           1,
           0,
           0,
           0,
           0,
           0,
           0,
           0,
           29
          ]
         ],
         "type": "heatmap",
         "xaxis": "x",
         "yaxis": "y",
         "hovertemplate": "x: %{x}<br>y: %{y}<br>color: %{z}<extra></extra>"
        }
       ],
       "layout": {
        "template": {
         "data": {
          "histogram2dcontour": [
           {
            "type": "histogram2dcontour",
            "colorbar": {
             "outlinewidth": 0,
             "ticks": ""
            },
            "colorscale": [
             [
              0.0,
              "#0d0887"
             ],
             [
              0.1111111111111111,
              "#46039f"
             ],
             [
              0.2222222222222222,
              "#7201a8"
             ],
             [
              0.3333333333333333,
              "#9c179e"
             ],
             [
              0.4444444444444444,
              "#bd3786"
             ],
             [
              0.5555555555555556,
              "#d8576b"
             ],
             [
              0.6666666666666666,
              "#ed7953"
             ],
             [
              0.7777777777777778,
              "#fb9f3a"
             ],
             [
              0.8888888888888888,
              "#fdca26"
             ],
             [
              1.0,
              "#f0f921"
             ]
            ]
           }
          ],
          "choropleth": [
           {
            "type": "choropleth",
            "colorbar": {
             "outlinewidth": 0,
             "ticks": ""
            }
           }
          ],
          "histogram2d": [
           {
            "type": "histogram2d",
            "colorbar": {
             "outlinewidth": 0,
             "ticks": ""
            },
            "colorscale": [
             [
              0.0,
              "#0d0887"
             ],
             [
              0.1111111111111111,
              "#46039f"
             ],
             [
              0.2222222222222222,
              "#7201a8"
             ],
             [
              0.3333333333333333,
              "#9c179e"
             ],
             [
              0.4444444444444444,
              "#bd3786"
             ],
             [
              0.5555555555555556,
              "#d8576b"
             ],
             [
              0.6666666666666666,
              "#ed7953"
             ],
             [
              0.7777777777777778,
              "#fb9f3a"
             ],
             [
              0.8888888888888888,
              "#fdca26"
             ],
             [
              1.0,
              "#f0f921"
             ]
            ]
           }
          ],
          "heatmap": [
           {
            "type": "heatmap",
            "colorbar": {
             "outlinewidth": 0,
             "ticks": ""
            },
            "colorscale": [
             [
              0.0,
              "#0d0887"
             ],
             [
              0.1111111111111111,
              "#46039f"
             ],
             [
              0.2222222222222222,
              "#7201a8"
             ],
             [
              0.3333333333333333,
              "#9c179e"
             ],
             [
              0.4444444444444444,
              "#bd3786"
             ],
             [
              0.5555555555555556,
              "#d8576b"
             ],
             [
              0.6666666666666666,
              "#ed7953"
             ],
             [
              0.7777777777777778,
              "#fb9f3a"
             ],
             [
              0.8888888888888888,
              "#fdca26"
             ],
             [
              1.0,
              "#f0f921"
             ]
            ]
           }
          ],
          "heatmapgl": [
           {
            "type": "heatmapgl",
            "colorbar": {
             "outlinewidth": 0,
             "ticks": ""
            },
            "colorscale": [
             [
              0.0,
              "#0d0887"
             ],
             [
              0.1111111111111111,
              "#46039f"
             ],
             [
              0.2222222222222222,
              "#7201a8"
             ],
             [
              0.3333333333333333,
              "#9c179e"
             ],
             [
              0.4444444444444444,
              "#bd3786"
             ],
             [
              0.5555555555555556,
              "#d8576b"
             ],
             [
              0.6666666666666666,
              "#ed7953"
             ],
             [
              0.7777777777777778,
              "#fb9f3a"
             ],
             [
              0.8888888888888888,
              "#fdca26"
             ],
             [
              1.0,
              "#f0f921"
             ]
            ]
           }
          ],
          "contourcarpet": [
           {
            "type": "contourcarpet",
            "colorbar": {
             "outlinewidth": 0,
             "ticks": ""
            }
           }
          ],
          "contour": [
           {
            "type": "contour",
            "colorbar": {
             "outlinewidth": 0,
             "ticks": ""
            },
            "colorscale": [
             [
              0.0,
              "#0d0887"
             ],
             [
              0.1111111111111111,
              "#46039f"
             ],
             [
              0.2222222222222222,
              "#7201a8"
             ],
             [
              0.3333333333333333,
              "#9c179e"
             ],
             [
              0.4444444444444444,
              "#bd3786"
             ],
             [
              0.5555555555555556,
              "#d8576b"
             ],
             [
              0.6666666666666666,
              "#ed7953"
             ],
             [
              0.7777777777777778,
              "#fb9f3a"
             ],
             [
              0.8888888888888888,
              "#fdca26"
             ],
             [
              1.0,
              "#f0f921"
             ]
            ]
           }
          ],
          "surface": [
           {
            "type": "surface",
            "colorbar": {
             "outlinewidth": 0,
             "ticks": ""
            },
            "colorscale": [
             [
              0.0,
              "#0d0887"
             ],
             [
              0.1111111111111111,
              "#46039f"
             ],
             [
              0.2222222222222222,
              "#7201a8"
             ],
             [
              0.3333333333333333,
              "#9c179e"
             ],
             [
              0.4444444444444444,
              "#bd3786"
             ],
             [
              0.5555555555555556,
              "#d8576b"
             ],
             [
              0.6666666666666666,
              "#ed7953"
             ],
             [
              0.7777777777777778,
              "#fb9f3a"
             ],
             [
              0.8888888888888888,
              "#fdca26"
             ],
             [
              1.0,
              "#f0f921"
             ]
            ]
           }
          ],
          "mesh3d": [
           {
            "type": "mesh3d",
            "colorbar": {
             "outlinewidth": 0,
             "ticks": ""
            }
           }
          ],
          "scatter": [
           {
            "fillpattern": {
             "fillmode": "overlay",
             "size": 10,
             "solidity": 0.2
            },
            "type": "scatter"
           }
          ],
          "parcoords": [
           {
            "type": "parcoords",
            "line": {
             "colorbar": {
              "outlinewidth": 0,
              "ticks": ""
             }
            }
           }
          ],
          "scatterpolargl": [
           {
            "type": "scatterpolargl",
            "marker": {
             "colorbar": {
              "outlinewidth": 0,
              "ticks": ""
             }
            }
           }
          ],
          "bar": [
           {
            "error_x": {
             "color": "#2a3f5f"
            },
            "error_y": {
             "color": "#2a3f5f"
            },
            "marker": {
             "line": {
              "color": "#E5ECF6",
              "width": 0.5
             },
             "pattern": {
              "fillmode": "overlay",
              "size": 10,
              "solidity": 0.2
             }
            },
            "type": "bar"
           }
          ],
          "scattergeo": [
           {
            "type": "scattergeo",
            "marker": {
             "colorbar": {
              "outlinewidth": 0,
              "ticks": ""
             }
            }
           }
          ],
          "scatterpolar": [
           {
            "type": "scatterpolar",
            "marker": {
             "colorbar": {
              "outlinewidth": 0,
              "ticks": ""
             }
            }
           }
          ],
          "histogram": [
           {
            "marker": {
             "pattern": {
              "fillmode": "overlay",
              "size": 10,
              "solidity": 0.2
             }
            },
            "type": "histogram"
           }
          ],
          "scattergl": [
           {
            "type": "scattergl",
            "marker": {
             "colorbar": {
              "outlinewidth": 0,
              "ticks": ""
             }
            }
           }
          ],
          "scatter3d": [
           {
            "type": "scatter3d",
            "line": {
             "colorbar": {
              "outlinewidth": 0,
              "ticks": ""
             }
            },
            "marker": {
             "colorbar": {
              "outlinewidth": 0,
              "ticks": ""
             }
            }
           }
          ],
          "scattermapbox": [
           {
            "type": "scattermapbox",
            "marker": {
             "colorbar": {
              "outlinewidth": 0,
              "ticks": ""
             }
            }
           }
          ],
          "scatterternary": [
           {
            "type": "scatterternary",
            "marker": {
             "colorbar": {
              "outlinewidth": 0,
              "ticks": ""
             }
            }
           }
          ],
          "scattercarpet": [
           {
            "type": "scattercarpet",
            "marker": {
             "colorbar": {
              "outlinewidth": 0,
              "ticks": ""
             }
            }
           }
          ],
          "carpet": [
           {
            "aaxis": {
             "endlinecolor": "#2a3f5f",
             "gridcolor": "white",
             "linecolor": "white",
             "minorgridcolor": "white",
             "startlinecolor": "#2a3f5f"
            },
            "baxis": {
             "endlinecolor": "#2a3f5f",
             "gridcolor": "white",
             "linecolor": "white",
             "minorgridcolor": "white",
             "startlinecolor": "#2a3f5f"
            },
            "type": "carpet"
           }
          ],
          "table": [
           {
            "cells": {
             "fill": {
              "color": "#EBF0F8"
             },
             "line": {
              "color": "white"
             }
            },
            "header": {
             "fill": {
              "color": "#C8D4E3"
             },
             "line": {
              "color": "white"
             }
            },
            "type": "table"
           }
          ],
          "barpolar": [
           {
            "marker": {
             "line": {
              "color": "#E5ECF6",
              "width": 0.5
             },
             "pattern": {
              "fillmode": "overlay",
              "size": 10,
              "solidity": 0.2
             }
            },
            "type": "barpolar"
           }
          ],
          "pie": [
           {
            "automargin": true,
            "type": "pie"
           }
          ]
         },
         "layout": {
          "autotypenumbers": "strict",
          "colorway": [
           "#636efa",
           "#EF553B",
           "#00cc96",
           "#ab63fa",
           "#FFA15A",
           "#19d3f3",
           "#FF6692",
           "#B6E880",
           "#FF97FF",
           "#FECB52"
          ],
          "font": {
           "color": "#2a3f5f"
          },
          "hovermode": "closest",
          "hoverlabel": {
           "align": "left"
          },
          "paper_bgcolor": "white",
          "plot_bgcolor": "#E5ECF6",
          "polar": {
           "bgcolor": "#E5ECF6",
           "angularaxis": {
            "gridcolor": "white",
            "linecolor": "white",
            "ticks": ""
           },
           "radialaxis": {
            "gridcolor": "white",
            "linecolor": "white",
            "ticks": ""
           }
          },
          "ternary": {
           "bgcolor": "#E5ECF6",
           "aaxis": {
            "gridcolor": "white",
            "linecolor": "white",
            "ticks": ""
           },
           "baxis": {
            "gridcolor": "white",
            "linecolor": "white",
            "ticks": ""
           },
           "caxis": {
            "gridcolor": "white",
            "linecolor": "white",
            "ticks": ""
           }
          },
          "coloraxis": {
           "colorbar": {
            "outlinewidth": 0,
            "ticks": ""
           }
          },
          "colorscale": {
           "sequential": [
            [
             0.0,
             "#0d0887"
            ],
            [
             0.1111111111111111,
             "#46039f"
            ],
            [
             0.2222222222222222,
             "#7201a8"
            ],
            [
             0.3333333333333333,
             "#9c179e"
            ],
            [
             0.4444444444444444,
             "#bd3786"
            ],
            [
             0.5555555555555556,
             "#d8576b"
            ],
            [
             0.6666666666666666,
             "#ed7953"
            ],
            [
             0.7777777777777778,
             "#fb9f3a"
            ],
            [
             0.8888888888888888,
             "#fdca26"
            ],
            [
             1.0,
             "#f0f921"
            ]
           ],
           "sequentialminus": [
            [
             0.0,
             "#0d0887"
            ],
            [
             0.1111111111111111,
             "#46039f"
            ],
            [
             0.2222222222222222,
             "#7201a8"
            ],
            [
             0.3333333333333333,
             "#9c179e"
            ],
            [
             0.4444444444444444,
             "#bd3786"
            ],
            [
             0.5555555555555556,
             "#d8576b"
            ],
            [
             0.6666666666666666,
             "#ed7953"
            ],
            [
             0.7777777777777778,
             "#fb9f3a"
            ],
            [
             0.8888888888888888,
             "#fdca26"
            ],
            [
             1.0,
             "#f0f921"
            ]
           ],
           "diverging": [
            [
             0,
             "#8e0152"
            ],
            [
             0.1,
             "#c51b7d"
            ],
            [
             0.2,
             "#de77ae"
            ],
            [
             0.3,
             "#f1b6da"
            ],
            [
             0.4,
             "#fde0ef"
            ],
            [
             0.5,
             "#f7f7f7"
            ],
            [
             0.6,
             "#e6f5d0"
            ],
            [
             0.7,
             "#b8e186"
            ],
            [
             0.8,
             "#7fbc41"
            ],
            [
             0.9,
             "#4d9221"
            ],
            [
             1,
             "#276419"
            ]
           ]
          },
          "xaxis": {
           "gridcolor": "white",
           "linecolor": "white",
           "ticks": "",
           "title": {
            "standoff": 15
           },
           "zerolinecolor": "white",
           "automargin": true,
           "zerolinewidth": 2
          },
          "yaxis": {
           "gridcolor": "white",
           "linecolor": "white",
           "ticks": "",
           "title": {
            "standoff": 15
           },
           "zerolinecolor": "white",
           "automargin": true,
           "zerolinewidth": 2
          },
          "scene": {
           "xaxis": {
            "backgroundcolor": "#E5ECF6",
            "gridcolor": "white",
            "linecolor": "white",
            "showbackground": true,
            "ticks": "",
            "zerolinecolor": "white",
            "gridwidth": 2
           },
           "yaxis": {
            "backgroundcolor": "#E5ECF6",
            "gridcolor": "white",
            "linecolor": "white",
            "showbackground": true,
            "ticks": "",
            "zerolinecolor": "white",
            "gridwidth": 2
           },
           "zaxis": {
            "backgroundcolor": "#E5ECF6",
            "gridcolor": "white",
            "linecolor": "white",
            "showbackground": true,
            "ticks": "",
            "zerolinecolor": "white",
            "gridwidth": 2
           }
          },
          "shapedefaults": {
           "line": {
            "color": "#2a3f5f"
           }
          },
          "annotationdefaults": {
           "arrowcolor": "#2a3f5f",
           "arrowhead": 0,
           "arrowwidth": 1
          },
          "geo": {
           "bgcolor": "white",
           "landcolor": "#E5ECF6",
           "subunitcolor": "white",
           "showland": true,
           "showlakes": true,
           "lakecolor": "white"
          },
          "title": {
           "x": 0.05
          },
          "mapbox": {
           "style": "light"
          }
         }
        },
        "xaxis": {
         "anchor": "y",
         "domain": [
          0.0,
          1.0
         ],
         "scaleanchor": "y",
         "constrain": "domain",
         "title": {
          "text": "Target"
         }
        },
        "yaxis": {
         "anchor": "x",
         "domain": [
          0.0,
          1.0
         ],
         "autorange": "reversed",
         "constrain": "domain",
         "title": {
          "text": "Prediction"
         }
        },
        "coloraxis": {
         "colorscale": [
          [
           0.0,
           "#0d0887"
          ],
          [
           0.1111111111111111,
           "#46039f"
          ],
          [
           0.2222222222222222,
           "#7201a8"
          ],
          [
           0.3333333333333333,
           "#9c179e"
          ],
          [
           0.4444444444444444,
           "#bd3786"
          ],
          [
           0.5555555555555556,
           "#d8576b"
          ],
          [
           0.6666666666666666,
           "#ed7953"
          ],
          [
           0.7777777777777778,
           "#fb9f3a"
          ],
          [
           0.8888888888888888,
           "#fdca26"
          ],
          [
           1.0,
           "#f0f921"
          ]
         ]
        },
        "margin": {
         "t": 60
        }
       },
       "config": {
        "plotlyServerURL": "https://plot.ly"
       }
      },
      "text/html": "<div>                            <div id=\"cf83e75a-aea3-4738-8761-b90196847afe\" class=\"plotly-graph-div\" style=\"height:525px; width:100%;\"></div>            <script type=\"text/javascript\">                require([\"plotly\"], function(Plotly) {                    window.PLOTLYENV=window.PLOTLYENV || {};                                    if (document.getElementById(\"cf83e75a-aea3-4738-8761-b90196847afe\")) {                    Plotly.newPlot(                        \"cf83e75a-aea3-4738-8761-b90196847afe\",                        [{\"coloraxis\":\"coloraxis\",\"name\":\"0\",\"texttemplate\":\"%{z}\",\"z\":[[40,0,0,0,0,0,0,0,0,0],[0,43,0,0,0,0,0,0,0,0],[0,1,35,0,0,0,0,0,2,0],[0,0,0,35,0,0,0,0,0,1],[0,0,0,0,36,0,0,1,0,1],[0,0,0,0,0,39,0,0,0,0],[0,0,0,0,0,1,31,0,0,0],[0,0,0,0,0,1,0,31,0,0],[0,2,0,0,0,0,0,0,30,0],[0,1,0,0,0,0,0,0,0,29]],\"type\":\"heatmap\",\"xaxis\":\"x\",\"yaxis\":\"y\",\"hovertemplate\":\"x: %{x}<br>y: %{y}<br>color: %{z}<extra></extra>\"}],                        {\"template\":{\"data\":{\"histogram2dcontour\":[{\"type\":\"histogram2dcontour\",\"colorbar\":{\"outlinewidth\":0,\"ticks\":\"\"},\"colorscale\":[[0.0,\"#0d0887\"],[0.1111111111111111,\"#46039f\"],[0.2222222222222222,\"#7201a8\"],[0.3333333333333333,\"#9c179e\"],[0.4444444444444444,\"#bd3786\"],[0.5555555555555556,\"#d8576b\"],[0.6666666666666666,\"#ed7953\"],[0.7777777777777778,\"#fb9f3a\"],[0.8888888888888888,\"#fdca26\"],[1.0,\"#f0f921\"]]}],\"choropleth\":[{\"type\":\"choropleth\",\"colorbar\":{\"outlinewidth\":0,\"ticks\":\"\"}}],\"histogram2d\":[{\"type\":\"histogram2d\",\"colorbar\":{\"outlinewidth\":0,\"ticks\":\"\"},\"colorscale\":[[0.0,\"#0d0887\"],[0.1111111111111111,\"#46039f\"],[0.2222222222222222,\"#7201a8\"],[0.3333333333333333,\"#9c179e\"],[0.4444444444444444,\"#bd3786\"],[0.5555555555555556,\"#d8576b\"],[0.6666666666666666,\"#ed7953\"],[0.7777777777777778,\"#fb9f3a\"],[0.8888888888888888,\"#fdca26\"],[1.0,\"#f0f921\"]]}],\"heatmap\":[{\"type\":\"heatmap\",\"colorbar\":{\"outlinewidth\":0,\"ticks\":\"\"},\"colorscale\":[[0.0,\"#0d0887\"],[0.1111111111111111,\"#46039f\"],[0.2222222222222222,\"#7201a8\"],[0.3333333333333333,\"#9c179e\"],[0.4444444444444444,\"#bd3786\"],[0.5555555555555556,\"#d8576b\"],[0.6666666666666666,\"#ed7953\"],[0.7777777777777778,\"#fb9f3a\"],[0.8888888888888888,\"#fdca26\"],[1.0,\"#f0f921\"]]}],\"heatmapgl\":[{\"type\":\"heatmapgl\",\"colorbar\":{\"outlinewidth\":0,\"ticks\":\"\"},\"colorscale\":[[0.0,\"#0d0887\"],[0.1111111111111111,\"#46039f\"],[0.2222222222222222,\"#7201a8\"],[0.3333333333333333,\"#9c179e\"],[0.4444444444444444,\"#bd3786\"],[0.5555555555555556,\"#d8576b\"],[0.6666666666666666,\"#ed7953\"],[0.7777777777777778,\"#fb9f3a\"],[0.8888888888888888,\"#fdca26\"],[1.0,\"#f0f921\"]]}],\"contourcarpet\":[{\"type\":\"contourcarpet\",\"colorbar\":{\"outlinewidth\":0,\"ticks\":\"\"}}],\"contour\":[{\"type\":\"contour\",\"colorbar\":{\"outlinewidth\":0,\"ticks\":\"\"},\"colorscale\":[[0.0,\"#0d0887\"],[0.1111111111111111,\"#46039f\"],[0.2222222222222222,\"#7201a8\"],[0.3333333333333333,\"#9c179e\"],[0.4444444444444444,\"#bd3786\"],[0.5555555555555556,\"#d8576b\"],[0.6666666666666666,\"#ed7953\"],[0.7777777777777778,\"#fb9f3a\"],[0.8888888888888888,\"#fdca26\"],[1.0,\"#f0f921\"]]}],\"surface\":[{\"type\":\"surface\",\"colorbar\":{\"outlinewidth\":0,\"ticks\":\"\"},\"colorscale\":[[0.0,\"#0d0887\"],[0.1111111111111111,\"#46039f\"],[0.2222222222222222,\"#7201a8\"],[0.3333333333333333,\"#9c179e\"],[0.4444444444444444,\"#bd3786\"],[0.5555555555555556,\"#d8576b\"],[0.6666666666666666,\"#ed7953\"],[0.7777777777777778,\"#fb9f3a\"],[0.8888888888888888,\"#fdca26\"],[1.0,\"#f0f921\"]]}],\"mesh3d\":[{\"type\":\"mesh3d\",\"colorbar\":{\"outlinewidth\":0,\"ticks\":\"\"}}],\"scatter\":[{\"fillpattern\":{\"fillmode\":\"overlay\",\"size\":10,\"solidity\":0.2},\"type\":\"scatter\"}],\"parcoords\":[{\"type\":\"parcoords\",\"line\":{\"colorbar\":{\"outlinewidth\":0,\"ticks\":\"\"}}}],\"scatterpolargl\":[{\"type\":\"scatterpolargl\",\"marker\":{\"colorbar\":{\"outlinewidth\":0,\"ticks\":\"\"}}}],\"bar\":[{\"error_x\":{\"color\":\"#2a3f5f\"},\"error_y\":{\"color\":\"#2a3f5f\"},\"marker\":{\"line\":{\"color\":\"#E5ECF6\",\"width\":0.5},\"pattern\":{\"fillmode\":\"overlay\",\"size\":10,\"solidity\":0.2}},\"type\":\"bar\"}],\"scattergeo\":[{\"type\":\"scattergeo\",\"marker\":{\"colorbar\":{\"outlinewidth\":0,\"ticks\":\"\"}}}],\"scatterpolar\":[{\"type\":\"scatterpolar\",\"marker\":{\"colorbar\":{\"outlinewidth\":0,\"ticks\":\"\"}}}],\"histogram\":[{\"marker\":{\"pattern\":{\"fillmode\":\"overlay\",\"size\":10,\"solidity\":0.2}},\"type\":\"histogram\"}],\"scattergl\":[{\"type\":\"scattergl\",\"marker\":{\"colorbar\":{\"outlinewidth\":0,\"ticks\":\"\"}}}],\"scatter3d\":[{\"type\":\"scatter3d\",\"line\":{\"colorbar\":{\"outlinewidth\":0,\"ticks\":\"\"}},\"marker\":{\"colorbar\":{\"outlinewidth\":0,\"ticks\":\"\"}}}],\"scattermapbox\":[{\"type\":\"scattermapbox\",\"marker\":{\"colorbar\":{\"outlinewidth\":0,\"ticks\":\"\"}}}],\"scatterternary\":[{\"type\":\"scatterternary\",\"marker\":{\"colorbar\":{\"outlinewidth\":0,\"ticks\":\"\"}}}],\"scattercarpet\":[{\"type\":\"scattercarpet\",\"marker\":{\"colorbar\":{\"outlinewidth\":0,\"ticks\":\"\"}}}],\"carpet\":[{\"aaxis\":{\"endlinecolor\":\"#2a3f5f\",\"gridcolor\":\"white\",\"linecolor\":\"white\",\"minorgridcolor\":\"white\",\"startlinecolor\":\"#2a3f5f\"},\"baxis\":{\"endlinecolor\":\"#2a3f5f\",\"gridcolor\":\"white\",\"linecolor\":\"white\",\"minorgridcolor\":\"white\",\"startlinecolor\":\"#2a3f5f\"},\"type\":\"carpet\"}],\"table\":[{\"cells\":{\"fill\":{\"color\":\"#EBF0F8\"},\"line\":{\"color\":\"white\"}},\"header\":{\"fill\":{\"color\":\"#C8D4E3\"},\"line\":{\"color\":\"white\"}},\"type\":\"table\"}],\"barpolar\":[{\"marker\":{\"line\":{\"color\":\"#E5ECF6\",\"width\":0.5},\"pattern\":{\"fillmode\":\"overlay\",\"size\":10,\"solidity\":0.2}},\"type\":\"barpolar\"}],\"pie\":[{\"automargin\":true,\"type\":\"pie\"}]},\"layout\":{\"autotypenumbers\":\"strict\",\"colorway\":[\"#636efa\",\"#EF553B\",\"#00cc96\",\"#ab63fa\",\"#FFA15A\",\"#19d3f3\",\"#FF6692\",\"#B6E880\",\"#FF97FF\",\"#FECB52\"],\"font\":{\"color\":\"#2a3f5f\"},\"hovermode\":\"closest\",\"hoverlabel\":{\"align\":\"left\"},\"paper_bgcolor\":\"white\",\"plot_bgcolor\":\"#E5ECF6\",\"polar\":{\"bgcolor\":\"#E5ECF6\",\"angularaxis\":{\"gridcolor\":\"white\",\"linecolor\":\"white\",\"ticks\":\"\"},\"radialaxis\":{\"gridcolor\":\"white\",\"linecolor\":\"white\",\"ticks\":\"\"}},\"ternary\":{\"bgcolor\":\"#E5ECF6\",\"aaxis\":{\"gridcolor\":\"white\",\"linecolor\":\"white\",\"ticks\":\"\"},\"baxis\":{\"gridcolor\":\"white\",\"linecolor\":\"white\",\"ticks\":\"\"},\"caxis\":{\"gridcolor\":\"white\",\"linecolor\":\"white\",\"ticks\":\"\"}},\"coloraxis\":{\"colorbar\":{\"outlinewidth\":0,\"ticks\":\"\"}},\"colorscale\":{\"sequential\":[[0.0,\"#0d0887\"],[0.1111111111111111,\"#46039f\"],[0.2222222222222222,\"#7201a8\"],[0.3333333333333333,\"#9c179e\"],[0.4444444444444444,\"#bd3786\"],[0.5555555555555556,\"#d8576b\"],[0.6666666666666666,\"#ed7953\"],[0.7777777777777778,\"#fb9f3a\"],[0.8888888888888888,\"#fdca26\"],[1.0,\"#f0f921\"]],\"sequentialminus\":[[0.0,\"#0d0887\"],[0.1111111111111111,\"#46039f\"],[0.2222222222222222,\"#7201a8\"],[0.3333333333333333,\"#9c179e\"],[0.4444444444444444,\"#bd3786\"],[0.5555555555555556,\"#d8576b\"],[0.6666666666666666,\"#ed7953\"],[0.7777777777777778,\"#fb9f3a\"],[0.8888888888888888,\"#fdca26\"],[1.0,\"#f0f921\"]],\"diverging\":[[0,\"#8e0152\"],[0.1,\"#c51b7d\"],[0.2,\"#de77ae\"],[0.3,\"#f1b6da\"],[0.4,\"#fde0ef\"],[0.5,\"#f7f7f7\"],[0.6,\"#e6f5d0\"],[0.7,\"#b8e186\"],[0.8,\"#7fbc41\"],[0.9,\"#4d9221\"],[1,\"#276419\"]]},\"xaxis\":{\"gridcolor\":\"white\",\"linecolor\":\"white\",\"ticks\":\"\",\"title\":{\"standoff\":15},\"zerolinecolor\":\"white\",\"automargin\":true,\"zerolinewidth\":2},\"yaxis\":{\"gridcolor\":\"white\",\"linecolor\":\"white\",\"ticks\":\"\",\"title\":{\"standoff\":15},\"zerolinecolor\":\"white\",\"automargin\":true,\"zerolinewidth\":2},\"scene\":{\"xaxis\":{\"backgroundcolor\":\"#E5ECF6\",\"gridcolor\":\"white\",\"linecolor\":\"white\",\"showbackground\":true,\"ticks\":\"\",\"zerolinecolor\":\"white\",\"gridwidth\":2},\"yaxis\":{\"backgroundcolor\":\"#E5ECF6\",\"gridcolor\":\"white\",\"linecolor\":\"white\",\"showbackground\":true,\"ticks\":\"\",\"zerolinecolor\":\"white\",\"gridwidth\":2},\"zaxis\":{\"backgroundcolor\":\"#E5ECF6\",\"gridcolor\":\"white\",\"linecolor\":\"white\",\"showbackground\":true,\"ticks\":\"\",\"zerolinecolor\":\"white\",\"gridwidth\":2}},\"shapedefaults\":{\"line\":{\"color\":\"#2a3f5f\"}},\"annotationdefaults\":{\"arrowcolor\":\"#2a3f5f\",\"arrowhead\":0,\"arrowwidth\":1},\"geo\":{\"bgcolor\":\"white\",\"landcolor\":\"#E5ECF6\",\"subunitcolor\":\"white\",\"showland\":true,\"showlakes\":true,\"lakecolor\":\"white\"},\"title\":{\"x\":0.05},\"mapbox\":{\"style\":\"light\"}}},\"xaxis\":{\"anchor\":\"y\",\"domain\":[0.0,1.0],\"scaleanchor\":\"y\",\"constrain\":\"domain\",\"title\":{\"text\":\"Target\"}},\"yaxis\":{\"anchor\":\"x\",\"domain\":[0.0,1.0],\"autorange\":\"reversed\",\"constrain\":\"domain\",\"title\":{\"text\":\"Prediction\"}},\"coloraxis\":{\"colorscale\":[[0.0,\"#0d0887\"],[0.1111111111111111,\"#46039f\"],[0.2222222222222222,\"#7201a8\"],[0.3333333333333333,\"#9c179e\"],[0.4444444444444444,\"#bd3786\"],[0.5555555555555556,\"#d8576b\"],[0.6666666666666666,\"#ed7953\"],[0.7777777777777778,\"#fb9f3a\"],[0.8888888888888888,\"#fdca26\"],[1.0,\"#f0f921\"]]},\"margin\":{\"t\":60}},                        {\"responsive\": true}                    ).then(function(){\n                            \nvar gd = document.getElementById('cf83e75a-aea3-4738-8761-b90196847afe');\nvar x = new MutationObserver(function (mutations, observer) {{\n        var display = window.getComputedStyle(gd).display;\n        if (!display || display === 'none') {{\n            console.log([gd, 'removed!']);\n            Plotly.purge(gd);\n            observer.disconnect();\n        }}\n}});\n\n// Listen for the removal of the full notebook cells\nvar notebookContainer = gd.closest('#notebook-container');\nif (notebookContainer) {{\n    x.observe(notebookContainer, {childList: true});\n}}\n\n// Listen for the clearing of the current output cell\nvar outputEl = gd.closest('.output');\nif (outputEl) {{\n    x.observe(outputEl, {childList: true});\n}}\n\n                        })                };                });            </script>        </div>"
     },
     "metadata": {},
     "output_type": "display_data"
    },
    {
     "name": "stdout",
     "output_type": "stream",
     "text": [
      "XgBoost\n",
      "Time used:  0.07900118827819824\n"
     ]
    }
   ],
   "source": [
    "import time\n",
    "from sklearn.datasets import load_digits\n",
    "from sklearn.metrics import f1_score, confusion_matrix, classification_report\n",
    "from sklearn.model_selection import GridSearchCV, train_test_split\n",
    "from sklearn.ensemble import RandomForestClassifier\n",
    "import catboost as cb\n",
    "import plotly.express as px\n",
    "from xgboost import XGBClassifier\n",
    "from sklearn import metrics\n",
    "\n",
    "\n",
    "if __name__ == '__main__':\n",
    "    data = load_digits(as_frame=False)\n",
    "    predicts = data.data\n",
    "    target = data.target\n",
    "    print('\\nТаблица предикторов:\\n')\n",
    "    print(predicts)\n",
    "    print('\\nТаблица целевых переменных:\\n')\n",
    "    print(target)\n",
    "    print('\\nРазмерность таблицы предикторов:\\n')\n",
    "    print(predicts.shape)\n",
    "    print('\\nРазмерность таблицы целеых переменных:\\n')\n",
    "    print(target.shape)\n",
    "    A_train, A_test, y_train, y_test = train_test_split(predicts, target, train_size=0.8)\n",
    "    print('\\nРазделение на тренировочную и тестовую выборки:\\n')\n",
    "    print(A_train.shape)\n",
    "    print(A_test.shape)\n",
    "    time_start = time.time()\n",
    "    print('\\nОбучение случайного леса без критерия останова:\\n')\n",
    "    random_forest = RandomForestClassifier(max_depth=15,min_samples_split=10).fit(A_train,y_train)\n",
    "\n",
    "    y_preds_d = random_forest.predict(A_train)\n",
    "    y_pred = random_forest.predict(A_test)\n",
    "    foresttrain=f1_score(y_preds_d,y_train, average='macro')\n",
    "    foresttest=f1_score(y_pred,y_test, average='macro')\n",
    "    print(\"RandomForest\\nTime used: \", time.time() - time_start)\n",
    "    print('F1 мера для тренировочных данных {} % '.format(round((foresttrain * 100), 6)))\n",
    "    print('F1 мера для тестовых данных {} % '.format(round((foresttest * 100), 6)))\n",
    "\n",
    "    print('\\nОбучение случайного используя критерия : перебор параметров и для каждой'\n",
    "          'комбинации обучить модели, затем выбрать лучшую. Это можно сделать с помощью'\n",
    "'GridSearchCV.\\n')\n",
    "    time_start = time.time()\n",
    "    random_forest = RandomForestClassifier()\n",
    "    params_grid = {\"max_depth\":[12,18], \"min_samples_leaf\":[1,10], \"min_samples_split\":[6,12]}\n",
    "    grid_search_random_forest = GridSearchCV(estimator=random_forest, param_grid=params_grid, scoring=\"f1_macro\",cv=4)\n",
    "\n",
    "    grid_search_random_forest.fit(A_train,y_train)\n",
    "    best_model = grid_search_random_forest.best_estimator_\n",
    "    y_preds_d = best_model.predict(A_train)\n",
    "    y_pred = best_model.predict(A_test)\n",
    "    trainpercent=f1_score(y_preds_d,y_train, average='macro')\n",
    "    testpercent=f1_score(y_pred,y_test, average='macro')\n",
    "    print(best_model)\n",
    "    print(\"RandomForest\\nTime used: \", time.time() - time_start)\n",
    "    print('F1 мера для тренировочных данных{} % '.format(round((trainpercent * 100), 6)))\n",
    "    print('F1 мера для тестовых данных {} %'.format(round((testpercent * 100), 6)))\n",
    "    fig = px.imshow(confusion_matrix(y_test, y_pred), text_auto=True)\n",
    "    fig.update_layout(xaxis_title='Target', yaxis_title='Prediction')\n",
    "    fig.show()\n",
    "    print(classification_report(y_test, y_pred))\n",
    "\n",
    "    time_start = time.time()\n",
    "    model_catboost_clf = cb.CatBoostClassifier(iterations=1000, task_type=\"GPU\", devices='0')\n",
    "    model_catboost_clf.fit(A_train, y_train)\n",
    "    y_preds_t = model_catboost_clf.predict(A_train, task_type=\"CPU\")\n",
    "    y_preds = model_catboost_clf.predict(A_test, task_type=\"CPU\")\n",
    "    print(\"XgBoost\\nTime used: \", time.time() - time_start)\n",
    "    f1score=f1_score(y_preds_t,y_train, average='macro')\n",
    "    print('F1 мера для тренировочных данных {} %  '.format(round((f1score * 100), 6)))\n",
    "    print('F1 мера для тестовых данных {} %  '.format(round((f1score * 100), 6)))\n",
    "    fig = px.imshow(confusion_matrix(y_test, y_preds), text_auto=True)\n",
    "    fig.update_layout(xaxis_title='Target', yaxis_title='Prediction')\n",
    "    fig.show()\n",
    "    print(classification_report(y_test, y_preds))\n",
    "\n",
    "    print('\\n\\nВыполнение третьего задания:\\n')\n",
    "\n",
    "    start = time.perf_counter()\n",
    "\n",
    "    xgbCl = XGBClassifier()\n",
    "    xgbCl.fit(A_train, y_train)\n",
    "    test_predict = xgbCl.predict(A_test)\n",
    "    xgbCl_score = xgbCl.score(A_test, y_test)\n",
    "    time_start = time.time()\n",
    "    print(\"Точность XGBoostClassifier модели равна: {} %\".format(round((xgbCl_score * 100), 6)))\n",
    "    print(\"\\nМатрица ошибок XGBoostClassifier модели :\")\n",
    "    fig = px.imshow(confusion_matrix(y_test, test_predict), text_auto=True)\n",
    "    fig.update_layout(xaxis_title='Target', yaxis_title='Prediction')\n",
    "    fig.show()\n",
    "    #print(metrics.confusion_matrix(y_test, test_predict))\n",
    "\n",
    "    y_predict = xgbCl.predict_proba(A_test)\n",
    "    # print('Предсказанные данные:\\n', y_predict)\n",
    "    print(\"XgBoost\\nTime used: \", time.time() - time_start)\n",
    "\n",
    "\n"
   ]
  },
  {
   "cell_type": "code",
   "execution_count": null,
   "metadata": {
    "pycharm": {
     "is_executing": true
    }
   },
   "outputs": [],
   "source": []
  },
  {
   "cell_type": "code",
   "execution_count": 31,
   "outputs": [],
   "source": [],
   "metadata": {
    "collapsed": false
   }
  }
 ],
 "metadata": {
  "kernelspec": {
   "display_name": "Python 3 (ipykernel)",
   "language": "python",
   "name": "python3"
  },
  "language_info": {
   "codemirror_mode": {
    "name": "ipython",
    "version": 2
   },
   "file_extension": ".py",
   "mimetype": "text/x-python",
   "name": "python",
   "nbconvert_exporter": "python",
   "pygments_lexer": "ipython2",
   "version": "2.7.6"
  }
 },
 "nbformat": 4,
 "nbformat_minor": 1
}
